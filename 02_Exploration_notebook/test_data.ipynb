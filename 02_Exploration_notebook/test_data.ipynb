{
 "cells": [
  {
   "cell_type": "code",
   "execution_count": 1,
   "metadata": {},
   "outputs": [],
   "source": [
    "import pandas as pd\n",
    "import os"
   ]
  },
  {
   "cell_type": "code",
   "execution_count": 2,
   "metadata": {},
   "outputs": [
    {
     "data": {
      "text/plain": [
       "'/Users/vivan/Desktop/Central File Manager/02 USC/02 Semester 2/01 DSO 530 Applied Modern Statistical Learning Methods - Machine Learning/project_new/Insurance_claims/02_Exploration_notebook'"
      ]
     },
     "execution_count": 2,
     "metadata": {},
     "output_type": "execute_result"
    }
   ],
   "source": [
    "os.getcwd()"
   ]
  },
  {
   "cell_type": "code",
   "execution_count": 5,
   "metadata": {},
   "outputs": [
    {
     "data": {
      "text/plain": [
       "'/Users/vivan/Desktop/Central File Manager/02 USC/02 Semester 2/01 DSO 530 Applied Modern Statistical Learning Methods - Machine Learning/project_new/Insurance_claims/01_Data'"
      ]
     },
     "execution_count": 5,
     "metadata": {},
     "output_type": "execute_result"
    }
   ],
   "source": [
    "os.getcwd()[:-23] + '01_Data'"
   ]
  },
  {
   "cell_type": "code",
   "execution_count": 6,
   "metadata": {},
   "outputs": [],
   "source": [
    "os.chdir(os.getcwd()[:-23] + '01_Data')"
   ]
  },
  {
   "cell_type": "code",
   "execution_count": 8,
   "metadata": {},
   "outputs": [],
   "source": [
    "insurance_test = pd.read_csv('insurance_test.csv')"
   ]
  },
  {
   "cell_type": "code",
   "execution_count": 10,
   "metadata": {},
   "outputs": [
    {
     "data": {
      "text/plain": [
       "Index(['X.2', 'X.3', 'X.4', 'X.5', 'X.6', 'X.7', 'X.8', 'X.9', 'X.10', 'X.11',\n",
       "       'X.12', 'X.13', 'X.14', 'X.19', 'X.20', 'X.21', 'X.22', 'X.23', 'X.24',\n",
       "       'X.25', 'X.26', 'X.27', 'X.28'],\n",
       "      dtype='object')"
      ]
     },
     "execution_count": 10,
     "metadata": {},
     "output_type": "execute_result"
    }
   ],
   "source": [
    "insurance_test.columns"
   ]
  },
  {
   "cell_type": "code",
   "execution_count": 11,
   "metadata": {},
   "outputs": [
    {
     "data": {
      "text/plain": [
       "{'X.2': 'Start_Date_Contract',\n",
       " 'X.3': 'Date_Last_Renewal',\n",
       " 'X.4': 'Date_Next_Renewal',\n",
       " 'X.5': 'Date_Of_Birth',\n",
       " 'X.6': 'Date_Of_DL_Issuance',\n",
       " 'X.7': 'Issurance_Broker_Agent_Channel',\n",
       " 'X.8': 'Years_Associates',\n",
       " 'X.9': 'Total_Policies_Entity',\n",
       " 'X.10': 'Max_Policy_Simultaneous_Force',\n",
       " 'X.11': 'Max_Product_Simultaneous_Held',\n",
       " 'X.12': 'Policies_Terminated_Non_Payment',\n",
       " 'X.13': 'Half_Yearly_Payment_Method',\n",
       " 'X.14': 'Premium_Amt_Current_Yr',\n",
       " 'X.19': 'Motorbikes_Vans_Cars_Agricultural',\n",
       " 'X.20': 'Rural_Urban_Flag',\n",
       " 'X.21': 'Multiple_Drivers_Regular_Flag',\n",
       " 'X.22': 'Yr_Vehicle_Registration',\n",
       " 'X.23': 'Vehicle_Power_HP',\n",
       " 'X.24': 'Cylinder_Capacity',\n",
       " 'X.25': 'Market_Value_EOY19',\n",
       " 'X.26': 'Vehicle_Doors',\n",
       " 'X.27': 'Energy_Source',\n",
       " 'X.28': 'Vehicle_Wt_Kg'}"
      ]
     },
     "execution_count": 11,
     "metadata": {},
     "output_type": "execute_result"
    }
   ],
   "source": [
    "final_column_name = [ \n",
    "               'Start_Date_Contract', \n",
    "               'Date_Last_Renewal', \n",
    "               'Date_Next_Renewal', \n",
    "               'Date_Of_Birth', \n",
    "               'Date_Of_DL_Issuance', \n",
    "               'Issurance_Broker_Agent_Channel', \n",
    "               'Years_Associates',\n",
    "               'Total_Policies_Entity',\n",
    "               'Max_Policy_Simultaneous_Force',\n",
    "               'Max_Product_Simultaneous_Held',\n",
    "               'Policies_Terminated_Non_Payment',\n",
    "               'Half_Yearly_Payment_Method',\n",
    "               'Premium_Amt_Current_Yr',\n",
    "               'Motorbikes_Vans_Cars_Agricultural',\n",
    "               'Rural_Urban_Flag',\n",
    "               'Multiple_Drivers_Regular_Flag',\n",
    "               'Yr_Vehicle_Registration',\n",
    "               'Vehicle_Power_HP',\n",
    "               'Cylinder_Capacity',\n",
    "               'Market_Value_EOY19',\n",
    "               'Vehicle_Doors',\n",
    "               'Energy_Source',\n",
    "               'Vehicle_Wt_Kg'\n",
    "               ]\n",
    "\n",
    "rename_dict = dict(zip(list(insurance_test.columns), final_column_name))\n",
    "rename_dict"
   ]
  },
  {
   "cell_type": "code",
   "execution_count": 12,
   "metadata": {},
   "outputs": [
    {
     "data": {
      "text/html": [
       "<div>\n",
       "<style scoped>\n",
       "    .dataframe tbody tr th:only-of-type {\n",
       "        vertical-align: middle;\n",
       "    }\n",
       "\n",
       "    .dataframe tbody tr th {\n",
       "        vertical-align: top;\n",
       "    }\n",
       "\n",
       "    .dataframe thead th {\n",
       "        text-align: right;\n",
       "    }\n",
       "</style>\n",
       "<table border=\"1\" class=\"dataframe\">\n",
       "  <thead>\n",
       "    <tr style=\"text-align: right;\">\n",
       "      <th></th>\n",
       "      <th>Start_Date_Contract</th>\n",
       "      <th>Date_Last_Renewal</th>\n",
       "      <th>Date_Next_Renewal</th>\n",
       "      <th>Date_Of_Birth</th>\n",
       "      <th>Date_Of_DL_Issuance</th>\n",
       "      <th>Issurance_Broker_Agent_Channel</th>\n",
       "      <th>Years_Associates</th>\n",
       "      <th>Total_Policies_Entity</th>\n",
       "      <th>Max_Policy_Simultaneous_Force</th>\n",
       "      <th>Max_Product_Simultaneous_Held</th>\n",
       "      <th>...</th>\n",
       "      <th>Motorbikes_Vans_Cars_Agricultural</th>\n",
       "      <th>Rural_Urban_Flag</th>\n",
       "      <th>Multiple_Drivers_Regular_Flag</th>\n",
       "      <th>Yr_Vehicle_Registration</th>\n",
       "      <th>Vehicle_Power_HP</th>\n",
       "      <th>Cylinder_Capacity</th>\n",
       "      <th>Market_Value_EOY19</th>\n",
       "      <th>Vehicle_Doors</th>\n",
       "      <th>Energy_Source</th>\n",
       "      <th>Vehicle_Wt_Kg</th>\n",
       "    </tr>\n",
       "  </thead>\n",
       "  <tbody>\n",
       "    <tr>\n",
       "      <th>0</th>\n",
       "      <td>23/06/2017</td>\n",
       "      <td>23/06/2018</td>\n",
       "      <td>23/06/2019</td>\n",
       "      <td>13/09/1982</td>\n",
       "      <td>03/02/2011</td>\n",
       "      <td>0</td>\n",
       "      <td>2</td>\n",
       "      <td>2</td>\n",
       "      <td>2</td>\n",
       "      <td>1</td>\n",
       "      <td>...</td>\n",
       "      <td>3</td>\n",
       "      <td>1</td>\n",
       "      <td>0</td>\n",
       "      <td>2003</td>\n",
       "      <td>115</td>\n",
       "      <td>1910</td>\n",
       "      <td>16400.00</td>\n",
       "      <td>5</td>\n",
       "      <td>D</td>\n",
       "      <td>1305</td>\n",
       "    </tr>\n",
       "    <tr>\n",
       "      <th>1</th>\n",
       "      <td>29/06/2015</td>\n",
       "      <td>29/06/2016</td>\n",
       "      <td>29/06/2017</td>\n",
       "      <td>07/07/1946</td>\n",
       "      <td>12/08/1966</td>\n",
       "      <td>0</td>\n",
       "      <td>2</td>\n",
       "      <td>1</td>\n",
       "      <td>1</td>\n",
       "      <td>1</td>\n",
       "      <td>...</td>\n",
       "      <td>3</td>\n",
       "      <td>0</td>\n",
       "      <td>0</td>\n",
       "      <td>1999</td>\n",
       "      <td>90</td>\n",
       "      <td>1597</td>\n",
       "      <td>13480.70</td>\n",
       "      <td>5</td>\n",
       "      <td>P</td>\n",
       "      <td>1083</td>\n",
       "    </tr>\n",
       "    <tr>\n",
       "      <th>2</th>\n",
       "      <td>14/03/2018</td>\n",
       "      <td>14/03/2018</td>\n",
       "      <td>14/03/2019</td>\n",
       "      <td>26/12/1957</td>\n",
       "      <td>02/09/1977</td>\n",
       "      <td>0</td>\n",
       "      <td>1</td>\n",
       "      <td>4</td>\n",
       "      <td>4</td>\n",
       "      <td>2</td>\n",
       "      <td>...</td>\n",
       "      <td>3</td>\n",
       "      <td>0</td>\n",
       "      <td>0</td>\n",
       "      <td>2003</td>\n",
       "      <td>143</td>\n",
       "      <td>2148</td>\n",
       "      <td>36500.00</td>\n",
       "      <td>5</td>\n",
       "      <td>D</td>\n",
       "      <td>1495</td>\n",
       "    </tr>\n",
       "    <tr>\n",
       "      <th>3</th>\n",
       "      <td>16/10/2014</td>\n",
       "      <td>16/10/2018</td>\n",
       "      <td>16/10/2019</td>\n",
       "      <td>27/02/1961</td>\n",
       "      <td>29/10/1980</td>\n",
       "      <td>1</td>\n",
       "      <td>5</td>\n",
       "      <td>1</td>\n",
       "      <td>1</td>\n",
       "      <td>1</td>\n",
       "      <td>...</td>\n",
       "      <td>2</td>\n",
       "      <td>1</td>\n",
       "      <td>0</td>\n",
       "      <td>1998</td>\n",
       "      <td>60</td>\n",
       "      <td>1686</td>\n",
       "      <td>12356.81</td>\n",
       "      <td>5</td>\n",
       "      <td>D</td>\n",
       "      <td>1010</td>\n",
       "    </tr>\n",
       "    <tr>\n",
       "      <th>4</th>\n",
       "      <td>01/07/2015</td>\n",
       "      <td>01/07/2017</td>\n",
       "      <td>01/07/2018</td>\n",
       "      <td>03/07/1986</td>\n",
       "      <td>02/08/2006</td>\n",
       "      <td>0</td>\n",
       "      <td>3</td>\n",
       "      <td>1</td>\n",
       "      <td>1</td>\n",
       "      <td>1</td>\n",
       "      <td>...</td>\n",
       "      <td>3</td>\n",
       "      <td>0</td>\n",
       "      <td>0</td>\n",
       "      <td>2015</td>\n",
       "      <td>66</td>\n",
       "      <td>998</td>\n",
       "      <td>11800.00</td>\n",
       "      <td>5</td>\n",
       "      <td>P</td>\n",
       "      <td>933</td>\n",
       "    </tr>\n",
       "  </tbody>\n",
       "</table>\n",
       "<p>5 rows × 23 columns</p>\n",
       "</div>"
      ],
      "text/plain": [
       "  Start_Date_Contract Date_Last_Renewal Date_Next_Renewal Date_Of_Birth  \\\n",
       "0          23/06/2017        23/06/2018        23/06/2019    13/09/1982   \n",
       "1          29/06/2015        29/06/2016        29/06/2017    07/07/1946   \n",
       "2          14/03/2018        14/03/2018        14/03/2019    26/12/1957   \n",
       "3          16/10/2014        16/10/2018        16/10/2019    27/02/1961   \n",
       "4          01/07/2015        01/07/2017        01/07/2018    03/07/1986   \n",
       "\n",
       "  Date_Of_DL_Issuance  Issurance_Broker_Agent_Channel  Years_Associates  \\\n",
       "0          03/02/2011                               0                 2   \n",
       "1          12/08/1966                               0                 2   \n",
       "2          02/09/1977                               0                 1   \n",
       "3          29/10/1980                               1                 5   \n",
       "4          02/08/2006                               0                 3   \n",
       "\n",
       "   Total_Policies_Entity  Max_Policy_Simultaneous_Force  \\\n",
       "0                      2                              2   \n",
       "1                      1                              1   \n",
       "2                      4                              4   \n",
       "3                      1                              1   \n",
       "4                      1                              1   \n",
       "\n",
       "   Max_Product_Simultaneous_Held  ...  Motorbikes_Vans_Cars_Agricultural  \\\n",
       "0                              1  ...                                  3   \n",
       "1                              1  ...                                  3   \n",
       "2                              2  ...                                  3   \n",
       "3                              1  ...                                  2   \n",
       "4                              1  ...                                  3   \n",
       "\n",
       "   Rural_Urban_Flag  Multiple_Drivers_Regular_Flag  Yr_Vehicle_Registration  \\\n",
       "0                 1                              0                     2003   \n",
       "1                 0                              0                     1999   \n",
       "2                 0                              0                     2003   \n",
       "3                 1                              0                     1998   \n",
       "4                 0                              0                     2015   \n",
       "\n",
       "   Vehicle_Power_HP  Cylinder_Capacity  Market_Value_EOY19  Vehicle_Doors  \\\n",
       "0               115               1910            16400.00              5   \n",
       "1                90               1597            13480.70              5   \n",
       "2               143               2148            36500.00              5   \n",
       "3                60               1686            12356.81              5   \n",
       "4                66                998            11800.00              5   \n",
       "\n",
       "   Energy_Source  Vehicle_Wt_Kg  \n",
       "0              D           1305  \n",
       "1              P           1083  \n",
       "2              D           1495  \n",
       "3              D           1010  \n",
       "4              P            933  \n",
       "\n",
       "[5 rows x 23 columns]"
      ]
     },
     "execution_count": 12,
     "metadata": {},
     "output_type": "execute_result"
    }
   ],
   "source": [
    "insurance_test = insurance_test.rename(columns=rename_dict)\n",
    "insurance_test.head()"
   ]
  },
  {
   "cell_type": "code",
   "execution_count": 14,
   "metadata": {},
   "outputs": [
    {
     "name": "stdout",
     "output_type": "stream",
     "text": [
      "<class 'pandas.core.frame.DataFrame'>\n",
      "RangeIndex: 15787 entries, 0 to 15786\n",
      "Data columns (total 23 columns):\n",
      " #   Column                             Non-Null Count  Dtype         \n",
      "---  ------                             --------------  -----         \n",
      " 0   Start_Date_Contract                15787 non-null  datetime64[ns]\n",
      " 1   Date_Last_Renewal                  15787 non-null  datetime64[ns]\n",
      " 2   Date_Next_Renewal                  15787 non-null  datetime64[ns]\n",
      " 3   Date_Of_Birth                      15787 non-null  datetime64[ns]\n",
      " 4   Date_Of_DL_Issuance                15787 non-null  datetime64[ns]\n",
      " 5   Issurance_Broker_Agent_Channel     15787 non-null  int64         \n",
      " 6   Years_Associates                   15787 non-null  int64         \n",
      " 7   Total_Policies_Entity              15787 non-null  int64         \n",
      " 8   Max_Policy_Simultaneous_Force      15787 non-null  int64         \n",
      " 9   Max_Product_Simultaneous_Held      15787 non-null  int64         \n",
      " 10  Policies_Terminated_Non_Payment    15787 non-null  int64         \n",
      " 11  Half_Yearly_Payment_Method         15787 non-null  int64         \n",
      " 12  Premium_Amt_Current_Yr             15787 non-null  float64       \n",
      " 13  Motorbikes_Vans_Cars_Agricultural  15787 non-null  int64         \n",
      " 14  Rural_Urban_Flag                   15787 non-null  int64         \n",
      " 15  Multiple_Drivers_Regular_Flag      15787 non-null  int64         \n",
      " 16  Yr_Vehicle_Registration            15787 non-null  int64         \n",
      " 17  Vehicle_Power_HP                   15787 non-null  int64         \n",
      " 18  Cylinder_Capacity                  15787 non-null  int64         \n",
      " 19  Market_Value_EOY19                 15787 non-null  float64       \n",
      " 20  Vehicle_Doors                      15787 non-null  int64         \n",
      " 21  Energy_Source                      15787 non-null  object        \n",
      " 22  Vehicle_Wt_Kg                      15787 non-null  int64         \n",
      "dtypes: datetime64[ns](5), float64(2), int64(15), object(1)\n",
      "memory usage: 2.8+ MB\n"
     ]
    }
   ],
   "source": [
    "# making date by parsing\n",
    "date_columns = [\n",
    "    'Start_Date_Contract',\n",
    "    'Date_Last_Renewal', \n",
    "    'Date_Next_Renewal', \n",
    "    'Date_Of_Birth', \n",
    "    'Date_Of_DL_Issuance',\n",
    "]\n",
    "\n",
    "# putting it -- in data format\n",
    "for i in date_columns:\n",
    "    insurance_test[i] = pd.to_datetime(insurance_test[i], format= \"%d/%m/%Y\")\n",
    "\n",
    "insurance_test.info()"
   ]
  },
  {
   "cell_type": "code",
   "execution_count": null,
   "metadata": {},
   "outputs": [],
   "source": []
  }
 ],
 "metadata": {
  "kernelspec": {
   "display_name": "DSO530",
   "language": "python",
   "name": "python3"
  },
  "language_info": {
   "codemirror_mode": {
    "name": "ipython",
    "version": 3
   },
   "file_extension": ".py",
   "mimetype": "text/x-python",
   "name": "python",
   "nbconvert_exporter": "python",
   "pygments_lexer": "ipython3",
   "version": "3.12.9"
  }
 },
 "nbformat": 4,
 "nbformat_minor": 2
}
