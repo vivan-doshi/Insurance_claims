{
  "nbformat": 4,
  "nbformat_minor": 0,
  "metadata": {
    "colab": {
      "provenance": [],
      "authorship_tag": "ABX9TyPqmMYxFSbDXah+ghzJgl69",
      "include_colab_link": true
    },
    "kernelspec": {
      "name": "python3",
      "display_name": "Python 3"
    },
    "language_info": {
      "name": "python"
    }
  },
  "cells": [
    {
      "cell_type": "markdown",
      "metadata": {
        "id": "view-in-github",
        "colab_type": "text"
      },
      "source": [
        "<a href=\"https://colab.research.google.com/github/vivan-doshi/Insurance_claims/blob/main/11_XGBoost/DSO530_ML_PROJECT_XGBOOST_FINAL.ipynb\" target=\"_parent\"><img src=\"https://colab.research.google.com/assets/colab-badge.svg\" alt=\"Open In Colab\"/></a>"
      ]
    },
    {
      "cell_type": "code",
      "execution_count": 2,
      "metadata": {
        "id": "_AwRWoNgc1dz"
      },
      "outputs": [],
      "source": [
        "import pandas as pd\n",
        "import numpy as np\n",
        "import statsmodels.api as sm\n",
        "import statsmodels.formula.api as smf\n",
        "from sklearn import linear_model\n",
        "import seaborn as sns\n",
        "from sklearn.model_selection import train_test_split\n",
        "from sklearn.linear_model import LassoCV, RidgeCV\n",
        "from sklearn.preprocessing import StandardScaler\n",
        "from sklearn.metrics import mean_squared_error\n",
        "from xgboost import XGBRegressor\n",
        "import shap\n",
        "import matplotlib.pyplot as plt\n",
        "from sklearn.model_selection import cross_val_score\n",
        "from sklearn.metrics import mean_squared_error\n",
        "from xgboost import XGBClassifier\n",
        "from sklearn.model_selection import StratifiedKFold, cross_val_score\n",
        "from sklearn.metrics import roc_auc_score\n",
        "from sklearn.model_selection import GridSearchCV\n",
        "from sklearn.model_selection import cross_val_score\n",
        "from sklearn.metrics import mean_squared_error, make_scorer"
      ]
    },
    {
      "cell_type": "code",
      "source": [
        "# prompt: connect google colab\n",
        "\n",
        "from google.colab import drive\n",
        "drive.mount('/content/drive')\n"
      ],
      "metadata": {
        "colab": {
          "base_uri": "https://localhost:8080/"
        },
        "id": "NQ1KIi5RdJD9",
        "outputId": "06fae03f-39e5-4105-ec45-fe4eb50175d1"
      },
      "execution_count": 3,
      "outputs": [
        {
          "output_type": "stream",
          "name": "stdout",
          "text": [
            "Mounted at /content/drive\n"
          ]
        }
      ]
    },
    {
      "cell_type": "code",
      "source": [
        "df = pd.read_csv('/content/drive/MyDrive/ML Project/cleaned_data_final.csv')\n",
        "test_df = pd.read_csv('/content/drive/MyDrive/ML Project/cleaned_test_final.csv')"
      ],
      "metadata": {
        "id": "DNQ8UDGTdadJ"
      },
      "execution_count": 4,
      "outputs": []
    },
    {
      "cell_type": "code",
      "source": [
        "df['Loss_Cost'] = df['Loss_Cost'].fillna(0)\n",
        "df['Historically_Adjusted_Loss_Cost'] = df['Historically_Adjusted_Loss_Cost'].fillna(0)\n",
        "\n",
        "# STEP 4: Drop leakage and non-predictive columns\n",
        "drop_cols = [\n",
        "    'Unnamed: 0', 'ID',\n",
        "    'Start_Date_Contract', 'Date_Last_Renewal', 'Date_Next_Renewal',\n",
        "    'Date_Of_Birth', 'Date_Of_DL_Issuance',\n",
        "    'Loss_Cost', 'Historically_Adjusted_Loss_Cost', 'Claim_Status',\n",
        "    'Total_Cost_Claims_Current_Yr', 'Total_Number_Claims_Current_Yr',\n",
        "    'Total_Number_Claims_Entire_Duration', 'Ratio_Claims_Total_Duration_Force'\n",
        "]"
      ],
      "metadata": {
        "id": "gWwICzYZdiaU"
      },
      "execution_count": 5,
      "outputs": []
    },
    {
      "cell_type": "code",
      "source": [
        "# prompt: change nan values in Energy_Source to 'N'\n",
        "\n",
        "df['Energy_Source'] = df['Energy_Source'].fillna('N')\n"
      ],
      "metadata": {
        "id": "BhntZppsdr_J"
      },
      "execution_count": 6,
      "outputs": []
    },
    {
      "cell_type": "code",
      "source": [
        "X_raw = df.drop(columns=drop_cols)\n",
        "y_lc = df['Loss_Cost']\n",
        "y_halc = df['Historically_Adjusted_Loss_Cost']"
      ],
      "metadata": {
        "id": "FDNLkpepduYU"
      },
      "execution_count": 7,
      "outputs": []
    },
    {
      "cell_type": "code",
      "source": [
        "X_encoded = pd.get_dummies(X_raw, drop_first=True)"
      ],
      "metadata": {
        "id": "r4kjsVuydwpw"
      },
      "execution_count": 8,
      "outputs": []
    },
    {
      "cell_type": "code",
      "source": [
        "y_lc_q = pd.qcut(y_lc, q=4, labels=False, duplicates='drop')\n",
        "y_halc_q = pd.qcut(y_halc, q=4, labels=False, duplicates='drop')\n",
        "combined_bins = y_lc_q * 4 + y_halc_q"
      ],
      "metadata": {
        "id": "igBhb8OtfPGh"
      },
      "execution_count": 9,
      "outputs": []
    },
    {
      "cell_type": "code",
      "source": [
        "from sklearn.model_selection import StratifiedKFold\n",
        "from xgboost import XGBRegressor\n",
        "\n",
        "strat_kf = StratifiedKFold(n_splits=5, shuffle=True, random_state=42)\n",
        "feature_scores = pd.DataFrame(index=X_encoded.columns)\n",
        "\n",
        "for fold, (train_idx, _) in enumerate(strat_kf.split(X_encoded, combined_bins)):\n",
        "    X_fold_train = X_encoded.iloc[train_idx]\n",
        "    y_fold = y_lc.iloc[train_idx]\n",
        "\n",
        "    xgb = XGBRegressor(objective='reg:tweedie', n_estimators=300, random_state=42)\n",
        "    xgb.fit(X_fold_train, y_fold)\n",
        "\n",
        "    fold_importance = pd.Series(xgb.feature_importances_, index=X_encoded.columns, name=f'fold_{fold+1}')\n",
        "    feature_scores = pd.concat([feature_scores, fold_importance], axis=1)\n",
        "\n",
        "feature_scores['mean_importance'] = feature_scores.mean(axis=1)\n",
        "sorted_features = feature_scores['mean_importance'].sort_values(ascending=False)"
      ],
      "metadata": {
        "id": "TZ0IJwQ0dzv0"
      },
      "execution_count": 10,
      "outputs": []
    },
    {
      "cell_type": "code",
      "source": [
        "rmse_list = []\n",
        "feature_counts = list(range(5, 41, 5))\n",
        "\n",
        "for n in feature_counts:\n",
        "    top_n_features = sorted_features.head(n).index.tolist()\n",
        "    xgb = XGBRegressor(objective='reg:tweedie', n_estimators=300, random_state=42)\n",
        "\n",
        "    scores = cross_val_score(\n",
        "        xgb,\n",
        "        X_encoded[top_n_features],\n",
        "        y_lc,\n",
        "        scoring='neg_root_mean_squared_error',\n",
        "        cv=StratifiedKFold(n_splits=5, shuffle=True, random_state=42).split(X_encoded[top_n_features], combined_bins),\n",
        "        n_jobs=-1\n",
        "    )\n",
        "    rmse_list.append(-np.mean(scores))\n",
        "\n",
        "plt.plot(feature_counts, rmse_list, marker='o')\n",
        "plt.xlabel(\"Number of Top Features\")\n",
        "plt.ylabel(\"Stratified CV RMSE\")\n",
        "plt.title(\"📉 RMSE vs. Number of Top XGBoost Features\")\n",
        "plt.grid(True)\n",
        "plt.show()"
      ],
      "metadata": {
        "colab": {
          "base_uri": "https://localhost:8080/",
          "height": 528
        },
        "id": "SnYL3hHhfR5Z",
        "outputId": "ffcd51f1-f5b4-49ea-c1af-340ca7c6fc37"
      },
      "execution_count": 11,
      "outputs": [
        {
          "output_type": "stream",
          "name": "stderr",
          "text": [
            "/usr/local/lib/python3.11/dist-packages/IPython/core/pylabtools.py:151: UserWarning: Glyph 128201 (\\N{CHART WITH DOWNWARDS TREND}) missing from font(s) DejaVu Sans.\n",
            "  fig.canvas.print_figure(bytes_io, **kw)\n"
          ]
        },
        {
          "output_type": "display_data",
          "data": {
            "text/plain": [
              "<Figure size 640x480 with 1 Axes>"
            ],
            "image/png": "[encoded data removed]"
          },
          "metadata": {}
        }
      ]
    },
    {
      "cell_type": "code",
      "source": [
        "pip install optuna"
      ],
      "metadata": {
        "colab": {
          "base_uri": "https://localhost:8080/"
        },
        "id": "0MJ3-0Jtfstq",
        "outputId": "968cffc3-1916-4b69-96b4-3cad7dfe4bbd"
      },
      "execution_count": 12,
      "outputs": [
        {
          "output_type": "stream",
          "name": "stdout",
          "text": [
            "Collecting optuna\n",
            "  Downloading optuna-4.3.0-py3-none-any.whl.metadata (17 kB)\n",
            "Collecting alembic>=1.5.0 (from optuna)\n",
            "  Downloading alembic-1.15.2-py3-none-any.whl.metadata (7.3 kB)\n",
            "Collecting colorlog (from optuna)\n",
            "  Downloading colorlog-6.9.0-py3-none-any.whl.metadata (10 kB)\n",
            "Requirement already satisfied: numpy in /usr/local/lib/python3.11/dist-packages (from optuna) (2.0.2)\n",
            "Requirement already satisfied: packaging>=20.0 in /usr/local/lib/python3.11/dist-packages (from optuna) (24.2)\n",
            "Requirement already satisfied: sqlalchemy>=1.4.2 in /usr/local/lib/python3.11/dist-packages (from optuna) (2.0.40)\n",
            "Requirement already satisfied: tqdm in /usr/local/lib/python3.11/dist-packages (from optuna) (4.67.1)\n",
            "Requirement already satisfied: PyYAML in /usr/local/lib/python3.11/dist-packages (from optuna) (6.0.2)\n",
            "Requirement already satisfied: Mako in /usr/lib/python3/dist-packages (from alembic>=1.5.0->optuna) (1.1.3)\n",
            "Requirement already satisfied: typing-extensions>=4.12 in /usr/local/lib/python3.11/dist-packages (from alembic>=1.5.0->optuna) (4.13.2)\n",
            "Requirement already satisfied: greenlet>=1 in /usr/local/lib/python3.11/dist-packages (from sqlalchemy>=1.4.2->optuna) (3.2.1)\n",
            "Downloading optuna-4.3.0-py3-none-any.whl (386 kB)\n",
            "\u001b[2K   \u001b[90m━━━━━━━━━━━━━━━━━━━━━━━━━━━━━━━━━━━━━━━━\u001b[0m \u001b[32m386.6/386.6 kB\u001b[0m \u001b[31m7.8 MB/s\u001b[0m eta \u001b[36m0:00:00\u001b[0m\n",
            "\u001b[?25hDownloading alembic-1.15.2-py3-none-any.whl (231 kB)\n",
            "\u001b[2K   \u001b[90m━━━━━━━━━━━━━━━━━━━━━━━━━━━━━━━━━━━━━━━━\u001b[0m \u001b[32m231.9/231.9 kB\u001b[0m \u001b[31m15.7 MB/s\u001b[0m eta \u001b[36m0:00:00\u001b[0m\n",
            "\u001b[?25hDownloading colorlog-6.9.0-py3-none-any.whl (11 kB)\n",
            "Installing collected packages: colorlog, alembic, optuna\n",
            "Successfully installed alembic-1.15.2 colorlog-6.9.0 optuna-4.3.0\n"
          ]
        }
      ]
    },
    {
      "cell_type": "code",
      "source": [
        "sorted_features.head(20)"
      ],
      "metadata": {
        "colab": {
          "base_uri": "https://localhost:8080/",
          "height": 711
        },
        "id": "v3_LfQFcNXoG",
        "outputId": "8548c2d5-78c6-4872-9687-c770b519780f"
      },
      "execution_count": 27,
      "outputs": [
        {
          "output_type": "execute_result",
          "data": {
            "text/plain": [
              "Non_Continuation_Insurance_Flag    0.311365\n",
              "Policies_Terminated_Non_Payment    0.061241\n",
              "Half_Yearly_Payment_Method         0.060912\n",
              "Contract_Duration                  0.043994\n",
              "Total_Policies_Entity              0.026744\n",
              "Premium_Amt_Current_Yr             0.024913\n",
              "Time_Since_Last_Renewal            0.024487\n",
              "Car_Age_Cat_Recent                 0.020131\n",
              "Customer_Loyalty                   0.018930\n",
              "Ratio_Premium_Car_Value            0.018884\n",
              "Vehicle_Wt_Kg                      0.018684\n",
              "Vehicle_Doors                      0.018089\n",
              "Market_Value_EOY19                 0.018035\n",
              "Age_at_contract                    0.017952\n",
              "Age_at_license                     0.017908\n",
              "Power_Wt_Ratio                     0.017759\n",
              "Days_Driving_At_Start_Date         0.017515\n",
              "Car_Age_Contract                   0.017252\n",
              "Years_Driving                      0.017250\n",
              "Yr_Vehicle_Registration            0.017194\n",
              "Name: mean_importance, dtype: float32"
            ],
            "text/html": [
              "<div>\n",
              "<style scoped>\n",
              "    .dataframe tbody tr th:only-of-type {\n",
              "        vertical-align: middle;\n",
              "    }\n",
              "\n",
              "    .dataframe tbody tr th {\n",
              "        vertical-align: top;\n",
              "    }\n",
              "\n",
              "    .dataframe thead th {\n",
              "        text-align: right;\n",
              "    }\n",
              "</style>\n",
              "<table border=\"1\" class=\"dataframe\">\n",
              "  <thead>\n",
              "    <tr style=\"text-align: right;\">\n",
              "      <th></th>\n",
              "      <th>mean_importance</th>\n",
              "    </tr>\n",
              "  </thead>\n",
              "  <tbody>\n",
              "    <tr>\n",
              "      <th>Non_Continuation_Insurance_Flag</th>\n",
              "      <td>0.311365</td>\n",
              "    </tr>\n",
              "    <tr>\n",
              "      <th>Policies_Terminated_Non_Payment</th>\n",
              "      <td>0.061241</td>\n",
              "    </tr>\n",
              "    <tr>\n",
              "      <th>Half_Yearly_Payment_Method</th>\n",
              "      <td>0.060912</td>\n",
              "    </tr>\n",
              "    <tr>\n",
              "      <th>Contract_Duration</th>\n",
              "      <td>0.043994</td>\n",
              "    </tr>\n",
              "    <tr>\n",
              "      <th>Total_Policies_Entity</th>\n",
              "      <td>0.026744</td>\n",
              "    </tr>\n",
              "    <tr>\n",
              "      <th>Premium_Amt_Current_Yr</th>\n",
              "      <td>0.024913</td>\n",
              "    </tr>\n",
              "    <tr>\n",
              "      <th>Time_Since_Last_Renewal</th>\n",
              "      <td>0.024487</td>\n",
              "    </tr>\n",
              "    <tr>\n",
              "      <th>Car_Age_Cat_Recent</th>\n",
              "      <td>0.020131</td>\n",
              "    </tr>\n",
              "    <tr>\n",
              "      <th>Customer_Loyalty</th>\n",
              "      <td>0.018930</td>\n",
              "    </tr>\n",
              "    <tr>\n",
              "      <th>Ratio_Premium_Car_Value</th>\n",
              "      <td>0.018884</td>\n",
              "    </tr>\n",
              "    <tr>\n",
              "      <th>Vehicle_Wt_Kg</th>\n",
              "      <td>0.018684</td>\n",
              "    </tr>\n",
              "    <tr>\n",
              "      <th>Vehicle_Doors</th>\n",
              "      <td>0.018089</td>\n",
              "    </tr>\n",
              "    <tr>\n",
              "      <th>Market_Value_EOY19</th>\n",
              "      <td>0.018035</td>\n",
              "    </tr>\n",
              "    <tr>\n",
              "      <th>Age_at_contract</th>\n",
              "      <td>0.017952</td>\n",
              "    </tr>\n",
              "    <tr>\n",
              "      <th>Age_at_license</th>\n",
              "      <td>0.017908</td>\n",
              "    </tr>\n",
              "    <tr>\n",
              "      <th>Power_Wt_Ratio</th>\n",
              "      <td>0.017759</td>\n",
              "    </tr>\n",
              "    <tr>\n",
              "      <th>Days_Driving_At_Start_Date</th>\n",
              "      <td>0.017515</td>\n",
              "    </tr>\n",
              "    <tr>\n",
              "      <th>Car_Age_Contract</th>\n",
              "      <td>0.017252</td>\n",
              "    </tr>\n",
              "    <tr>\n",
              "      <th>Years_Driving</th>\n",
              "      <td>0.017250</td>\n",
              "    </tr>\n",
              "    <tr>\n",
              "      <th>Yr_Vehicle_Registration</th>\n",
              "      <td>0.017194</td>\n",
              "    </tr>\n",
              "  </tbody>\n",
              "</table>\n",
              "</div><br><label><b>dtype:</b> float32</label>"
            ]
          },
          "metadata": {},
          "execution_count": 27
        }
      ]
    },
    {
      "cell_type": "code",
      "source": [
        "import optuna\n",
        "from sklearn.metrics import mean_squared_error\n",
        "\n",
        "top_features = sorted_features.head(20).index.tolist()\n",
        "X_selected = X_encoded[top_features]\n",
        "\n",
        "def objective_lc(trial):\n",
        "    params = {\n",
        "        \"n_estimators\": trial.suggest_int(\"n_estimators\", 100, 500),\n",
        "        \"learning_rate\": trial.suggest_float(\"learning_rate\", 0.005, 0.1, log=True),\n",
        "        \"max_depth\": trial.suggest_int(\"max_depth\", 3, 7),\n",
        "        \"min_child_weight\": trial.suggest_float(\"min_child_weight\", 1, 10),\n",
        "        \"subsample\": trial.suggest_float(\"subsample\", 0.7, 1.0),\n",
        "        \"colsample_bytree\": trial.suggest_float(\"colsample_bytree\", 0.7, 1.0),\n",
        "        \"reg_alpha\": trial.suggest_float(\"reg_alpha\", 0, 5),\n",
        "        \"reg_lambda\": trial.suggest_float(\"reg_lambda\", 0, 5),\n",
        "        \"tweedie_variance_power\": trial.suggest_float(\"tweedie_variance_power\", 1.1, 1.9),\n",
        "    }\n",
        "\n",
        "    strat_kf = StratifiedKFold(n_splits=5, shuffle=True, random_state=42)\n",
        "    scores = []\n",
        "\n",
        "    for train_idx, val_idx in strat_kf.split(X_selected, combined_bins):\n",
        "        X_tr, X_val = X_selected.iloc[train_idx], X_selected.iloc[val_idx]\n",
        "        y_tr, y_val = y_lc.iloc[train_idx], y_lc.iloc[val_idx]\n",
        "\n",
        "        model = XGBRegressor(objective='reg:tweedie', random_state=42, **params)\n",
        "        model.fit(X_tr, y_tr)\n",
        "        preds = model.predict(X_val)\n",
        "        rmse = np.sqrt(mean_squared_error(y_val, preds))\n",
        "        scores.append(rmse)\n",
        "\n",
        "    return np.mean(scores)\n",
        "\n",
        "print(\"🔍 Tuning XGBoost for Loss Cost...\")\n",
        "study_lc = optuna.create_study(direction='minimize')\n",
        "study_lc.optimize(objective_lc, n_trials=50, timeout=900)\n",
        "\n",
        "print(f\"✅ Best RMSE for LC: {study_lc.best_value:.2f}\")\n",
        "print(\"🎯 Best Params for LC:\", study_lc.best_params)"
      ],
      "metadata": {
        "colab": {
          "base_uri": "https://localhost:8080/"
        },
        "id": "C5OKuCpOfWLo",
        "outputId": "af04866b-cc40-4894-827a-af41b7f11d4c"
      },
      "execution_count": 13,
      "outputs": [
        {
          "output_type": "stream",
          "name": "stderr",
          "text": [
            "[I 2025-04-26 03:05:21,168] A new study created in memory with name: no-name-9232dcb4-d9cb-4833-940a-d201845704ca\n"
          ]
        },
        {
          "output_type": "stream",
          "name": "stdout",
          "text": [
            "🔍 Tuning XGBoost for Loss Cost...\n"
          ]
        },
        {
          "output_type": "stream",
          "name": "stderr",
          "text": [
            "[I 2025-04-26 03:05:36,108] Trial 0 finished with value: 736.5220381833258 and parameters: {'n_estimators': 362, 'learning_rate': 0.009283436339612696, 'max_depth': 5, 'min_child_weight': 7.83196831447769, 'subsample': 0.7559348070345889, 'colsample_bytree': 0.7734920050025211, 'reg_alpha': 4.729417087837411, 'reg_lambda': 0.16029841704280512, 'tweedie_variance_power': 1.6929376377556598}. Best is trial 0 with value: 736.5220381833258.\n",
            "[I 2025-04-26 03:06:07,795] Trial 1 finished with value: 734.6974225386314 and parameters: {'n_estimators': 416, 'learning_rate': 0.024199934248755446, 'max_depth': 5, 'min_child_weight': 2.587484304824777, 'subsample': 0.961219459739519, 'colsample_bytree': 0.9936551177028, 'reg_alpha': 3.877039891519991, 'reg_lambda': 4.5878647710825415, 'tweedie_variance_power': 1.895569148029748}. Best is trial 1 with value: 734.6974225386314.\n",
            "[I 2025-04-26 03:06:22,532] Trial 2 finished with value: 733.7925795894187 and parameters: {'n_estimators': 217, 'learning_rate': 0.014683949781208244, 'max_depth': 7, 'min_child_weight': 4.27552936368082, 'subsample': 0.9338091390078549, 'colsample_bytree': 0.75642920184229, 'reg_alpha': 4.088686188473263, 'reg_lambda': 3.5536227624954404, 'tweedie_variance_power': 1.34199978034546}. Best is trial 2 with value: 733.7925795894187.\n",
            "[I 2025-04-26 03:06:29,267] Trial 3 finished with value: 734.2497288563682 and parameters: {'n_estimators': 116, 'learning_rate': 0.08174403025199256, 'max_depth': 5, 'min_child_weight': 9.875851818538433, 'subsample': 0.8468782617240762, 'colsample_bytree': 0.9388260351613471, 'reg_alpha': 4.64715185771911, 'reg_lambda': 2.1275177230910676, 'tweedie_variance_power': 1.6994646022556112}. Best is trial 2 with value: 733.7925795894187.\n",
            "[I 2025-04-26 03:06:36,958] Trial 4 finished with value: 733.4195845268895 and parameters: {'n_estimators': 362, 'learning_rate': 0.02766127517590556, 'max_depth': 3, 'min_child_weight': 4.74375786335028, 'subsample': 0.8226841371837633, 'colsample_bytree': 0.9591213898560046, 'reg_alpha': 3.845205994739518, 'reg_lambda': 4.6567426510282, 'tweedie_variance_power': 1.4823179758892668}. Best is trial 4 with value: 733.4195845268895.\n",
            "[I 2025-04-26 03:06:57,268] Trial 5 finished with value: 738.3193870402762 and parameters: {'n_estimators': 306, 'learning_rate': 0.012085448925924096, 'max_depth': 7, 'min_child_weight': 1.773127179880412, 'subsample': 0.9313705471532325, 'colsample_bytree': 0.9483694818588881, 'reg_alpha': 4.0506850631059415, 'reg_lambda': 2.3891713341175995, 'tweedie_variance_power': 1.8887783274581185}. Best is trial 4 with value: 733.4195845268895.\n",
            "[I 2025-04-26 03:07:03,925] Trial 6 finished with value: 734.9618078118814 and parameters: {'n_estimators': 293, 'learning_rate': 0.012649602281875498, 'max_depth': 3, 'min_child_weight': 4.5447502177767305, 'subsample': 0.8445370774206347, 'colsample_bytree': 0.8958341857341645, 'reg_alpha': 2.2242084325894345, 'reg_lambda': 2.5769555902911305, 'tweedie_variance_power': 1.565428303216116}. Best is trial 4 with value: 733.4195845268895.\n",
            "[I 2025-04-26 03:07:14,046] Trial 7 finished with value: 733.5761183403081 and parameters: {'n_estimators': 335, 'learning_rate': 0.028704742187881254, 'max_depth': 3, 'min_child_weight': 8.822609418151888, 'subsample': 0.7442931048376252, 'colsample_bytree': 0.8854027792713824, 'reg_alpha': 2.8818431946736123, 'reg_lambda': 2.560419951915792, 'tweedie_variance_power': 1.2587767099629779}. Best is trial 4 with value: 733.4195845268895.\n",
            "[I 2025-04-26 03:07:25,675] Trial 8 finished with value: 741.02750513189 and parameters: {'n_estimators': 217, 'learning_rate': 0.006341158843936962, 'max_depth': 6, 'min_child_weight': 5.021158172561112, 'subsample': 0.8993121525758435, 'colsample_bytree': 0.7209524283426304, 'reg_alpha': 2.9550595060402856, 'reg_lambda': 2.1344959663064698, 'tweedie_variance_power': 1.6405822219668318}. Best is trial 4 with value: 733.4195845268895.\n",
            "[I 2025-04-26 03:07:42,311] Trial 9 finished with value: 735.7701148046735 and parameters: {'n_estimators': 261, 'learning_rate': 0.02149960060571057, 'max_depth': 7, 'min_child_weight': 2.4449361206570206, 'subsample': 0.9931821853423763, 'colsample_bytree': 0.7072591127729669, 'reg_alpha': 4.467030259914548, 'reg_lambda': 4.195416868287893, 'tweedie_variance_power': 1.791206920574267}. Best is trial 4 with value: 733.4195845268895.\n",
            "[I 2025-04-26 03:07:56,292] Trial 10 finished with value: 735.880845125034 and parameters: {'n_estimators': 464, 'learning_rate': 0.05392239371423601, 'max_depth': 4, 'min_child_weight': 6.546292667319941, 'subsample': 0.7958111788853668, 'colsample_bytree': 0.8214760235883365, 'reg_alpha': 0.43717522352048555, 'reg_lambda': 0.6036267680099785, 'tweedie_variance_power': 1.4141564559028588}. Best is trial 4 with value: 733.4195845268895.\n",
            "[I 2025-04-26 03:08:07,265] Trial 11 finished with value: 734.4936585364192 and parameters: {'n_estimators': 376, 'learning_rate': 0.038614327459009556, 'max_depth': 3, 'min_child_weight': 9.566312174623102, 'subsample': 0.7048312123596224, 'colsample_bytree': 0.8655444811547188, 'reg_alpha': 2.6579066751684537, 'reg_lambda': 4.982067348717083, 'tweedie_variance_power': 1.1152184817252557}. Best is trial 4 with value: 733.4195845268895.\n",
            "[I 2025-04-26 03:08:17,719] Trial 12 finished with value: 734.6155855504369 and parameters: {'n_estimators': 483, 'learning_rate': 0.032904350811094565, 'max_depth': 3, 'min_child_weight': 6.730190672720724, 'subsample': 0.7788908767948992, 'colsample_bytree': 0.916311380299413, 'reg_alpha': 1.7596048246622065, 'reg_lambda': 3.461399005171089, 'tweedie_variance_power': 1.242569032975103}. Best is trial 4 with value: 733.4195845268895.\n",
            "[I 2025-04-26 03:08:29,036] Trial 13 finished with value: 734.7985017406143 and parameters: {'n_estimators': 355, 'learning_rate': 0.05175217874682309, 'max_depth': 4, 'min_child_weight': 8.035368729073152, 'subsample': 0.7011201750978904, 'colsample_bytree': 0.9951938704834287, 'reg_alpha': 3.1491365410077115, 'reg_lambda': 1.6159510779156598, 'tweedie_variance_power': 1.4654807919215838}. Best is trial 4 with value: 733.4195845268895.\n",
            "[I 2025-04-26 03:08:42,068] Trial 14 finished with value: 733.5080059273976 and parameters: {'n_estimators': 419, 'learning_rate': 0.02062734248524213, 'max_depth': 4, 'min_child_weight': 3.5728997798781217, 'subsample': 0.810017663122071, 'colsample_bytree': 0.8417706003013123, 'reg_alpha': 1.3525645359836518, 'reg_lambda': 3.3244933670675936, 'tweedie_variance_power': 1.26723718829432}. Best is trial 4 with value: 733.4195845268895.\n",
            "[I 2025-04-26 03:08:55,494] Trial 15 finished with value: 733.40867909541 and parameters: {'n_estimators': 423, 'learning_rate': 0.018266135453842234, 'max_depth': 4, 'min_child_weight': 3.4735609374489425, 'subsample': 0.8216620099730284, 'colsample_bytree': 0.8171615775307293, 'reg_alpha': 1.118160961730561, 'reg_lambda': 3.630314590921886, 'tweedie_variance_power': 1.1050272395249539}. Best is trial 15 with value: 733.40867909541.\n",
            "[I 2025-04-26 03:09:08,642] Trial 16 finished with value: 733.7076434200113 and parameters: {'n_estimators': 415, 'learning_rate': 0.01898737110204168, 'max_depth': 4, 'min_child_weight': 1.048660653873268, 'subsample': 0.8747336300895346, 'colsample_bytree': 0.808887003677833, 'reg_alpha': 0.06282939789561803, 'reg_lambda': 4.020355850452351, 'tweedie_variance_power': 1.1217368194548025}. Best is trial 15 with value: 733.40867909541.\n",
            "[I 2025-04-26 03:09:23,396] Trial 17 finished with value: 736.359740359943 and parameters: {'n_estimators': 448, 'learning_rate': 0.005510669708842753, 'max_depth': 4, 'min_child_weight': 6.256437124180389, 'subsample': 0.8272544104019011, 'colsample_bytree': 0.7889631867648326, 'reg_alpha': 1.0807641364393912, 'reg_lambda': 4.0222623750468385, 'tweedie_variance_power': 1.525028870571048}. Best is trial 15 with value: 733.40867909541.\n",
            "[I 2025-04-26 03:09:30,759] Trial 18 finished with value: 733.5672019640656 and parameters: {'n_estimators': 106, 'learning_rate': 0.045205841254293486, 'max_depth': 6, 'min_child_weight': 3.4072069408486563, 'subsample': 0.8794170123751166, 'colsample_bytree': 0.8465360579766705, 'reg_alpha': 3.4141926154338633, 'reg_lambda': 4.859052862618959, 'tweedie_variance_power': 1.3764429326896233}. Best is trial 15 with value: 733.40867909541.\n",
            "[I 2025-04-26 03:09:41,219] Trial 19 finished with value: 737.7996617019259 and parameters: {'n_estimators': 495, 'learning_rate': 0.07485914847715566, 'max_depth': 3, 'min_child_weight': 5.231231477820819, 'subsample': 0.7705564577087186, 'colsample_bytree': 0.9579202837795251, 'reg_alpha': 2.160638909679303, 'reg_lambda': 3.0226268119025512, 'tweedie_variance_power': 1.175973718550675}. Best is trial 15 with value: 733.40867909541.\n",
            "[I 2025-04-26 03:09:58,686] Trial 20 finished with value: 733.7711366741833 and parameters: {'n_estimators': 384, 'learning_rate': 0.01579974375767078, 'max_depth': 5, 'min_child_weight': 3.7133942734818297, 'subsample': 0.8143742320479289, 'colsample_bytree': 0.8711809946087181, 'reg_alpha': 0.9257175084868949, 'reg_lambda': 4.243967252461759, 'tweedie_variance_power': 1.6127532126697957}. Best is trial 15 with value: 733.40867909541.\n",
            "[I 2025-04-26 03:10:16,455] Trial 21 finished with value: 733.2546566030435 and parameters: {'n_estimators': 419, 'learning_rate': 0.008850317129261412, 'max_depth': 4, 'min_child_weight': 3.6227579293302594, 'subsample': 0.806417041584838, 'colsample_bytree': 0.8380086073089125, 'reg_alpha': 1.488458092245518, 'reg_lambda': 3.439079077813345, 'tweedie_variance_power': 1.2637088930865366}. Best is trial 21 with value: 733.2546566030435.\n",
            "[I 2025-04-26 03:10:30,400] Trial 22 finished with value: 733.2653713400131 and parameters: {'n_estimators': 439, 'learning_rate': 0.00991498782757786, 'max_depth': 4, 'min_child_weight': 2.7489260275480114, 'subsample': 0.8715503789013912, 'colsample_bytree': 0.8219395537171509, 'reg_alpha': 1.6942235171737121, 'reg_lambda': 3.7555874357219157, 'tweedie_variance_power': 1.1846556197957632}. Best is trial 21 with value: 733.2546566030435.\n",
            "[I 2025-04-26 03:10:44,360] Trial 23 finished with value: 733.3487934019224 and parameters: {'n_estimators': 442, 'learning_rate': 0.009008035732844984, 'max_depth': 4, 'min_child_weight': 2.64046621422726, 'subsample': 0.8624661116091271, 'colsample_bytree': 0.8188967870982657, 'reg_alpha': 1.569026218322588, 'reg_lambda': 3.032040790371938, 'tweedie_variance_power': 1.1820478583073017}. Best is trial 21 with value: 733.2546566030435.\n",
            "[I 2025-04-26 03:10:58,322] Trial 24 finished with value: 733.2173993675633 and parameters: {'n_estimators': 447, 'learning_rate': 0.00819064930400053, 'max_depth': 4, 'min_child_weight': 2.1322372724054643, 'subsample': 0.8737022594208179, 'colsample_bytree': 0.7482353015674102, 'reg_alpha': 1.6121888592147273, 'reg_lambda': 3.0738388007802415, 'tweedie_variance_power': 1.1979397931057116}. Best is trial 24 with value: 733.2173993675633.\n",
            "[I 2025-04-26 03:11:15,444] Trial 25 finished with value: 732.9976924265485 and parameters: {'n_estimators': 467, 'learning_rate': 0.00765139378810575, 'max_depth': 5, 'min_child_weight': 1.506361438833399, 'subsample': 0.9062219929658646, 'colsample_bytree': 0.7409801580231904, 'reg_alpha': 1.9321729663033549, 'reg_lambda': 1.4265198271380846, 'tweedie_variance_power': 1.3186535038494442}. Best is trial 25 with value: 732.9976924265485.\n",
            "[I 2025-04-26 03:11:39,896] Trial 26 finished with value: 733.3258893291477 and parameters: {'n_estimators': 473, 'learning_rate': 0.006636952761002839, 'max_depth': 6, 'min_child_weight': 1.4019553225362897, 'subsample': 0.9225425356181852, 'colsample_bytree': 0.7396572560332793, 'reg_alpha': 2.076344653781193, 'reg_lambda': 1.3345586429807055, 'tweedie_variance_power': 1.3131719240669244}. Best is trial 25 with value: 732.9976924265485.\n",
            "[I 2025-04-26 03:11:58,109] Trial 27 finished with value: 733.1960607721073 and parameters: {'n_estimators': 500, 'learning_rate': 0.007754471720052915, 'max_depth': 5, 'min_child_weight': 1.7244853130648021, 'subsample': 0.9604982426366878, 'colsample_bytree': 0.7416101803528656, 'reg_alpha': 0.6999335789785996, 'reg_lambda': 1.416618999450391, 'tweedie_variance_power': 1.4134517779145837}. Best is trial 25 with value: 732.9976924265485.\n",
            "[I 2025-04-26 03:12:23,180] Trial 28 finished with value: 733.5817430593527 and parameters: {'n_estimators': 494, 'learning_rate': 0.007564351160745212, 'max_depth': 6, 'min_child_weight': 1.9671467595220427, 'subsample': 0.9707989167958645, 'colsample_bytree': 0.7360865704078247, 'reg_alpha': 0.598918659392131, 'reg_lambda': 1.2039001511550254, 'tweedie_variance_power': 1.4092446762354915}. Best is trial 25 with value: 732.9976924265485.\n",
            "[I 2025-04-26 03:12:41,875] Trial 29 finished with value: 733.6165704457154 and parameters: {'n_estimators': 499, 'learning_rate': 0.005000959314031822, 'max_depth': 5, 'min_child_weight': 1.0296425012105108, 'subsample': 0.9000295376012212, 'colsample_bytree': 0.782183860482579, 'reg_alpha': 0.6772782871979484, 'reg_lambda': 0.3568634496545542, 'tweedie_variance_power': 1.3305043177630296}. Best is trial 25 with value: 732.9976924265485.\n",
            "[I 2025-04-26 03:12:58,830] Trial 30 finished with value: 733.2002238722919 and parameters: {'n_estimators': 453, 'learning_rate': 0.011133740543022528, 'max_depth': 5, 'min_child_weight': 2.0441303282831114, 'subsample': 0.9504321261833474, 'colsample_bytree': 0.7604314730420796, 'reg_alpha': 0.00864409484548978, 'reg_lambda': 1.0476308932623075, 'tweedie_variance_power': 1.4332080701770467}. Best is trial 25 with value: 732.9976924265485.\n",
            "[I 2025-04-26 03:13:17,989] Trial 31 finished with value: 733.150700120951 and parameters: {'n_estimators': 455, 'learning_rate': 0.011186794499049645, 'max_depth': 5, 'min_child_weight': 2.002762114416879, 'subsample': 0.9545954414065989, 'colsample_bytree': 0.7653578158344928, 'reg_alpha': 0.2201447783369721, 'reg_lambda': 0.9148381763827221, 'tweedie_variance_power': 1.4270848915111545}. Best is trial 25 with value: 732.9976924265485.\n",
            "[I 2025-04-26 03:13:33,313] Trial 32 finished with value: 733.1236694061166 and parameters: {'n_estimators': 391, 'learning_rate': 0.01075927827567491, 'max_depth': 5, 'min_child_weight': 1.636900661080829, 'subsample': 0.9599135056389553, 'colsample_bytree': 0.7615424140331973, 'reg_alpha': 0.001843048884895341, 'reg_lambda': 1.0183569668876473, 'tweedie_variance_power': 1.4355757240735405}. Best is trial 25 with value: 732.9976924265485.\n",
            "[I 2025-04-26 03:13:48,584] Trial 33 finished with value: 735.2121663051814 and parameters: {'n_estimators': 396, 'learning_rate': 0.0070705542216331725, 'max_depth': 5, 'min_child_weight': 1.559269007389859, 'subsample': 0.9939507995394606, 'colsample_bytree': 0.7199116591741233, 'reg_alpha': 0.315442599931381, 'reg_lambda': 0.04859429030446716, 'tweedie_variance_power': 1.521929656234339}. Best is trial 25 with value: 732.9976924265485.\n",
            "[I 2025-04-26 03:14:04,986] Trial 34 finished with value: 732.9801793303161 and parameters: {'n_estimators': 472, 'learning_rate': 0.014608714141130161, 'max_depth': 5, 'min_child_weight': 2.8522832930987225, 'subsample': 0.9732623773781655, 'colsample_bytree': 0.7742350412755221, 'reg_alpha': 0.7717588770855511, 'reg_lambda': 0.6454155162961384, 'tweedie_variance_power': 1.3771521807510338}. Best is trial 34 with value: 732.9801793303161.\n",
            "[I 2025-04-26 03:14:25,986] Trial 35 finished with value: 733.2332188535639 and parameters: {'n_estimators': 401, 'learning_rate': 0.014321959771270787, 'max_depth': 6, 'min_child_weight': 3.0767405832590926, 'subsample': 0.9784325320272965, 'colsample_bytree': 0.7658182814827263, 'reg_alpha': 0.31749178179221005, 'reg_lambda': 0.9123906236497054, 'tweedie_variance_power': 1.3578313639837534}. Best is trial 34 with value: 732.9801793303161.\n",
            "[I 2025-04-26 03:14:43,024] Trial 36 finished with value: 732.9321882101564 and parameters: {'n_estimators': 471, 'learning_rate': 0.010463826181569958, 'max_depth': 5, 'min_child_weight': 2.977513190394447, 'subsample': 0.9191730865234268, 'colsample_bytree': 0.797985839395236, 'reg_alpha': 0.8791074462482257, 'reg_lambda': 0.7035630702345756, 'tweedie_variance_power': 1.3077217667936307}. Best is trial 36 with value: 732.9321882101564.\n",
            "[I 2025-04-26 03:14:56,134] Trial 37 finished with value: 732.9106292439529 and parameters: {'n_estimators': 336, 'learning_rate': 0.013983053365977043, 'max_depth': 5, 'min_child_weight': 4.35845967288533, 'subsample': 0.9181310146256835, 'colsample_bytree': 0.7956809434778265, 'reg_alpha': 0.904844737442871, 'reg_lambda': 0.5634611007365218, 'tweedie_variance_power': 1.3047524676279534}. Best is trial 37 with value: 732.9106292439529.\n",
            "[I 2025-04-26 03:15:02,655] Trial 38 finished with value: 733.9098440093277 and parameters: {'n_estimators': 153, 'learning_rate': 0.01378927490881184, 'max_depth': 6, 'min_child_weight': 4.176055665134255, 'subsample': 0.9092664093956213, 'colsample_bytree': 0.7962324936821987, 'reg_alpha': 1.2155860400529943, 'reg_lambda': 0.5350075864061685, 'tweedie_variance_power': 1.2937797628100907}. Best is trial 37 with value: 732.9106292439529.\n",
            "[I 2025-04-26 03:15:15,130] Trial 39 finished with value: 732.9381087070449 and parameters: {'n_estimators': 317, 'learning_rate': 0.016542188963228767, 'max_depth': 5, 'min_child_weight': 4.117817761290384, 'subsample': 0.9381656317787131, 'colsample_bytree': 0.7956417821767647, 'reg_alpha': 0.8945530438057452, 'reg_lambda': 0.6382570011604234, 'tweedie_variance_power': 1.3685497895351857}. Best is trial 37 with value: 732.9106292439529.\n",
            "[I 2025-04-26 03:15:27,449] Trial 40 finished with value: 732.8772283212531 and parameters: {'n_estimators': 309, 'learning_rate': 0.016820891567508708, 'max_depth': 5, 'min_child_weight': 5.783276529023517, 'subsample': 0.9410053140119012, 'colsample_bytree': 0.800180925017077, 'reg_alpha': 0.858185104810459, 'reg_lambda': 0.3622784790470328, 'tweedie_variance_power': 1.3553737204282175}. Best is trial 40 with value: 732.8772283212531.\n",
            "[I 2025-04-26 03:15:39,811] Trial 41 finished with value: 732.8661668331227 and parameters: {'n_estimators': 311, 'learning_rate': 0.016284185678443093, 'max_depth': 5, 'min_child_weight': 5.878897905048839, 'subsample': 0.9375409776977721, 'colsample_bytree': 0.7997815929967987, 'reg_alpha': 0.8850836334248451, 'reg_lambda': 0.41309681710572943, 'tweedie_variance_power': 1.3531149810698455}. Best is trial 41 with value: 732.8661668331227.\n",
            "[I 2025-04-26 03:15:51,908] Trial 42 finished with value: 733.2658190188005 and parameters: {'n_estimators': 311, 'learning_rate': 0.025405475173530347, 'max_depth': 5, 'min_child_weight': 5.983265954995069, 'subsample': 0.9354051987600348, 'colsample_bytree': 0.798293005532478, 'reg_alpha': 0.8810727784875613, 'reg_lambda': 0.18411477565181705, 'tweedie_variance_power': 1.2232436986756754}. Best is trial 41 with value: 732.8661668331227.\n",
            "[I 2025-04-26 03:16:03,606] Trial 43 finished with value: 732.9182117834763 and parameters: {'n_estimators': 281, 'learning_rate': 0.017652094070451, 'max_depth': 5, 'min_child_weight': 5.73650844386355, 'subsample': 0.9406765240031953, 'colsample_bytree': 0.8320964769365862, 'reg_alpha': 0.5149948102448101, 'reg_lambda': 1.806143908201472, 'tweedie_variance_power': 1.355112472560256}. Best is trial 41 with value: 732.8661668331227.\n",
            "[I 2025-04-26 03:16:16,414] Trial 44 finished with value: 733.4446677075674 and parameters: {'n_estimators': 272, 'learning_rate': 0.023690532831575063, 'max_depth': 6, 'min_child_weight': 5.675208688544536, 'subsample': 0.9212150635539355, 'colsample_bytree': 0.835279570593595, 'reg_alpha': 0.49369965683880424, 'reg_lambda': 1.8350312776085758, 'tweedie_variance_power': 1.2914891509029351}. Best is trial 41 with value: 732.8661668331227.\n",
            "[I 2025-04-26 03:16:24,641] Trial 45 finished with value: 734.4647046280251 and parameters: {'n_estimators': 236, 'learning_rate': 0.012481292316444039, 'max_depth': 5, 'min_child_weight': 6.702037645930451, 'subsample': 0.8893024641461029, 'colsample_bytree': 0.8050644409708094, 'reg_alpha': 1.2039092580050597, 'reg_lambda': 0.2980990692626183, 'tweedie_variance_power': 1.4911318151534234}. Best is trial 41 with value: 732.8661668331227.\n",
            "[I 2025-04-26 03:16:36,769] Trial 46 finished with value: 732.9963316843639 and parameters: {'n_estimators': 286, 'learning_rate': 0.017502621858154776, 'max_depth': 5, 'min_child_weight': 4.825881921459157, 'subsample': 0.9447394346846683, 'colsample_bytree': 0.8651359726059281, 'reg_alpha': 2.3829237405302663, 'reg_lambda': 0.023097236388242792, 'tweedie_variance_power': 1.354945538224377}. Best is trial 41 with value: 732.8661668331227.\n",
            "[I 2025-04-26 03:16:51,700] Trial 47 finished with value: 733.882444318014 and parameters: {'n_estimators': 336, 'learning_rate': 0.030352021273381553, 'max_depth': 6, 'min_child_weight': 5.352826231524729, 'subsample': 0.9187156117722431, 'colsample_bytree': 0.7795549322438057, 'reg_alpha': 1.0163889669903985, 'reg_lambda': 1.8403404952761693, 'tweedie_variance_power': 1.2197228106942786}. Best is trial 41 with value: 732.8661668331227.\n",
            "[I 2025-04-26 03:17:02,348] Trial 48 finished with value: 733.3152948479981 and parameters: {'n_estimators': 245, 'learning_rate': 0.021005039509605705, 'max_depth': 5, 'min_child_weight': 7.401978230350299, 'subsample': 0.9297215334621686, 'colsample_bytree': 0.8930588521231309, 'reg_alpha': 1.3721689436775089, 'reg_lambda': 0.43754514889822305, 'tweedie_variance_power': 1.464008933968489}. Best is trial 41 with value: 732.8661668331227.\n",
            "[I 2025-04-26 03:17:08,432] Trial 49 finished with value: 733.3800593695958 and parameters: {'n_estimators': 183, 'learning_rate': 0.013100628903678243, 'max_depth': 5, 'min_child_weight': 7.377007961776315, 'subsample': 0.8906288804898371, 'colsample_bytree': 0.830069201919467, 'reg_alpha': 0.4913149456550839, 'reg_lambda': 0.800688114861817, 'tweedie_variance_power': 1.2949185229916884}. Best is trial 41 with value: 732.8661668331227.\n"
          ]
        },
        {
          "output_type": "stream",
          "name": "stdout",
          "text": [
            "✅ Best RMSE for LC: 732.87\n",
            "🎯 Best Params for LC: {'n_estimators': 311, 'learning_rate': 0.016284185678443093, 'max_depth': 5, 'min_child_weight': 5.878897905048839, 'subsample': 0.9375409776977721, 'colsample_bytree': 0.7997815929967987, 'reg_alpha': 0.8850836334248451, 'reg_lambda': 0.41309681710572943, 'tweedie_variance_power': 1.3531149810698455}\n"
          ]
        }
      ]
    },
    {
      "cell_type": "code",
      "source": [
        "print(top_features)"
      ],
      "metadata": {
        "colab": {
          "base_uri": "https://localhost:8080/"
        },
        "id": "qI737MLHh8Tm",
        "outputId": "0dd2e8ed-b320-4e83-c61a-2d6fcb182296"
      },
      "execution_count": 14,
      "outputs": [
        {
          "output_type": "stream",
          "name": "stdout",
          "text": [
            "['Non_Continuation_Insurance_Flag', 'Policies_Terminated_Non_Payment', 'Half_Yearly_Payment_Method', 'Contract_Duration', 'Total_Policies_Entity', 'Premium_Amt_Current_Yr', 'Time_Since_Last_Renewal', 'Car_Age_Cat_Recent', 'Customer_Loyalty', 'Ratio_Premium_Car_Value', 'Vehicle_Wt_Kg', 'Vehicle_Doors', 'Market_Value_EOY19', 'Age_at_contract', 'Age_at_license', 'Power_Wt_Ratio', 'Days_Driving_At_Start_Date', 'Car_Age_Contract', 'Years_Driving', 'Yr_Vehicle_Registration']\n"
          ]
        }
      ]
    },
    {
      "cell_type": "code",
      "source": [
        "from sklearn.model_selection import StratifiedKFold\n",
        "from xgboost import XGBRegressor\n",
        "import pandas as pd\n",
        "import matplotlib.pyplot as plt\n",
        "\n",
        "# Step 1: Feature importance using stratified CV for HALC\n",
        "strat_kf = StratifiedKFold(n_splits=5, shuffle=True, random_state=42)\n",
        "feature_scores_halc = pd.DataFrame(index=X_encoded.columns)\n",
        "\n",
        "for fold, (train_idx, _) in enumerate(strat_kf.split(X_encoded, combined_bins)):\n",
        "    X_fold_train = X_encoded.iloc[train_idx]\n",
        "    y_fold_halc = y_halc.iloc[train_idx]\n",
        "\n",
        "    xgb = XGBRegressor(objective='reg:tweedie', n_estimators=300, random_state=42)\n",
        "    xgb.fit(X_fold_train, y_fold_halc)\n",
        "\n",
        "    fold_importance = pd.Series(xgb.feature_importances_, index=X_encoded.columns, name=f'fold_{fold+1}')\n",
        "    feature_scores_halc = pd.concat([feature_scores_halc, fold_importance], axis=1)\n",
        "\n",
        "feature_scores_halc['mean_importance'] = feature_scores_halc.mean(axis=1)\n",
        "sorted_features_halc = feature_scores_halc['mean_importance'].sort_values(ascending=False)\n",
        "\n",
        "# Step 2: RMSE vs. top-N features plot for HALC\n",
        "rmse_list_halc = []\n",
        "feature_counts = list(range(5, 41, 5))\n",
        "\n",
        "for n in feature_counts:\n",
        "    top_n_features = sorted_features_halc.head(n).index.tolist()\n",
        "    xgb = XGBRegressor(objective='reg:tweedie', n_estimators=300, random_state=42)\n",
        "\n",
        "    scores = cross_val_score(\n",
        "        xgb,\n",
        "        X_encoded[top_n_features],\n",
        "        y_halc,\n",
        "        scoring='neg_root_mean_squared_error',\n",
        "        cv=StratifiedKFold(n_splits=3, shuffle=True, random_state=42).split(X_encoded[top_n_features], combined_bins),\n",
        "        n_jobs=-1\n",
        "    )\n",
        "    rmse_list_halc.append(-np.mean(scores))\n",
        "\n",
        "plt.plot(feature_counts, rmse_list_halc, marker='o')\n",
        "plt.xlabel(\"Number of Top Features\")\n",
        "plt.ylabel(\"Stratified CV RMSE (HALC)\")\n",
        "plt.title(\"📉 RMSE vs. Number of Top XGBoost Features (HALC)\")\n",
        "plt.grid(True)\n",
        "plt.show()"
      ],
      "metadata": {
        "colab": {
          "base_uri": "https://localhost:8080/",
          "height": 528
        },
        "id": "wiTmslF-g-ns",
        "outputId": "a9e92f13-1470-457d-a794-dc602c9929c6"
      },
      "execution_count": 15,
      "outputs": [
        {
          "output_type": "stream",
          "name": "stderr",
          "text": [
            "/usr/local/lib/python3.11/dist-packages/IPython/core/pylabtools.py:151: UserWarning: Glyph 128201 (\\N{CHART WITH DOWNWARDS TREND}) missing from font(s) DejaVu Sans.\n",
            "  fig.canvas.print_figure(bytes_io, **kw)\n"
          ]
        },
        {
          "output_type": "display_data",
          "data": {
            "text/plain": [
              "<Figure size 640x480 with 1 Axes>"
            ],
            "image/png": "[encoded data removed]"
          },
          "metadata": {}
        }
      ]
    },
    {
      "cell_type": "code",
      "source": [
        "sorted_features_halc.head(15)"
      ],
      "metadata": {
        "colab": {
          "base_uri": "https://localhost:8080/",
          "height": 554
        },
        "id": "1eFwppZTMzXw",
        "outputId": "22847b3c-261e-4d88-f5cf-16acd269f4b2"
      },
      "execution_count": 26,
      "outputs": [
        {
          "output_type": "execute_result",
          "data": {
            "text/plain": [
              "Non_Continuation_Insurance_Flag    0.315804\n",
              "Policies_Terminated_Non_Payment    0.065533\n",
              "Contract_Duration                  0.057213\n",
              "Half_Yearly_Payment_Method         0.053843\n",
              "Premium_Amt_Current_Yr             0.025315\n",
              "Total_Policies_Entity              0.025101\n",
              "Car_Age_Cat_Recent                 0.022118\n",
              "Customer_Loyalty                   0.019559\n",
              "Vehicle_Doors                      0.018680\n",
              "Age_at_contract                    0.018656\n",
              "Vehicle_Wt_Kg                      0.018180\n",
              "Time_Since_Last_Renewal            0.017984\n",
              "Energy_Source_P                    0.017982\n",
              "Days_Driving_At_Start_Date         0.017809\n",
              "Ratio_Premium_Car_Value            0.017749\n",
              "Name: mean_importance, dtype: float32"
            ],
            "text/html": [
              "<div>\n",
              "<style scoped>\n",
              "    .dataframe tbody tr th:only-of-type {\n",
              "        vertical-align: middle;\n",
              "    }\n",
              "\n",
              "    .dataframe tbody tr th {\n",
              "        vertical-align: top;\n",
              "    }\n",
              "\n",
              "    .dataframe thead th {\n",
              "        text-align: right;\n",
              "    }\n",
              "</style>\n",
              "<table border=\"1\" class=\"dataframe\">\n",
              "  <thead>\n",
              "    <tr style=\"text-align: right;\">\n",
              "      <th></th>\n",
              "      <th>mean_importance</th>\n",
              "    </tr>\n",
              "  </thead>\n",
              "  <tbody>\n",
              "    <tr>\n",
              "      <th>Non_Continuation_Insurance_Flag</th>\n",
              "      <td>0.315804</td>\n",
              "    </tr>\n",
              "    <tr>\n",
              "      <th>Policies_Terminated_Non_Payment</th>\n",
              "      <td>0.065533</td>\n",
              "    </tr>\n",
              "    <tr>\n",
              "      <th>Contract_Duration</th>\n",
              "      <td>0.057213</td>\n",
              "    </tr>\n",
              "    <tr>\n",
              "      <th>Half_Yearly_Payment_Method</th>\n",
              "      <td>0.053843</td>\n",
              "    </tr>\n",
              "    <tr>\n",
              "      <th>Premium_Amt_Current_Yr</th>\n",
              "      <td>0.025315</td>\n",
              "    </tr>\n",
              "    <tr>\n",
              "      <th>Total_Policies_Entity</th>\n",
              "      <td>0.025101</td>\n",
              "    </tr>\n",
              "    <tr>\n",
              "      <th>Car_Age_Cat_Recent</th>\n",
              "      <td>0.022118</td>\n",
              "    </tr>\n",
              "    <tr>\n",
              "      <th>Customer_Loyalty</th>\n",
              "      <td>0.019559</td>\n",
              "    </tr>\n",
              "    <tr>\n",
              "      <th>Vehicle_Doors</th>\n",
              "      <td>0.018680</td>\n",
              "    </tr>\n",
              "    <tr>\n",
              "      <th>Age_at_contract</th>\n",
              "      <td>0.018656</td>\n",
              "    </tr>\n",
              "    <tr>\n",
              "      <th>Vehicle_Wt_Kg</th>\n",
              "      <td>0.018180</td>\n",
              "    </tr>\n",
              "    <tr>\n",
              "      <th>Time_Since_Last_Renewal</th>\n",
              "      <td>0.017984</td>\n",
              "    </tr>\n",
              "    <tr>\n",
              "      <th>Energy_Source_P</th>\n",
              "      <td>0.017982</td>\n",
              "    </tr>\n",
              "    <tr>\n",
              "      <th>Days_Driving_At_Start_Date</th>\n",
              "      <td>0.017809</td>\n",
              "    </tr>\n",
              "    <tr>\n",
              "      <th>Ratio_Premium_Car_Value</th>\n",
              "      <td>0.017749</td>\n",
              "    </tr>\n",
              "  </tbody>\n",
              "</table>\n",
              "</div><br><label><b>dtype:</b> float32</label>"
            ]
          },
          "metadata": {},
          "execution_count": 26
        }
      ]
    },
    {
      "cell_type": "code",
      "source": [
        "top_features = sorted_features.head(15).index.tolist()\n",
        "X_selected = X_encoded[top_features]\n",
        "def objective_halc(trial):\n",
        "    params = {\n",
        "        \"n_estimators\": trial.suggest_int(\"n_estimators\", 100, 500),\n",
        "        \"learning_rate\": trial.suggest_float(\"learning_rate\", 0.005, 0.1, log=True),\n",
        "        \"max_depth\": trial.suggest_int(\"max_depth\", 3, 7),\n",
        "        \"min_child_weight\": trial.suggest_float(\"min_child_weight\", 1, 10),\n",
        "        \"subsample\": trial.suggest_float(\"subsample\", 0.7, 1.0),\n",
        "        \"colsample_bytree\": trial.suggest_float(\"colsample_bytree\", 0.7, 1.0),\n",
        "        \"reg_alpha\": trial.suggest_float(\"reg_alpha\", 0, 5),\n",
        "        \"reg_lambda\": trial.suggest_float(\"reg_lambda\", 0, 5),\n",
        "        \"tweedie_variance_power\": trial.suggest_float(\"tweedie_variance_power\", 1.1, 1.9),\n",
        "    }\n",
        "\n",
        "    strat_kf = StratifiedKFold(n_splits=5, shuffle=True, random_state=42)\n",
        "    scores = []\n",
        "\n",
        "    for train_idx, val_idx in strat_kf.split(X_selected, combined_bins):\n",
        "        X_tr, X_val = X_selected.iloc[train_idx], X_selected.iloc[val_idx]\n",
        "        y_tr, y_val = y_halc.iloc[train_idx], y_halc.iloc[val_idx]\n",
        "\n",
        "        model = XGBRegressor(objective='reg:tweedie', random_state=42, **params)\n",
        "        model.fit(X_tr, y_tr)\n",
        "        preds = model.predict(X_val)\n",
        "        rmse = np.sqrt(mean_squared_error(y_val, preds))\n",
        "        scores.append(rmse)\n",
        "\n",
        "    return np.mean(scores)\n",
        "\n",
        "print(\"🔍 Tuning XGBoost for HALC...\")\n",
        "study_halc = optuna.create_study(direction='minimize')\n",
        "study_halc.optimize(objective_halc, n_trials=50, timeout=900)\n",
        "\n",
        "print(f\"✅ Best RMSE for HALC: {study_halc.best_value:.2f}\")\n",
        "print(\"🎯 Best Params for HALC:\", study_halc.best_params)"
      ],
      "metadata": {
        "colab": {
          "base_uri": "https://localhost:8080/"
        },
        "id": "tJtUJ2fpfkfR",
        "outputId": "682931a0-d31b-4547-8185-81a50690cbfc"
      },
      "execution_count": 16,
      "outputs": [
        {
          "output_type": "stream",
          "name": "stderr",
          "text": [
            "[I 2025-04-26 03:18:42,889] A new study created in memory with name: no-name-7af3f04d-932a-47be-a282-c84c472d3e6f\n"
          ]
        },
        {
          "output_type": "stream",
          "name": "stdout",
          "text": [
            "🔍 Tuning XGBoost for HALC...\n"
          ]
        },
        {
          "output_type": "stream",
          "name": "stderr",
          "text": [
            "[I 2025-04-26 03:18:48,777] Trial 0 finished with value: 1466.717800073845 and parameters: {'n_estimators': 226, 'learning_rate': 0.04287292892370325, 'max_depth': 5, 'min_child_weight': 1.3628441167786178, 'subsample': 0.8718243602650712, 'colsample_bytree': 0.7210307820984061, 'reg_alpha': 2.8834332908501525, 'reg_lambda': 2.69024834413445, 'tweedie_variance_power': 1.1578927121692861}. Best is trial 0 with value: 1466.717800073845.\n",
            "[I 2025-04-26 03:18:56,753] Trial 1 finished with value: 1465.7336346426086 and parameters: {'n_estimators': 188, 'learning_rate': 0.04669992439619347, 'max_depth': 5, 'min_child_weight': 4.740055452217737, 'subsample': 0.9821207339758682, 'colsample_bytree': 0.7757198001812676, 'reg_alpha': 4.2203620651816625, 'reg_lambda': 1.9842181458894925, 'tweedie_variance_power': 1.6365856526441855}. Best is trial 1 with value: 1465.7336346426086.\n",
            "[I 2025-04-26 03:19:03,012] Trial 2 finished with value: 1468.8364612156552 and parameters: {'n_estimators': 304, 'learning_rate': 0.008663042081760101, 'max_depth': 3, 'min_child_weight': 3.4893487439856457, 'subsample': 0.7864457159633731, 'colsample_bytree': 0.9661840908149559, 'reg_alpha': 2.785415522548122, 'reg_lambda': 1.2590250327448986, 'tweedie_variance_power': 1.4145504740078332}. Best is trial 1 with value: 1465.7336346426086.\n",
            "[I 2025-04-26 03:19:17,052] Trial 3 finished with value: 1467.1233882925037 and parameters: {'n_estimators': 275, 'learning_rate': 0.023031910612108242, 'max_depth': 7, 'min_child_weight': 4.521275957143855, 'subsample': 0.984320929577142, 'colsample_bytree': 0.8235570630686968, 'reg_alpha': 1.2118883123900082, 'reg_lambda': 2.5796587183997826, 'tweedie_variance_power': 1.3113262699611774}. Best is trial 1 with value: 1465.7336346426086.\n",
            "[I 2025-04-26 03:19:35,951] Trial 4 finished with value: 1467.6756510150894 and parameters: {'n_estimators': 428, 'learning_rate': 0.02509205594934432, 'max_depth': 6, 'min_child_weight': 5.681757699472533, 'subsample': 0.7866888441856602, 'colsample_bytree': 0.8582100756999259, 'reg_alpha': 3.5159824146012415, 'reg_lambda': 3.138457249930645, 'tweedie_variance_power': 1.4635486822598969}. Best is trial 1 with value: 1465.7336346426086.\n",
            "[I 2025-04-26 03:19:48,143] Trial 5 finished with value: 1466.067830779115 and parameters: {'n_estimators': 389, 'learning_rate': 0.012706877455868818, 'max_depth': 5, 'min_child_weight': 4.705394434221541, 'subsample': 0.961718447184557, 'colsample_bytree': 0.9291943232535625, 'reg_alpha': 3.598559159377839, 'reg_lambda': 3.881010379200795, 'tweedie_variance_power': 1.1422140033319108}. Best is trial 1 with value: 1465.7336346426086.\n",
            "[I 2025-04-26 03:20:06,436] Trial 6 finished with value: 1470.1521738766464 and parameters: {'n_estimators': 460, 'learning_rate': 0.02988718252244499, 'max_depth': 6, 'min_child_weight': 3.98410032505986, 'subsample': 0.7743888834900445, 'colsample_bytree': 0.8319165260024637, 'reg_alpha': 1.5337602492451214, 'reg_lambda': 2.672136303988426, 'tweedie_variance_power': 1.854356483327162}. Best is trial 1 with value: 1465.7336346426086.\n",
            "[I 2025-04-26 03:20:14,978] Trial 7 finished with value: 1465.966248407975 and parameters: {'n_estimators': 360, 'learning_rate': 0.008019340748862692, 'max_depth': 4, 'min_child_weight': 4.841985456067138, 'subsample': 0.9124122488136135, 'colsample_bytree': 0.8320692981772208, 'reg_alpha': 3.7737113668549145, 'reg_lambda': 1.4405575683017091, 'tweedie_variance_power': 1.2351165062124831}. Best is trial 1 with value: 1465.7336346426086.\n",
            "[I 2025-04-26 03:20:30,117] Trial 8 finished with value: 1467.851933808665 and parameters: {'n_estimators': 336, 'learning_rate': 0.04915534539864369, 'max_depth': 5, 'min_child_weight': 7.98575004844179, 'subsample': 0.9074895043308656, 'colsample_bytree': 0.9960836425262581, 'reg_alpha': 3.053758835543832, 'reg_lambda': 1.6303549884623663, 'tweedie_variance_power': 1.4446531883872298}. Best is trial 1 with value: 1465.7336346426086.\n",
            "[I 2025-04-26 03:20:40,999] Trial 9 finished with value: 1468.9803424100287 and parameters: {'n_estimators': 249, 'learning_rate': 0.04786744726699306, 'max_depth': 6, 'min_child_weight': 9.110757778779332, 'subsample': 0.8863328240759334, 'colsample_bytree': 0.9599328949077897, 'reg_alpha': 3.678720334679774, 'reg_lambda': 1.1568144072573556, 'tweedie_variance_power': 1.785300753919472}. Best is trial 1 with value: 1465.7336346426086.\n",
            "[I 2025-04-26 03:20:43,351] Trial 10 finished with value: 1466.8806643108046 and parameters: {'n_estimators': 105, 'learning_rate': 0.09782294530224825, 'max_depth': 3, 'min_child_weight': 7.240168259412047, 'subsample': 0.7193417157510572, 'colsample_bytree': 0.7017255317040589, 'reg_alpha': 4.610343071122941, 'reg_lambda': 0.1392986589264702, 'tweedie_variance_power': 1.6373795185568174}. Best is trial 1 with value: 1465.7336346426086.\n",
            "[I 2025-04-26 03:20:50,353] Trial 11 finished with value: 1480.8935775825291 and parameters: {'n_estimators': 162, 'learning_rate': 0.006426701323946474, 'max_depth': 4, 'min_child_weight': 2.3744626309699917, 'subsample': 0.9487412431752379, 'colsample_bytree': 0.7708639081896218, 'reg_alpha': 4.566555417530766, 'reg_lambda': 0.34190645318091173, 'tweedie_variance_power': 1.6392820907578018}. Best is trial 1 with value: 1465.7336346426086.\n",
            "[I 2025-04-26 03:21:01,397] Trial 12 finished with value: 1467.0193213888429 and parameters: {'n_estimators': 359, 'learning_rate': 0.01381914457646922, 'max_depth': 4, 'min_child_weight': 6.2067508321608695, 'subsample': 0.9996749498929269, 'colsample_bytree': 0.7764031870892903, 'reg_alpha': 0.1627307756120615, 'reg_lambda': 1.8452267789056789, 'tweedie_variance_power': 1.6304718402385718}. Best is trial 1 with value: 1465.7336346426086.\n",
            "[I 2025-04-26 03:21:06,428] Trial 13 finished with value: 1471.9526796702712 and parameters: {'n_estimators': 193, 'learning_rate': 0.005117108655250809, 'max_depth': 4, 'min_child_weight': 2.8117719419072937, 'subsample': 0.9247288105092111, 'colsample_bytree': 0.8871526586377263, 'reg_alpha': 4.878162327949048, 'reg_lambda': 3.8440382498168963, 'tweedie_variance_power': 1.2687716146078403}. Best is trial 1 with value: 1465.7336346426086.\n",
            "[I 2025-04-26 03:21:08,773] Trial 14 finished with value: 1466.4426486703924 and parameters: {'n_estimators': 102, 'learning_rate': 0.09784669223589972, 'max_depth': 3, 'min_child_weight': 6.345288216820666, 'subsample': 0.8458466183193334, 'colsample_bytree': 0.789566294837291, 'reg_alpha': 4.053398950274788, 'reg_lambda': 0.8901602889024668, 'tweedie_variance_power': 1.578243706445231}. Best is trial 1 with value: 1465.7336346426086.\n",
            "[I 2025-04-26 03:21:15,911] Trial 15 finished with value: 1477.5125903664073 and parameters: {'n_estimators': 170, 'learning_rate': 0.014613659074813292, 'max_depth': 4, 'min_child_weight': 5.402252776218909, 'subsample': 0.8353638807291726, 'colsample_bytree': 0.7468476882224422, 'reg_alpha': 2.137717853070098, 'reg_lambda': 4.727778866840282, 'tweedie_variance_power': 1.7416984071684352}. Best is trial 1 with value: 1465.7336346426086.\n",
            "[I 2025-04-26 03:21:37,197] Trial 16 finished with value: 1474.0792832541233 and parameters: {'n_estimators': 498, 'learning_rate': 0.06409911669885011, 'max_depth': 7, 'min_child_weight': 7.08658576330531, 'subsample': 0.9356176599232735, 'colsample_bytree': 0.8901247729166055, 'reg_alpha': 4.183665445532596, 'reg_lambda': 1.6773719017192485, 'tweedie_variance_power': 1.3473169652795003}. Best is trial 1 with value: 1465.7336346426086.\n",
            "[I 2025-04-26 03:21:47,048] Trial 17 finished with value: 1465.9714582651843 and parameters: {'n_estimators': 312, 'learning_rate': 0.03267232664027737, 'max_depth': 4, 'min_child_weight': 9.944164481983064, 'subsample': 0.9658781944255758, 'colsample_bytree': 0.8062499161436384, 'reg_alpha': 2.1737846802166807, 'reg_lambda': 2.1777674293607694, 'tweedie_variance_power': 1.5476348995901457}. Best is trial 1 with value: 1465.7336346426086.\n",
            "[I 2025-04-26 03:22:01,076] Trial 18 finished with value: 1465.036780810469 and parameters: {'n_estimators': 394, 'learning_rate': 0.00922658352786974, 'max_depth': 5, 'min_child_weight': 1.3891611558589814, 'subsample': 0.9023943868269818, 'colsample_bytree': 0.8699435313280207, 'reg_alpha': 4.114776956199911, 'reg_lambda': 0.8730551280455598, 'tweedie_variance_power': 1.2579196247972968}. Best is trial 18 with value: 1465.036780810469.\n",
            "[I 2025-04-26 03:22:17,804] Trial 19 finished with value: 1466.4407304583274 and parameters: {'n_estimators': 416, 'learning_rate': 0.018538452113709684, 'max_depth': 6, 'min_child_weight': 1.489117926697122, 'subsample': 0.8921989585827822, 'colsample_bytree': 0.8774418631463424, 'reg_alpha': 4.930696738783494, 'reg_lambda': 0.8771379281903866, 'tweedie_variance_power': 1.3499041273838677}. Best is trial 18 with value: 1465.036780810469.\n",
            "[I 2025-04-26 03:22:27,437] Trial 20 finished with value: 1469.248069923105 and parameters: {'n_estimators': 244, 'learning_rate': 0.07026665123511175, 'max_depth': 5, 'min_child_weight': 2.409831746606585, 'subsample': 0.8233303956591275, 'colsample_bytree': 0.9197344243706778, 'reg_alpha': 4.329595201344109, 'reg_lambda': 0.6611405147167733, 'tweedie_variance_power': 1.517885467902591}. Best is trial 18 with value: 1465.036780810469.\n",
            "[I 2025-04-26 03:22:40,461] Trial 21 finished with value: 1465.1559487077038 and parameters: {'n_estimators': 363, 'learning_rate': 0.008131992536211755, 'max_depth': 5, 'min_child_weight': 3.3448953510590345, 'subsample': 0.9222195374505403, 'colsample_bytree': 0.8378462503678591, 'reg_alpha': 3.9120190643313353, 'reg_lambda': 1.4115329954002993, 'tweedie_variance_power': 1.2197735746471678}. Best is trial 18 with value: 1465.036780810469.\n",
            "[I 2025-04-26 03:22:54,158] Trial 22 finished with value: 1471.4380974304938 and parameters: {'n_estimators': 393, 'learning_rate': 0.010406231865275284, 'max_depth': 5, 'min_child_weight': 2.9680921322544025, 'subsample': 0.9724250583714974, 'colsample_bytree': 0.8545953898120685, 'reg_alpha': 3.367927785606245, 'reg_lambda': 2.22737653222191, 'tweedie_variance_power': 1.101066199768991}. Best is trial 18 with value: 1465.036780810469.\n",
            "[I 2025-04-26 03:23:09,112] Trial 23 finished with value: 1464.961285472372 and parameters: {'n_estimators': 446, 'learning_rate': 0.006608060127563637, 'max_depth': 5, 'min_child_weight': 1.0682791152505624, 'subsample': 0.8659915465157622, 'colsample_bytree': 0.745601066744246, 'reg_alpha': 4.258462857838453, 'reg_lambda': 0.5192582312470828, 'tweedie_variance_power': 1.213787244426902}. Best is trial 23 with value: 1464.961285472372.\n",
            "[I 2025-04-26 03:23:27,492] Trial 24 finished with value: 1465.392052918041 and parameters: {'n_estimators': 454, 'learning_rate': 0.005108317861997692, 'max_depth': 6, 'min_child_weight': 1.1456788873295727, 'subsample': 0.8687674265432801, 'colsample_bytree': 0.7458567157499736, 'reg_alpha': 3.9063827824776776, 'reg_lambda': 0.5349300492364834, 'tweedie_variance_power': 1.2098080619205946}. Best is trial 23 with value: 1464.961285472372.\n",
            "[I 2025-04-26 03:23:44,618] Trial 25 finished with value: 1465.3122961201284 and parameters: {'n_estimators': 488, 'learning_rate': 0.007147898226906626, 'max_depth': 5, 'min_child_weight': 1.7669818860091093, 'subsample': 0.8651900019438603, 'colsample_bytree': 0.9198310323306111, 'reg_alpha': 3.1292020041433504, 'reg_lambda': 0.20619100417729275, 'tweedie_variance_power': 1.1893122394922655}. Best is trial 23 with value: 1464.961285472372.\n",
            "[I 2025-04-26 03:24:03,581] Trial 26 finished with value: 1465.4356157681425 and parameters: {'n_estimators': 386, 'learning_rate': 0.010264748048323781, 'max_depth': 6, 'min_child_weight': 2.0542114324051717, 'subsample': 0.8157126560006418, 'colsample_bytree': 0.8071179960097266, 'reg_alpha': 4.503799031186155, 'reg_lambda': 1.0856350920740254, 'tweedie_variance_power': 1.2893971176364025}. Best is trial 23 with value: 1464.961285472372.\n",
            "[I 2025-04-26 03:24:18,783] Trial 27 finished with value: 1466.1165078433983 and parameters: {'n_estimators': 436, 'learning_rate': 0.006398355735753183, 'max_depth': 5, 'min_child_weight': 3.412644661534689, 'subsample': 0.8966645193861209, 'colsample_bytree': 0.8708714227189736, 'reg_alpha': 3.3087067059134014, 'reg_lambda': 0.03852367367869158, 'tweedie_variance_power': 1.355433976457988}. Best is trial 23 with value: 1464.961285472372.\n",
            "[I 2025-04-26 03:24:30,516] Trial 28 finished with value: 1465.2529180162478 and parameters: {'n_estimators': 339, 'learning_rate': 0.018280831546394642, 'max_depth': 5, 'min_child_weight': 1.8426217821481634, 'subsample': 0.9346250825373795, 'colsample_bytree': 0.7427659566117086, 'reg_alpha': 0.0037485524320803876, 'reg_lambda': 0.6331095574881266, 'tweedie_variance_power': 1.1099664520480108}. Best is trial 23 with value: 1464.961285472372.\n",
            "[I 2025-04-26 03:24:48,342] Trial 29 finished with value: 1465.4670872399088 and parameters: {'n_estimators': 465, 'learning_rate': 0.011207106763777355, 'max_depth': 6, 'min_child_weight': 1.0919422250760589, 'subsample': 0.8671940940574591, 'colsample_bytree': 0.7213646578729541, 'reg_alpha': 2.696100780801787, 'reg_lambda': 1.4492512878768922, 'tweedie_variance_power': 1.173418449417713}. Best is trial 23 with value: 1464.961285472372.\n",
            "[I 2025-04-26 03:25:00,613] Trial 30 finished with value: 1465.8471141010027 and parameters: {'n_estimators': 412, 'learning_rate': 0.009075957217932633, 'max_depth': 4, 'min_child_weight': 3.835205515443178, 'subsample': 0.9176009227353004, 'colsample_bytree': 0.9022908995305502, 'reg_alpha': 2.4113888408551984, 'reg_lambda': 3.1112003033438294, 'tweedie_variance_power': 1.2395825793389479}. Best is trial 23 with value: 1464.961285472372.\n",
            "[I 2025-04-26 03:25:12,854] Trial 31 finished with value: 1465.4806052910803 and parameters: {'n_estimators': 345, 'learning_rate': 0.017330847956162028, 'max_depth': 5, 'min_child_weight': 1.7789748272386976, 'subsample': 0.931862801802135, 'colsample_bytree': 0.7483895311236556, 'reg_alpha': 1.171447508844433, 'reg_lambda': 0.7038541687435718, 'tweedie_variance_power': 1.10701444451906}. Best is trial 23 with value: 1464.961285472372.\n",
            "[I 2025-04-26 03:25:21,768] Trial 32 finished with value: 1465.0906280691866 and parameters: {'n_estimators': 333, 'learning_rate': 0.017493507953651278, 'max_depth': 5, 'min_child_weight': 2.678582837894666, 'subsample': 0.9446427903883876, 'colsample_bytree': 0.7317190982348064, 'reg_alpha': 0.43908818848058645, 'reg_lambda': 0.4799783259958313, 'tweedie_variance_power': 1.1377783485242947}. Best is trial 23 with value: 1464.961285472372.\n",
            "[I 2025-04-26 03:25:34,742] Trial 33 finished with value: 1465.2214548392494 and parameters: {'n_estimators': 376, 'learning_rate': 0.008174081627466042, 'max_depth': 5, 'min_child_weight': 2.9433527335138656, 'subsample': 0.8836469529046979, 'colsample_bytree': 0.7023262394689502, 'reg_alpha': 0.6230397232053835, 'reg_lambda': 0.4389904978631758, 'tweedie_variance_power': 1.165368947248249}. Best is trial 23 with value: 1464.961285472372.\n",
            "[I 2025-04-26 03:25:45,642] Trial 34 finished with value: 1472.57311016822 and parameters: {'n_estimators': 287, 'learning_rate': 0.005877586411899937, 'max_depth': 5, 'min_child_weight': 2.5691395688818384, 'subsample': 0.9502040181818519, 'colsample_bytree': 0.7250897298510793, 'reg_alpha': 1.7561527314225907, 'reg_lambda': 1.0350921801324935, 'tweedie_variance_power': 1.40686586178655}. Best is trial 23 with value: 1464.961285472372.\n",
            "[I 2025-04-26 03:25:57,479] Trial 35 finished with value: 1465.660230676932 and parameters: {'n_estimators': 324, 'learning_rate': 0.007399175537467857, 'max_depth': 5, 'min_child_weight': 3.241190531584402, 'subsample': 0.9042747064954366, 'colsample_bytree': 0.7915040350078667, 'reg_alpha': 4.037242449498202, 'reg_lambda': 1.2912266428789987, 'tweedie_variance_power': 1.255195313096046}. Best is trial 23 with value: 1464.961285472372.\n",
            "[I 2025-04-26 03:26:13,824] Trial 36 finished with value: 1465.125231434511 and parameters: {'n_estimators': 403, 'learning_rate': 0.009374069749137785, 'max_depth': 6, 'min_child_weight': 3.957810073310266, 'subsample': 0.9496127935243794, 'colsample_bytree': 0.7683412728225204, 'reg_alpha': 0.5473347691748243, 'reg_lambda': 0.013995312733366794, 'tweedie_variance_power': 1.147158943712282}. Best is trial 23 with value: 1464.961285472372.\n",
            "[I 2025-04-26 03:26:36,299] Trial 37 finished with value: 1466.4452882149376 and parameters: {'n_estimators': 407, 'learning_rate': 0.012313093885048585, 'max_depth': 7, 'min_child_weight': 4.38221364200589, 'subsample': 0.9876313174868055, 'colsample_bytree': 0.7714636701334234, 'reg_alpha': 0.7532001268770214, 'reg_lambda': 0.0397884475656526, 'tweedie_variance_power': 1.301992202554994}. Best is trial 23 with value: 1464.961285472372.\n",
            "[I 2025-04-26 03:26:53,430] Trial 38 finished with value: 1465.3171663043333 and parameters: {'n_estimators': 439, 'learning_rate': 0.009492832184741064, 'max_depth': 6, 'min_child_weight': 3.9071242642600312, 'subsample': 0.9522718805719086, 'colsample_bytree': 0.7313470988888766, 'reg_alpha': 0.4489385814344372, 'reg_lambda': 0.36344083275694594, 'tweedie_variance_power': 1.1507794075224902}. Best is trial 23 with value: 1464.961285472372.\n",
            "[I 2025-04-26 03:27:06,055] Trial 39 finished with value: 1466.5498914307766 and parameters: {'n_estimators': 294, 'learning_rate': 0.026450774353826315, 'max_depth': 6, 'min_child_weight': 1.0166871776131936, 'subsample': 0.8537690568531893, 'colsample_bytree': 0.756256825332438, 'reg_alpha': 1.1164364019328166, 'reg_lambda': 0.8198649862176604, 'tweedie_variance_power': 1.1434079637525716}. Best is trial 23 with value: 1464.961285472372.\n",
            "[I 2025-04-26 03:27:30,987] Trial 40 finished with value: 1468.2211361277782 and parameters: {'n_estimators': 459, 'learning_rate': 0.015592874673718796, 'max_depth': 7, 'min_child_weight': 2.1997473548982214, 'subsample': 0.7437687082578832, 'colsample_bytree': 0.8166457450490434, 'reg_alpha': 1.7517038347686047, 'reg_lambda': 0.32965220200080614, 'tweedie_variance_power': 1.3937261376706356}. Best is trial 23 with value: 1464.961285472372.\n",
            "[I 2025-04-26 03:27:40,833] Trial 41 finished with value: 1466.545509375629 and parameters: {'n_estimators': 360, 'learning_rate': 0.021298881864791907, 'max_depth': 5, 'min_child_weight': 1.6210760550996817, 'subsample': 0.9189364274600939, 'colsample_bytree': 0.8418835916282451, 'reg_alpha': 0.8214507011257552, 'reg_lambda': 0.5377628442791199, 'tweedie_variance_power': 1.2060168387374375}. Best is trial 23 with value: 1464.961285472372.\n",
            "[I 2025-04-26 03:27:54,122] Trial 42 finished with value: 1465.2932004968175 and parameters: {'n_estimators': 378, 'learning_rate': 0.011996495817953395, 'max_depth': 5, 'min_child_weight': 3.5599254167610432, 'subsample': 0.8804352397406565, 'colsample_bytree': 0.7625255589856966, 'reg_alpha': 0.38864122406378115, 'reg_lambda': 1.3623854050294195, 'tweedie_variance_power': 1.2185333225331265}. Best is trial 23 with value: 1464.961285472372.\n",
            "[I 2025-04-26 03:28:13,320] Trial 43 finished with value: 1465.3862263137403 and parameters: {'n_estimators': 408, 'learning_rate': 0.008665813542404038, 'max_depth': 6, 'min_child_weight': 4.3851555368797275, 'subsample': 0.9417127842956253, 'colsample_bytree': 0.7084636056433984, 'reg_alpha': 3.8110159690883445, 'reg_lambda': 1.0067013913493583, 'tweedie_variance_power': 1.2563837974281176}. Best is trial 23 with value: 1464.961285472372.\n",
            "[I 2025-04-26 03:28:22,290] Trial 44 finished with value: 1467.0055986071936 and parameters: {'n_estimators': 314, 'learning_rate': 0.007011886963563619, 'max_depth': 5, 'min_child_weight': 2.6330801320711594, 'subsample': 0.976341564773675, 'colsample_bytree': 0.7889402968813681, 'reg_alpha': 4.339912082837173, 'reg_lambda': 0.019556651084945476, 'tweedie_variance_power': 1.3266208490805786}. Best is trial 23 with value: 1464.961285472372.\n",
            "[I 2025-04-26 03:28:35,240] Trial 45 finished with value: 1465.9436241491483 and parameters: {'n_estimators': 267, 'learning_rate': 0.005928053332562431, 'max_depth': 6, 'min_child_weight': 3.2299515803703045, 'subsample': 0.9034723789797717, 'colsample_bytree': 0.9453210854028629, 'reg_alpha': 3.53504015479002, 'reg_lambda': 1.5581698530334023, 'tweedie_variance_power': 1.1855222899771518}. Best is trial 23 with value: 1464.961285472372.\n",
            "[I 2025-04-26 03:28:48,275] Trial 46 finished with value: 1468.7852401256173 and parameters: {'n_estimators': 476, 'learning_rate': 0.03463188267083643, 'max_depth': 4, 'min_child_weight': 5.214062059096931, 'subsample': 0.9615571026477487, 'colsample_bytree': 0.8678239138977633, 'reg_alpha': 4.721454379998549, 'reg_lambda': 1.9687598489846883, 'tweedie_variance_power': 1.139427691544657}. Best is trial 23 with value: 1464.961285472372.\n",
            "[I 2025-04-26 03:28:59,658] Trial 47 finished with value: 1465.6761074185017 and parameters: {'n_estimators': 361, 'learning_rate': 0.00987498851791923, 'max_depth': 4, 'min_child_weight': 2.191949301284783, 'subsample': 0.9240715053915346, 'colsample_bytree': 0.8396672665847064, 'reg_alpha': 1.37648885133655, 'reg_lambda': 2.9856318470050773, 'tweedie_variance_power': 1.2273377422413874}. Best is trial 23 with value: 1464.961285472372.\n",
            "[I 2025-04-26 03:29:14,377] Trial 48 finished with value: 1465.0464341204345 and parameters: {'n_estimators': 430, 'learning_rate': 0.007362012618239975, 'max_depth': 5, 'min_child_weight': 1.3478508580051005, 'subsample': 0.995122009520451, 'colsample_bytree': 0.8237392633787454, 'reg_alpha': 0.8710053125328345, 'reg_lambda': 0.2667710911002929, 'tweedie_variance_power': 1.2787219333389348}. Best is trial 23 with value: 1464.961285472372.\n",
            "[I 2025-04-26 03:29:30,141] Trial 49 finished with value: 1469.3021203312621 and parameters: {'n_estimators': 442, 'learning_rate': 0.005785911674941939, 'max_depth': 5, 'min_child_weight': 1.3789207636554563, 'subsample': 0.9981120276817981, 'colsample_bytree': 0.8168872850146681, 'reg_alpha': 0.9580532583204242, 'reg_lambda': 0.2803127725699047, 'tweedie_variance_power': 1.4722405593462211}. Best is trial 23 with value: 1464.961285472372.\n"
          ]
        },
        {
          "output_type": "stream",
          "name": "stdout",
          "text": [
            "✅ Best RMSE for HALC: 1464.96\n",
            "🎯 Best Params for HALC: {'n_estimators': 446, 'learning_rate': 0.006608060127563637, 'max_depth': 5, 'min_child_weight': 1.0682791152505624, 'subsample': 0.8659915465157622, 'colsample_bytree': 0.745601066744246, 'reg_alpha': 4.258462857838453, 'reg_lambda': 0.5192582312470828, 'tweedie_variance_power': 1.213787244426902}\n"
          ]
        }
      ]
    },
    {
      "cell_type": "code",
      "source": [
        "print(scores)"
      ],
      "metadata": {
        "colab": {
          "base_uri": "https://localhost:8080/"
        },
        "id": "aLC32gtYg0q7",
        "outputId": "141d379e-9a20-430b-de32-109ac541ba37"
      },
      "execution_count": 17,
      "outputs": [
        {
          "output_type": "stream",
          "name": "stdout",
          "text": [
            "[ -849.21174071 -2296.56795941 -1535.80196299]\n"
          ]
        }
      ]
    },
    {
      "cell_type": "code",
      "source": [
        "scores = []\n",
        "for train_idx, val_idx in strat_kf.split(X_encoded, combined_bins):\n",
        "  print(train_idx)\n",
        "  print(val_idx)\n",
        "  X_tr, X_val = X_selected.iloc[train_idx], X_selected.iloc[val_idx]\n",
        "  y_tr, y_val = y_halc.iloc[train_idx], y_halc.iloc[val_idx]\n",
        "\n",
        "  model = XGBRegressor(objective='reg:tweedie', random_state=42, **study_halc.best_params)\n",
        "  model.fit(X_tr, y_tr)\n",
        "  preds = model.predict(X_val)\n",
        "  rmse = np.sqrt(mean_squared_error(y_val, preds))\n",
        "  scores.append(rmse)\n",
        "  print(rmse)\n",
        "scores"
      ],
      "metadata": {
        "colab": {
          "base_uri": "https://localhost:8080/"
        },
        "id": "8TjR0bpEj59L",
        "outputId": "4c9bfb2d-f93e-4c72-afd0-bd138a467d1b"
      },
      "execution_count": 18,
      "outputs": [
        {
          "output_type": "stream",
          "name": "stdout",
          "text": [
            "[    1     2     3 ... 37446 37448 37450]\n",
            "[    0     4     5 ... 37442 37447 37449]\n",
            "861.6821867135326\n",
            "[    0     1     3 ... 37447 37449 37450]\n",
            "[    2     6     9 ... 37419 37423 37448]\n",
            "2892.215335830521\n",
            "[    0     2     3 ... 37447 37448 37449]\n",
            "[    1     7    18 ... 37444 37446 37450]\n",
            "821.6594189579142\n",
            "[    0     1     2 ... 37448 37449 37450]\n",
            "[    3     8    12 ... 37433 37434 37436]\n",
            "1093.818651119484\n",
            "[    0     1     2 ... 37448 37449 37450]\n",
            "[   10    11    21 ... 37424 37427 37445]\n",
            "1655.430834740408\n"
          ]
        },
        {
          "output_type": "execute_result",
          "data": {
            "text/plain": [
              "[np.float64(861.6821867135326),\n",
              " np.float64(2892.215335830521),\n",
              " np.float64(821.6594189579142),\n",
              " np.float64(1093.818651119484),\n",
              " np.float64(1655.430834740408)]"
            ]
          },
          "metadata": {},
          "execution_count": 18
        }
      ]
    },
    {
      "cell_type": "markdown",
      "source": [
        "##CS Pred"
      ],
      "metadata": {
        "id": "atppw73LBdkz"
      }
    },
    {
      "cell_type": "code",
      "source": [
        "y_claim = df['Claim_Status']"
      ],
      "metadata": {
        "id": "ZZhCZyh9qTz4"
      },
      "execution_count": 19,
      "outputs": []
    },
    {
      "cell_type": "code",
      "source": [
        "from xgboost import XGBClassifier\n",
        "from sklearn.model_selection import StratifiedKFold\n",
        "import pandas as pd\n",
        "import matplotlib.pyplot as plt\n",
        "\n",
        "# Stratified K-Fold for Claim Status\n",
        "strat_kf = StratifiedKFold(n_splits=5, shuffle=True, random_state=42)\n",
        "feature_scores_claim = pd.DataFrame(index=X_encoded.columns)\n",
        "\n",
        "for fold, (train_idx, _) in enumerate(strat_kf.split(X_encoded, y_claim)):\n",
        "    X_fold_train = X_encoded.iloc[train_idx]\n",
        "    y_fold_claim = y_claim.iloc[train_idx]\n",
        "\n",
        "    xgbc = XGBClassifier(objective='binary:logistic', n_estimators=300, random_state=42, eval_metric='logloss')\n",
        "    xgbc.fit(X_fold_train, y_fold_claim)\n",
        "\n",
        "    fold_importance = pd.Series(xgbc.feature_importances_, index=X_encoded.columns, name=f'fold_{fold+1}')\n",
        "    feature_scores_claim = pd.concat([feature_scores_claim, fold_importance], axis=1)\n",
        "\n",
        "feature_scores_claim['mean_importance'] = feature_scores_claim.mean(axis=1)\n",
        "sorted_features_claim = feature_scores_claim['mean_importance'].sort_values(ascending=False)"
      ],
      "metadata": {
        "id": "WhabIS_1C9kA"
      },
      "execution_count": 20,
      "outputs": []
    },
    {
      "cell_type": "code",
      "source": [
        "from sklearn.model_selection import cross_val_score\n",
        "\n",
        "auc_list = []\n",
        "feature_counts = list(range(5, 41, 5))\n",
        "\n",
        "for n in feature_counts:\n",
        "    top_n_features_claim = sorted_features_claim.head(n).index.tolist()\n",
        "    xgbc = XGBClassifier(objective='binary:logistic', n_estimators=300, random_state=42, eval_metric='logloss')\n",
        "\n",
        "    scores = cross_val_score(\n",
        "        xgbc,\n",
        "        X_encoded[top_n_features_claim],\n",
        "        y_claim,\n",
        "        scoring='roc_auc',\n",
        "        cv=StratifiedKFold(n_splits=5, shuffle=True, random_state=42),\n",
        "        n_jobs=-1\n",
        "    )\n",
        "    auc_list.append(np.mean(scores))\n",
        "\n",
        "plt.plot(feature_counts, auc_list, marker='o')\n",
        "plt.xlabel(\"Number of Top Features\")\n",
        "plt.ylabel(\"Stratified CV AUC\")\n",
        "plt.title(\"📈 AUC vs. Number of Top XGBClassifier Features (Claim Status)\")\n",
        "plt.grid(True)\n",
        "plt.show()"
      ],
      "metadata": {
        "colab": {
          "base_uri": "https://localhost:8080/",
          "height": 528
        },
        "id": "jA-SXHelJzi8",
        "outputId": "53e4d0e3-2841-49df-936d-9ea23f382ca1"
      },
      "execution_count": 21,
      "outputs": [
        {
          "output_type": "stream",
          "name": "stderr",
          "text": [
            "/usr/local/lib/python3.11/dist-packages/IPython/core/pylabtools.py:151: UserWarning: Glyph 128200 (\\N{CHART WITH UPWARDS TREND}) missing from font(s) DejaVu Sans.\n",
            "  fig.canvas.print_figure(bytes_io, **kw)\n"
          ]
        },
        {
          "output_type": "display_data",
          "data": {
            "text/plain": [
              "<Figure size 640x480 with 1 Axes>"
            ],
            "image/png": "[encoded data removed]"
          },
          "metadata": {}
        }
      ]
    },
    {
      "cell_type": "code",
      "source": [
        "import optuna\n",
        "from sklearn.metrics import roc_auc_score\n",
        "\n",
        "top_features_claim = sorted_features_claim.head(20).index.tolist()\n",
        "X_selected_claim = X_encoded[top_features_claim]\n",
        "\n",
        "def objective_claim(trial):\n",
        "    params = {\n",
        "        \"n_estimators\": trial.suggest_int(\"n_estimators\", 100, 500),\n",
        "        \"learning_rate\": trial.suggest_float(\"learning_rate\", 0.005, 0.2, log=True),\n",
        "        \"max_depth\": trial.suggest_int(\"max_depth\", 3, 7),\n",
        "        \"min_child_weight\": trial.suggest_float(\"min_child_weight\", 1, 10),\n",
        "        \"subsample\": trial.suggest_float(\"subsample\", 0.7, 1.0),\n",
        "        \"colsample_bytree\": trial.suggest_float(\"colsample_bytree\", 0.7, 1.0),\n",
        "        \"reg_alpha\": trial.suggest_float(\"reg_alpha\", 0, 5),\n",
        "        \"reg_lambda\": trial.suggest_float(\"reg_lambda\", 0, 5),\n",
        "    }\n",
        "\n",
        "    strat_kf = StratifiedKFold(n_splits=5, shuffle=True, random_state=42)\n",
        "    scores = []\n",
        "\n",
        "    for train_idx, val_idx in strat_kf.split(X_selected_claim, y_claim):\n",
        "        X_tr, X_val = X_selected_claim.iloc[train_idx], X_selected_claim.iloc[val_idx]\n",
        "        y_tr, y_val = y_claim.iloc[train_idx], y_claim.iloc[val_idx]\n",
        "\n",
        "        model = XGBClassifier(objective='binary:logistic', eval_metric='logloss', random_state=42, **params)\n",
        "        model.fit(X_tr, y_tr)\n",
        "        preds = model.predict_proba(X_val)[:, 1]  # probability for positive class\n",
        "\n",
        "        auc = roc_auc_score(y_val, preds)\n",
        "        scores.append(auc)\n",
        "\n",
        "    return -np.mean(scores)  # Negative because Optuna minimizes\n",
        "\n",
        "print(\"\\n🔍 Tuning XGBClassifier for Claim Status...\")\n",
        "study_claim = optuna.create_study(direction='minimize')\n",
        "study_claim.optimize(objective_claim, n_trials=50, timeout=900)\n",
        "\n",
        "print(f\"✅ Best (negative AUC) for Claim Status: {study_claim.best_value:.4f}\")\n",
        "print(\"🎯 Best Parameters for Claim Status:\", study_claim.best_params)"
      ],
      "metadata": {
        "colab": {
          "base_uri": "https://localhost:8080/"
        },
        "id": "I7qRCwphJ3jt",
        "outputId": "959ccdf9-fcd0-483b-f13e-cadf0e9724e4"
      },
      "execution_count": 22,
      "outputs": [
        {
          "output_type": "stream",
          "name": "stderr",
          "text": [
            "[I 2025-04-26 03:36:30,073] A new study created in memory with name: no-name-6191467c-b18d-4cbe-a426-9df47eafcaa4\n"
          ]
        },
        {
          "output_type": "stream",
          "name": "stdout",
          "text": [
            "\n",
            "🔍 Tuning XGBClassifier for Claim Status...\n"
          ]
        },
        {
          "output_type": "stream",
          "name": "stderr",
          "text": [
            "[I 2025-04-26 03:36:51,213] Trial 0 finished with value: -0.776524985709471 and parameters: {'n_estimators': 276, 'learning_rate': 0.18819265807299498, 'max_depth': 7, 'min_child_weight': 9.205681616280401, 'subsample': 0.7762240055802966, 'colsample_bytree': 0.9312309058419506, 'reg_alpha': 1.8501705560946076, 'reg_lambda': 1.074004491620768}. Best is trial 0 with value: -0.776524985709471.\n",
            "[I 2025-04-26 03:37:00,047] Trial 1 finished with value: -0.8042123273070818 and parameters: {'n_estimators': 472, 'learning_rate': 0.11678139846787221, 'max_depth': 3, 'min_child_weight': 1.5279278864546586, 'subsample': 0.8836014277575238, 'colsample_bytree': 0.963865087881365, 'reg_alpha': 3.1746236947409545, 'reg_lambda': 3.053424345056419}. Best is trial 1 with value: -0.8042123273070818.\n",
            "[I 2025-04-26 03:37:02,997] Trial 2 finished with value: -0.8040588664868601 and parameters: {'n_estimators': 115, 'learning_rate': 0.009651612957843685, 'max_depth': 6, 'min_child_weight': 2.5294499209572905, 'subsample': 0.8497521134483763, 'colsample_bytree': 0.7246906089167263, 'reg_alpha': 3.288469130599206, 'reg_lambda': 0.5503255284872866}. Best is trial 1 with value: -0.8042123273070818.\n",
            "[I 2025-04-26 03:37:13,777] Trial 3 finished with value: -0.7912069533541197 and parameters: {'n_estimators': 393, 'learning_rate': 0.10798430653675306, 'max_depth': 6, 'min_child_weight': 4.4481981533625525, 'subsample': 0.8451493896607105, 'colsample_bytree': 0.8501444364508856, 'reg_alpha': 0.7006159554987695, 'reg_lambda': 3.327455287519612}. Best is trial 1 with value: -0.8042123273070818.\n",
            "[I 2025-04-26 03:37:25,986] Trial 4 finished with value: -0.8053705188595146 and parameters: {'n_estimators': 358, 'learning_rate': 0.03368676644305461, 'max_depth': 7, 'min_child_weight': 3.465138324973158, 'subsample': 0.8292390398500061, 'colsample_bytree': 0.8338721498705447, 'reg_alpha': 4.464983042453726, 'reg_lambda': 1.8532683867848743}. Best is trial 4 with value: -0.8053705188595146.\n",
            "[I 2025-04-26 03:37:30,491] Trial 5 finished with value: -0.80273189408799 and parameters: {'n_estimators': 367, 'learning_rate': 0.16412717471657393, 'max_depth': 3, 'min_child_weight': 3.5831789303592663, 'subsample': 0.931405223422495, 'colsample_bytree': 0.9027857094717806, 'reg_alpha': 2.523390423749338, 'reg_lambda': 0.42440061664444473}. Best is trial 4 with value: -0.8053705188595146.\n",
            "[I 2025-04-26 03:37:32,308] Trial 6 finished with value: -0.8018505271397272 and parameters: {'n_estimators': 113, 'learning_rate': 0.038105289361815724, 'max_depth': 3, 'min_child_weight': 6.758061865838872, 'subsample': 0.874153801604409, 'colsample_bytree': 0.9157943527751526, 'reg_alpha': 1.971280601970136, 'reg_lambda': 4.165476413261534}. Best is trial 4 with value: -0.8053705188595146.\n",
            "[I 2025-04-26 03:37:39,843] Trial 7 finished with value: -0.8059326955592887 and parameters: {'n_estimators': 323, 'learning_rate': 0.09341266918657128, 'max_depth': 4, 'min_child_weight': 8.374473409566537, 'subsample': 0.9707397490527645, 'colsample_bytree': 0.9959957588323402, 'reg_alpha': 3.1865770293489515, 'reg_lambda': 4.551147636216044}. Best is trial 7 with value: -0.8059326955592887.\n",
            "[I 2025-04-26 03:37:43,239] Trial 8 finished with value: -0.8047375551359284 and parameters: {'n_estimators': 164, 'learning_rate': 0.011261862873140752, 'max_depth': 5, 'min_child_weight': 2.785721120390698, 'subsample': 0.7746704496232893, 'colsample_bytree': 0.7996746227210092, 'reg_alpha': 2.887983701737269, 'reg_lambda': 2.8177299585216984}. Best is trial 7 with value: -0.8059326955592887.\n",
            "[I 2025-04-26 03:37:53,499] Trial 9 finished with value: -0.8073293501191158 and parameters: {'n_estimators': 272, 'learning_rate': 0.017539543558461056, 'max_depth': 7, 'min_child_weight': 5.707610489541731, 'subsample': 0.8451495527032564, 'colsample_bytree': 0.9438962984524264, 'reg_alpha': 0.3404238066947407, 'reg_lambda': 0.33565189683864183}. Best is trial 9 with value: -0.8073293501191158.\n",
            "[I 2025-04-26 03:37:59,173] Trial 10 finished with value: -0.8058933338105188 and parameters: {'n_estimators': 243, 'learning_rate': 0.005272658546625902, 'max_depth': 6, 'min_child_weight': 6.228261446381169, 'subsample': 0.7471469674770523, 'colsample_bytree': 0.7055097247078883, 'reg_alpha': 0.1123538585882603, 'reg_lambda': 1.772941826770304}. Best is trial 9 with value: -0.8073293501191158.\n",
            "[I 2025-04-26 03:38:02,906] Trial 11 finished with value: -0.8079003549676422 and parameters: {'n_estimators': 229, 'learning_rate': 0.055978766381632794, 'max_depth': 4, 'min_child_weight': 8.305427344630434, 'subsample': 0.9978970288852921, 'colsample_bytree': 0.9981393474127046, 'reg_alpha': 4.499551485643338, 'reg_lambda': 4.931149440343299}. Best is trial 11 with value: -0.8079003549676422.\n",
            "[I 2025-04-26 03:38:09,413] Trial 12 finished with value: -0.8052674660002094 and parameters: {'n_estimators': 209, 'learning_rate': 0.01909452499575281, 'max_depth': 4, 'min_child_weight': 7.445328648273561, 'subsample': 0.995604720116235, 'colsample_bytree': 0.9890782943689849, 'reg_alpha': 4.275671990346066, 'reg_lambda': 3.8055286153167884}. Best is trial 11 with value: -0.8079003549676422.\n",
            "[I 2025-04-26 03:38:13,766] Trial 13 finished with value: -0.8080886160833531 and parameters: {'n_estimators': 214, 'learning_rate': 0.05296222958809161, 'max_depth': 5, 'min_child_weight': 9.85884097782649, 'subsample': 0.92689883735697, 'colsample_bytree': 0.9498292277789662, 'reg_alpha': 4.956903054593973, 'reg_lambda': 0.005360755944133877}. Best is trial 13 with value: -0.8080886160833531.\n",
            "[I 2025-04-26 03:38:21,283] Trial 14 finished with value: -0.80809299730769 and parameters: {'n_estimators': 200, 'learning_rate': 0.05840766938649599, 'max_depth': 5, 'min_child_weight': 9.191385154931915, 'subsample': 0.9307230530925683, 'colsample_bytree': 0.8678446005182431, 'reg_alpha': 4.950442764858473, 'reg_lambda': 4.889908146126938}. Best is trial 14 with value: -0.80809299730769.\n",
            "[I 2025-04-26 03:38:24,788] Trial 15 finished with value: -0.8080618890387932 and parameters: {'n_estimators': 180, 'learning_rate': 0.06821451134865288, 'max_depth': 5, 'min_child_weight': 9.766458455422823, 'subsample': 0.9205742386470124, 'colsample_bytree': 0.8760206188144147, 'reg_alpha': 4.995090629401637, 'reg_lambda': 1.9748597876398155}. Best is trial 14 with value: -0.80809299730769.\n",
            "[I 2025-04-26 03:38:27,928] Trial 16 finished with value: -0.8084645307305479 and parameters: {'n_estimators': 163, 'learning_rate': 0.06807549993486076, 'max_depth': 5, 'min_child_weight': 9.908328619014359, 'subsample': 0.9360646933079756, 'colsample_bytree': 0.7971991375441745, 'reg_alpha': 3.786538883728524, 'reg_lambda': 1.2235990229120213}. Best is trial 16 with value: -0.8084645307305479.\n",
            "[I 2025-04-26 03:38:31,505] Trial 17 finished with value: -0.8080552565091732 and parameters: {'n_estimators': 144, 'learning_rate': 0.06952886525103366, 'max_depth': 6, 'min_child_weight': 8.262955202488591, 'subsample': 0.9481206124392824, 'colsample_bytree': 0.7750996635729166, 'reg_alpha': 3.8260035484258403, 'reg_lambda': 1.2509656891438217}. Best is trial 16 with value: -0.8084645307305479.\n",
            "[I 2025-04-26 03:38:37,498] Trial 18 finished with value: -0.8077269004683861 and parameters: {'n_estimators': 179, 'learning_rate': 0.0432522265289941, 'max_depth': 4, 'min_child_weight': 7.379577028489339, 'subsample': 0.8937616702725879, 'colsample_bytree': 0.7698563861907818, 'reg_alpha': 3.789951125315032, 'reg_lambda': 2.434936753146187}. Best is trial 16 with value: -0.8084645307305479.\n",
            "[I 2025-04-26 03:38:43,578] Trial 19 finished with value: -0.8088350259049445 and parameters: {'n_estimators': 314, 'learning_rate': 0.0284572802483951, 'max_depth': 5, 'min_child_weight': 8.959841089199811, 'subsample': 0.7028171982581859, 'colsample_bytree': 0.831098502502261, 'reg_alpha': 3.8695001903627873, 'reg_lambda': 1.225769702754862}. Best is trial 19 with value: -0.8088350259049445.\n",
            "[I 2025-04-26 03:38:54,671] Trial 20 finished with value: -0.8080575000210075 and parameters: {'n_estimators': 439, 'learning_rate': 0.025781079330380825, 'max_depth': 5, 'min_child_weight': 5.208477861002431, 'subsample': 0.7211161775027115, 'colsample_bytree': 0.809481449054542, 'reg_alpha': 4.015466240246083, 'reg_lambda': 1.352745153389463}. Best is trial 19 with value: -0.8088350259049445.\n",
            "[I 2025-04-26 03:39:03,456] Trial 21 finished with value: -0.8088872379186197 and parameters: {'n_estimators': 312, 'learning_rate': 0.025719789718521142, 'max_depth': 5, 'min_child_weight': 9.057920616379207, 'subsample': 0.812406178964498, 'colsample_bytree': 0.8754839772033857, 'reg_alpha': 3.653624858583058, 'reg_lambda': 2.32432424925395}. Best is trial 21 with value: -0.8088872379186197.\n",
            "[I 2025-04-26 03:39:10,209] Trial 22 finished with value: -0.8087971431916454 and parameters: {'n_estimators': 317, 'learning_rate': 0.023785680501936548, 'max_depth': 6, 'min_child_weight': 8.993166083477346, 'subsample': 0.8038796755783958, 'colsample_bytree': 0.82373959342623, 'reg_alpha': 3.540575189920903, 'reg_lambda': 2.1141746806770225}. Best is trial 21 with value: -0.8088872379186197.\n",
            "[I 2025-04-26 03:39:20,001] Trial 23 finished with value: -0.8086764497088101 and parameters: {'n_estimators': 320, 'learning_rate': 0.023793797970825363, 'max_depth': 6, 'min_child_weight': 8.769536300996247, 'subsample': 0.804961779423682, 'colsample_bytree': 0.8886988813000015, 'reg_alpha': 2.604851630368735, 'reg_lambda': 2.420265774008759}. Best is trial 21 with value: -0.8088872379186197.\n",
            "[I 2025-04-26 03:39:26,716] Trial 24 finished with value: -0.8088457720040079 and parameters: {'n_estimators': 292, 'learning_rate': 0.015433651214182009, 'max_depth': 6, 'min_child_weight': 7.5969662074676965, 'subsample': 0.7023004619506661, 'colsample_bytree': 0.8290996483824042, 'reg_alpha': 3.3711916056301847, 'reg_lambda': 2.0235232692710188}. Best is trial 21 with value: -0.8088872379186197.\n",
            "[I 2025-04-26 03:39:35,287] Trial 25 finished with value: -0.8075791670710334 and parameters: {'n_estimators': 277, 'learning_rate': 0.012313499216861505, 'max_depth': 5, 'min_child_weight': 7.7582668362232425, 'subsample': 0.7013742206560207, 'colsample_bytree': 0.8553984879958745, 'reg_alpha': 2.274004831170898, 'reg_lambda': 0.8898425611153353}. Best is trial 21 with value: -0.8088872379186197.\n",
            "[I 2025-04-26 03:39:40,954] Trial 26 finished with value: -0.8075327247128822 and parameters: {'n_estimators': 359, 'learning_rate': 0.01513631118218363, 'max_depth': 4, 'min_child_weight': 7.4805045642841135, 'subsample': 0.737432675068603, 'colsample_bytree': 0.758594829037957, 'reg_alpha': 1.2637102406997816, 'reg_lambda': 2.855516634584289}. Best is trial 21 with value: -0.8088872379186197.\n",
            "[I 2025-04-26 03:39:52,834] Trial 27 finished with value: -0.808328235830106 and parameters: {'n_estimators': 403, 'learning_rate': 0.008534139526862607, 'max_depth': 6, 'min_child_weight': 6.7340651210685385, 'subsample': 0.7017537174532313, 'colsample_bytree': 0.8196302094525958, 'reg_alpha': 2.8317742284222156, 'reg_lambda': 1.535513311765314}. Best is trial 21 with value: -0.8088872379186197.\n",
            "[I 2025-04-26 03:40:00,825] Trial 28 finished with value: -0.8036859581080797 and parameters: {'n_estimators': 247, 'learning_rate': 0.006170473072563442, 'max_depth': 5, 'min_child_weight': 7.986592973841725, 'subsample': 0.7553934334012246, 'colsample_bytree': 0.8452458962316091, 'reg_alpha': 3.498108003987536, 'reg_lambda': 2.270689544225279}. Best is trial 21 with value: -0.8088872379186197.\n",
            "[I 2025-04-26 03:40:08,082] Trial 29 finished with value: -0.8077741848455388 and parameters: {'n_estimators': 289, 'learning_rate': 0.026812802628812218, 'max_depth': 7, 'min_child_weight': 9.275391717255404, 'subsample': 0.788486258950291, 'colsample_bytree': 0.9158217118527929, 'reg_alpha': 4.164751519802594, 'reg_lambda': 3.573503474323159}. Best is trial 21 with value: -0.8088872379186197.\n",
            "[I 2025-04-26 03:40:20,265] Trial 30 finished with value: -0.8084335507923216 and parameters: {'n_estimators': 337, 'learning_rate': 0.014637815473408465, 'max_depth': 7, 'min_child_weight': 6.891615336102252, 'subsample': 0.723018483798953, 'colsample_bytree': 0.8869949107316788, 'reg_alpha': 2.054366368341447, 'reg_lambda': 0.9194735891642879}. Best is trial 21 with value: -0.8088872379186197.\n",
            "[I 2025-04-26 03:40:29,645] Trial 31 finished with value: -0.8088889703282508 and parameters: {'n_estimators': 306, 'learning_rate': 0.020882475138295546, 'max_depth': 6, 'min_child_weight': 8.987060919356093, 'subsample': 0.8137884170206846, 'colsample_bytree': 0.8276996269842144, 'reg_alpha': 3.588590002168656, 'reg_lambda': 2.1005322024769555}. Best is trial 31 with value: -0.8088889703282508.\n",
            "[I 2025-04-26 03:40:36,019] Trial 32 finished with value: -0.8089661704024934 and parameters: {'n_estimators': 296, 'learning_rate': 0.020939291970426606, 'max_depth': 6, 'min_child_weight': 8.650929734847127, 'subsample': 0.7677364817129396, 'colsample_bytree': 0.7879732706353227, 'reg_alpha': 2.926301587044826, 'reg_lambda': 1.6174418728127835}. Best is trial 32 with value: -0.8089661704024934.\n",
            "[I 2025-04-26 03:40:45,232] Trial 33 finished with value: -0.8084988300030709 and parameters: {'n_estimators': 267, 'learning_rate': 0.019113354362989932, 'max_depth': 6, 'min_child_weight': 1.0215028555829324, 'subsample': 0.8176353690934692, 'colsample_bytree': 0.7824901988822419, 'reg_alpha': 3.020319998820723, 'reg_lambda': 2.6783565875473307}. Best is trial 32 with value: -0.8089661704024934.\n",
            "[I 2025-04-26 03:40:54,977] Trial 34 finished with value: -0.807651739795992 and parameters: {'n_estimators': 304, 'learning_rate': 0.00841472403661957, 'max_depth': 6, 'min_child_weight': 8.72674788535708, 'subsample': 0.7768440509473747, 'colsample_bytree': 0.7530178874508638, 'reg_alpha': 1.4172413599444709, 'reg_lambda': 1.6683921926434135}. Best is trial 32 with value: -0.8089661704024934.\n",
            "[I 2025-04-26 03:41:02,947] Trial 35 finished with value: -0.807325222094784 and parameters: {'n_estimators': 385, 'learning_rate': 0.033153267113741086, 'max_depth': 6, 'min_child_weight': 9.610131436860545, 'subsample': 0.7590883886313757, 'colsample_bytree': 0.7417473481609059, 'reg_alpha': 3.421068430428723, 'reg_lambda': 3.0536111149673446}. Best is trial 32 with value: -0.8089661704024934.\n",
            "[I 2025-04-26 03:41:14,212] Trial 36 finished with value: -0.8080789097348404 and parameters: {'n_estimators': 341, 'learning_rate': 0.020809114659386778, 'max_depth': 7, 'min_child_weight': 8.6277329919694, 'subsample': 0.826003436827223, 'colsample_bytree': 0.7920093088855822, 'reg_alpha': 2.7601396918782544, 'reg_lambda': 2.051306819523996}. Best is trial 32 with value: -0.8089661704024934.\n",
            "[I 2025-04-26 03:41:27,371] Trial 37 finished with value: -0.8089100936654979 and parameters: {'n_estimators': 488, 'learning_rate': 0.015473346941619653, 'max_depth': 6, 'min_child_weight': 9.388505094105959, 'subsample': 0.796098714977399, 'colsample_bytree': 0.8522505324630132, 'reg_alpha': 3.1834412528813125, 'reg_lambda': 3.2250274245745993}. Best is trial 32 with value: -0.8089661704024934.\n",
            "[I 2025-04-26 03:41:40,971] Trial 38 finished with value: -0.8091234182292423 and parameters: {'n_estimators': 499, 'learning_rate': 0.011929630568164026, 'max_depth': 6, 'min_child_weight': 9.451080329831608, 'subsample': 0.8583618783789972, 'colsample_bytree': 0.8590909785378026, 'reg_alpha': 2.255215820260597, 'reg_lambda': 3.2852135236977515}. Best is trial 38 with value: -0.8091234182292423.\n",
            "[I 2025-04-26 03:41:55,813] Trial 39 finished with value: -0.8083726958875712 and parameters: {'n_estimators': 491, 'learning_rate': 0.012066247549091512, 'max_depth': 7, 'min_child_weight': 9.440995874750454, 'subsample': 0.8792355453881555, 'colsample_bytree': 0.8590646775014387, 'reg_alpha': 1.5027535362940472, 'reg_lambda': 3.2173186943115706}. Best is trial 38 with value: -0.8091234182292423.\n",
            "[I 2025-04-26 03:42:08,895] Trial 40 finished with value: -0.807892901187038 and parameters: {'n_estimators': 457, 'learning_rate': 0.007180056391493858, 'max_depth': 6, 'min_child_weight': 8.321425344950075, 'subsample': 0.8603569394625955, 'colsample_bytree': 0.8468572043220239, 'reg_alpha': 2.411818272371926, 'reg_lambda': 3.9571945582557246}. Best is trial 38 with value: -0.8091234182292423.\n",
            "[I 2025-04-26 03:42:21,051] Trial 41 finished with value: -0.8088474060594455 and parameters: {'n_estimators': 423, 'learning_rate': 0.01103219118565767, 'max_depth': 6, 'min_child_weight': 9.354908403876395, 'subsample': 0.7979739384219571, 'colsample_bytree': 0.8998664466967781, 'reg_alpha': 3.118606315678614, 'reg_lambda': 3.360367697025765}. Best is trial 38 with value: -0.8091234182292423.\n",
            "[I 2025-04-26 03:42:33,846] Trial 42 finished with value: -0.8037914902636967 and parameters: {'n_estimators': 497, 'learning_rate': 0.03969374815007473, 'max_depth': 6, 'min_child_weight': 9.964321068223704, 'subsample': 0.8299789943673764, 'colsample_bytree': 0.873064593851606, 'reg_alpha': 1.7573441604660158, 'reg_lambda': 2.7190169075306523}. Best is trial 38 with value: -0.8091234182292423.\n",
            "[I 2025-04-26 03:42:48,494] Trial 43 finished with value: -0.808230367333973 and parameters: {'n_estimators': 452, 'learning_rate': 0.01411401519551057, 'max_depth': 7, 'min_child_weight': 4.5219664226339, 'subsample': 0.7766223602338533, 'colsample_bytree': 0.811009730339216, 'reg_alpha': 2.1929733823758504, 'reg_lambda': 3.5372167296507855}. Best is trial 38 with value: -0.8091234182292423.\n",
            "[I 2025-04-26 03:43:01,232] Trial 44 finished with value: -0.8081546932518183 and parameters: {'n_estimators': 477, 'learning_rate': 0.021876550861264752, 'max_depth': 6, 'min_child_weight': 8.021290674177349, 'subsample': 0.8586440213399972, 'colsample_bytree': 0.843081175828693, 'reg_alpha': 3.1961174408796915, 'reg_lambda': 3.0613138719277755}. Best is trial 38 with value: -0.8091234182292423.\n",
            "[I 2025-04-26 03:43:10,417] Trial 45 finished with value: -0.8088333636581211 and parameters: {'n_estimators': 381, 'learning_rate': 0.01685837268868502, 'max_depth': 6, 'min_child_weight': 9.090642016373934, 'subsample': 0.8388400487840576, 'colsample_bytree': 0.9268334340539757, 'reg_alpha': 2.6202844322485, 'reg_lambda': 2.5660706693083704}. Best is trial 38 with value: -0.8091234182292423.\n",
            "[I 2025-04-26 03:43:20,601] Trial 46 finished with value: -0.8081025169835139 and parameters: {'n_estimators': 431, 'learning_rate': 0.010829840892078082, 'max_depth': 5, 'min_child_weight': 8.568771002060874, 'subsample': 0.8132826432367534, 'colsample_bytree': 0.8644040125045503, 'reg_alpha': 4.583626509568729, 'reg_lambda': 1.65508877864908}. Best is trial 38 with value: -0.8091234182292423.\n",
            "[I 2025-04-26 03:43:35,899] Trial 47 finished with value: -0.8026023371028806 and parameters: {'n_estimators': 470, 'learning_rate': 0.031708134675320125, 'max_depth': 7, 'min_child_weight': 2.229336839610056, 'subsample': 0.9055054685745466, 'colsample_bytree': 0.886579780288098, 'reg_alpha': 2.913150279039759, 'reg_lambda': 2.2457972812613005}. Best is trial 38 with value: -0.8091234182292423.\n",
            "[I 2025-04-26 03:43:46,459] Trial 48 finished with value: -0.8088915323265505 and parameters: {'n_estimators': 414, 'learning_rate': 0.017902509738440806, 'max_depth': 5, 'min_child_weight': 7.104401056134058, 'subsample': 0.7870430852050483, 'colsample_bytree': 0.8383852910410848, 'reg_alpha': 3.5829428537665367, 'reg_lambda': 4.353232266811893}. Best is trial 38 with value: -0.8091234182292423.\n",
            "[I 2025-04-26 03:43:54,188] Trial 49 finished with value: -0.803881010191175 and parameters: {'n_estimators': 406, 'learning_rate': 0.013180207654959555, 'max_depth': 3, 'min_child_weight': 6.373457657638126, 'subsample': 0.7913833962575453, 'colsample_bytree': 0.8380264543186736, 'reg_alpha': 3.280609300541865, 'reg_lambda': 4.40620599611104}. Best is trial 38 with value: -0.8091234182292423.\n"
          ]
        },
        {
          "output_type": "stream",
          "name": "stdout",
          "text": [
            "✅ Best (negative AUC) for Claim Status: -0.8091\n",
            "🎯 Best Parameters for Claim Status: {'n_estimators': 499, 'learning_rate': 0.011929630568164026, 'max_depth': 6, 'min_child_weight': 9.451080329831608, 'subsample': 0.8583618783789972, 'colsample_bytree': 0.8590909785378026, 'reg_alpha': 2.255215820260597, 'reg_lambda': 3.2852135236977515}\n"
          ]
        }
      ]
    },
    {
      "cell_type": "code",
      "source": [
        "sorted_features_claim.head(20)"
      ],
      "metadata": {
        "colab": {
          "base_uri": "https://localhost:8080/",
          "height": 711
        },
        "id": "-oXWHytRNnyS",
        "outputId": "f9664a87-c8e1-41ee-e713-e1ebf3e9d329"
      },
      "execution_count": 28,
      "outputs": [
        {
          "output_type": "execute_result",
          "data": {
            "text/plain": [
              "Non_Continuation_Insurance_Flag      0.245761\n",
              "Contract_Duration                    0.081343\n",
              "Policies_Terminated_Non_Payment      0.066344\n",
              "Time_Since_Last_Renewal              0.053786\n",
              "Half_Yearly_Payment_Method           0.040297\n",
              "Total_Policies_Entity                0.033438\n",
              "Years_Associates                     0.024836\n",
              "Max_Policy_Simultaneous_Force        0.021519\n",
              "Premium_Amt_Current_Yr               0.019599\n",
              "Multiple_Drivers_Regular_Flag        0.018523\n",
              "Cylinder_Capacity                    0.017997\n",
              "Customer_Loyalty                     0.017745\n",
              "Car_Age_Cat_Recent                   0.017663\n",
              "Motorbikes_Vans_Cars_Agricultural    0.017572\n",
              "Yr_Vehicle_Registration              0.017454\n",
              "Vehicle_Doors                        0.017159\n",
              "Rural_Urban_Flag                     0.016937\n",
              "Car_Age_Contract                     0.016771\n",
              "Energy_Source_P                      0.016757\n",
              "Age_at_license                       0.016733\n",
              "Name: mean_importance, dtype: float32"
            ],
            "text/html": [
              "<div>\n",
              "<style scoped>\n",
              "    .dataframe tbody tr th:only-of-type {\n",
              "        vertical-align: middle;\n",
              "    }\n",
              "\n",
              "    .dataframe tbody tr th {\n",
              "        vertical-align: top;\n",
              "    }\n",
              "\n",
              "    .dataframe thead th {\n",
              "        text-align: right;\n",
              "    }\n",
              "</style>\n",
              "<table border=\"1\" class=\"dataframe\">\n",
              "  <thead>\n",
              "    <tr style=\"text-align: right;\">\n",
              "      <th></th>\n",
              "      <th>mean_importance</th>\n",
              "    </tr>\n",
              "  </thead>\n",
              "  <tbody>\n",
              "    <tr>\n",
              "      <th>Non_Continuation_Insurance_Flag</th>\n",
              "      <td>0.245761</td>\n",
              "    </tr>\n",
              "    <tr>\n",
              "      <th>Contract_Duration</th>\n",
              "      <td>0.081343</td>\n",
              "    </tr>\n",
              "    <tr>\n",
              "      <th>Policies_Terminated_Non_Payment</th>\n",
              "      <td>0.066344</td>\n",
              "    </tr>\n",
              "    <tr>\n",
              "      <th>Time_Since_Last_Renewal</th>\n",
              "      <td>0.053786</td>\n",
              "    </tr>\n",
              "    <tr>\n",
              "      <th>Half_Yearly_Payment_Method</th>\n",
              "      <td>0.040297</td>\n",
              "    </tr>\n",
              "    <tr>\n",
              "      <th>Total_Policies_Entity</th>\n",
              "      <td>0.033438</td>\n",
              "    </tr>\n",
              "    <tr>\n",
              "      <th>Years_Associates</th>\n",
              "      <td>0.024836</td>\n",
              "    </tr>\n",
              "    <tr>\n",
              "      <th>Max_Policy_Simultaneous_Force</th>\n",
              "      <td>0.021519</td>\n",
              "    </tr>\n",
              "    <tr>\n",
              "      <th>Premium_Amt_Current_Yr</th>\n",
              "      <td>0.019599</td>\n",
              "    </tr>\n",
              "    <tr>\n",
              "      <th>Multiple_Drivers_Regular_Flag</th>\n",
              "      <td>0.018523</td>\n",
              "    </tr>\n",
              "    <tr>\n",
              "      <th>Cylinder_Capacity</th>\n",
              "      <td>0.017997</td>\n",
              "    </tr>\n",
              "    <tr>\n",
              "      <th>Customer_Loyalty</th>\n",
              "      <td>0.017745</td>\n",
              "    </tr>\n",
              "    <tr>\n",
              "      <th>Car_Age_Cat_Recent</th>\n",
              "      <td>0.017663</td>\n",
              "    </tr>\n",
              "    <tr>\n",
              "      <th>Motorbikes_Vans_Cars_Agricultural</th>\n",
              "      <td>0.017572</td>\n",
              "    </tr>\n",
              "    <tr>\n",
              "      <th>Yr_Vehicle_Registration</th>\n",
              "      <td>0.017454</td>\n",
              "    </tr>\n",
              "    <tr>\n",
              "      <th>Vehicle_Doors</th>\n",
              "      <td>0.017159</td>\n",
              "    </tr>\n",
              "    <tr>\n",
              "      <th>Rural_Urban_Flag</th>\n",
              "      <td>0.016937</td>\n",
              "    </tr>\n",
              "    <tr>\n",
              "      <th>Car_Age_Contract</th>\n",
              "      <td>0.016771</td>\n",
              "    </tr>\n",
              "    <tr>\n",
              "      <th>Energy_Source_P</th>\n",
              "      <td>0.016757</td>\n",
              "    </tr>\n",
              "    <tr>\n",
              "      <th>Age_at_license</th>\n",
              "      <td>0.016733</td>\n",
              "    </tr>\n",
              "  </tbody>\n",
              "</table>\n",
              "</div><br><label><b>dtype:</b> float32</label>"
            ]
          },
          "metadata": {},
          "execution_count": 28
        }
      ]
    },
    {
      "cell_type": "code",
      "source": [
        "# prompt: i want to git push this notebook\n",
        "\n",
        "# Assuming you have a Git repository initialized in your Google Drive.\n",
        "# Replace '/content/drive/MyDrive/your_repo' with the actual path to your repository.\n",
        "\n",
        "!cd https://github.com/vivan-doshi/Insurance_claims/tree/main/012_Models && git add .\n",
        "!cd https://github.com/vivan-doshi/Insurance_claims/tree/main/012_Models && git commit -m \"Commit message\"\n",
        "!cd https://github.com/vivan-doshi/Insurance_claims/tree/main/012_Models && git push origin main\n"
      ],
      "metadata": {
        "id": "SR_wsshqN0Vp"
      },
      "execution_count": null,
      "outputs": []
    },
    {
      "cell_type": "code",
      "source": [],
      "metadata": {
        "id": "o9pzKbJBKwV7"
      },
      "execution_count": null,
      "outputs": []
    }
  ]
}