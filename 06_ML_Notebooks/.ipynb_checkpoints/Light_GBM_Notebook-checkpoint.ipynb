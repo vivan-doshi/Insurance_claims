{
 "cells": [
  {
   "cell_type": "markdown",
   "metadata": {},
   "source": [
    "## Imports"
   ]
  },
  {
   "cell_type": "code",
   "execution_count": 8,
   "metadata": {},
   "outputs": [],
   "source": [
    "%matplotlib inline"
   ]
  },
  {
   "cell_type": "code",
   "execution_count": 9,
   "metadata": {},
   "outputs": [],
   "source": [
    "import os\n",
    "import pandas as pd\n",
    "import numpy as np\n",
    "import seaborn as sns\n",
    "import matplotlib.pyplot as plt\n",
    "import statsmodels.api as sm\n",
    "import statsmodels.formula.api as smf\n",
    "import lightgbm as lgb\n",
    "from sklearn.model_selection import GridSearchCV, train_test_split\n",
    "from sklearn.feature_selection import RFECV\n",
    "from lightgbm import LGBMRegressor, LGBMClassifier\n",
    "import optuna\n",
    "from sklearn.model_selection import StratifiedKFold\n",
    "from sklearn.metrics import roc_auc_score, mean_squared_error"
   ]
  },
  {
   "cell_type": "markdown",
   "metadata": {},
   "source": [
    "## Change file location to Data"
   ]
  },
  {
   "cell_type": "code",
   "execution_count": 10,
   "metadata": {},
   "outputs": [],
   "source": [
    "head, tail = os.path.split(os.getcwd())\n",
    "os.chdir(os.path.join(head,'01_Data'))"
   ]
  },
  {
   "cell_type": "code",
   "execution_count": 11,
   "metadata": {},
   "outputs": [
    {
     "data": {
      "text/plain": [
       "['insurance_train.csv',\n",
       " 'cleaned_test.csv',\n",
       " 'cleaned_data.parquet',\n",
       " 'cleaned_data.csv',\n",
       " 'cleaned_test.parquet',\n",
       " 'insurance_test.csv',\n",
       " 'cleaned_test.pkl',\n",
       " 'cleaned_data.pkl']"
      ]
     },
     "execution_count": 11,
     "metadata": {},
     "output_type": "execute_result"
    }
   ],
   "source": [
    "os.listdir()"
   ]
  },
  {
   "cell_type": "markdown",
   "metadata": {},
   "source": [
    "## Reading data"
   ]
  },
  {
   "cell_type": "code",
   "execution_count": 13,
   "metadata": {},
   "outputs": [
    {
     "data": {
      "text/html": [
       "<div>\n",
       "<style scoped>\n",
       "    .dataframe tbody tr th:only-of-type {\n",
       "        vertical-align: middle;\n",
       "    }\n",
       "\n",
       "    .dataframe tbody tr th {\n",
       "        vertical-align: top;\n",
       "    }\n",
       "\n",
       "    .dataframe thead th {\n",
       "        text-align: right;\n",
       "    }\n",
       "</style>\n",
       "<table border=\"1\" class=\"dataframe\">\n",
       "  <thead>\n",
       "    <tr style=\"text-align: right;\">\n",
       "      <th></th>\n",
       "      <th>ID</th>\n",
       "      <th>Start_Date_Contract</th>\n",
       "      <th>Date_Last_Renewal</th>\n",
       "      <th>Date_Next_Renewal</th>\n",
       "      <th>Date_Of_Birth</th>\n",
       "      <th>Date_Of_DL_Issuance</th>\n",
       "      <th>Issurance_Broker_Agent_Channel</th>\n",
       "      <th>Years_Associates</th>\n",
       "      <th>Total_Policies_Entity</th>\n",
       "      <th>Max_Policy_Simultaneous_Force</th>\n",
       "      <th>...</th>\n",
       "      <th>Non_Continuation_Insurance_Flag</th>\n",
       "      <th>New_License</th>\n",
       "      <th>Car_Age_Cat</th>\n",
       "      <th>Ratio_Premium_Car_Value</th>\n",
       "      <th>Power_Wt_Ratio</th>\n",
       "      <th>Customer_Loyalty</th>\n",
       "      <th>New_Bhp_Risk</th>\n",
       "      <th>Years_Driving_At_Start_Date</th>\n",
       "      <th>Young_Driver</th>\n",
       "      <th>Young_Bhp_Risk</th>\n",
       "    </tr>\n",
       "  </thead>\n",
       "  <tbody>\n",
       "    <tr>\n",
       "      <th>0</th>\n",
       "      <td>34429</td>\n",
       "      <td>2017-06-01</td>\n",
       "      <td>2017-06-01</td>\n",
       "      <td>2018-06-01</td>\n",
       "      <td>1996-08-29</td>\n",
       "      <td>2016-05-31</td>\n",
       "      <td>0</td>\n",
       "      <td>1</td>\n",
       "      <td>1</td>\n",
       "      <td>1</td>\n",
       "      <td>...</td>\n",
       "      <td>1</td>\n",
       "      <td>0</td>\n",
       "      <td>Old</td>\n",
       "      <td>0.044787</td>\n",
       "      <td>0.072115</td>\n",
       "      <td>1.00</td>\n",
       "      <td>0</td>\n",
       "      <td>1</td>\n",
       "      <td>1</td>\n",
       "      <td>0</td>\n",
       "    </tr>\n",
       "    <tr>\n",
       "      <th>1</th>\n",
       "      <td>5552</td>\n",
       "      <td>2016-09-19</td>\n",
       "      <td>2018-09-19</td>\n",
       "      <td>2019-09-19</td>\n",
       "      <td>1992-04-30</td>\n",
       "      <td>2010-08-03</td>\n",
       "      <td>0</td>\n",
       "      <td>3</td>\n",
       "      <td>1</td>\n",
       "      <td>1</td>\n",
       "      <td>...</td>\n",
       "      <td>0</td>\n",
       "      <td>0</td>\n",
       "      <td>Standard</td>\n",
       "      <td>0.019446</td>\n",
       "      <td>0.085837</td>\n",
       "      <td>1.70</td>\n",
       "      <td>0</td>\n",
       "      <td>6</td>\n",
       "      <td>0</td>\n",
       "      <td>0</td>\n",
       "    </tr>\n",
       "    <tr>\n",
       "      <th>2</th>\n",
       "      <td>47700</td>\n",
       "      <td>2003-01-08</td>\n",
       "      <td>2018-01-08</td>\n",
       "      <td>2019-01-08</td>\n",
       "      <td>1972-03-23</td>\n",
       "      <td>1998-02-01</td>\n",
       "      <td>1</td>\n",
       "      <td>20</td>\n",
       "      <td>2</td>\n",
       "      <td>2</td>\n",
       "      <td>...</td>\n",
       "      <td>0</td>\n",
       "      <td>0</td>\n",
       "      <td>Old</td>\n",
       "      <td>0.015644</td>\n",
       "      <td>0.076923</td>\n",
       "      <td>8.15</td>\n",
       "      <td>0</td>\n",
       "      <td>5</td>\n",
       "      <td>0</td>\n",
       "      <td>0</td>\n",
       "    </tr>\n",
       "    <tr>\n",
       "      <th>3</th>\n",
       "      <td>25425</td>\n",
       "      <td>2015-10-01</td>\n",
       "      <td>2018-10-01</td>\n",
       "      <td>2019-10-01</td>\n",
       "      <td>1946-03-05</td>\n",
       "      <td>1964-08-07</td>\n",
       "      <td>0</td>\n",
       "      <td>8</td>\n",
       "      <td>2</td>\n",
       "      <td>3</td>\n",
       "      <td>...</td>\n",
       "      <td>0</td>\n",
       "      <td>0</td>\n",
       "      <td>Standard</td>\n",
       "      <td>0.010544</td>\n",
       "      <td>0.070565</td>\n",
       "      <td>4.15</td>\n",
       "      <td>0</td>\n",
       "      <td>51</td>\n",
       "      <td>0</td>\n",
       "      <td>0</td>\n",
       "    </tr>\n",
       "    <tr>\n",
       "      <th>4</th>\n",
       "      <td>4727</td>\n",
       "      <td>2017-01-26</td>\n",
       "      <td>2018-01-26</td>\n",
       "      <td>2019-01-26</td>\n",
       "      <td>1973-04-25</td>\n",
       "      <td>1998-07-24</td>\n",
       "      <td>0</td>\n",
       "      <td>9</td>\n",
       "      <td>1</td>\n",
       "      <td>1</td>\n",
       "      <td>...</td>\n",
       "      <td>0</td>\n",
       "      <td>0</td>\n",
       "      <td>Old</td>\n",
       "      <td>0.020250</td>\n",
       "      <td>0.047004</td>\n",
       "      <td>3.80</td>\n",
       "      <td>0</td>\n",
       "      <td>19</td>\n",
       "      <td>0</td>\n",
       "      <td>0</td>\n",
       "    </tr>\n",
       "  </tbody>\n",
       "</table>\n",
       "<p>5 rows × 46 columns</p>\n",
       "</div>"
      ],
      "text/plain": [
       "      ID Start_Date_Contract Date_Last_Renewal Date_Next_Renewal  \\\n",
       "0  34429          2017-06-01        2017-06-01        2018-06-01   \n",
       "1   5552          2016-09-19        2018-09-19        2019-09-19   \n",
       "2  47700          2003-01-08        2018-01-08        2019-01-08   \n",
       "3  25425          2015-10-01        2018-10-01        2019-10-01   \n",
       "4   4727          2017-01-26        2018-01-26        2019-01-26   \n",
       "\n",
       "  Date_Of_Birth Date_Of_DL_Issuance  Issurance_Broker_Agent_Channel  \\\n",
       "0    1996-08-29          2016-05-31                               0   \n",
       "1    1992-04-30          2010-08-03                               0   \n",
       "2    1972-03-23          1998-02-01                               1   \n",
       "3    1946-03-05          1964-08-07                               0   \n",
       "4    1973-04-25          1998-07-24                               0   \n",
       "\n",
       "   Years_Associates  Total_Policies_Entity  Max_Policy_Simultaneous_Force  \\\n",
       "0                 1                      1                              1   \n",
       "1                 3                      1                              1   \n",
       "2                20                      2                              2   \n",
       "3                 8                      2                              3   \n",
       "4                 9                      1                              1   \n",
       "\n",
       "   ...  Non_Continuation_Insurance_Flag  New_License  Car_Age_Cat  \\\n",
       "0  ...                                1            0          Old   \n",
       "1  ...                                0            0     Standard   \n",
       "2  ...                                0            0          Old   \n",
       "3  ...                                0            0     Standard   \n",
       "4  ...                                0            0          Old   \n",
       "\n",
       "   Ratio_Premium_Car_Value  Power_Wt_Ratio  Customer_Loyalty  New_Bhp_Risk  \\\n",
       "0                 0.044787        0.072115              1.00             0   \n",
       "1                 0.019446        0.085837              1.70             0   \n",
       "2                 0.015644        0.076923              8.15             0   \n",
       "3                 0.010544        0.070565              4.15             0   \n",
       "4                 0.020250        0.047004              3.80             0   \n",
       "\n",
       "   Years_Driving_At_Start_Date  Young_Driver  Young_Bhp_Risk  \n",
       "0                            1             1               0  \n",
       "1                            6             0               0  \n",
       "2                            5             0               0  \n",
       "3                           51             0               0  \n",
       "4                           19             0               0  \n",
       "\n",
       "[5 rows x 46 columns]"
      ]
     },
     "execution_count": 13,
     "metadata": {},
     "output_type": "execute_result"
    }
   ],
   "source": [
    "data = pd.read_parquet('cleaned_data.parquet')\n",
    "data.head()"
   ]
  },
  {
   "cell_type": "code",
   "execution_count": 14,
   "metadata": {},
   "outputs": [
    {
     "data": {
      "text/plain": [
       "Index(['ID', 'Start_Date_Contract', 'Date_Last_Renewal', 'Date_Next_Renewal',\n",
       "       'Date_Of_Birth', 'Date_Of_DL_Issuance',\n",
       "       'Issurance_Broker_Agent_Channel', 'Years_Associates',\n",
       "       'Total_Policies_Entity', 'Max_Policy_Simultaneous_Force',\n",
       "       'Max_Product_Simultaneous_Held', 'Policies_Terminated_Non_Payment',\n",
       "       'Half_Yearly_Payment_Method', 'Premium_Amt_Current_Yr',\n",
       "       'Total_Cost_Claims_Current_Yr', 'Total_Number_Claims_Current_Yr',\n",
       "       'Total_Number_Claims_Entire_Duration',\n",
       "       'Ratio_Claims_Total_Duration_Force',\n",
       "       'Motorbikes_Vans_Cars_Agricultural', 'Rural_Urban_Flag',\n",
       "       'Multiple_Drivers_Regular_Flag', 'Yr_Vehicle_Registration',\n",
       "       'Vehicle_Power_HP', 'Cylinder_Capacity', 'Market_Value_EOY19',\n",
       "       'Vehicle_Doors', 'Energy_Source', 'Vehicle_Wt_Kg', 'Loss_Cost',\n",
       "       'Historically_Adjusted_Loss_Cost', 'Claim_Status', 'Age',\n",
       "       'Years_Driving', 'Car_Age', 'Time_Since_Last_Renewal',\n",
       "       'Non_Payment_Termination', 'Non_Continuation_Insurance_Flag',\n",
       "       'New_License', 'Car_Age_Cat', 'Ratio_Premium_Car_Value',\n",
       "       'Power_Wt_Ratio', 'Customer_Loyalty', 'New_Bhp_Risk',\n",
       "       'Years_Driving_At_Start_Date', 'Young_Driver', 'Young_Bhp_Risk'],\n",
       "      dtype='object')"
      ]
     },
     "execution_count": 14,
     "metadata": {},
     "output_type": "execute_result"
    }
   ],
   "source": [
    "data.columns"
   ]
  },
  {
   "cell_type": "code",
   "execution_count": 15,
   "metadata": {},
   "outputs": [],
   "source": [
    "X = data.copy()"
   ]
  },
  {
   "cell_type": "code",
   "execution_count": 16,
   "metadata": {},
   "outputs": [
    {
     "data": {
      "text/plain": [
       "Index(['Start_Date_Contract', 'Date_Last_Renewal', 'Date_Next_Renewal',\n",
       "       'Date_Of_Birth', 'Date_Of_DL_Issuance',\n",
       "       'Issurance_Broker_Agent_Channel', 'Years_Associates',\n",
       "       'Total_Policies_Entity', 'Max_Policy_Simultaneous_Force',\n",
       "       'Max_Product_Simultaneous_Held', 'Policies_Terminated_Non_Payment',\n",
       "       'Half_Yearly_Payment_Method', 'Premium_Amt_Current_Yr',\n",
       "       'Motorbikes_Vans_Cars_Agricultural', 'Rural_Urban_Flag',\n",
       "       'Multiple_Drivers_Regular_Flag', 'Yr_Vehicle_Registration',\n",
       "       'Vehicle_Power_HP', 'Cylinder_Capacity', 'Market_Value_EOY19',\n",
       "       'Vehicle_Doors', 'Energy_Source', 'Vehicle_Wt_Kg', 'Age',\n",
       "       'Years_Driving', 'Car_Age', 'Time_Since_Last_Renewal',\n",
       "       'Non_Payment_Termination', 'Non_Continuation_Insurance_Flag',\n",
       "       'New_License', 'Car_Age_Cat', 'Ratio_Premium_Car_Value',\n",
       "       'Power_Wt_Ratio', 'Customer_Loyalty', 'New_Bhp_Risk',\n",
       "       'Years_Driving_At_Start_Date', 'Young_Driver', 'Young_Bhp_Risk'],\n",
       "      dtype='object')"
      ]
     },
     "execution_count": 16,
     "metadata": {},
     "output_type": "execute_result"
    }
   ],
   "source": [
    "X = X.drop(columns=['ID', 'Total_Cost_Claims_Current_Yr', 'Total_Number_Claims_Current_Yr',\n",
    "                    'Total_Number_Claims_Entire_Duration', 'Ratio_Claims_Total_Duration_Force',\n",
    "                    'Loss_Cost', 'Historically_Adjusted_Loss_Cost', 'Claim_Status'])\n",
    "X.columns"
   ]
  },
  {
   "cell_type": "code",
   "execution_count": 17,
   "metadata": {},
   "outputs": [],
   "source": [
    "Y_reg = data[['Loss_Cost','Historically_Adjusted_Loss_Cost']]\n",
    "Y_class = data[['Claim_Status']]"
   ]
  },
  {
   "cell_type": "markdown",
   "metadata": {},
   "source": [
    "## Fixing the X data"
   ]
  },
  {
   "cell_type": "code",
   "execution_count": 18,
   "metadata": {},
   "outputs": [
    {
     "data": {
      "text/plain": [
       "Start_Date_Contract                    0\n",
       "Date_Last_Renewal                      0\n",
       "Date_Next_Renewal                      0\n",
       "Date_Of_Birth                          0\n",
       "Date_Of_DL_Issuance                    0\n",
       "Issurance_Broker_Agent_Channel         0\n",
       "Years_Associates                       0\n",
       "Total_Policies_Entity                  0\n",
       "Max_Policy_Simultaneous_Force          0\n",
       "Max_Product_Simultaneous_Held          0\n",
       "Policies_Terminated_Non_Payment        0\n",
       "Half_Yearly_Payment_Method             0\n",
       "Premium_Amt_Current_Yr                 0\n",
       "Motorbikes_Vans_Cars_Agricultural      0\n",
       "Rural_Urban_Flag                       0\n",
       "Multiple_Drivers_Regular_Flag          0\n",
       "Yr_Vehicle_Registration                0\n",
       "Vehicle_Power_HP                       0\n",
       "Cylinder_Capacity                      0\n",
       "Market_Value_EOY19                     0\n",
       "Vehicle_Doors                          0\n",
       "Energy_Source                        593\n",
       "Vehicle_Wt_Kg                          0\n",
       "Age                                    0\n",
       "Years_Driving                          0\n",
       "Car_Age                                0\n",
       "Time_Since_Last_Renewal                0\n",
       "Non_Payment_Termination                0\n",
       "Non_Continuation_Insurance_Flag        0\n",
       "New_License                            0\n",
       "Car_Age_Cat                            0\n",
       "Ratio_Premium_Car_Value                0\n",
       "Power_Wt_Ratio                         0\n",
       "Customer_Loyalty                       0\n",
       "New_Bhp_Risk                           0\n",
       "Years_Driving_At_Start_Date            0\n",
       "Young_Driver                           0\n",
       "Young_Bhp_Risk                         0\n",
       "dtype: int64"
      ]
     },
     "execution_count": 18,
     "metadata": {},
     "output_type": "execute_result"
    }
   ],
   "source": [
    "X.isna().sum()"
   ]
  },
  {
   "cell_type": "code",
   "execution_count": 19,
   "metadata": {},
   "outputs": [
    {
     "data": {
      "text/plain": [
       "Energy_Source                        593\n",
       "Loss_Cost                          33300\n",
       "Historically_Adjusted_Loss_Cost    33300\n",
       "dtype: int64"
      ]
     },
     "execution_count": 19,
     "metadata": {},
     "output_type": "execute_result"
    }
   ],
   "source": [
    "data.isna().sum()[data.isna().sum() > 0]"
   ]
  },
  {
   "cell_type": "code",
   "execution_count": 20,
   "metadata": {},
   "outputs": [
    {
     "data": {
      "text/plain": [
       "Claim_Status\n",
       "0    564\n",
       "1     29\n",
       "Name: count, dtype: int64"
      ]
     },
     "execution_count": 20,
     "metadata": {},
     "output_type": "execute_result"
    }
   ],
   "source": [
    "data.loc[data['Energy_Source'].isna(),'Claim_Status'].value_counts()"
   ]
  },
  {
   "cell_type": "markdown",
   "metadata": {},
   "source": [
    "We can fill the X['Energy_Source'] with other"
   ]
  },
  {
   "cell_type": "code",
   "execution_count": 21,
   "metadata": {},
   "outputs": [
    {
     "data": {
      "text/plain": [
       "Energy_Source\n",
       "D        23074\n",
       "P        13784\n",
       "Other      593\n",
       "Name: count, dtype: int64"
      ]
     },
     "execution_count": 21,
     "metadata": {},
     "output_type": "execute_result"
    }
   ],
   "source": [
    "X['Energy_Source'] = X['Energy_Source'].fillna('Other')\n",
    "X['Energy_Source'].value_counts(dropna = False)"
   ]
  },
  {
   "cell_type": "markdown",
   "metadata": {},
   "source": [
    "Create categorical variables"
   ]
  },
  {
   "cell_type": "code",
   "execution_count": 22,
   "metadata": {},
   "outputs": [
    {
     "name": "stdout",
     "output_type": "stream",
     "text": [
      "<class 'pandas.core.frame.DataFrame'>\n",
      "RangeIndex: 37451 entries, 0 to 37450\n",
      "Data columns (total 38 columns):\n",
      " #   Column                             Non-Null Count  Dtype         \n",
      "---  ------                             --------------  -----         \n",
      " 0   Start_Date_Contract                37451 non-null  datetime64[ns]\n",
      " 1   Date_Last_Renewal                  37451 non-null  datetime64[ns]\n",
      " 2   Date_Next_Renewal                  37451 non-null  datetime64[ns]\n",
      " 3   Date_Of_Birth                      37451 non-null  datetime64[ns]\n",
      " 4   Date_Of_DL_Issuance                37451 non-null  datetime64[ns]\n",
      " 5   Issurance_Broker_Agent_Channel     37451 non-null  int64         \n",
      " 6   Years_Associates                   37451 non-null  int64         \n",
      " 7   Total_Policies_Entity              37451 non-null  int64         \n",
      " 8   Max_Policy_Simultaneous_Force      37451 non-null  int64         \n",
      " 9   Max_Product_Simultaneous_Held      37451 non-null  int64         \n",
      " 10  Policies_Terminated_Non_Payment    37451 non-null  int64         \n",
      " 11  Half_Yearly_Payment_Method         37451 non-null  int64         \n",
      " 12  Premium_Amt_Current_Yr             37451 non-null  float64       \n",
      " 13  Motorbikes_Vans_Cars_Agricultural  37451 non-null  int64         \n",
      " 14  Rural_Urban_Flag                   37451 non-null  int64         \n",
      " 15  Multiple_Drivers_Regular_Flag      37451 non-null  int64         \n",
      " 16  Yr_Vehicle_Registration            37451 non-null  int64         \n",
      " 17  Vehicle_Power_HP                   37451 non-null  int64         \n",
      " 18  Cylinder_Capacity                  37451 non-null  int64         \n",
      " 19  Market_Value_EOY19                 37451 non-null  float64       \n",
      " 20  Vehicle_Doors                      37451 non-null  int64         \n",
      " 21  Energy_Source                      37451 non-null  object        \n",
      " 22  Vehicle_Wt_Kg                      37451 non-null  int64         \n",
      " 23  Age                                37451 non-null  int32         \n",
      " 24  Years_Driving                      37451 non-null  int32         \n",
      " 25  Car_Age                            37451 non-null  int64         \n",
      " 26  Time_Since_Last_Renewal            37451 non-null  int32         \n",
      " 27  Non_Payment_Termination            37451 non-null  int64         \n",
      " 28  Non_Continuation_Insurance_Flag    37451 non-null  int64         \n",
      " 29  New_License                        37451 non-null  int64         \n",
      " 30  Car_Age_Cat                        37451 non-null  category      \n",
      " 31  Ratio_Premium_Car_Value            37451 non-null  float64       \n",
      " 32  Power_Wt_Ratio                     37451 non-null  float64       \n",
      " 33  Customer_Loyalty                   37451 non-null  float64       \n",
      " 34  New_Bhp_Risk                       37451 non-null  int64         \n",
      " 35  Years_Driving_At_Start_Date        37451 non-null  int32         \n",
      " 36  Young_Driver                       37451 non-null  int64         \n",
      " 37  Young_Bhp_Risk                     37451 non-null  int64         \n",
      "dtypes: category(1), datetime64[ns](5), float64(5), int32(4), int64(22), object(1)\n",
      "memory usage: 10.0+ MB\n"
     ]
    }
   ],
   "source": [
    "X.info()"
   ]
  },
  {
   "cell_type": "code",
   "execution_count": 23,
   "metadata": {},
   "outputs": [
    {
     "data": {
      "text/html": [
       "<div>\n",
       "<style scoped>\n",
       "    .dataframe tbody tr th:only-of-type {\n",
       "        vertical-align: middle;\n",
       "    }\n",
       "\n",
       "    .dataframe tbody tr th {\n",
       "        vertical-align: top;\n",
       "    }\n",
       "\n",
       "    .dataframe thead th {\n",
       "        text-align: right;\n",
       "    }\n",
       "</style>\n",
       "<table border=\"1\" class=\"dataframe\">\n",
       "  <thead>\n",
       "    <tr style=\"text-align: right;\">\n",
       "      <th></th>\n",
       "      <th>Start_Date_Contract</th>\n",
       "      <th>Date_Last_Renewal</th>\n",
       "      <th>Date_Next_Renewal</th>\n",
       "      <th>Date_Of_Birth</th>\n",
       "      <th>Date_Of_DL_Issuance</th>\n",
       "      <th>Issurance_Broker_Agent_Channel</th>\n",
       "      <th>Years_Associates</th>\n",
       "      <th>Total_Policies_Entity</th>\n",
       "      <th>Max_Policy_Simultaneous_Force</th>\n",
       "      <th>Max_Product_Simultaneous_Held</th>\n",
       "      <th>...</th>\n",
       "      <th>Years_Driving_At_Start_Date</th>\n",
       "      <th>Young_Driver</th>\n",
       "      <th>Young_Bhp_Risk</th>\n",
       "      <th>Car_Age_Cat_New</th>\n",
       "      <th>Car_Age_Cat_Recent</th>\n",
       "      <th>Car_Age_Cat_Standard</th>\n",
       "      <th>Car_Age_Cat_Old</th>\n",
       "      <th>Energy_Source_D</th>\n",
       "      <th>Energy_Source_Other</th>\n",
       "      <th>Energy_Source_P</th>\n",
       "    </tr>\n",
       "  </thead>\n",
       "  <tbody>\n",
       "    <tr>\n",
       "      <th>0</th>\n",
       "      <td>2017-06-01</td>\n",
       "      <td>2017-06-01</td>\n",
       "      <td>2018-06-01</td>\n",
       "      <td>1996-08-29</td>\n",
       "      <td>2016-05-31</td>\n",
       "      <td>0</td>\n",
       "      <td>1</td>\n",
       "      <td>1</td>\n",
       "      <td>1</td>\n",
       "      <td>1</td>\n",
       "      <td>...</td>\n",
       "      <td>1</td>\n",
       "      <td>1</td>\n",
       "      <td>0</td>\n",
       "      <td>0</td>\n",
       "      <td>0</td>\n",
       "      <td>0</td>\n",
       "      <td>1</td>\n",
       "      <td>0</td>\n",
       "      <td>0</td>\n",
       "      <td>1</td>\n",
       "    </tr>\n",
       "    <tr>\n",
       "      <th>1</th>\n",
       "      <td>2016-09-19</td>\n",
       "      <td>2018-09-19</td>\n",
       "      <td>2019-09-19</td>\n",
       "      <td>1992-04-30</td>\n",
       "      <td>2010-08-03</td>\n",
       "      <td>0</td>\n",
       "      <td>3</td>\n",
       "      <td>1</td>\n",
       "      <td>1</td>\n",
       "      <td>1</td>\n",
       "      <td>...</td>\n",
       "      <td>6</td>\n",
       "      <td>0</td>\n",
       "      <td>0</td>\n",
       "      <td>0</td>\n",
       "      <td>0</td>\n",
       "      <td>1</td>\n",
       "      <td>0</td>\n",
       "      <td>1</td>\n",
       "      <td>0</td>\n",
       "      <td>0</td>\n",
       "    </tr>\n",
       "    <tr>\n",
       "      <th>2</th>\n",
       "      <td>2003-01-08</td>\n",
       "      <td>2018-01-08</td>\n",
       "      <td>2019-01-08</td>\n",
       "      <td>1972-03-23</td>\n",
       "      <td>1998-02-01</td>\n",
       "      <td>1</td>\n",
       "      <td>20</td>\n",
       "      <td>2</td>\n",
       "      <td>2</td>\n",
       "      <td>1</td>\n",
       "      <td>...</td>\n",
       "      <td>5</td>\n",
       "      <td>0</td>\n",
       "      <td>0</td>\n",
       "      <td>0</td>\n",
       "      <td>0</td>\n",
       "      <td>0</td>\n",
       "      <td>1</td>\n",
       "      <td>0</td>\n",
       "      <td>0</td>\n",
       "      <td>1</td>\n",
       "    </tr>\n",
       "    <tr>\n",
       "      <th>3</th>\n",
       "      <td>2015-10-01</td>\n",
       "      <td>2018-10-01</td>\n",
       "      <td>2019-10-01</td>\n",
       "      <td>1946-03-05</td>\n",
       "      <td>1964-08-07</td>\n",
       "      <td>0</td>\n",
       "      <td>8</td>\n",
       "      <td>2</td>\n",
       "      <td>3</td>\n",
       "      <td>1</td>\n",
       "      <td>...</td>\n",
       "      <td>51</td>\n",
       "      <td>0</td>\n",
       "      <td>0</td>\n",
       "      <td>0</td>\n",
       "      <td>0</td>\n",
       "      <td>1</td>\n",
       "      <td>0</td>\n",
       "      <td>1</td>\n",
       "      <td>0</td>\n",
       "      <td>0</td>\n",
       "    </tr>\n",
       "    <tr>\n",
       "      <th>4</th>\n",
       "      <td>2017-01-26</td>\n",
       "      <td>2018-01-26</td>\n",
       "      <td>2019-01-26</td>\n",
       "      <td>1973-04-25</td>\n",
       "      <td>1998-07-24</td>\n",
       "      <td>0</td>\n",
       "      <td>9</td>\n",
       "      <td>1</td>\n",
       "      <td>1</td>\n",
       "      <td>1</td>\n",
       "      <td>...</td>\n",
       "      <td>19</td>\n",
       "      <td>0</td>\n",
       "      <td>0</td>\n",
       "      <td>0</td>\n",
       "      <td>0</td>\n",
       "      <td>0</td>\n",
       "      <td>1</td>\n",
       "      <td>0</td>\n",
       "      <td>0</td>\n",
       "      <td>1</td>\n",
       "    </tr>\n",
       "  </tbody>\n",
       "</table>\n",
       "<p>5 rows × 43 columns</p>\n",
       "</div>"
      ],
      "text/plain": [
       "  Start_Date_Contract Date_Last_Renewal Date_Next_Renewal Date_Of_Birth  \\\n",
       "0          2017-06-01        2017-06-01        2018-06-01    1996-08-29   \n",
       "1          2016-09-19        2018-09-19        2019-09-19    1992-04-30   \n",
       "2          2003-01-08        2018-01-08        2019-01-08    1972-03-23   \n",
       "3          2015-10-01        2018-10-01        2019-10-01    1946-03-05   \n",
       "4          2017-01-26        2018-01-26        2019-01-26    1973-04-25   \n",
       "\n",
       "  Date_Of_DL_Issuance  Issurance_Broker_Agent_Channel  Years_Associates  \\\n",
       "0          2016-05-31                               0                 1   \n",
       "1          2010-08-03                               0                 3   \n",
       "2          1998-02-01                               1                20   \n",
       "3          1964-08-07                               0                 8   \n",
       "4          1998-07-24                               0                 9   \n",
       "\n",
       "   Total_Policies_Entity  Max_Policy_Simultaneous_Force  \\\n",
       "0                      1                              1   \n",
       "1                      1                              1   \n",
       "2                      2                              2   \n",
       "3                      2                              3   \n",
       "4                      1                              1   \n",
       "\n",
       "   Max_Product_Simultaneous_Held  ...  Years_Driving_At_Start_Date  \\\n",
       "0                              1  ...                            1   \n",
       "1                              1  ...                            6   \n",
       "2                              1  ...                            5   \n",
       "3                              1  ...                           51   \n",
       "4                              1  ...                           19   \n",
       "\n",
       "   Young_Driver  Young_Bhp_Risk  Car_Age_Cat_New  Car_Age_Cat_Recent  \\\n",
       "0             1               0                0                   0   \n",
       "1             0               0                0                   0   \n",
       "2             0               0                0                   0   \n",
       "3             0               0                0                   0   \n",
       "4             0               0                0                   0   \n",
       "\n",
       "   Car_Age_Cat_Standard  Car_Age_Cat_Old  Energy_Source_D  \\\n",
       "0                     0                1                0   \n",
       "1                     1                0                1   \n",
       "2                     0                1                0   \n",
       "3                     1                0                1   \n",
       "4                     0                1                0   \n",
       "\n",
       "   Energy_Source_Other  Energy_Source_P  \n",
       "0                    0                1  \n",
       "1                    0                0  \n",
       "2                    0                1  \n",
       "3                    0                0  \n",
       "4                    0                1  \n",
       "\n",
       "[5 rows x 43 columns]"
      ]
     },
     "execution_count": 23,
     "metadata": {},
     "output_type": "execute_result"
    }
   ],
   "source": [
    "X = pd.get_dummies(X, columns=['Car_Age_Cat', 'Energy_Source'], dtype=int, drop_first=False)\n",
    "X.head()"
   ]
  },
  {
   "cell_type": "code",
   "execution_count": 24,
   "metadata": {},
   "outputs": [
    {
     "data": {
      "text/plain": [
       "Car_Age_Cat_New          2159\n",
       "Car_Age_Cat_Recent       3402\n",
       "Car_Age_Cat_Standard    16978\n",
       "Car_Age_Cat_Old         14912\n",
       "dtype: int64"
      ]
     },
     "execution_count": 24,
     "metadata": {},
     "output_type": "execute_result"
    }
   ],
   "source": [
    "X[['Car_Age_Cat_New','Car_Age_Cat_Recent','Car_Age_Cat_Standard','Car_Age_Cat_Old']].sum()"
   ]
  },
  {
   "cell_type": "code",
   "execution_count": 25,
   "metadata": {},
   "outputs": [],
   "source": [
    "X = X.drop(columns=['Car_Age_Cat_New', 'Energy_Source_Other'])"
   ]
  },
  {
   "cell_type": "markdown",
   "metadata": {},
   "source": [
    "Now we need to drop time"
   ]
  },
  {
   "cell_type": "code",
   "execution_count": 26,
   "metadata": {},
   "outputs": [],
   "source": [
    "X = X.drop(columns=['Start_Date_Contract','Date_Last_Renewal','Date_Next_Renewal','Date_Of_Birth','Date_Of_DL_Issuance'])"
   ]
  },
  {
   "cell_type": "markdown",
   "metadata": {},
   "source": [
    "## Fixing Y"
   ]
  },
  {
   "cell_type": "code",
   "execution_count": 27,
   "metadata": {},
   "outputs": [],
   "source": [
    "Y_reg = Y_reg.fillna(0)"
   ]
  },
  {
   "cell_type": "code",
   "execution_count": 28,
   "metadata": {},
   "outputs": [
    {
     "data": {
      "text/plain": [
       "Loss_Cost   Historically_Adjusted_Loss_Cost\n",
       "0.000       0.00000                            33300\n",
       "882.000     882.00000                             40\n",
       "            1764.00000                            10\n",
       "            1746.36000                             9\n",
       "            1755.18000                             8\n",
       "                                               ...  \n",
       "96.150      192.30000                              1\n",
       "96.300      135.78300                              1\n",
       "96.335      230.24065                              1\n",
       "96.410      157.14830                              1\n",
       "118142.590  236285.18000                           1\n",
       "Name: count, Length: 3906, dtype: int64"
      ]
     },
     "execution_count": 28,
     "metadata": {},
     "output_type": "execute_result"
    }
   ],
   "source": [
    "Y_reg.value_counts()"
   ]
  },
  {
   "cell_type": "markdown",
   "metadata": {},
   "source": [
    "## Now we need to split the data appropriately"
   ]
  },
  {
   "cell_type": "markdown",
   "metadata": {},
   "source": [
    "We need to stratify it while splitting"
   ]
  },
  {
   "cell_type": "code",
   "execution_count": 29,
   "metadata": {},
   "outputs": [
    {
     "name": "stdout",
     "output_type": "stream",
     "text": [
      "(7491, 36)\n",
      "(29960, 36)\n",
      "(7491, 1)\n",
      "(29960, 1)\n"
     ]
    }
   ],
   "source": [
    "X_class_train, X_class_test, Y_class_train, Y_class_test = train_test_split(\n",
    "    X, Y_class,\n",
    "    test_size=0.2,\n",
    "    stratify=Y_class,\n",
    "    random_state=42\n",
    ")\n",
    "\n",
    "print(X_class_test.shape)\n",
    "print(X_class_train.shape)\n",
    "print(Y_class_test.shape)\n",
    "print(Y_class_train.shape)"
   ]
  },
  {
   "cell_type": "code",
   "execution_count": 30,
   "metadata": {},
   "outputs": [
    {
     "data": {
      "text/plain": [
       "Claim_Status\n",
       "0               0.889152\n",
       "1               0.110848\n",
       "Name: proportion, dtype: float64"
      ]
     },
     "metadata": {},
     "output_type": "display_data"
    },
    {
     "data": {
      "text/plain": [
       "Claim_Status\n",
       "0               0.8892\n",
       "1               0.1108\n",
       "Name: proportion, dtype: float64"
      ]
     },
     "metadata": {},
     "output_type": "display_data"
    }
   ],
   "source": [
    "display(Y_class_train.value_counts(normalize=True))\n",
    "display(Y_class_test.value_counts(normalize=True))"
   ]
  },
  {
   "cell_type": "markdown",
   "metadata": {},
   "source": [
    "For regressors we need to mention 0 before stratify"
   ]
  },
  {
   "cell_type": "code",
   "execution_count": 31,
   "metadata": {},
   "outputs": [
    {
     "data": {
      "text/plain": [
       "Loss_Cost\n",
       "1    33300\n",
       "0     4151\n",
       "Name: count, dtype: int64"
      ]
     },
     "execution_count": 31,
     "metadata": {},
     "output_type": "execute_result"
    }
   ],
   "source": [
    "# using Loss Cost as HALC might have some 0\n",
    "zero_flag = (Y_reg['Loss_Cost'] == 0).astype(int)\n",
    "zero_flag.value_counts(dropna=False)"
   ]
  },
  {
   "cell_type": "code",
   "execution_count": 32,
   "metadata": {},
   "outputs": [],
   "source": [
    "X_reg_train, X_reg_test, Y_reg_train, Y_reg_test = train_test_split(\n",
    "    X, Y_reg,\n",
    "    test_size=0.2,\n",
    "    stratify=zero_flag,\n",
    "    random_state=42\n",
    ")"
   ]
  },
  {
   "cell_type": "code",
   "execution_count": 33,
   "metadata": {},
   "outputs": [
    {
     "name": "stdout",
     "output_type": "stream",
     "text": [
      "(7491, 36)\n",
      "(29960, 36)\n",
      "(7491, 2)\n",
      "(29960, 2)\n"
     ]
    }
   ],
   "source": [
    "print(X_reg_test.shape)\n",
    "print(X_reg_train.shape)\n",
    "print(Y_reg_test.shape)\n",
    "print(Y_reg_train.shape)"
   ]
  },
  {
   "cell_type": "code",
   "execution_count": 34,
   "metadata": {},
   "outputs": [
    {
     "data": {
      "text/plain": [
       "0.8891522029372496"
      ]
     },
     "metadata": {},
     "output_type": "display_data"
    },
    {
     "data": {
      "text/plain": [
       "0.8892003737818716"
      ]
     },
     "metadata": {},
     "output_type": "display_data"
    }
   ],
   "source": [
    "display(len(Y_reg_train[Y_reg_train['Loss_Cost']==0])/len(Y_reg_train))\n",
    "display(len(Y_reg_test[Y_reg_test['Loss_Cost']==0])/len(Y_reg_test))"
   ]
  },
  {
   "cell_type": "markdown",
   "metadata": {},
   "source": [
    "## Hyper parameter tuning"
   ]
  },
  {
   "cell_type": "markdown",
   "metadata": {},
   "source": [
    "### Creating a function to use on optuna "
   ]
  },
  {
   "cell_type": "code",
   "execution_count": 35,
   "metadata": {},
   "outputs": [],
   "source": [
    "def make_stratify_bins(y, n_bins=10):\n",
    "    return pd.qcut(y, q=n_bins, duplicates='drop', labels=False)\n",
    "\n",
    "def rmse(y_true, y_pred):\n",
    "    return np.sqrt(np.mean((y_true - y_pred) ** 2))\n",
    "\n",
    "def tune_lightgbm(X, y, folds, objective, scorer, use_gpu=False, show_plots=False):\n",
    "    \"\"\"\n",
    "    X : predictors (DataFrame)\n",
    "    y : target (Series)\n",
    "    folds : a StratifiedKFold object\n",
    "    objective : \"tweedie\" or \"binary\"\n",
    "    scorer : \"rmse\" or \"auc\"\n",
    "    use_gpu : Set to True to enable GPU (default False)\n",
    "    show_plots : If True, displays Optuna visualizations (default False)\n",
    "    \"\"\"\n",
    "\n",
    "    direction = \"minimize\" if scorer == \"rmse\" else \"maximize\"\n",
    "\n",
    "    if scorer == \"rmse\":\n",
    "        y_strat = make_stratify_bins(y)\n",
    "    else:\n",
    "        y_strat = y\n",
    "\n",
    "    def objective_fn(trial):\n",
    "        params = {\n",
    "            \"objective\": objective,\n",
    "            \"learning_rate\": trial.suggest_float(\"lr\", 0.01, 0.2, log=True),\n",
    "            \"num_leaves\": trial.suggest_int(\"leaves\", 16, 255),\n",
    "            \"feature_fraction\": trial.suggest_float(\"ff\", 0.5, 1.0),\n",
    "            \"bagging_fraction\": trial.suggest_float(\"bf\", 0.5, 1.0),\n",
    "            \"bagging_freq\": 1,\n",
    "            \"max_depth\": -1,\n",
    "            \"lambda_l1\": trial.suggest_float(\"l1\", 0.0, 5.0),\n",
    "            \"lambda_l2\": trial.suggest_float(\"l2\", 0.0, 5.0),\n",
    "            \"random_state\": 42,\n",
    "            \"verbosity\": -1\n",
    "        }\n",
    "\n",
    "        if use_gpu:\n",
    "            params[\"device\"] = \"gpu\"\n",
    "            params[\"gpu_platform_id\"] = 0\n",
    "            params[\"gpu_device_id\"] = 0\n",
    "\n",
    "        if objective == \"tweedie\":\n",
    "            params[\"tweedie_variance_power\"] = trial.suggest_float(\"p\", 1.1, 1.9)\n",
    "        if objective == \"binary\":\n",
    "            params[\"is_unbalance\"] = True\n",
    "\n",
    "        scores = []\n",
    "\n",
    "        for tr_idx, val_idx in folds.split(X, y_strat):\n",
    "            X_tr, X_val = X.iloc[tr_idx], X.iloc[val_idx]\n",
    "            y_tr, y_val = y.iloc[tr_idx], y.iloc[val_idx]\n",
    "\n",
    "            model = (\n",
    "                LGBMRegressor(**params, n_estimators=5000)\n",
    "                if objective == \"tweedie\"\n",
    "                else LGBMClassifier(**params, n_estimators=5000)\n",
    "            )\n",
    "\n",
    "            model.fit(\n",
    "                X_tr, y_tr,\n",
    "                eval_set=[(X_val, y_val)],\n",
    "                eval_metric=scorer\n",
    "            )\n",
    "\n",
    "            preds = model.predict(X_val)\n",
    "\n",
    "            if scorer == \"rmse\":\n",
    "                scores.append(rmse(y_val, preds))\n",
    "            else:\n",
    "                scores.append(roc_auc_score(y_val, preds))\n",
    "\n",
    "        return np.mean(scores)\n",
    "\n",
    "    study = optuna.create_study(direction=direction)\n",
    "    study.optimize(objective_fn, n_trials=60, timeout=1800, show_progress_bar=True)\n",
    "\n",
    "    if show_plots:\n",
    "        try:\n",
    "            from optuna.visualization.matplotlib import plot_optimization_history, plot_param_importances\n",
    "\n",
    "            plot_optimization_history(study)\n",
    "            plt.title(\"Optuna Optimization History\")\n",
    "            plt.tight_layout()\n",
    "            plt.show()\n",
    "\n",
    "            plot_param_importances(study)\n",
    "            plt.title(\"Hyperparameter Importance\")\n",
    "            plt.tight_layout()\n",
    "            plt.show()\n",
    "        except ImportError:\n",
    "            print(\"Install matplotlib and optuna[visualization] to enable plots.\")\n",
    "\n",
    "    return study.best_params"
   ]
  },
  {
   "cell_type": "markdown",
   "metadata": {},
   "source": [
    "## Now we need to tune each model"
   ]
  },
  {
   "cell_type": "markdown",
   "metadata": {},
   "source": [
    "### Loss Cost"
   ]
  },
  {
   "cell_type": "code",
   "execution_count": 37,
   "metadata": {},
   "outputs": [
    {
     "name": "stderr",
     "output_type": "stream",
     "text": [
      "[I 2025-04-19 04:35:12,963] A new study created in memory with name: no-name-58041970-9078-47e9-b7ab-0930af52097e\n",
      "Best trial: 0. Best value: 535.39:   2%| | 1/60 [02:04<2:02:46, 124.85s/it, 124."
     ]
    },
    {
     "name": "stdout",
     "output_type": "stream",
     "text": [
      "[I 2025-04-19 04:37:17,816] Trial 0 finished with value: 535.3904376150824 and parameters: {'lr': 0.028159807158146588, 'leaves': 173, 'ff': 0.7093619474369246, 'bf': 0.8635327532254651, 'l1': 2.5146184588343043, 'l2': 1.305062852138813, 'p': 1.5741492187009327}. Best is trial 0 with value: 535.3904376150824.\n"
     ]
    },
    {
     "name": "stderr",
     "output_type": "stream",
     "text": [
      "Best trial: 1. Best value: 534.02:   3%| | 2/60 [04:04<1:57:52, 121.95s/it, 244."
     ]
    },
    {
     "name": "stdout",
     "output_type": "stream",
     "text": [
      "[I 2025-04-19 04:39:17,728] Trial 1 finished with value: 534.019832621815 and parameters: {'lr': 0.018052033405938573, 'leaves': 143, 'ff': 0.7269221839784744, 'bf': 0.7152071311197904, 'l1': 1.4603769320334776, 'l2': 0.9239901106406839, 'p': 1.3022159002693627}. Best is trial 1 with value: 534.019832621815.\n"
     ]
    },
    {
     "name": "stderr",
     "output_type": "stream",
     "text": [
      "Best trial: 1. Best value: 534.02:   5%| | 3/60 [06:12<1:58:18, 124.53s/it, 372."
     ]
    },
    {
     "name": "stdout",
     "output_type": "stream",
     "text": [
      "[I 2025-04-19 04:41:25,331] Trial 2 finished with value: 535.0485315332148 and parameters: {'lr': 0.055546777968202767, 'leaves': 183, 'ff': 0.562355334511758, 'bf': 0.649126686210044, 'l1': 4.612724244894173, 'l2': 1.543735273194717, 'p': 1.4612452867241588}. Best is trial 1 with value: 534.019832621815.\n"
     ]
    },
    {
     "name": "stderr",
     "output_type": "stream",
     "text": [
      "Best trial: 1. Best value: 534.02:   7%| | 4/60 [08:14<1:55:15, 123.49s/it, 494."
     ]
    },
    {
     "name": "stdout",
     "output_type": "stream",
     "text": [
      "[I 2025-04-19 04:43:27,226] Trial 3 finished with value: 534.9667460501977 and parameters: {'lr': 0.07979029059484131, 'leaves': 99, 'ff': 0.5858470190652605, 'bf': 0.5376217261425822, 'l1': 2.2373318406137392, 'l2': 1.857597807069451, 'p': 1.5275047172805232}. Best is trial 1 with value: 534.019832621815.\n"
     ]
    },
    {
     "name": "stderr",
     "output_type": "stream",
     "text": [
      "Best trial: 1. Best value: 534.02:   8%| | 5/60 [11:26<2:15:52, 148.22s/it, 686."
     ]
    },
    {
     "name": "stdout",
     "output_type": "stream",
     "text": [
      "[I 2025-04-19 04:46:39,308] Trial 4 finished with value: 534.7964223073616 and parameters: {'lr': 0.05195338203966819, 'leaves': 181, 'ff': 0.9923241843387047, 'bf': 0.7059469200825295, 'l1': 3.922155366253441, 'l2': 1.3552651871879995, 'p': 1.3571516108124901}. Best is trial 1 with value: 534.019832621815.\n"
     ]
    },
    {
     "name": "stderr",
     "output_type": "stream",
     "text": [
      "Best trial: 1. Best value: 534.02:  10%| | 6/60 [13:19<2:02:37, 136.25s/it, 799."
     ]
    },
    {
     "name": "stdout",
     "output_type": "stream",
     "text": [
      "[I 2025-04-19 04:48:32,308] Trial 5 finished with value: 534.9001258715386 and parameters: {'lr': 0.03420763242884592, 'leaves': 105, 'ff': 0.8381478168970682, 'bf': 0.9535257080495807, 'l1': 4.351283711231099, 'l2': 1.5713559091503733, 'p': 1.2471939753993309}. Best is trial 1 with value: 534.019832621815.\n"
     ]
    },
    {
     "name": "stderr",
     "output_type": "stream",
     "text": [
      "Best trial: 1. Best value: 534.02:  12%| | 7/60 [16:35<2:17:33, 155.72s/it, 995."
     ]
    },
    {
     "name": "stdout",
     "output_type": "stream",
     "text": [
      "[I 2025-04-19 04:51:48,118] Trial 6 finished with value: 534.5289201757198 and parameters: {'lr': 0.048217243729864544, 'leaves': 197, 'ff': 0.902696850234338, 'bf': 0.8636846062595145, 'l1': 0.694417712363008, 'l2': 4.783430467639168, 'p': 1.1462130035040072}. Best is trial 1 with value: 534.019832621815.\n"
     ]
    },
    {
     "name": "stderr",
     "output_type": "stream",
     "text": [
      "Best trial: 7. Best value: 533.993:  13%|▏| 8/60 [19:39<2:22:54, 164.90s/it, 117"
     ]
    },
    {
     "name": "stdout",
     "output_type": "stream",
     "text": [
      "[I 2025-04-19 04:54:52,660] Trial 7 finished with value: 533.9925229961109 and parameters: {'lr': 0.013757706985667589, 'leaves': 180, 'ff': 0.5529661102865284, 'bf': 0.8555081410832162, 'l1': 3.320675255315755, 'l2': 2.319507149601634, 'p': 1.1949599360550052}. Best is trial 7 with value: 533.9925229961109.\n"
     ]
    },
    {
     "name": "stderr",
     "output_type": "stream",
     "text": [
      "Best trial: 7. Best value: 533.993:  15%|▏| 9/60 [22:40<2:24:27, 169.96s/it, 136"
     ]
    },
    {
     "name": "stdout",
     "output_type": "stream",
     "text": [
      "[I 2025-04-19 04:57:53,751] Trial 8 finished with value: 535.4843738689867 and parameters: {'lr': 0.07385801028325814, 'leaves': 207, 'ff': 0.5404850552726841, 'bf': 0.9812814370249818, 'l1': 1.1381189608735913, 'l2': 0.5013989679183012, 'p': 1.822349287119604}. Best is trial 7 with value: 533.9925229961109.\n"
     ]
    },
    {
     "name": "stderr",
     "output_type": "stream",
     "text": [
      "Best trial: 7. Best value: 533.993:  17%|▏| 10/60 [24:26<2:05:08, 150.17s/it, 14"
     ]
    },
    {
     "name": "stdout",
     "output_type": "stream",
     "text": [
      "[I 2025-04-19 04:59:39,609] Trial 9 finished with value: 535.3153780831168 and parameters: {'lr': 0.03205718901953754, 'leaves': 110, 'ff': 0.785597147951959, 'bf': 0.6665068834065491, 'l1': 2.9971571551408505, 'l2': 2.0819919723272386, 'p': 1.6815308126034316}. Best is trial 7 with value: 533.9925229961109.\n"
     ]
    },
    {
     "name": "stderr",
     "output_type": "stream",
     "text": [
      "Best trial: 10. Best value: 530.184:  18%|▏| 11/60 [25:17<1:37:45, 119.70s/it, 1"
     ]
    },
    {
     "name": "stdout",
     "output_type": "stream",
     "text": [
      "[I 2025-04-19 05:00:30,234] Trial 10 finished with value: 530.1835905119476 and parameters: {'lr': 0.010604459776501679, 'leaves': 46, 'ff': 0.6557399169048752, 'bf': 0.8229434848330053, 'l1': 3.449742475775843, 'l2': 3.4618577506824497, 'p': 1.1169054324689134}. Best is trial 10 with value: 530.1835905119476.\n"
     ]
    },
    {
     "name": "stderr",
     "output_type": "stream",
     "text": [
      "Best trial: 11. Best value: 528.651:  20%|▏| 12/60 [25:51<1:14:50, 93.55s/it, 15"
     ]
    },
    {
     "name": "stdout",
     "output_type": "stream",
     "text": [
      "[I 2025-04-19 05:01:03,979] Trial 11 finished with value: 528.6513467755422 and parameters: {'lr': 0.010462911382010538, 'leaves': 24, 'ff': 0.652550408403665, 'bf': 0.8395539796614897, 'l1': 3.38336415422032, 'l2': 3.545493506517036, 'p': 1.1262791104518546}. Best is trial 11 with value: 528.6513467755422.\n"
     ]
    },
    {
     "name": "stderr",
     "output_type": "stream",
     "text": [
      "Best trial: 11. Best value: 528.651:  22%|▏| 13/60 [26:19<57:55, 73.96s/it, 1579"
     ]
    },
    {
     "name": "stdout",
     "output_type": "stream",
     "text": [
      "[I 2025-04-19 05:01:32,837] Trial 12 finished with value: 534.233413827252 and parameters: {'lr': 0.15765586132663995, 'leaves': 19, 'ff': 0.6572819424187888, 'bf': 0.798096785813428, 'l1': 3.7121211119359416, 'l2': 3.5244290315600497, 'p': 1.1363579505491423}. Best is trial 11 with value: 528.6513467755422.\n"
     ]
    },
    {
     "name": "stderr",
     "output_type": "stream",
     "text": [
      "Best trial: 13. Best value: 527.915:  23%|▏| 14/60 [26:48<46:12, 60.28s/it, 1608"
     ]
    },
    {
     "name": "stdout",
     "output_type": "stream",
     "text": [
      "[I 2025-04-19 05:02:01,519] Trial 13 finished with value: 527.9146373739612 and parameters: {'lr': 0.010748258857986984, 'leaves': 17, 'ff': 0.6384914411653662, 'bf': 0.7848178304144785, 'l1': 4.974648375101739, 'l2': 3.369695024441758, 'p': 1.1058135923138788}. Best is trial 13 with value: 527.9146373739612.\n"
     ]
    },
    {
     "name": "stderr",
     "output_type": "stream",
     "text": [
      "Best trial: 13. Best value: 527.915:  25%|▎| 15/60 [29:38<1:10:02, 93.40s/it, 17"
     ]
    },
    {
     "name": "stdout",
     "output_type": "stream",
     "text": [
      "[I 2025-04-19 05:04:51,671] Trial 14 finished with value: 534.9105783330969 and parameters: {'lr': 0.019650686147256007, 'leaves': 245, 'ff': 0.669764756527768, 'bf': 0.7694999478244415, 'l1': 4.920060027283443, 'l2': 3.407807993112263, 'p': 1.3875937112119359}. Best is trial 13 with value: 527.9146373739612.\n"
     ]
    },
    {
     "name": "stderr",
     "output_type": "stream",
     "text": [
      "Best trial: 13. Best value: 527.915:  27%|▎| 16/60 [30:35<1:24:08, 114.74s/it, 1"
     ]
    },
    {
     "name": "stdout",
     "output_type": "stream",
     "text": [
      "[I 2025-04-19 05:05:48,766] Trial 15 finished with value: 531.467250427696 and parameters: {'lr': 0.010172688789416, 'leaves': 58, 'ff': 0.6160727241656997, 'bf': 0.9113697152889215, 'l1': 2.0951444171525315, 'l2': 4.273796918003544, 'p': 1.2583938888497492}. Best is trial 13 with value: 527.9146373739612.\n",
      "Best LC params: {'lr': 0.010748258857986984, 'leaves': 17, 'ff': 0.6384914411653662, 'bf': 0.7848178304144785, 'l1': 4.974648375101739, 'l2': 3.369695024441758, 'p': 1.1058135923138788}\n"
     ]
    },
    {
     "name": "stderr",
     "output_type": "stream",
     "text": [
      "\n"
     ]
    }
   ],
   "source": [
    "# a) Loss_Cost (Tweedie regression)\n",
    "skf_reg = StratifiedKFold(n_splits=5, shuffle=True, random_state=42)\n",
    "best_lc = tune_lightgbm(\n",
    "            X_reg_train, Y_reg_train[\"Loss_Cost\"],\n",
    "            skf_reg, \"tweedie\", \"rmse\")\n",
    "print(\"Best LC params:\", best_lc)"
   ]
  },
  {
   "cell_type": "markdown",
   "metadata": {},
   "source": [
    "### HALC"
   ]
  },
  {
   "cell_type": "code",
   "execution_count": 38,
   "metadata": {
    "scrolled": true
   },
   "outputs": [
    {
     "name": "stderr",
     "output_type": "stream",
     "text": [
      "[I 2025-04-19 05:05:48,779] A new study created in memory with name: no-name-ceb40e14-fc55-4ab9-b59e-77324f754972\n",
      "Best trial: 0. Best value: 1161.3:   2%| | 1/60 [00:53<52:50, 53.74s/it, 53.74/1"
     ]
    },
    {
     "name": "stdout",
     "output_type": "stream",
     "text": [
      "[I 2025-04-19 05:06:42,519] Trial 0 finished with value: 1161.2982193134587 and parameters: {'lr': 0.06521472911186472, 'leaves': 43, 'ff': 0.5343117980000834, 'bf': 0.9511078509739688, 'l1': 1.8458086631584232, 'l2': 0.045960108316501214, 'p': 1.6583592642591882}. Best is trial 0 with value: 1161.2982193134587.\n"
     ]
    },
    {
     "name": "stderr",
     "output_type": "stream",
     "text": [
      "Best trial: 0. Best value: 1161.3:   3%| | 2/60 [01:34<44:29, 46.02s/it, 94.36/1"
     ]
    },
    {
     "name": "stdout",
     "output_type": "stream",
     "text": [
      "[I 2025-04-19 05:07:23,135] Trial 1 finished with value: 1169.7231733843369 and parameters: {'lr': 0.18655824673704682, 'leaves': 25, 'ff': 0.5469591037037946, 'bf': 0.5702052871085127, 'l1': 1.4413061364134099, 'l2': 2.258850830571624, 'p': 1.689733221774366}. Best is trial 0 with value: 1161.2982193134587.\n"
     ]
    },
    {
     "name": "stderr",
     "output_type": "stream",
     "text": [
      "Best trial: 2. Best value: 1156.09:   5%| | 3/60 [02:28<47:07, 49.60s/it, 148.22"
     ]
    },
    {
     "name": "stdout",
     "output_type": "stream",
     "text": [
      "[I 2025-04-19 05:08:16,999] Trial 2 finished with value: 1156.0933555383176 and parameters: {'lr': 0.011529065001747767, 'leaves': 46, 'ff': 0.7671386565578402, 'bf': 0.6593634517966287, 'l1': 0.6826736026918478, 'l2': 2.9683011599298146, 'p': 1.3800416656678907}. Best is trial 2 with value: 1156.0933555383176.\n"
     ]
    },
    {
     "name": "stderr",
     "output_type": "stream",
     "text": [
      "Best trial: 2. Best value: 1156.09:   7%| | 4/60 [05:43<1:40:09, 107.31s/it, 343"
     ]
    },
    {
     "name": "stdout",
     "output_type": "stream",
     "text": [
      "[I 2025-04-19 05:11:32,766] Trial 3 finished with value: 1160.6975723587514 and parameters: {'lr': 0.1354278150683325, 'leaves': 255, 'ff': 0.521145647763823, 'bf': 0.7029372132520524, 'l1': 1.0255825828714897, 'l2': 2.95064790821573, 'p': 1.103889749612235}. Best is trial 2 with value: 1156.0933555383176.\n"
     ]
    },
    {
     "name": "stderr",
     "output_type": "stream",
     "text": [
      "Best trial: 2. Best value: 1156.09:   8%| | 5/60 [08:28<1:57:24, 128.07s/it, 508"
     ]
    },
    {
     "name": "stdout",
     "output_type": "stream",
     "text": [
      "[I 2025-04-19 05:14:17,663] Trial 4 finished with value: 1161.0547081584518 and parameters: {'lr': 0.08723317337746563, 'leaves': 210, 'ff': 0.6742329908082023, 'bf': 0.8768822547549059, 'l1': 1.3779017371803075, 'l2': 4.947426318184477, 'p': 1.240215573087234}. Best is trial 2 with value: 1156.0933555383176.\n"
     ]
    },
    {
     "name": "stderr",
     "output_type": "stream",
     "text": [
      "Best trial: 2. Best value: 1156.09:  10%| | 6/60 [11:06<2:04:16, 138.08s/it, 666"
     ]
    },
    {
     "name": "stdout",
     "output_type": "stream",
     "text": [
      "[I 2025-04-19 05:16:55,156] Trial 5 finished with value: 1161.1769998318484 and parameters: {'lr': 0.015170043311859189, 'leaves': 194, 'ff': 0.7635349570004378, 'bf': 0.6843157680268034, 'l1': 4.187275568158027, 'l2': 2.1064548132302807, 'p': 1.5736878702829633}. Best is trial 2 with value: 1156.0933555383176.\n"
     ]
    },
    {
     "name": "stderr",
     "output_type": "stream",
     "text": [
      "Best trial: 2. Best value: 1156.09:  12%| | 7/60 [13:15<1:59:29, 135.27s/it, 795"
     ]
    },
    {
     "name": "stdout",
     "output_type": "stream",
     "text": [
      "[I 2025-04-19 05:19:04,662] Trial 6 finished with value: 1161.4658526412406 and parameters: {'lr': 0.03494106749404704, 'leaves': 213, 'ff': 0.54486463725074, 'bf': 0.5176970339999898, 'l1': 4.906851897706202, 'l2': 4.936112772959454, 'p': 1.8679870907484868}. Best is trial 2 with value: 1156.0933555383176.\n"
     ]
    },
    {
     "name": "stderr",
     "output_type": "stream",
     "text": [
      "Best trial: 2. Best value: 1156.09:  13%|▏| 8/60 [15:58<2:04:43, 143.91s/it, 958"
     ]
    },
    {
     "name": "stdout",
     "output_type": "stream",
     "text": [
      "[I 2025-04-19 05:21:47,067] Trial 7 finished with value: 1161.430849165494 and parameters: {'lr': 0.013464531348688562, 'leaves': 204, 'ff': 0.9842299019384901, 'bf': 0.8771529639645523, 'l1': 4.94505841195757, 'l2': 2.6054083254888316, 'p': 1.7352565582833084}. Best is trial 2 with value: 1156.0933555383176.\n"
     ]
    },
    {
     "name": "stderr",
     "output_type": "stream",
     "text": [
      "Best trial: 2. Best value: 1156.09:  15%|▏| 9/60 [18:35<2:05:48, 148.01s/it, 111"
     ]
    },
    {
     "name": "stdout",
     "output_type": "stream",
     "text": [
      "[I 2025-04-19 05:24:24,100] Trial 8 finished with value: 1161.5182412229835 and parameters: {'lr': 0.027122777432659877, 'leaves': 145, 'ff': 0.6710028874282146, 'bf': 0.8364316552078335, 'l1': 2.7882551004000304, 'l2': 3.6845973073739207, 'p': 1.7745512677385205}. Best is trial 2 with value: 1156.0933555383176.\n"
     ]
    },
    {
     "name": "stderr",
     "output_type": "stream",
     "text": [
      "Best trial: 2. Best value: 1156.09:  17%|▏| 10/60 [19:28<1:39:02, 118.85s/it, 11"
     ]
    },
    {
     "name": "stdout",
     "output_type": "stream",
     "text": [
      "[I 2025-04-19 05:25:17,638] Trial 9 finished with value: 1157.3409332048939 and parameters: {'lr': 0.012259717209742015, 'leaves': 51, 'ff': 0.8975815182151343, 'bf': 0.7205143285860784, 'l1': 1.3735002582746614, 'l2': 3.834474228116012, 'p': 1.4543660561895937}. Best is trial 2 with value: 1156.0933555383176.\n"
     ]
    },
    {
     "name": "stderr",
     "output_type": "stream",
     "text": [
      "Best trial: 2. Best value: 1156.09:  18%|▏| 11/60 [20:56<1:29:22, 109.45s/it, 12"
     ]
    },
    {
     "name": "stdout",
     "output_type": "stream",
     "text": [
      "[I 2025-04-19 05:26:45,769] Trial 10 finished with value: 1158.8596956140414 and parameters: {'lr': 0.02409198196226836, 'leaves': 94, 'ff': 0.821343613064504, 'bf': 0.6145016200191429, 'l1': 0.12533910029823492, 'l2': 1.1285185954747696, 'p': 1.3685465335132636}. Best is trial 2 with value: 1156.0933555383176.\n"
     ]
    },
    {
     "name": "stderr",
     "output_type": "stream",
     "text": [
      "Best trial: 2. Best value: 1156.09:  20%|▏| 12/60 [22:08<1:18:20, 97.93s/it, 132"
     ]
    },
    {
     "name": "stdout",
     "output_type": "stream",
     "text": [
      "[I 2025-04-19 05:27:57,371] Trial 11 finished with value: 1158.3168017189198 and parameters: {'lr': 0.010542630865188614, 'leaves': 76, 'ff': 0.8888811085403193, 'bf': 0.7692251408314337, 'l1': 0.21522766019375084, 'l2': 3.8883254695870972, 'p': 1.4496455052617199}. Best is trial 2 with value: 1156.0933555383176.\n"
     ]
    },
    {
     "name": "stderr",
     "output_type": "stream",
     "text": [
      "Best trial: 2. Best value: 1156.09:  22%|▏| 13/60 [23:35<1:14:12, 94.73s/it, 141"
     ]
    },
    {
     "name": "stdout",
     "output_type": "stream",
     "text": [
      "[I 2025-04-19 05:29:24,719] Trial 12 finished with value: 1159.245905215858 and parameters: {'lr': 0.018317196620821135, 'leaves': 81, 'ff': 0.897688772946784, 'bf': 0.7565129635645976, 'l1': 2.660700598913923, 'l2': 3.793640250279702, 'p': 1.382558547046754}. Best is trial 2 with value: 1156.0933555383176.\n"
     ]
    },
    {
     "name": "stderr",
     "output_type": "stream",
     "text": [
      "Best trial: 2. Best value: 1156.09:  23%|▏| 14/60 [25:42<1:19:53, 104.20s/it, 15"
     ]
    },
    {
     "name": "stdout",
     "output_type": "stream",
     "text": [
      "[I 2025-04-19 05:31:30,797] Trial 13 finished with value: 1157.1127387979127 and parameters: {'lr': 0.011032014305875304, 'leaves': 123, 'ff': 0.9965358135685529, 'bf': 0.6433225620501617, 'l1': 0.7862016120296134, 'l2': 3.194601478954019, 'p': 1.2676712658746654}. Best is trial 2 with value: 1156.0933555383176.\n"
     ]
    },
    {
     "name": "stderr",
     "output_type": "stream",
     "text": [
      "Best trial: 2. Best value: 1156.09:  25%|▎| 15/60 [28:20<1:30:22, 120.51s/it, 17"
     ]
    },
    {
     "name": "stdout",
     "output_type": "stream",
     "text": [
      "[I 2025-04-19 05:34:09,111] Trial 14 finished with value: 1159.6714990395099 and parameters: {'lr': 0.046605941235184536, 'leaves': 132, 'ff': 0.996180092188257, 'bf': 0.6225788546389156, 'l1': 0.7393894718102201, 'l2': 1.6040871079120098, 'p': 1.2482275860981502}. Best is trial 2 with value: 1156.0933555383176.\n"
     ]
    },
    {
     "name": "stderr",
     "output_type": "stream",
     "text": [
      "Best trial: 2. Best value: 1156.09:  27%|▎| 16/60 [30:03<1:22:38, 112.70s/it, 18"
     ]
    },
    {
     "name": "stdout",
     "output_type": "stream",
     "text": [
      "[I 2025-04-19 05:35:51,913] Trial 15 finished with value: 1158.6522452867252 and parameters: {'lr': 0.022179318656875637, 'leaves': 123, 'ff': 0.6618219763005733, 'bf': 0.6461186862543706, 'l1': 3.5372677996619006, 'l2': 3.215707961002978, 'p': 1.242829888515807}. Best is trial 2 with value: 1156.0933555383176.\n",
      "Best HALC params: {'lr': 0.011529065001747767, 'leaves': 46, 'ff': 0.7671386565578402, 'bf': 0.6593634517966287, 'l1': 0.6826736026918478, 'l2': 2.9683011599298146, 'p': 1.3800416656678907}\n"
     ]
    },
    {
     "name": "stderr",
     "output_type": "stream",
     "text": [
      "\n"
     ]
    }
   ],
   "source": [
    "# b) HALC (Tweedie regression)\n",
    "best_halc = tune_lightgbm(\n",
    "            X_reg_train, Y_reg_train[\"Historically_Adjusted_Loss_Cost\"],\n",
    "            skf_reg, \"tweedie\", \"rmse\")\n",
    "print(\"Best HALC params:\", best_halc)"
   ]
  },
  {
   "cell_type": "markdown",
   "metadata": {},
   "source": [
    "### Claim Status"
   ]
  },
  {
   "cell_type": "code",
   "execution_count": 39,
   "metadata": {},
   "outputs": [
    {
     "name": "stderr",
     "output_type": "stream",
     "text": [
      "[I 2025-04-19 05:35:51,922] A new study created in memory with name: no-name-afa663c0-4daa-4622-afc5-c9e1d6516227\n",
      "Best trial: 0. Best value: 0.598991:   2%| | 1/60 [01:40<1:39:04, 100.75s/it, 10"
     ]
    },
    {
     "name": "stdout",
     "output_type": "stream",
     "text": [
      "[I 2025-04-19 05:37:32,671] Trial 0 finished with value: 0.5989912307601483 and parameters: {'lr': 0.014445169854203976, 'leaves': 112, 'ff': 0.6370189931686325, 'bf': 0.8532807560122474, 'l1': 2.63828705176095, 'l2': 0.03914634118927507}. Best is trial 0 with value: 0.5989912307601483.\n"
     ]
    },
    {
     "name": "stderr",
     "output_type": "stream",
     "text": [
      "Best trial: 1. Best value: 0.602095:   3%| | 2/60 [02:22<1:03:46, 65.97s/it, 142"
     ]
    },
    {
     "name": "stdout",
     "output_type": "stream",
     "text": [
      "[I 2025-04-19 05:38:14,289] Trial 1 finished with value: 0.6020954923417213 and parameters: {'lr': 0.09080648126400748, 'leaves': 33, 'ff': 0.766395757418777, 'bf': 0.9719095746657977, 'l1': 4.902992361739368, 'l2': 1.6904162014195983}. Best is trial 1 with value: 0.6020954923417213.\n"
     ]
    },
    {
     "name": "stderr",
     "output_type": "stream",
     "text": [
      "Best trial: 1. Best value: 0.602095:   5%| | 3/60 [03:40<1:07:56, 71.52s/it, 220"
     ]
    },
    {
     "name": "stdout",
     "output_type": "stream",
     "text": [
      "[I 2025-04-19 05:39:32,420] Trial 2 finished with value: 0.5887148013455106 and parameters: {'lr': 0.06150571037357617, 'leaves': 97, 'ff': 0.5466923911544369, 'bf': 0.6301160355286437, 'l1': 1.3552642442439806, 'l2': 3.642300047665237}. Best is trial 1 with value: 0.6020954923417213.\n"
     ]
    },
    {
     "name": "stderr",
     "output_type": "stream",
     "text": [
      "Best trial: 1. Best value: 0.602095:   7%| | 4/60 [05:11<1:13:49, 79.10s/it, 311"
     ]
    },
    {
     "name": "stdout",
     "output_type": "stream",
     "text": [
      "[I 2025-04-19 05:41:03,143] Trial 3 finished with value: 0.5960444741668738 and parameters: {'lr': 0.08936715555994391, 'leaves': 115, 'ff': 0.8282913658561987, 'bf': 0.5576818200311753, 'l1': 3.79331444941895, 'l2': 2.563665178781958}. Best is trial 1 with value: 0.6020954923417213.\n"
     ]
    },
    {
     "name": "stderr",
     "output_type": "stream",
     "text": [
      "Best trial: 1. Best value: 0.602095:   8%| | 5/60 [06:20<1:09:12, 75.49s/it, 380"
     ]
    },
    {
     "name": "stdout",
     "output_type": "stream",
     "text": [
      "[I 2025-04-19 05:42:12,240] Trial 4 finished with value: 0.5943107292284056 and parameters: {'lr': 0.1611229620669986, 'leaves': 249, 'ff': 0.8866947562087546, 'bf': 0.6578607147993889, 'l1': 3.7936829466955606, 'l2': 1.7295675485414697}. Best is trial 1 with value: 0.6020954923417213.\n"
     ]
    },
    {
     "name": "stderr",
     "output_type": "stream",
     "text": [
      "Best trial: 1. Best value: 0.602095:  10%| | 6/60 [07:48<1:11:52, 79.87s/it, 468"
     ]
    },
    {
     "name": "stdout",
     "output_type": "stream",
     "text": [
      "[I 2025-04-19 05:43:40,604] Trial 5 finished with value: 0.5994130599827493 and parameters: {'lr': 0.026218643768209083, 'leaves': 177, 'ff': 0.7659197137566198, 'bf': 0.5636237639250876, 'l1': 4.0855006781856, 'l2': 0.8564767402042334}. Best is trial 1 with value: 0.6020954923417213.\n"
     ]
    },
    {
     "name": "stderr",
     "output_type": "stream",
     "text": [
      "Best trial: 1. Best value: 0.602095:  12%| | 7/60 [11:00<1:42:54, 116.51s/it, 66"
     ]
    },
    {
     "name": "stdout",
     "output_type": "stream",
     "text": [
      "[I 2025-04-19 05:46:52,544] Trial 6 finished with value: 0.5860951149624951 and parameters: {'lr': 0.05620919113031537, 'leaves': 153, 'ff': 0.9155278588077382, 'bf': 0.6238660259651629, 'l1': 1.244547002146383, 'l2': 1.038889969760099}. Best is trial 1 with value: 0.6020954923417213.\n"
     ]
    },
    {
     "name": "stderr",
     "output_type": "stream",
     "text": [
      "Best trial: 1. Best value: 0.602095:  13%|▏| 8/60 [14:22<2:04:28, 143.62s/it, 86"
     ]
    },
    {
     "name": "stdout",
     "output_type": "stream",
     "text": [
      "[I 2025-04-19 05:50:14,227] Trial 7 finished with value: 0.5949967505424085 and parameters: {'lr': 0.029352472142950965, 'leaves': 218, 'ff': 0.5287154390602876, 'bf': 0.9115163800503033, 'l1': 1.9874921173244953, 'l2': 4.6802978131047315}. Best is trial 1 with value: 0.6020954923417213.\n"
     ]
    },
    {
     "name": "stderr",
     "output_type": "stream",
     "text": [
      "Best trial: 1. Best value: 0.602095:  15%|▏| 9/60 [16:41<2:01:00, 142.35s/it, 10"
     ]
    },
    {
     "name": "stdout",
     "output_type": "stream",
     "text": [
      "[I 2025-04-19 05:52:33,786] Trial 8 finished with value: 0.580655193980071 and parameters: {'lr': 0.15302109777175532, 'leaves': 147, 'ff': 0.9620061142643587, 'bf': 0.5598577388951961, 'l1': 0.2733986193496374, 'l2': 4.049488320083241}. Best is trial 1 with value: 0.6020954923417213.\n"
     ]
    },
    {
     "name": "stderr",
     "output_type": "stream",
     "text": [
      "Best trial: 9. Best value: 0.603705:  17%|▏| 10/60 [17:23<1:32:42, 111.24s/it, 1"
     ]
    },
    {
     "name": "stdout",
     "output_type": "stream",
     "text": [
      "[I 2025-04-19 05:53:15,370] Trial 9 finished with value: 0.6037052283174034 and parameters: {'lr': 0.1293442514221026, 'leaves': 127, 'ff': 0.7513170082051213, 'bf': 0.9610726754029675, 'l1': 4.32053629112189, 'l2': 1.8477907117358527}. Best is trial 9 with value: 0.6037052283174034.\n"
     ]
    },
    {
     "name": "stderr",
     "output_type": "stream",
     "text": [
      "Best trial: 9. Best value: 0.603705:  18%|▏| 11/60 [18:05<1:13:37, 90.15s/it, 10"
     ]
    },
    {
     "name": "stdout",
     "output_type": "stream",
     "text": [
      "[I 2025-04-19 05:53:57,697] Trial 10 finished with value: 0.5956703562366874 and parameters: {'lr': 0.19892064046216357, 'leaves': 53, 'ff': 0.6614408989979601, 'bf': 0.7854701480987298, 'l1': 2.902186328609241, 'l2': 2.8719817323381935}. Best is trial 9 with value: 0.6037052283174034.\n"
     ]
    },
    {
     "name": "stderr",
     "output_type": "stream",
     "text": [
      "Best trial: 11. Best value: 0.608632:  20%|▏| 12/60 [18:36<57:44, 72.18s/it, 111"
     ]
    },
    {
     "name": "stdout",
     "output_type": "stream",
     "text": [
      "[I 2025-04-19 05:54:28,789] Trial 11 finished with value: 0.6086316775909035 and parameters: {'lr': 0.09450042626216652, 'leaves': 24, 'ff': 0.7291912474381439, 'bf': 0.9971563316212833, 'l1': 4.710748559379055, 'l2': 1.9274546077336518}. Best is trial 11 with value: 0.6086316775909035.\n"
     ]
    },
    {
     "name": "stderr",
     "output_type": "stream",
     "text": [
      "Best trial: 11. Best value: 0.608632:  22%|▏| 13/60 [19:16<48:55, 62.46s/it, 115"
     ]
    },
    {
     "name": "stdout",
     "output_type": "stream",
     "text": [
      "[I 2025-04-19 05:55:08,869] Trial 12 finished with value: 0.6046883707816022 and parameters: {'lr': 0.10381205412184377, 'leaves': 69, 'ff': 0.6748312059454998, 'bf': 0.9795316941765874, 'l1': 4.9650648964009525, 'l2': 2.2536373039442967}. Best is trial 11 with value: 0.6086316775909035.\n"
     ]
    },
    {
     "name": "stderr",
     "output_type": "stream",
     "text": [
      "Best trial: 11. Best value: 0.608632:  23%|▏| 14/60 [19:50<41:17, 53.86s/it, 119"
     ]
    },
    {
     "name": "stdout",
     "output_type": "stream",
     "text": [
      "[I 2025-04-19 05:55:42,866] Trial 13 finished with value: 0.6080779993968219 and parameters: {'lr': 0.08849660275966191, 'leaves': 80, 'ff': 0.6577474734216049, 'bf': 0.9966023740130123, 'l1': 4.867308801739145, 'l2': 3.1563842047785045}. Best is trial 11 with value: 0.6086316775909035.\n"
     ]
    },
    {
     "name": "stderr",
     "output_type": "stream",
     "text": [
      "Best trial: 14. Best value: 0.632402:  25%|▎| 15/60 [20:22<35:23, 47.20s/it, 122"
     ]
    },
    {
     "name": "stdout",
     "output_type": "stream",
     "text": [
      "[I 2025-04-19 05:56:14,621] Trial 14 finished with value: 0.6324018312434373 and parameters: {'lr': 0.04077779355691961, 'leaves': 16, 'ff': 0.59462558641205, 'bf': 0.880842287616021, 'l1': 3.402467003870428, 'l2': 3.297185165203797}. Best is trial 14 with value: 0.6324018312434373.\n"
     ]
    },
    {
     "name": "stderr",
     "output_type": "stream",
     "text": [
      "Best trial: 14. Best value: 0.632402:  27%|▎| 16/60 [20:58<32:01, 43.66s/it, 125"
     ]
    },
    {
     "name": "stdout",
     "output_type": "stream",
     "text": [
      "[I 2025-04-19 05:56:50,064] Trial 15 finished with value: 0.6265179201063165 and parameters: {'lr': 0.0365455264670855, 'leaves': 20, 'ff': 0.5891504312267687, 'bf': 0.8578157867044721, 'l1': 3.271544082991067, 'l2': 3.568548505531864}. Best is trial 14 with value: 0.6324018312434373.\n"
     ]
    },
    {
     "name": "stderr",
     "output_type": "stream",
     "text": [
      "Best trial: 14. Best value: 0.632402:  28%|▎| 17/60 [21:36<30:05, 41.99s/it, 129"
     ]
    },
    {
     "name": "stdout",
     "output_type": "stream",
     "text": [
      "[I 2025-04-19 05:57:28,160] Trial 16 finished with value: 0.6305680686979626 and parameters: {'lr': 0.03204233313780679, 'leaves': 22, 'ff': 0.5875331281094813, 'bf': 0.8125046016381354, 'l1': 3.1939566931363377, 'l2': 4.558862215160811}. Best is trial 14 with value: 0.6324018312434373.\n"
     ]
    },
    {
     "name": "stderr",
     "output_type": "stream",
     "text": [
      "Best trial: 14. Best value: 0.632402:  30%|▎| 18/60 [22:39<33:50, 48.35s/it, 135"
     ]
    },
    {
     "name": "stdout",
     "output_type": "stream",
     "text": [
      "[I 2025-04-19 05:58:31,335] Trial 17 finished with value: 0.6114184795413615 and parameters: {'lr': 0.021402065260597732, 'leaves': 52, 'ff': 0.6040431735549737, 'bf': 0.7429747602406799, 'l1': 3.2358359822456655, 'l2': 4.818728595231198}. Best is trial 14 with value: 0.6324018312434373.\n"
     ]
    },
    {
     "name": "stderr",
     "output_type": "stream",
     "text": [
      "Best trial: 18. Best value: 0.634729:  32%|▎| 19/60 [23:40<35:35, 52.09s/it, 142"
     ]
    },
    {
     "name": "stdout",
     "output_type": "stream",
     "text": [
      "[I 2025-04-19 05:59:32,121] Trial 18 finished with value: 0.6347289730207339 and parameters: {'lr': 0.011035670950037636, 'leaves': 49, 'ff': 0.5679135897309378, 'bf': 0.7434429638070498, 'l1': 2.096829457485716, 'l2': 4.057510435899874}. Best is trial 18 with value: 0.6347289730207339.\n"
     ]
    },
    {
     "name": "stderr",
     "output_type": "stream",
     "text": [
      "Best trial: 19. Best value: 0.638211:  33%|▎| 20/60 [24:45<37:19, 55.98s/it, 148"
     ]
    },
    {
     "name": "stdout",
     "output_type": "stream",
     "text": [
      "[I 2025-04-19 06:00:37,175] Trial 19 finished with value: 0.6382107483853728 and parameters: {'lr': 0.010119963081896196, 'leaves': 52, 'ff': 0.5081121611375652, 'bf': 0.7147181459028071, 'l1': 1.9836507701169097, 'l2': 4.0626706557419725}. Best is trial 19 with value: 0.6382107483853728.\n"
     ]
    },
    {
     "name": "stderr",
     "output_type": "stream",
     "text": [
      "Best trial: 19. Best value: 0.638211:  35%|▎| 21/60 [26:44<48:48, 75.08s/it, 160"
     ]
    },
    {
     "name": "stdout",
     "output_type": "stream",
     "text": [
      "[I 2025-04-19 06:02:36,786] Trial 20 finished with value: 0.6144456847935608 and parameters: {'lr': 0.010008227334120968, 'leaves': 92, 'ff': 0.5142291040540798, 'bf': 0.7076156058355723, 'l1': 2.1037479044035754, 'l2': 4.258153080753306}. Best is trial 19 with value: 0.6382107483853728.\n"
     ]
    },
    {
     "name": "stderr",
     "output_type": "stream",
     "text": [
      "Best trial: 19. Best value: 0.638211:  37%|▎| 22/60 [28:44<55:57, 88.36s/it, 172"
     ]
    },
    {
     "name": "stdout",
     "output_type": "stream",
     "text": [
      "[I 2025-04-19 06:04:36,127] Trial 21 finished with value: 0.6365985640791583 and parameters: {'lr': 0.010171521160854059, 'leaves': 48, 'ff': 0.5526352248599009, 'bf': 0.7037489781620829, 'l1': 2.049140870480311, 'l2': 3.6688075913474245}. Best is trial 19 with value: 0.6382107483853728.\n"
     ]
    },
    {
     "name": "stderr",
     "output_type": "stream",
     "text": [
      "Best trial: 19. Best value: 0.638211:  38%|▍| 23/60 [29:49<50:10, 81.36s/it, 178"
     ]
    },
    {
     "name": "stdout",
     "output_type": "stream",
     "text": [
      "[I 2025-04-19 06:05:41,157] Trial 22 finished with value: 0.6330472020534054 and parameters: {'lr': 0.01033789952025201, 'leaves': 54, 'ff': 0.507056838370764, 'bf': 0.6965158519104644, 'l1': 1.529097503226497, 'l2': 3.9255395322195166}. Best is trial 19 with value: 0.6382107483853728.\n"
     ]
    },
    {
     "name": "stderr",
     "output_type": "stream",
     "text": [
      "Best trial: 19. Best value: 0.638211:  40%|▍| 24/60 [31:03<46:35, 77.67s/it, 186"
     ]
    },
    {
     "name": "stdout",
     "output_type": "stream",
     "text": [
      "[I 2025-04-19 06:06:55,918] Trial 23 finished with value: 0.6028371145291882 and parameters: {'lr': 0.015400454643103034, 'leaves': 70, 'ff': 0.5749679663702143, 'bf': 0.7580106158784473, 'l1': 0.8049869315252502, 'l2': 4.327065159553727}. Best is trial 19 with value: 0.6382107483853728.\n",
      "Best CS params: {'lr': 0.010119963081896196, 'leaves': 52, 'ff': 0.5081121611375652, 'bf': 0.7147181459028071, 'l1': 1.9836507701169097, 'l2': 4.0626706557419725}\n"
     ]
    },
    {
     "name": "stderr",
     "output_type": "stream",
     "text": [
      "\n"
     ]
    }
   ],
   "source": [
    "# c) Claim_Status (binary classification)\n",
    "skf_cls = StratifiedKFold(n_splits=5, shuffle=True, random_state=42)\n",
    "best_cls = tune_lightgbm(\n",
    "            X_class_train, Y_class_train.squeeze(),   # Y_class is a DF; make it a Series\n",
    "            skf_cls, \"binary\", \"auc\")\n",
    "print(\"Best CS params:\", best_cls)"
   ]
  },
  {
   "cell_type": "code",
   "execution_count": null,
   "metadata": {},
   "outputs": [],
   "source": []
  }
 ],
 "metadata": {
  "kernelspec": {
   "display_name": "Python (DSO530)",
   "language": "python",
   "name": "dso530"
  },
  "language_info": {
   "codemirror_mode": {
    "name": "ipython",
    "version": 3
   },
   "file_extension": ".py",
   "mimetype": "text/x-python",
   "name": "python",
   "nbconvert_exporter": "python",
   "pygments_lexer": "ipython3",
   "version": "3.11.11"
  }
 },
 "nbformat": 4,
 "nbformat_minor": 4
}
