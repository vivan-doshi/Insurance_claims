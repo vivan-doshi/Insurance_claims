{
 "cells": [
  {
   "cell_type": "markdown",
   "metadata": {},
   "source": [
    "## Imports"
   ]
  },
  {
   "cell_type": "code",
   "execution_count": 4,
   "metadata": {},
   "outputs": [],
   "source": [
    "import os\n",
    "import pandas as pd\n",
    "import numpy as np\n",
    "import seaborn as sns\n",
    "import matplotlib.pyplot as plt\n",
    "import statsmodels.api as sm\n",
    "import statsmodels.formula.api as smf\n",
    "import lightgbm as lgb\n",
    "from sklearn.model_selection import GridSearchCV, train_test_split\n",
    "from sklearn.feature_selection import RFECV\n",
    "from lightgbm import LGBMRegressor"
   ]
  },
  {
   "cell_type": "markdown",
   "metadata": {},
   "source": [
    "## Change file location to Data"
   ]
  },
  {
   "cell_type": "code",
   "execution_count": 21,
   "metadata": {},
   "outputs": [],
   "source": [
    "head, tail = os.path.split(os.getcwd())\n",
    "os.chdir(os.path.join(head,'01_Data'))"
   ]
  },
  {
   "cell_type": "code",
   "execution_count": 23,
   "metadata": {},
   "outputs": [
    {
     "data": {
      "text/plain": [
       "['insurance_train.csv',\n",
       " 'cleaned_test.csv',\n",
       " 'cleaned_data.csv',\n",
       " 'insurance_test.csv',\n",
       " 'cleaned_test.pkl',\n",
       " 'cleaned_data.pkl']"
      ]
     },
     "execution_count": 23,
     "metadata": {},
     "output_type": "execute_result"
    }
   ],
   "source": [
    "os.listdir()"
   ]
  },
  {
   "cell_type": "markdown",
   "metadata": {},
   "source": [
    "## Reading data"
   ]
  },
  {
   "cell_type": "code",
   "execution_count": 24,
   "metadata": {},
   "outputs": [
    {
     "data": {
      "text/html": [
       "<div>\n",
       "<style scoped>\n",
       "    .dataframe tbody tr th:only-of-type {\n",
       "        vertical-align: middle;\n",
       "    }\n",
       "\n",
       "    .dataframe tbody tr th {\n",
       "        vertical-align: top;\n",
       "    }\n",
       "\n",
       "    .dataframe thead th {\n",
       "        text-align: right;\n",
       "    }\n",
       "</style>\n",
       "<table border=\"1\" class=\"dataframe\">\n",
       "  <thead>\n",
       "    <tr style=\"text-align: right;\">\n",
       "      <th></th>\n",
       "      <th>ID</th>\n",
       "      <th>Start_Date_Contract</th>\n",
       "      <th>Date_Last_Renewal</th>\n",
       "      <th>Date_Next_Renewal</th>\n",
       "      <th>Date_Of_Birth</th>\n",
       "      <th>Date_Of_DL_Issuance</th>\n",
       "      <th>Issurance_Broker_Agent_Channel</th>\n",
       "      <th>Years_Associates</th>\n",
       "      <th>Total_Policies_Entity</th>\n",
       "      <th>Max_Policy_Simultaneous_Force</th>\n",
       "      <th>...</th>\n",
       "      <th>Non_Continuation_Insurance_Flag</th>\n",
       "      <th>New_License</th>\n",
       "      <th>Car_Age_Cat</th>\n",
       "      <th>Ratio_Premium_Car_Value</th>\n",
       "      <th>Power_Wt_Ratio</th>\n",
       "      <th>Customer_Loyalty</th>\n",
       "      <th>New_Bhp_Risk</th>\n",
       "      <th>Years_Driving_At_Start_Date</th>\n",
       "      <th>Young_Driver</th>\n",
       "      <th>Young_Bhp_Risk</th>\n",
       "    </tr>\n",
       "  </thead>\n",
       "  <tbody>\n",
       "    <tr>\n",
       "      <th>0</th>\n",
       "      <td>34429</td>\n",
       "      <td>2017-06-01</td>\n",
       "      <td>2017-06-01</td>\n",
       "      <td>2018-06-01</td>\n",
       "      <td>1996-08-29</td>\n",
       "      <td>2016-05-31</td>\n",
       "      <td>0</td>\n",
       "      <td>1</td>\n",
       "      <td>1</td>\n",
       "      <td>1</td>\n",
       "      <td>...</td>\n",
       "      <td>1</td>\n",
       "      <td>0</td>\n",
       "      <td>Old</td>\n",
       "      <td>0.044787</td>\n",
       "      <td>0.072115</td>\n",
       "      <td>1.00</td>\n",
       "      <td>0</td>\n",
       "      <td>1</td>\n",
       "      <td>1</td>\n",
       "      <td>75</td>\n",
       "    </tr>\n",
       "    <tr>\n",
       "      <th>1</th>\n",
       "      <td>5552</td>\n",
       "      <td>2016-09-19</td>\n",
       "      <td>2018-09-19</td>\n",
       "      <td>2019-09-19</td>\n",
       "      <td>1992-04-30</td>\n",
       "      <td>2010-08-03</td>\n",
       "      <td>0</td>\n",
       "      <td>3</td>\n",
       "      <td>1</td>\n",
       "      <td>1</td>\n",
       "      <td>...</td>\n",
       "      <td>0</td>\n",
       "      <td>0</td>\n",
       "      <td>Standard</td>\n",
       "      <td>0.019446</td>\n",
       "      <td>0.085837</td>\n",
       "      <td>1.70</td>\n",
       "      <td>0</td>\n",
       "      <td>6</td>\n",
       "      <td>0</td>\n",
       "      <td>0</td>\n",
       "    </tr>\n",
       "    <tr>\n",
       "      <th>2</th>\n",
       "      <td>47700</td>\n",
       "      <td>2003-01-08</td>\n",
       "      <td>2018-01-08</td>\n",
       "      <td>2019-01-08</td>\n",
       "      <td>1972-03-23</td>\n",
       "      <td>1998-02-01</td>\n",
       "      <td>1</td>\n",
       "      <td>20</td>\n",
       "      <td>2</td>\n",
       "      <td>2</td>\n",
       "      <td>...</td>\n",
       "      <td>0</td>\n",
       "      <td>0</td>\n",
       "      <td>Old</td>\n",
       "      <td>0.015644</td>\n",
       "      <td>0.076923</td>\n",
       "      <td>8.15</td>\n",
       "      <td>0</td>\n",
       "      <td>5</td>\n",
       "      <td>0</td>\n",
       "      <td>0</td>\n",
       "    </tr>\n",
       "    <tr>\n",
       "      <th>3</th>\n",
       "      <td>25425</td>\n",
       "      <td>2015-10-01</td>\n",
       "      <td>2018-10-01</td>\n",
       "      <td>2019-10-01</td>\n",
       "      <td>1946-03-05</td>\n",
       "      <td>1964-08-07</td>\n",
       "      <td>0</td>\n",
       "      <td>8</td>\n",
       "      <td>2</td>\n",
       "      <td>3</td>\n",
       "      <td>...</td>\n",
       "      <td>0</td>\n",
       "      <td>0</td>\n",
       "      <td>Standard</td>\n",
       "      <td>0.010544</td>\n",
       "      <td>0.070565</td>\n",
       "      <td>4.15</td>\n",
       "      <td>0</td>\n",
       "      <td>51</td>\n",
       "      <td>0</td>\n",
       "      <td>0</td>\n",
       "    </tr>\n",
       "    <tr>\n",
       "      <th>4</th>\n",
       "      <td>4727</td>\n",
       "      <td>2017-01-26</td>\n",
       "      <td>2018-01-26</td>\n",
       "      <td>2019-01-26</td>\n",
       "      <td>1973-04-25</td>\n",
       "      <td>1998-07-24</td>\n",
       "      <td>0</td>\n",
       "      <td>9</td>\n",
       "      <td>1</td>\n",
       "      <td>1</td>\n",
       "      <td>...</td>\n",
       "      <td>0</td>\n",
       "      <td>0</td>\n",
       "      <td>Old</td>\n",
       "      <td>0.020250</td>\n",
       "      <td>0.047004</td>\n",
       "      <td>3.80</td>\n",
       "      <td>0</td>\n",
       "      <td>19</td>\n",
       "      <td>0</td>\n",
       "      <td>0</td>\n",
       "    </tr>\n",
       "  </tbody>\n",
       "</table>\n",
       "<p>5 rows × 46 columns</p>\n",
       "</div>"
      ],
      "text/plain": [
       "      ID Start_Date_Contract Date_Last_Renewal Date_Next_Renewal  \\\n",
       "0  34429          2017-06-01        2017-06-01        2018-06-01   \n",
       "1   5552          2016-09-19        2018-09-19        2019-09-19   \n",
       "2  47700          2003-01-08        2018-01-08        2019-01-08   \n",
       "3  25425          2015-10-01        2018-10-01        2019-10-01   \n",
       "4   4727          2017-01-26        2018-01-26        2019-01-26   \n",
       "\n",
       "  Date_Of_Birth Date_Of_DL_Issuance  Issurance_Broker_Agent_Channel  \\\n",
       "0    1996-08-29          2016-05-31                               0   \n",
       "1    1992-04-30          2010-08-03                               0   \n",
       "2    1972-03-23          1998-02-01                               1   \n",
       "3    1946-03-05          1964-08-07                               0   \n",
       "4    1973-04-25          1998-07-24                               0   \n",
       "\n",
       "   Years_Associates  Total_Policies_Entity  Max_Policy_Simultaneous_Force  \\\n",
       "0                 1                      1                              1   \n",
       "1                 3                      1                              1   \n",
       "2                20                      2                              2   \n",
       "3                 8                      2                              3   \n",
       "4                 9                      1                              1   \n",
       "\n",
       "   ...  Non_Continuation_Insurance_Flag  New_License  Car_Age_Cat  \\\n",
       "0  ...                                1            0          Old   \n",
       "1  ...                                0            0     Standard   \n",
       "2  ...                                0            0          Old   \n",
       "3  ...                                0            0     Standard   \n",
       "4  ...                                0            0          Old   \n",
       "\n",
       "   Ratio_Premium_Car_Value  Power_Wt_Ratio  Customer_Loyalty  New_Bhp_Risk  \\\n",
       "0                 0.044787        0.072115              1.00             0   \n",
       "1                 0.019446        0.085837              1.70             0   \n",
       "2                 0.015644        0.076923              8.15             0   \n",
       "3                 0.010544        0.070565              4.15             0   \n",
       "4                 0.020250        0.047004              3.80             0   \n",
       "\n",
       "   Years_Driving_At_Start_Date  Young_Driver  Young_Bhp_Risk  \n",
       "0                            1             1              75  \n",
       "1                            6             0               0  \n",
       "2                            5             0               0  \n",
       "3                           51             0               0  \n",
       "4                           19             0               0  \n",
       "\n",
       "[5 rows x 46 columns]"
      ]
     },
     "execution_count": 24,
     "metadata": {},
     "output_type": "execute_result"
    }
   ],
   "source": [
    "data = pd.read_pickle('cleaned_data.pkl')\n",
    "data.head()"
   ]
  },
  {
   "cell_type": "code",
   "execution_count": 26,
   "metadata": {},
   "outputs": [
    {
     "data": {
      "text/plain": [
       "Index(['ID', 'Start_Date_Contract', 'Date_Last_Renewal', 'Date_Next_Renewal',\n",
       "       'Date_Of_Birth', 'Date_Of_DL_Issuance',\n",
       "       'Issurance_Broker_Agent_Channel', 'Years_Associates',\n",
       "       'Total_Policies_Entity', 'Max_Policy_Simultaneous_Force',\n",
       "       'Max_Product_Simultaneous_Held', 'Policies_Terminated_Non_Payment',\n",
       "       'Half_Yearly_Payment_Method', 'Premium_Amt_Current_Yr',\n",
       "       'Total_Cost_Claims_Current_Yr', 'Total_Number_Claims_Current_Yr',\n",
       "       'Total_Number_Claims_Entire_Duration',\n",
       "       'Ratio_Claims_Total_Duration_Force',\n",
       "       'Motorbikes_Vans_Cars_Agricultural', 'Rural_Urban_Flag',\n",
       "       'Multiple_Drivers_Regular_Flag', 'Yr_Vehicle_Registration',\n",
       "       'Vehicle_Power_HP', 'Cylinder_Capacity', 'Market_Value_EOY19',\n",
       "       'Vehicle_Doors', 'Energy_Source', 'Vehicle_Wt_Kg', 'Loss_Cost',\n",
       "       'Historically_Adjusted_Loss_Cost', 'Claim_Status', 'Age',\n",
       "       'Years_Driving', 'Car_Age', 'Time_Since_Last_Renewal',\n",
       "       'Non_Payment_Termination', 'Non_Continuation_Insurance_Flag',\n",
       "       'New_License', 'Car_Age_Cat', 'Ratio_Premium_Car_Value',\n",
       "       'Power_Wt_Ratio', 'Customer_Loyalty', 'New_Bhp_Risk',\n",
       "       'Years_Driving_At_Start_Date', 'Young_Driver', 'Young_Bhp_Risk'],\n",
       "      dtype='object')"
      ]
     },
     "execution_count": 26,
     "metadata": {},
     "output_type": "execute_result"
    }
   ],
   "source": [
    "data.columns"
   ]
  },
  {
   "cell_type": "code",
   "execution_count": 27,
   "metadata": {},
   "outputs": [],
   "source": [
    "X = data.copy()"
   ]
  },
  {
   "cell_type": "code",
   "execution_count": 28,
   "metadata": {},
   "outputs": [
    {
     "data": {
      "text/plain": [
       "Index(['Start_Date_Contract', 'Date_Last_Renewal', 'Date_Next_Renewal',\n",
       "       'Date_Of_Birth', 'Date_Of_DL_Issuance',\n",
       "       'Issurance_Broker_Agent_Channel', 'Years_Associates',\n",
       "       'Total_Policies_Entity', 'Max_Policy_Simultaneous_Force',\n",
       "       'Max_Product_Simultaneous_Held', 'Policies_Terminated_Non_Payment',\n",
       "       'Half_Yearly_Payment_Method', 'Premium_Amt_Current_Yr',\n",
       "       'Motorbikes_Vans_Cars_Agricultural', 'Rural_Urban_Flag',\n",
       "       'Multiple_Drivers_Regular_Flag', 'Yr_Vehicle_Registration',\n",
       "       'Vehicle_Power_HP', 'Cylinder_Capacity', 'Market_Value_EOY19',\n",
       "       'Vehicle_Doors', 'Energy_Source', 'Vehicle_Wt_Kg', 'Age',\n",
       "       'Years_Driving', 'Car_Age', 'Time_Since_Last_Renewal',\n",
       "       'Non_Payment_Termination', 'Non_Continuation_Insurance_Flag',\n",
       "       'New_License', 'Car_Age_Cat', 'Ratio_Premium_Car_Value',\n",
       "       'Power_Wt_Ratio', 'Customer_Loyalty', 'New_Bhp_Risk',\n",
       "       'Years_Driving_At_Start_Date', 'Young_Driver', 'Young_Bhp_Risk'],\n",
       "      dtype='object')"
      ]
     },
     "execution_count": 28,
     "metadata": {},
     "output_type": "execute_result"
    }
   ],
   "source": [
    "X = X.drop(columns=['ID', 'Total_Cost_Claims_Current_Yr', 'Total_Number_Claims_Current_Yr',\n",
    "                    'Total_Number_Claims_Entire_Duration', 'Ratio_Claims_Total_Duration_Force',\n",
    "                    'Loss_Cost', 'Historically_Adjusted_Loss_Cost', 'Claim_Status'])\n",
    "X.columns"
   ]
  },
  {
   "cell_type": "code",
   "execution_count": 30,
   "metadata": {},
   "outputs": [],
   "source": [
    "Y_reg = data[['Loss_Cost','Historically_Adjusted_Loss_Cost']]\n",
    "Y_class = data[['Claim_Status']]"
   ]
  },
  {
   "cell_type": "markdown",
   "metadata": {},
   "source": [
    "## Fixing the X data"
   ]
  },
  {
   "cell_type": "code",
   "execution_count": 31,
   "metadata": {},
   "outputs": [
    {
     "data": {
      "text/plain": [
       "Start_Date_Contract                    0\n",
       "Date_Last_Renewal                      0\n",
       "Date_Next_Renewal                      0\n",
       "Date_Of_Birth                          0\n",
       "Date_Of_DL_Issuance                    0\n",
       "Issurance_Broker_Agent_Channel         0\n",
       "Years_Associates                       0\n",
       "Total_Policies_Entity                  0\n",
       "Max_Policy_Simultaneous_Force          0\n",
       "Max_Product_Simultaneous_Held          0\n",
       "Policies_Terminated_Non_Payment        0\n",
       "Half_Yearly_Payment_Method             0\n",
       "Premium_Amt_Current_Yr                 0\n",
       "Motorbikes_Vans_Cars_Agricultural      0\n",
       "Rural_Urban_Flag                       0\n",
       "Multiple_Drivers_Regular_Flag          0\n",
       "Yr_Vehicle_Registration                0\n",
       "Vehicle_Power_HP                       0\n",
       "Cylinder_Capacity                      0\n",
       "Market_Value_EOY19                     0\n",
       "Vehicle_Doors                          0\n",
       "Energy_Source                        593\n",
       "Vehicle_Wt_Kg                          0\n",
       "Age                                    0\n",
       "Years_Driving                          0\n",
       "Car_Age                                0\n",
       "Time_Since_Last_Renewal                0\n",
       "Non_Payment_Termination                0\n",
       "Non_Continuation_Insurance_Flag        0\n",
       "New_License                            0\n",
       "Car_Age_Cat                            0\n",
       "Ratio_Premium_Car_Value                0\n",
       "Power_Wt_Ratio                         0\n",
       "Customer_Loyalty                       0\n",
       "New_Bhp_Risk                           0\n",
       "Years_Driving_At_Start_Date            0\n",
       "Young_Driver                           0\n",
       "Young_Bhp_Risk                         0\n",
       "dtype: int64"
      ]
     },
     "execution_count": 31,
     "metadata": {},
     "output_type": "execute_result"
    }
   ],
   "source": [
    "X.isna().sum()"
   ]
  },
  {
   "cell_type": "code",
   "execution_count": 35,
   "metadata": {},
   "outputs": [
    {
     "data": {
      "text/plain": [
       "Energy_Source                        593\n",
       "Loss_Cost                          33300\n",
       "Historically_Adjusted_Loss_Cost    33300\n",
       "dtype: int64"
      ]
     },
     "execution_count": 35,
     "metadata": {},
     "output_type": "execute_result"
    }
   ],
   "source": [
    "data.isna().sum()[data.isna().sum() > 0]"
   ]
  },
  {
   "cell_type": "code",
   "execution_count": 39,
   "metadata": {},
   "outputs": [
    {
     "data": {
      "text/plain": [
       "Claim_Status\n",
       "0    564\n",
       "1     29\n",
       "Name: count, dtype: int64"
      ]
     },
     "execution_count": 39,
     "metadata": {},
     "output_type": "execute_result"
    }
   ],
   "source": [
    "data.loc[data['Energy_Source'].isna(),'Claim_Status'].value_counts()"
   ]
  },
  {
   "cell_type": "markdown",
   "metadata": {},
   "source": [
    "We can fill the X['Energy_Source'] with other"
   ]
  },
  {
   "cell_type": "code",
   "execution_count": 41,
   "metadata": {},
   "outputs": [
    {
     "data": {
      "text/plain": [
       "Energy_Source\n",
       "D        23074\n",
       "P        13784\n",
       "Other      593\n",
       "Name: count, dtype: int64"
      ]
     },
     "execution_count": 41,
     "metadata": {},
     "output_type": "execute_result"
    }
   ],
   "source": [
    "X['Energy_Source'] = X['Energy_Source'].fillna('Other')\n",
    "X['Energy_Source'].value_counts(dropna = False)"
   ]
  },
  {
   "cell_type": "markdown",
   "metadata": {},
   "source": [
    "Create categorical variables"
   ]
  },
  {
   "cell_type": "code",
   "execution_count": null,
   "metadata": {},
   "outputs": [],
   "source": []
  },
  {
   "cell_type": "markdown",
   "metadata": {},
   "source": [
    "## Fixing Y"
   ]
  },
  {
   "cell_type": "code",
   "execution_count": 42,
   "metadata": {},
   "outputs": [],
   "source": [
    "Y_reg = Y_reg.fillna(0)"
   ]
  },
  {
   "cell_type": "code",
   "execution_count": null,
   "metadata": {},
   "outputs": [],
   "source": []
  }
 ],
 "metadata": {
  "kernelspec": {
   "display_name": "DSO530",
   "language": "python",
   "name": "python3"
  },
  "language_info": {
   "codemirror_mode": {
    "name": "ipython",
    "version": 3
   },
   "file_extension": ".py",
   "mimetype": "text/x-python",
   "name": "python",
   "nbconvert_exporter": "python",
   "pygments_lexer": "ipython3",
   "version": "3.12.9"
  }
 },
 "nbformat": 4,
 "nbformat_minor": 2
}
