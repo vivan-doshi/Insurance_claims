{
 "cells": [
  {
   "cell_type": "markdown",
   "metadata": {},
   "source": [
    "## Imports"
   ]
  },
  {
   "cell_type": "code",
   "execution_count": 43,
   "metadata": {},
   "outputs": [],
   "source": [
    "import os\n",
    "import pandas as pd\n",
    "import numpy as np\n",
    "import seaborn as sns\n",
    "import matplotlib.pyplot as plt\n",
    "import statsmodels.api as sm\n",
    "import statsmodels.formula.api as smf\n",
    "import lightgbm as lgb\n",
    "from sklearn.model_selection import GridSearchCV, train_test_split\n",
    "from sklearn.feature_selection import RFECV\n",
    "from lightgbm import LGBMRegressor"
   ]
  },
  {
   "cell_type": "markdown",
   "metadata": {},
   "source": [
    "## Change file location to Data"
   ]
  },
  {
   "cell_type": "code",
   "execution_count": 44,
   "metadata": {},
   "outputs": [],
   "source": [
    "head, tail = os.path.split(os.getcwd())\n",
    "os.chdir(os.path.join(head,'01_Data'))"
   ]
  },
  {
   "cell_type": "code",
   "execution_count": 45,
   "metadata": {},
   "outputs": [
    {
     "data": {
      "text/plain": [
       "['insurance_train.csv',\n",
       " 'cleaned_test.csv',\n",
       " 'cleaned_data.csv',\n",
       " 'insurance_test.csv',\n",
       " 'cleaned_test.pkl',\n",
       " 'cleaned_data.pkl']"
      ]
     },
     "execution_count": 45,
     "metadata": {},
     "output_type": "execute_result"
    }
   ],
   "source": [
    "os.listdir()"
   ]
  },
  {
   "cell_type": "markdown",
   "metadata": {},
   "source": [
    "## Reading data"
   ]
  },
  {
   "cell_type": "code",
   "execution_count": 46,
   "metadata": {},
   "outputs": [
    {
     "data": {
      "text/html": [
       "<div>\n",
       "<style scoped>\n",
       "    .dataframe tbody tr th:only-of-type {\n",
       "        vertical-align: middle;\n",
       "    }\n",
       "\n",
       "    .dataframe tbody tr th {\n",
       "        vertical-align: top;\n",
       "    }\n",
       "\n",
       "    .dataframe thead th {\n",
       "        text-align: right;\n",
       "    }\n",
       "</style>\n",
       "<table border=\"1\" class=\"dataframe\">\n",
       "  <thead>\n",
       "    <tr style=\"text-align: right;\">\n",
       "      <th></th>\n",
       "      <th>ID</th>\n",
       "      <th>Start_Date_Contract</th>\n",
       "      <th>Date_Last_Renewal</th>\n",
       "      <th>Date_Next_Renewal</th>\n",
       "      <th>Date_Of_Birth</th>\n",
       "      <th>Date_Of_DL_Issuance</th>\n",
       "      <th>Issurance_Broker_Agent_Channel</th>\n",
       "      <th>Years_Associates</th>\n",
       "      <th>Total_Policies_Entity</th>\n",
       "      <th>Max_Policy_Simultaneous_Force</th>\n",
       "      <th>...</th>\n",
       "      <th>Non_Continuation_Insurance_Flag</th>\n",
       "      <th>New_License</th>\n",
       "      <th>Car_Age_Cat</th>\n",
       "      <th>Ratio_Premium_Car_Value</th>\n",
       "      <th>Power_Wt_Ratio</th>\n",
       "      <th>Customer_Loyalty</th>\n",
       "      <th>New_Bhp_Risk</th>\n",
       "      <th>Years_Driving_At_Start_Date</th>\n",
       "      <th>Young_Driver</th>\n",
       "      <th>Young_Bhp_Risk</th>\n",
       "    </tr>\n",
       "  </thead>\n",
       "  <tbody>\n",
       "    <tr>\n",
       "      <th>0</th>\n",
       "      <td>34429</td>\n",
       "      <td>2017-06-01</td>\n",
       "      <td>2017-06-01</td>\n",
       "      <td>2018-06-01</td>\n",
       "      <td>1996-08-29</td>\n",
       "      <td>2016-05-31</td>\n",
       "      <td>0</td>\n",
       "      <td>1</td>\n",
       "      <td>1</td>\n",
       "      <td>1</td>\n",
       "      <td>...</td>\n",
       "      <td>1</td>\n",
       "      <td>0</td>\n",
       "      <td>Old</td>\n",
       "      <td>0.044787</td>\n",
       "      <td>0.072115</td>\n",
       "      <td>1.00</td>\n",
       "      <td>0</td>\n",
       "      <td>1</td>\n",
       "      <td>1</td>\n",
       "      <td>0</td>\n",
       "    </tr>\n",
       "    <tr>\n",
       "      <th>1</th>\n",
       "      <td>5552</td>\n",
       "      <td>2016-09-19</td>\n",
       "      <td>2018-09-19</td>\n",
       "      <td>2019-09-19</td>\n",
       "      <td>1992-04-30</td>\n",
       "      <td>2010-08-03</td>\n",
       "      <td>0</td>\n",
       "      <td>3</td>\n",
       "      <td>1</td>\n",
       "      <td>1</td>\n",
       "      <td>...</td>\n",
       "      <td>0</td>\n",
       "      <td>0</td>\n",
       "      <td>Standard</td>\n",
       "      <td>0.019446</td>\n",
       "      <td>0.085837</td>\n",
       "      <td>1.70</td>\n",
       "      <td>0</td>\n",
       "      <td>6</td>\n",
       "      <td>0</td>\n",
       "      <td>0</td>\n",
       "    </tr>\n",
       "    <tr>\n",
       "      <th>2</th>\n",
       "      <td>47700</td>\n",
       "      <td>2003-01-08</td>\n",
       "      <td>2018-01-08</td>\n",
       "      <td>2019-01-08</td>\n",
       "      <td>1972-03-23</td>\n",
       "      <td>1998-02-01</td>\n",
       "      <td>1</td>\n",
       "      <td>20</td>\n",
       "      <td>2</td>\n",
       "      <td>2</td>\n",
       "      <td>...</td>\n",
       "      <td>0</td>\n",
       "      <td>0</td>\n",
       "      <td>Old</td>\n",
       "      <td>0.015644</td>\n",
       "      <td>0.076923</td>\n",
       "      <td>8.15</td>\n",
       "      <td>0</td>\n",
       "      <td>5</td>\n",
       "      <td>0</td>\n",
       "      <td>0</td>\n",
       "    </tr>\n",
       "    <tr>\n",
       "      <th>3</th>\n",
       "      <td>25425</td>\n",
       "      <td>2015-10-01</td>\n",
       "      <td>2018-10-01</td>\n",
       "      <td>2019-10-01</td>\n",
       "      <td>1946-03-05</td>\n",
       "      <td>1964-08-07</td>\n",
       "      <td>0</td>\n",
       "      <td>8</td>\n",
       "      <td>2</td>\n",
       "      <td>3</td>\n",
       "      <td>...</td>\n",
       "      <td>0</td>\n",
       "      <td>0</td>\n",
       "      <td>Standard</td>\n",
       "      <td>0.010544</td>\n",
       "      <td>0.070565</td>\n",
       "      <td>4.15</td>\n",
       "      <td>0</td>\n",
       "      <td>51</td>\n",
       "      <td>0</td>\n",
       "      <td>0</td>\n",
       "    </tr>\n",
       "    <tr>\n",
       "      <th>4</th>\n",
       "      <td>4727</td>\n",
       "      <td>2017-01-26</td>\n",
       "      <td>2018-01-26</td>\n",
       "      <td>2019-01-26</td>\n",
       "      <td>1973-04-25</td>\n",
       "      <td>1998-07-24</td>\n",
       "      <td>0</td>\n",
       "      <td>9</td>\n",
       "      <td>1</td>\n",
       "      <td>1</td>\n",
       "      <td>...</td>\n",
       "      <td>0</td>\n",
       "      <td>0</td>\n",
       "      <td>Old</td>\n",
       "      <td>0.020250</td>\n",
       "      <td>0.047004</td>\n",
       "      <td>3.80</td>\n",
       "      <td>0</td>\n",
       "      <td>19</td>\n",
       "      <td>0</td>\n",
       "      <td>0</td>\n",
       "    </tr>\n",
       "  </tbody>\n",
       "</table>\n",
       "<p>5 rows × 46 columns</p>\n",
       "</div>"
      ],
      "text/plain": [
       "      ID Start_Date_Contract Date_Last_Renewal Date_Next_Renewal  \\\n",
       "0  34429          2017-06-01        2017-06-01        2018-06-01   \n",
       "1   5552          2016-09-19        2018-09-19        2019-09-19   \n",
       "2  47700          2003-01-08        2018-01-08        2019-01-08   \n",
       "3  25425          2015-10-01        2018-10-01        2019-10-01   \n",
       "4   4727          2017-01-26        2018-01-26        2019-01-26   \n",
       "\n",
       "  Date_Of_Birth Date_Of_DL_Issuance  Issurance_Broker_Agent_Channel  \\\n",
       "0    1996-08-29          2016-05-31                               0   \n",
       "1    1992-04-30          2010-08-03                               0   \n",
       "2    1972-03-23          1998-02-01                               1   \n",
       "3    1946-03-05          1964-08-07                               0   \n",
       "4    1973-04-25          1998-07-24                               0   \n",
       "\n",
       "   Years_Associates  Total_Policies_Entity  Max_Policy_Simultaneous_Force  \\\n",
       "0                 1                      1                              1   \n",
       "1                 3                      1                              1   \n",
       "2                20                      2                              2   \n",
       "3                 8                      2                              3   \n",
       "4                 9                      1                              1   \n",
       "\n",
       "   ...  Non_Continuation_Insurance_Flag  New_License  Car_Age_Cat  \\\n",
       "0  ...                                1            0          Old   \n",
       "1  ...                                0            0     Standard   \n",
       "2  ...                                0            0          Old   \n",
       "3  ...                                0            0     Standard   \n",
       "4  ...                                0            0          Old   \n",
       "\n",
       "   Ratio_Premium_Car_Value  Power_Wt_Ratio  Customer_Loyalty  New_Bhp_Risk  \\\n",
       "0                 0.044787        0.072115              1.00             0   \n",
       "1                 0.019446        0.085837              1.70             0   \n",
       "2                 0.015644        0.076923              8.15             0   \n",
       "3                 0.010544        0.070565              4.15             0   \n",
       "4                 0.020250        0.047004              3.80             0   \n",
       "\n",
       "   Years_Driving_At_Start_Date  Young_Driver  Young_Bhp_Risk  \n",
       "0                            1             1               0  \n",
       "1                            6             0               0  \n",
       "2                            5             0               0  \n",
       "3                           51             0               0  \n",
       "4                           19             0               0  \n",
       "\n",
       "[5 rows x 46 columns]"
      ]
     },
     "execution_count": 46,
     "metadata": {},
     "output_type": "execute_result"
    }
   ],
   "source": [
    "data = pd.read_pickle('cleaned_data.pkl')\n",
    "data.head()"
   ]
  },
  {
   "cell_type": "code",
   "execution_count": 72,
   "metadata": {},
   "outputs": [
    {
     "data": {
      "text/plain": [
       "Index(['ID', 'Start_Date_Contract', 'Date_Last_Renewal', 'Date_Next_Renewal',\n",
       "       'Date_Of_Birth', 'Date_Of_DL_Issuance',\n",
       "       'Issurance_Broker_Agent_Channel', 'Years_Associates',\n",
       "       'Total_Policies_Entity', 'Max_Policy_Simultaneous_Force',\n",
       "       'Max_Product_Simultaneous_Held', 'Policies_Terminated_Non_Payment',\n",
       "       'Half_Yearly_Payment_Method', 'Premium_Amt_Current_Yr',\n",
       "       'Total_Cost_Claims_Current_Yr', 'Total_Number_Claims_Current_Yr',\n",
       "       'Total_Number_Claims_Entire_Duration',\n",
       "       'Ratio_Claims_Total_Duration_Force',\n",
       "       'Motorbikes_Vans_Cars_Agricultural', 'Rural_Urban_Flag',\n",
       "       'Multiple_Drivers_Regular_Flag', 'Yr_Vehicle_Registration',\n",
       "       'Vehicle_Power_HP', 'Cylinder_Capacity', 'Market_Value_EOY19',\n",
       "       'Vehicle_Doors', 'Energy_Source', 'Vehicle_Wt_Kg', 'Loss_Cost',\n",
       "       'Historically_Adjusted_Loss_Cost', 'Claim_Status', 'Age',\n",
       "       'Years_Driving', 'Car_Age', 'Time_Since_Last_Renewal',\n",
       "       'Non_Payment_Termination', 'Non_Continuation_Insurance_Flag',\n",
       "       'New_License', 'Car_Age_Cat', 'Ratio_Premium_Car_Value',\n",
       "       'Power_Wt_Ratio', 'Customer_Loyalty', 'New_Bhp_Risk',\n",
       "       'Years_Driving_At_Start_Date', 'Young_Driver', 'Young_Bhp_Risk'],\n",
       "      dtype='object')"
      ]
     },
     "execution_count": 72,
     "metadata": {},
     "output_type": "execute_result"
    }
   ],
   "source": [
    "data.columns"
   ]
  },
  {
   "cell_type": "code",
   "execution_count": 73,
   "metadata": {},
   "outputs": [],
   "source": [
    "X = data.copy()"
   ]
  },
  {
   "cell_type": "code",
   "execution_count": 74,
   "metadata": {},
   "outputs": [
    {
     "data": {
      "text/plain": [
       "Index(['Start_Date_Contract', 'Date_Last_Renewal', 'Date_Next_Renewal',\n",
       "       'Date_Of_Birth', 'Date_Of_DL_Issuance',\n",
       "       'Issurance_Broker_Agent_Channel', 'Years_Associates',\n",
       "       'Total_Policies_Entity', 'Max_Policy_Simultaneous_Force',\n",
       "       'Max_Product_Simultaneous_Held', 'Policies_Terminated_Non_Payment',\n",
       "       'Half_Yearly_Payment_Method', 'Premium_Amt_Current_Yr',\n",
       "       'Motorbikes_Vans_Cars_Agricultural', 'Rural_Urban_Flag',\n",
       "       'Multiple_Drivers_Regular_Flag', 'Yr_Vehicle_Registration',\n",
       "       'Vehicle_Power_HP', 'Cylinder_Capacity', 'Market_Value_EOY19',\n",
       "       'Vehicle_Doors', 'Energy_Source', 'Vehicle_Wt_Kg', 'Age',\n",
       "       'Years_Driving', 'Car_Age', 'Time_Since_Last_Renewal',\n",
       "       'Non_Payment_Termination', 'Non_Continuation_Insurance_Flag',\n",
       "       'New_License', 'Car_Age_Cat', 'Ratio_Premium_Car_Value',\n",
       "       'Power_Wt_Ratio', 'Customer_Loyalty', 'New_Bhp_Risk',\n",
       "       'Years_Driving_At_Start_Date', 'Young_Driver', 'Young_Bhp_Risk'],\n",
       "      dtype='object')"
      ]
     },
     "execution_count": 74,
     "metadata": {},
     "output_type": "execute_result"
    }
   ],
   "source": [
    "X = X.drop(columns=['ID', 'Total_Cost_Claims_Current_Yr', 'Total_Number_Claims_Current_Yr',\n",
    "                    'Total_Number_Claims_Entire_Duration', 'Ratio_Claims_Total_Duration_Force',\n",
    "                    'Loss_Cost', 'Historically_Adjusted_Loss_Cost', 'Claim_Status'])\n",
    "X.columns"
   ]
  },
  {
   "cell_type": "code",
   "execution_count": 75,
   "metadata": {},
   "outputs": [],
   "source": [
    "Y_reg = data[['Loss_Cost','Historically_Adjusted_Loss_Cost']]\n",
    "Y_class = data[['Claim_Status']]"
   ]
  },
  {
   "cell_type": "markdown",
   "metadata": {},
   "source": [
    "## Fixing the X data"
   ]
  },
  {
   "cell_type": "code",
   "execution_count": 76,
   "metadata": {},
   "outputs": [
    {
     "data": {
      "text/plain": [
       "Start_Date_Contract                    0\n",
       "Date_Last_Renewal                      0\n",
       "Date_Next_Renewal                      0\n",
       "Date_Of_Birth                          0\n",
       "Date_Of_DL_Issuance                    0\n",
       "Issurance_Broker_Agent_Channel         0\n",
       "Years_Associates                       0\n",
       "Total_Policies_Entity                  0\n",
       "Max_Policy_Simultaneous_Force          0\n",
       "Max_Product_Simultaneous_Held          0\n",
       "Policies_Terminated_Non_Payment        0\n",
       "Half_Yearly_Payment_Method             0\n",
       "Premium_Amt_Current_Yr                 0\n",
       "Motorbikes_Vans_Cars_Agricultural      0\n",
       "Rural_Urban_Flag                       0\n",
       "Multiple_Drivers_Regular_Flag          0\n",
       "Yr_Vehicle_Registration                0\n",
       "Vehicle_Power_HP                       0\n",
       "Cylinder_Capacity                      0\n",
       "Market_Value_EOY19                     0\n",
       "Vehicle_Doors                          0\n",
       "Energy_Source                        593\n",
       "Vehicle_Wt_Kg                          0\n",
       "Age                                    0\n",
       "Years_Driving                          0\n",
       "Car_Age                                0\n",
       "Time_Since_Last_Renewal                0\n",
       "Non_Payment_Termination                0\n",
       "Non_Continuation_Insurance_Flag        0\n",
       "New_License                            0\n",
       "Car_Age_Cat                            0\n",
       "Ratio_Premium_Car_Value                0\n",
       "Power_Wt_Ratio                         0\n",
       "Customer_Loyalty                       0\n",
       "New_Bhp_Risk                           0\n",
       "Years_Driving_At_Start_Date            0\n",
       "Young_Driver                           0\n",
       "Young_Bhp_Risk                         0\n",
       "dtype: int64"
      ]
     },
     "execution_count": 76,
     "metadata": {},
     "output_type": "execute_result"
    }
   ],
   "source": [
    "X.isna().sum()"
   ]
  },
  {
   "cell_type": "code",
   "execution_count": 77,
   "metadata": {},
   "outputs": [
    {
     "data": {
      "text/plain": [
       "Energy_Source                        593\n",
       "Loss_Cost                          33300\n",
       "Historically_Adjusted_Loss_Cost    33300\n",
       "dtype: int64"
      ]
     },
     "execution_count": 77,
     "metadata": {},
     "output_type": "execute_result"
    }
   ],
   "source": [
    "data.isna().sum()[data.isna().sum() > 0]"
   ]
  },
  {
   "cell_type": "code",
   "execution_count": 78,
   "metadata": {},
   "outputs": [
    {
     "data": {
      "text/plain": [
       "Claim_Status\n",
       "0    564\n",
       "1     29\n",
       "Name: count, dtype: int64"
      ]
     },
     "execution_count": 78,
     "metadata": {},
     "output_type": "execute_result"
    }
   ],
   "source": [
    "data.loc[data['Energy_Source'].isna(),'Claim_Status'].value_counts()"
   ]
  },
  {
   "cell_type": "markdown",
   "metadata": {},
   "source": [
    "We can fill the X['Energy_Source'] with other"
   ]
  },
  {
   "cell_type": "code",
   "execution_count": 79,
   "metadata": {},
   "outputs": [
    {
     "data": {
      "text/plain": [
       "Energy_Source\n",
       "D        23074\n",
       "P        13784\n",
       "Other      593\n",
       "Name: count, dtype: int64"
      ]
     },
     "execution_count": 79,
     "metadata": {},
     "output_type": "execute_result"
    }
   ],
   "source": [
    "X['Energy_Source'] = X['Energy_Source'].fillna('Other')\n",
    "X['Energy_Source'].value_counts(dropna = False)"
   ]
  },
  {
   "cell_type": "markdown",
   "metadata": {},
   "source": [
    "Create categorical variables"
   ]
  },
  {
   "cell_type": "code",
   "execution_count": 80,
   "metadata": {},
   "outputs": [
    {
     "name": "stdout",
     "output_type": "stream",
     "text": [
      "<class 'pandas.core.frame.DataFrame'>\n",
      "RangeIndex: 37451 entries, 0 to 37450\n",
      "Data columns (total 38 columns):\n",
      " #   Column                             Non-Null Count  Dtype         \n",
      "---  ------                             --------------  -----         \n",
      " 0   Start_Date_Contract                37451 non-null  datetime64[ns]\n",
      " 1   Date_Last_Renewal                  37451 non-null  datetime64[ns]\n",
      " 2   Date_Next_Renewal                  37451 non-null  datetime64[ns]\n",
      " 3   Date_Of_Birth                      37451 non-null  datetime64[ns]\n",
      " 4   Date_Of_DL_Issuance                37451 non-null  datetime64[ns]\n",
      " 5   Issurance_Broker_Agent_Channel     37451 non-null  int64         \n",
      " 6   Years_Associates                   37451 non-null  int64         \n",
      " 7   Total_Policies_Entity              37451 non-null  int64         \n",
      " 8   Max_Policy_Simultaneous_Force      37451 non-null  int64         \n",
      " 9   Max_Product_Simultaneous_Held      37451 non-null  int64         \n",
      " 10  Policies_Terminated_Non_Payment    37451 non-null  int64         \n",
      " 11  Half_Yearly_Payment_Method         37451 non-null  int64         \n",
      " 12  Premium_Amt_Current_Yr             37451 non-null  float64       \n",
      " 13  Motorbikes_Vans_Cars_Agricultural  37451 non-null  int64         \n",
      " 14  Rural_Urban_Flag                   37451 non-null  int64         \n",
      " 15  Multiple_Drivers_Regular_Flag      37451 non-null  int64         \n",
      " 16  Yr_Vehicle_Registration            37451 non-null  int64         \n",
      " 17  Vehicle_Power_HP                   37451 non-null  int64         \n",
      " 18  Cylinder_Capacity                  37451 non-null  int64         \n",
      " 19  Market_Value_EOY19                 37451 non-null  float64       \n",
      " 20  Vehicle_Doors                      37451 non-null  int64         \n",
      " 21  Energy_Source                      37451 non-null  object        \n",
      " 22  Vehicle_Wt_Kg                      37451 non-null  int64         \n",
      " 23  Age                                37451 non-null  int32         \n",
      " 24  Years_Driving                      37451 non-null  int32         \n",
      " 25  Car_Age                            37451 non-null  int64         \n",
      " 26  Time_Since_Last_Renewal            37451 non-null  int32         \n",
      " 27  Non_Payment_Termination            37451 non-null  int64         \n",
      " 28  Non_Continuation_Insurance_Flag    37451 non-null  int64         \n",
      " 29  New_License                        37451 non-null  int64         \n",
      " 30  Car_Age_Cat                        37451 non-null  category      \n",
      " 31  Ratio_Premium_Car_Value            37451 non-null  float64       \n",
      " 32  Power_Wt_Ratio                     37451 non-null  float64       \n",
      " 33  Customer_Loyalty                   37451 non-null  float64       \n",
      " 34  New_Bhp_Risk                       37451 non-null  int64         \n",
      " 35  Years_Driving_At_Start_Date        37451 non-null  int32         \n",
      " 36  Young_Driver                       37451 non-null  int64         \n",
      " 37  Young_Bhp_Risk                     37451 non-null  int64         \n",
      "dtypes: category(1), datetime64[ns](5), float64(5), int32(4), int64(22), object(1)\n",
      "memory usage: 10.0+ MB\n"
     ]
    }
   ],
   "source": [
    "X.info()"
   ]
  },
  {
   "cell_type": "code",
   "execution_count": 81,
   "metadata": {},
   "outputs": [
    {
     "data": {
      "text/html": [
       "<div>\n",
       "<style scoped>\n",
       "    .dataframe tbody tr th:only-of-type {\n",
       "        vertical-align: middle;\n",
       "    }\n",
       "\n",
       "    .dataframe tbody tr th {\n",
       "        vertical-align: top;\n",
       "    }\n",
       "\n",
       "    .dataframe thead th {\n",
       "        text-align: right;\n",
       "    }\n",
       "</style>\n",
       "<table border=\"1\" class=\"dataframe\">\n",
       "  <thead>\n",
       "    <tr style=\"text-align: right;\">\n",
       "      <th></th>\n",
       "      <th>Start_Date_Contract</th>\n",
       "      <th>Date_Last_Renewal</th>\n",
       "      <th>Date_Next_Renewal</th>\n",
       "      <th>Date_Of_Birth</th>\n",
       "      <th>Date_Of_DL_Issuance</th>\n",
       "      <th>Issurance_Broker_Agent_Channel</th>\n",
       "      <th>Years_Associates</th>\n",
       "      <th>Total_Policies_Entity</th>\n",
       "      <th>Max_Policy_Simultaneous_Force</th>\n",
       "      <th>Max_Product_Simultaneous_Held</th>\n",
       "      <th>...</th>\n",
       "      <th>Years_Driving_At_Start_Date</th>\n",
       "      <th>Young_Driver</th>\n",
       "      <th>Young_Bhp_Risk</th>\n",
       "      <th>Car_Age_Cat_New</th>\n",
       "      <th>Car_Age_Cat_Recent</th>\n",
       "      <th>Car_Age_Cat_Standard</th>\n",
       "      <th>Car_Age_Cat_Old</th>\n",
       "      <th>Energy_Source_D</th>\n",
       "      <th>Energy_Source_Other</th>\n",
       "      <th>Energy_Source_P</th>\n",
       "    </tr>\n",
       "  </thead>\n",
       "  <tbody>\n",
       "    <tr>\n",
       "      <th>0</th>\n",
       "      <td>2017-06-01</td>\n",
       "      <td>2017-06-01</td>\n",
       "      <td>2018-06-01</td>\n",
       "      <td>1996-08-29</td>\n",
       "      <td>2016-05-31</td>\n",
       "      <td>0</td>\n",
       "      <td>1</td>\n",
       "      <td>1</td>\n",
       "      <td>1</td>\n",
       "      <td>1</td>\n",
       "      <td>...</td>\n",
       "      <td>1</td>\n",
       "      <td>1</td>\n",
       "      <td>0</td>\n",
       "      <td>0</td>\n",
       "      <td>0</td>\n",
       "      <td>0</td>\n",
       "      <td>1</td>\n",
       "      <td>0</td>\n",
       "      <td>0</td>\n",
       "      <td>1</td>\n",
       "    </tr>\n",
       "    <tr>\n",
       "      <th>1</th>\n",
       "      <td>2016-09-19</td>\n",
       "      <td>2018-09-19</td>\n",
       "      <td>2019-09-19</td>\n",
       "      <td>1992-04-30</td>\n",
       "      <td>2010-08-03</td>\n",
       "      <td>0</td>\n",
       "      <td>3</td>\n",
       "      <td>1</td>\n",
       "      <td>1</td>\n",
       "      <td>1</td>\n",
       "      <td>...</td>\n",
       "      <td>6</td>\n",
       "      <td>0</td>\n",
       "      <td>0</td>\n",
       "      <td>0</td>\n",
       "      <td>0</td>\n",
       "      <td>1</td>\n",
       "      <td>0</td>\n",
       "      <td>1</td>\n",
       "      <td>0</td>\n",
       "      <td>0</td>\n",
       "    </tr>\n",
       "    <tr>\n",
       "      <th>2</th>\n",
       "      <td>2003-01-08</td>\n",
       "      <td>2018-01-08</td>\n",
       "      <td>2019-01-08</td>\n",
       "      <td>1972-03-23</td>\n",
       "      <td>1998-02-01</td>\n",
       "      <td>1</td>\n",
       "      <td>20</td>\n",
       "      <td>2</td>\n",
       "      <td>2</td>\n",
       "      <td>1</td>\n",
       "      <td>...</td>\n",
       "      <td>5</td>\n",
       "      <td>0</td>\n",
       "      <td>0</td>\n",
       "      <td>0</td>\n",
       "      <td>0</td>\n",
       "      <td>0</td>\n",
       "      <td>1</td>\n",
       "      <td>0</td>\n",
       "      <td>0</td>\n",
       "      <td>1</td>\n",
       "    </tr>\n",
       "    <tr>\n",
       "      <th>3</th>\n",
       "      <td>2015-10-01</td>\n",
       "      <td>2018-10-01</td>\n",
       "      <td>2019-10-01</td>\n",
       "      <td>1946-03-05</td>\n",
       "      <td>1964-08-07</td>\n",
       "      <td>0</td>\n",
       "      <td>8</td>\n",
       "      <td>2</td>\n",
       "      <td>3</td>\n",
       "      <td>1</td>\n",
       "      <td>...</td>\n",
       "      <td>51</td>\n",
       "      <td>0</td>\n",
       "      <td>0</td>\n",
       "      <td>0</td>\n",
       "      <td>0</td>\n",
       "      <td>1</td>\n",
       "      <td>0</td>\n",
       "      <td>1</td>\n",
       "      <td>0</td>\n",
       "      <td>0</td>\n",
       "    </tr>\n",
       "    <tr>\n",
       "      <th>4</th>\n",
       "      <td>2017-01-26</td>\n",
       "      <td>2018-01-26</td>\n",
       "      <td>2019-01-26</td>\n",
       "      <td>1973-04-25</td>\n",
       "      <td>1998-07-24</td>\n",
       "      <td>0</td>\n",
       "      <td>9</td>\n",
       "      <td>1</td>\n",
       "      <td>1</td>\n",
       "      <td>1</td>\n",
       "      <td>...</td>\n",
       "      <td>19</td>\n",
       "      <td>0</td>\n",
       "      <td>0</td>\n",
       "      <td>0</td>\n",
       "      <td>0</td>\n",
       "      <td>0</td>\n",
       "      <td>1</td>\n",
       "      <td>0</td>\n",
       "      <td>0</td>\n",
       "      <td>1</td>\n",
       "    </tr>\n",
       "  </tbody>\n",
       "</table>\n",
       "<p>5 rows × 43 columns</p>\n",
       "</div>"
      ],
      "text/plain": [
       "  Start_Date_Contract Date_Last_Renewal Date_Next_Renewal Date_Of_Birth  \\\n",
       "0          2017-06-01        2017-06-01        2018-06-01    1996-08-29   \n",
       "1          2016-09-19        2018-09-19        2019-09-19    1992-04-30   \n",
       "2          2003-01-08        2018-01-08        2019-01-08    1972-03-23   \n",
       "3          2015-10-01        2018-10-01        2019-10-01    1946-03-05   \n",
       "4          2017-01-26        2018-01-26        2019-01-26    1973-04-25   \n",
       "\n",
       "  Date_Of_DL_Issuance  Issurance_Broker_Agent_Channel  Years_Associates  \\\n",
       "0          2016-05-31                               0                 1   \n",
       "1          2010-08-03                               0                 3   \n",
       "2          1998-02-01                               1                20   \n",
       "3          1964-08-07                               0                 8   \n",
       "4          1998-07-24                               0                 9   \n",
       "\n",
       "   Total_Policies_Entity  Max_Policy_Simultaneous_Force  \\\n",
       "0                      1                              1   \n",
       "1                      1                              1   \n",
       "2                      2                              2   \n",
       "3                      2                              3   \n",
       "4                      1                              1   \n",
       "\n",
       "   Max_Product_Simultaneous_Held  ...  Years_Driving_At_Start_Date  \\\n",
       "0                              1  ...                            1   \n",
       "1                              1  ...                            6   \n",
       "2                              1  ...                            5   \n",
       "3                              1  ...                           51   \n",
       "4                              1  ...                           19   \n",
       "\n",
       "   Young_Driver  Young_Bhp_Risk  Car_Age_Cat_New  Car_Age_Cat_Recent  \\\n",
       "0             1               0                0                   0   \n",
       "1             0               0                0                   0   \n",
       "2             0               0                0                   0   \n",
       "3             0               0                0                   0   \n",
       "4             0               0                0                   0   \n",
       "\n",
       "   Car_Age_Cat_Standard  Car_Age_Cat_Old  Energy_Source_D  \\\n",
       "0                     0                1                0   \n",
       "1                     1                0                1   \n",
       "2                     0                1                0   \n",
       "3                     1                0                1   \n",
       "4                     0                1                0   \n",
       "\n",
       "   Energy_Source_Other  Energy_Source_P  \n",
       "0                    0                1  \n",
       "1                    0                0  \n",
       "2                    0                1  \n",
       "3                    0                0  \n",
       "4                    0                1  \n",
       "\n",
       "[5 rows x 43 columns]"
      ]
     },
     "execution_count": 81,
     "metadata": {},
     "output_type": "execute_result"
    }
   ],
   "source": [
    "X = pd.get_dummies(X, columns=['Car_Age_Cat', 'Energy_Source'], dtype=int, drop_first=False)\n",
    "X.head()"
   ]
  },
  {
   "cell_type": "code",
   "execution_count": 82,
   "metadata": {},
   "outputs": [
    {
     "data": {
      "text/plain": [
       "Car_Age_Cat_New          2159\n",
       "Car_Age_Cat_Recent       3402\n",
       "Car_Age_Cat_Standard    16978\n",
       "Car_Age_Cat_Old         14912\n",
       "dtype: int64"
      ]
     },
     "execution_count": 82,
     "metadata": {},
     "output_type": "execute_result"
    }
   ],
   "source": [
    "X[['Car_Age_Cat_New','Car_Age_Cat_Recent','Car_Age_Cat_Standard','Car_Age_Cat_Old']].sum()"
   ]
  },
  {
   "cell_type": "code",
   "execution_count": 86,
   "metadata": {},
   "outputs": [],
   "source": [
    "X = X.drop(columns=['Car_Age_Cat_New', 'Energy_Source_Other'])"
   ]
  },
  {
   "cell_type": "markdown",
   "metadata": {},
   "source": [
    "Now we need to drop time"
   ]
  },
  {
   "cell_type": "code",
   "execution_count": 87,
   "metadata": {},
   "outputs": [],
   "source": [
    "X = X.drop(columns=['Start_Date_Contract','Date_Last_Renewal','Date_Next_Renewal','Date_Of_Birth','Date_Of_DL_Issuance'])"
   ]
  },
  {
   "cell_type": "markdown",
   "metadata": {},
   "source": [
    "## Fixing Y"
   ]
  },
  {
   "cell_type": "code",
   "execution_count": 98,
   "metadata": {},
   "outputs": [],
   "source": [
    "Y_reg = Y_reg.fillna(0)"
   ]
  },
  {
   "cell_type": "code",
   "execution_count": 99,
   "metadata": {},
   "outputs": [
    {
     "data": {
      "text/plain": [
       "Loss_Cost   Historically_Adjusted_Loss_Cost\n",
       "0.000       0.00000                            33300\n",
       "882.000     882.00000                             40\n",
       "            1764.00000                            10\n",
       "            1746.36000                             9\n",
       "            1755.18000                             8\n",
       "                                               ...  \n",
       "96.150      192.30000                              1\n",
       "96.300      135.78300                              1\n",
       "96.335      230.24065                              1\n",
       "96.410      157.14830                              1\n",
       "118142.590  236285.18000                           1\n",
       "Name: count, Length: 3906, dtype: int64"
      ]
     },
     "execution_count": 99,
     "metadata": {},
     "output_type": "execute_result"
    }
   ],
   "source": [
    "Y_reg.value_counts()"
   ]
  },
  {
   "cell_type": "markdown",
   "metadata": {},
   "source": [
    "## Now we need to split the data appropriately"
   ]
  },
  {
   "cell_type": "markdown",
   "metadata": {},
   "source": [
    "We need to stratify it while splitting"
   ]
  },
  {
   "cell_type": "code",
   "execution_count": 91,
   "metadata": {},
   "outputs": [
    {
     "name": "stdout",
     "output_type": "stream",
     "text": [
      "(7491, 36)\n",
      "(29960, 36)\n",
      "(7491, 1)\n",
      "(29960, 1)\n"
     ]
    }
   ],
   "source": [
    "X_class_train, X_class_test, Y_class_train, Y_class_test = train_test_split(\n",
    "    X, Y_class,\n",
    "    test_size=0.2,\n",
    "    stratify=Y_class,\n",
    "    random_state=42\n",
    ")\n",
    "\n",
    "print(X_class_test.shape)\n",
    "print(X_class_train.shape)\n",
    "print(Y_class_test.shape)\n",
    "print(Y_class_train.shape)"
   ]
  },
  {
   "cell_type": "code",
   "execution_count": 93,
   "metadata": {},
   "outputs": [
    {
     "data": {
      "text/plain": [
       "Claim_Status\n",
       "0               0.889152\n",
       "1               0.110848\n",
       "Name: proportion, dtype: float64"
      ]
     },
     "metadata": {},
     "output_type": "display_data"
    },
    {
     "data": {
      "text/plain": [
       "Claim_Status\n",
       "0               0.8892\n",
       "1               0.1108\n",
       "Name: proportion, dtype: float64"
      ]
     },
     "metadata": {},
     "output_type": "display_data"
    }
   ],
   "source": [
    "display(Y_class_train.value_counts(normalize=True))\n",
    "display(Y_class_test.value_counts(normalize=True))"
   ]
  },
  {
   "cell_type": "markdown",
   "metadata": {},
   "source": [
    "For regressors we need to mention 0 before stratify"
   ]
  },
  {
   "cell_type": "code",
   "execution_count": 100,
   "metadata": {},
   "outputs": [
    {
     "data": {
      "text/plain": [
       "Loss_Cost\n",
       "1    33300\n",
       "0     4151\n",
       "Name: count, dtype: int64"
      ]
     },
     "execution_count": 100,
     "metadata": {},
     "output_type": "execute_result"
    }
   ],
   "source": [
    "# using Loss Cost as HALC might have some 0\n",
    "zero_flag = (Y_reg['Loss_Cost'] == 0).astype(int)\n",
    "zero_flag.value_counts(dropna=False)"
   ]
  },
  {
   "cell_type": "code",
   "execution_count": 101,
   "metadata": {},
   "outputs": [],
   "source": [
    "X_reg_train, X_reg_test, Y_reg_train, Y_reg_test = train_test_split(\n",
    "    X, Y_reg,\n",
    "    test_size=0.2,\n",
    "    stratify=zero_flag,\n",
    "    random_state=42\n",
    ")"
   ]
  },
  {
   "cell_type": "code",
   "execution_count": 102,
   "metadata": {},
   "outputs": [
    {
     "name": "stdout",
     "output_type": "stream",
     "text": [
      "(7491, 36)\n",
      "(29960, 36)\n",
      "(7491, 2)\n",
      "(29960, 2)\n"
     ]
    }
   ],
   "source": [
    "print(X_reg_test.shape)\n",
    "print(X_reg_train.shape)\n",
    "print(Y_reg_test.shape)\n",
    "print(Y_reg_train.shape)"
   ]
  },
  {
   "cell_type": "code",
   "execution_count": 104,
   "metadata": {},
   "outputs": [
    {
     "data": {
      "text/plain": [
       "0.8891522029372496"
      ]
     },
     "metadata": {},
     "output_type": "display_data"
    },
    {
     "data": {
      "text/plain": [
       "0.8892003737818716"
      ]
     },
     "metadata": {},
     "output_type": "display_data"
    }
   ],
   "source": [
    "display(len(Y_reg_train[Y_reg_train['Loss_Cost']==0])/len(Y_reg_train))\n",
    "display(len(Y_reg_test[Y_reg_test['Loss_Cost']==0])/len(Y_reg_test))"
   ]
  },
  {
   "cell_type": "code",
   "execution_count": null,
   "metadata": {},
   "outputs": [],
   "source": []
  }
 ],
 "metadata": {
  "kernelspec": {
   "display_name": "DSO530",
   "language": "python",
   "name": "python3"
  },
  "language_info": {
   "codemirror_mode": {
    "name": "ipython",
    "version": 3
   },
   "file_extension": ".py",
   "mimetype": "text/x-python",
   "name": "python",
   "nbconvert_exporter": "python",
   "pygments_lexer": "ipython3",
   "version": "3.12.9"
  }
 },
 "nbformat": 4,
 "nbformat_minor": 2
}
