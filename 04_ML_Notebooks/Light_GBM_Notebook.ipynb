{
 "cells": [
  {
   "cell_type": "markdown",
   "metadata": {},
   "source": [
    "## Imports"
   ]
  },
  {
   "cell_type": "code",
   "execution_count": 1,
   "metadata": {},
   "outputs": [],
   "source": [
    "%matplotlib inline"
   ]
  },
  {
   "cell_type": "code",
   "execution_count": 2,
   "metadata": {},
   "outputs": [
    {
     "name": "stderr",
     "output_type": "stream",
     "text": [
      "/Users/vivan/miniconda3/envs/DSO530/lib/python3.11/site-packages/tqdm/auto.py:21: TqdmWarning: IProgress not found. Please update jupyter and ipywidgets. See https://ipywidgets.readthedocs.io/en/stable/user_install.html\n",
      "  from .autonotebook import tqdm as notebook_tqdm\n"
     ]
    }
   ],
   "source": [
    "import os\n",
    "import pandas as pd\n",
    "import numpy as np\n",
    "import seaborn as sns\n",
    "import matplotlib.pyplot as plt\n",
    "import statsmodels.api as sm\n",
    "import statsmodels.formula.api as smf\n",
    "import lightgbm as lgb\n",
    "from sklearn.model_selection import GridSearchCV, train_test_split\n",
    "from sklearn.feature_selection import RFECV\n",
    "from lightgbm import LGBMRegressor, LGBMClassifier\n",
    "import optuna\n",
    "from sklearn.model_selection import StratifiedKFold\n",
    "from sklearn.metrics import roc_auc_score, mean_squared_error"
   ]
  },
  {
   "cell_type": "markdown",
   "metadata": {},
   "source": [
    "## Change file location to Data"
   ]
  },
  {
   "cell_type": "code",
   "execution_count": 3,
   "metadata": {},
   "outputs": [],
   "source": [
    "head, tail = os.path.split(os.getcwd())\n",
    "os.chdir(os.path.join(head,'01_Data'))"
   ]
  },
  {
   "cell_type": "code",
   "execution_count": 4,
   "metadata": {},
   "outputs": [
    {
     "data": {
      "text/plain": [
       "['insurance_train.csv',\n",
       " 'cleaned_test.csv',\n",
       " 'cleaned_data.parquet',\n",
       " 'cleaned_data.csv',\n",
       " 'cleaned_test.parquet',\n",
       " 'insurance_test.csv',\n",
       " 'cleaned_test.pkl',\n",
       " 'cleaned_data.pkl']"
      ]
     },
     "execution_count": 4,
     "metadata": {},
     "output_type": "execute_result"
    }
   ],
   "source": [
    "os.listdir()"
   ]
  },
  {
   "cell_type": "markdown",
   "metadata": {},
   "source": [
    "## Reading data"
   ]
  },
  {
   "cell_type": "code",
   "execution_count": 5,
   "metadata": {},
   "outputs": [
    {
     "data": {
      "text/html": [
       "<div>\n",
       "<style scoped>\n",
       "    .dataframe tbody tr th:only-of-type {\n",
       "        vertical-align: middle;\n",
       "    }\n",
       "\n",
       "    .dataframe tbody tr th {\n",
       "        vertical-align: top;\n",
       "    }\n",
       "\n",
       "    .dataframe thead th {\n",
       "        text-align: right;\n",
       "    }\n",
       "</style>\n",
       "<table border=\"1\" class=\"dataframe\">\n",
       "  <thead>\n",
       "    <tr style=\"text-align: right;\">\n",
       "      <th></th>\n",
       "      <th>ID</th>\n",
       "      <th>Start_Date_Contract</th>\n",
       "      <th>Date_Last_Renewal</th>\n",
       "      <th>Date_Next_Renewal</th>\n",
       "      <th>Date_Of_Birth</th>\n",
       "      <th>Date_Of_DL_Issuance</th>\n",
       "      <th>Issurance_Broker_Agent_Channel</th>\n",
       "      <th>Years_Associates</th>\n",
       "      <th>Total_Policies_Entity</th>\n",
       "      <th>Max_Policy_Simultaneous_Force</th>\n",
       "      <th>...</th>\n",
       "      <th>Non_Continuation_Insurance_Flag</th>\n",
       "      <th>New_License</th>\n",
       "      <th>Car_Age_Cat</th>\n",
       "      <th>Ratio_Premium_Car_Value</th>\n",
       "      <th>Power_Wt_Ratio</th>\n",
       "      <th>Customer_Loyalty</th>\n",
       "      <th>New_Bhp_Risk</th>\n",
       "      <th>Years_Driving_At_Start_Date</th>\n",
       "      <th>Young_Driver</th>\n",
       "      <th>Young_Bhp_Risk</th>\n",
       "    </tr>\n",
       "  </thead>\n",
       "  <tbody>\n",
       "    <tr>\n",
       "      <th>0</th>\n",
       "      <td>34429</td>\n",
       "      <td>2017-06-01</td>\n",
       "      <td>2017-06-01</td>\n",
       "      <td>2018-06-01</td>\n",
       "      <td>1996-08-29</td>\n",
       "      <td>2016-05-31</td>\n",
       "      <td>0</td>\n",
       "      <td>1</td>\n",
       "      <td>1</td>\n",
       "      <td>1</td>\n",
       "      <td>...</td>\n",
       "      <td>1</td>\n",
       "      <td>0</td>\n",
       "      <td>Old</td>\n",
       "      <td>0.044787</td>\n",
       "      <td>0.072115</td>\n",
       "      <td>1.00</td>\n",
       "      <td>0</td>\n",
       "      <td>1</td>\n",
       "      <td>1</td>\n",
       "      <td>0</td>\n",
       "    </tr>\n",
       "    <tr>\n",
       "      <th>1</th>\n",
       "      <td>5552</td>\n",
       "      <td>2016-09-19</td>\n",
       "      <td>2018-09-19</td>\n",
       "      <td>2019-09-19</td>\n",
       "      <td>1992-04-30</td>\n",
       "      <td>2010-08-03</td>\n",
       "      <td>0</td>\n",
       "      <td>3</td>\n",
       "      <td>1</td>\n",
       "      <td>1</td>\n",
       "      <td>...</td>\n",
       "      <td>0</td>\n",
       "      <td>0</td>\n",
       "      <td>Standard</td>\n",
       "      <td>0.019446</td>\n",
       "      <td>0.085837</td>\n",
       "      <td>1.70</td>\n",
       "      <td>0</td>\n",
       "      <td>6</td>\n",
       "      <td>0</td>\n",
       "      <td>0</td>\n",
       "    </tr>\n",
       "    <tr>\n",
       "      <th>2</th>\n",
       "      <td>47700</td>\n",
       "      <td>2003-01-08</td>\n",
       "      <td>2018-01-08</td>\n",
       "      <td>2019-01-08</td>\n",
       "      <td>1972-03-23</td>\n",
       "      <td>1998-02-01</td>\n",
       "      <td>1</td>\n",
       "      <td>20</td>\n",
       "      <td>2</td>\n",
       "      <td>2</td>\n",
       "      <td>...</td>\n",
       "      <td>0</td>\n",
       "      <td>0</td>\n",
       "      <td>Old</td>\n",
       "      <td>0.015644</td>\n",
       "      <td>0.076923</td>\n",
       "      <td>8.15</td>\n",
       "      <td>0</td>\n",
       "      <td>5</td>\n",
       "      <td>0</td>\n",
       "      <td>0</td>\n",
       "    </tr>\n",
       "    <tr>\n",
       "      <th>3</th>\n",
       "      <td>25425</td>\n",
       "      <td>2015-10-01</td>\n",
       "      <td>2018-10-01</td>\n",
       "      <td>2019-10-01</td>\n",
       "      <td>1946-03-05</td>\n",
       "      <td>1964-08-07</td>\n",
       "      <td>0</td>\n",
       "      <td>8</td>\n",
       "      <td>2</td>\n",
       "      <td>3</td>\n",
       "      <td>...</td>\n",
       "      <td>0</td>\n",
       "      <td>0</td>\n",
       "      <td>Standard</td>\n",
       "      <td>0.010544</td>\n",
       "      <td>0.070565</td>\n",
       "      <td>4.15</td>\n",
       "      <td>0</td>\n",
       "      <td>51</td>\n",
       "      <td>0</td>\n",
       "      <td>0</td>\n",
       "    </tr>\n",
       "    <tr>\n",
       "      <th>4</th>\n",
       "      <td>4727</td>\n",
       "      <td>2017-01-26</td>\n",
       "      <td>2018-01-26</td>\n",
       "      <td>2019-01-26</td>\n",
       "      <td>1973-04-25</td>\n",
       "      <td>1998-07-24</td>\n",
       "      <td>0</td>\n",
       "      <td>9</td>\n",
       "      <td>1</td>\n",
       "      <td>1</td>\n",
       "      <td>...</td>\n",
       "      <td>0</td>\n",
       "      <td>0</td>\n",
       "      <td>Old</td>\n",
       "      <td>0.020250</td>\n",
       "      <td>0.047004</td>\n",
       "      <td>3.80</td>\n",
       "      <td>0</td>\n",
       "      <td>19</td>\n",
       "      <td>0</td>\n",
       "      <td>0</td>\n",
       "    </tr>\n",
       "  </tbody>\n",
       "</table>\n",
       "<p>5 rows × 46 columns</p>\n",
       "</div>"
      ],
      "text/plain": [
       "      ID Start_Date_Contract Date_Last_Renewal Date_Next_Renewal  \\\n",
       "0  34429          2017-06-01        2017-06-01        2018-06-01   \n",
       "1   5552          2016-09-19        2018-09-19        2019-09-19   \n",
       "2  47700          2003-01-08        2018-01-08        2019-01-08   \n",
       "3  25425          2015-10-01        2018-10-01        2019-10-01   \n",
       "4   4727          2017-01-26        2018-01-26        2019-01-26   \n",
       "\n",
       "  Date_Of_Birth Date_Of_DL_Issuance  Issurance_Broker_Agent_Channel  \\\n",
       "0    1996-08-29          2016-05-31                               0   \n",
       "1    1992-04-30          2010-08-03                               0   \n",
       "2    1972-03-23          1998-02-01                               1   \n",
       "3    1946-03-05          1964-08-07                               0   \n",
       "4    1973-04-25          1998-07-24                               0   \n",
       "\n",
       "   Years_Associates  Total_Policies_Entity  Max_Policy_Simultaneous_Force  \\\n",
       "0                 1                      1                              1   \n",
       "1                 3                      1                              1   \n",
       "2                20                      2                              2   \n",
       "3                 8                      2                              3   \n",
       "4                 9                      1                              1   \n",
       "\n",
       "   ...  Non_Continuation_Insurance_Flag  New_License  Car_Age_Cat  \\\n",
       "0  ...                                1            0          Old   \n",
       "1  ...                                0            0     Standard   \n",
       "2  ...                                0            0          Old   \n",
       "3  ...                                0            0     Standard   \n",
       "4  ...                                0            0          Old   \n",
       "\n",
       "   Ratio_Premium_Car_Value  Power_Wt_Ratio  Customer_Loyalty  New_Bhp_Risk  \\\n",
       "0                 0.044787        0.072115              1.00             0   \n",
       "1                 0.019446        0.085837              1.70             0   \n",
       "2                 0.015644        0.076923              8.15             0   \n",
       "3                 0.010544        0.070565              4.15             0   \n",
       "4                 0.020250        0.047004              3.80             0   \n",
       "\n",
       "   Years_Driving_At_Start_Date  Young_Driver  Young_Bhp_Risk  \n",
       "0                            1             1               0  \n",
       "1                            6             0               0  \n",
       "2                            5             0               0  \n",
       "3                           51             0               0  \n",
       "4                           19             0               0  \n",
       "\n",
       "[5 rows x 46 columns]"
      ]
     },
     "execution_count": 5,
     "metadata": {},
     "output_type": "execute_result"
    }
   ],
   "source": [
    "data = pd.read_parquet('cleaned_data.parquet')\n",
    "data.head()"
   ]
  },
  {
   "cell_type": "code",
   "execution_count": 6,
   "metadata": {},
   "outputs": [
    {
     "data": {
      "text/plain": [
       "Index(['ID', 'Start_Date_Contract', 'Date_Last_Renewal', 'Date_Next_Renewal',\n",
       "       'Date_Of_Birth', 'Date_Of_DL_Issuance',\n",
       "       'Issurance_Broker_Agent_Channel', 'Years_Associates',\n",
       "       'Total_Policies_Entity', 'Max_Policy_Simultaneous_Force',\n",
       "       'Max_Product_Simultaneous_Held', 'Policies_Terminated_Non_Payment',\n",
       "       'Half_Yearly_Payment_Method', 'Premium_Amt_Current_Yr',\n",
       "       'Total_Cost_Claims_Current_Yr', 'Total_Number_Claims_Current_Yr',\n",
       "       'Total_Number_Claims_Entire_Duration',\n",
       "       'Ratio_Claims_Total_Duration_Force',\n",
       "       'Motorbikes_Vans_Cars_Agricultural', 'Rural_Urban_Flag',\n",
       "       'Multiple_Drivers_Regular_Flag', 'Yr_Vehicle_Registration',\n",
       "       'Vehicle_Power_HP', 'Cylinder_Capacity', 'Market_Value_EOY19',\n",
       "       'Vehicle_Doors', 'Energy_Source', 'Vehicle_Wt_Kg', 'Loss_Cost',\n",
       "       'Historically_Adjusted_Loss_Cost', 'Claim_Status', 'Age',\n",
       "       'Years_Driving', 'Car_Age', 'Time_Since_Last_Renewal',\n",
       "       'Non_Payment_Termination', 'Non_Continuation_Insurance_Flag',\n",
       "       'New_License', 'Car_Age_Cat', 'Ratio_Premium_Car_Value',\n",
       "       'Power_Wt_Ratio', 'Customer_Loyalty', 'New_Bhp_Risk',\n",
       "       'Years_Driving_At_Start_Date', 'Young_Driver', 'Young_Bhp_Risk'],\n",
       "      dtype='object')"
      ]
     },
     "execution_count": 6,
     "metadata": {},
     "output_type": "execute_result"
    }
   ],
   "source": [
    "data.columns"
   ]
  },
  {
   "cell_type": "code",
   "execution_count": 7,
   "metadata": {},
   "outputs": [],
   "source": [
    "X = data.copy()"
   ]
  },
  {
   "cell_type": "code",
   "execution_count": 8,
   "metadata": {},
   "outputs": [
    {
     "data": {
      "text/plain": [
       "Index(['Start_Date_Contract', 'Date_Last_Renewal', 'Date_Next_Renewal',\n",
       "       'Date_Of_Birth', 'Date_Of_DL_Issuance',\n",
       "       'Issurance_Broker_Agent_Channel', 'Years_Associates',\n",
       "       'Total_Policies_Entity', 'Max_Policy_Simultaneous_Force',\n",
       "       'Max_Product_Simultaneous_Held', 'Policies_Terminated_Non_Payment',\n",
       "       'Half_Yearly_Payment_Method', 'Premium_Amt_Current_Yr',\n",
       "       'Motorbikes_Vans_Cars_Agricultural', 'Rural_Urban_Flag',\n",
       "       'Multiple_Drivers_Regular_Flag', 'Yr_Vehicle_Registration',\n",
       "       'Vehicle_Power_HP', 'Cylinder_Capacity', 'Market_Value_EOY19',\n",
       "       'Vehicle_Doors', 'Energy_Source', 'Vehicle_Wt_Kg', 'Age',\n",
       "       'Years_Driving', 'Car_Age', 'Time_Since_Last_Renewal',\n",
       "       'Non_Payment_Termination', 'Non_Continuation_Insurance_Flag',\n",
       "       'New_License', 'Car_Age_Cat', 'Ratio_Premium_Car_Value',\n",
       "       'Power_Wt_Ratio', 'Customer_Loyalty', 'New_Bhp_Risk',\n",
       "       'Years_Driving_At_Start_Date', 'Young_Driver', 'Young_Bhp_Risk'],\n",
       "      dtype='object')"
      ]
     },
     "execution_count": 8,
     "metadata": {},
     "output_type": "execute_result"
    }
   ],
   "source": [
    "X = X.drop(columns=['ID', 'Total_Cost_Claims_Current_Yr', 'Total_Number_Claims_Current_Yr',\n",
    "                    'Total_Number_Claims_Entire_Duration', 'Ratio_Claims_Total_Duration_Force',\n",
    "                    'Loss_Cost', 'Historically_Adjusted_Loss_Cost', 'Claim_Status'])\n",
    "X.columns"
   ]
  },
  {
   "cell_type": "code",
   "execution_count": 9,
   "metadata": {},
   "outputs": [],
   "source": [
    "Y_reg = data[['Loss_Cost','Historically_Adjusted_Loss_Cost']]\n",
    "Y_class = data[['Claim_Status']]"
   ]
  },
  {
   "cell_type": "markdown",
   "metadata": {},
   "source": [
    "## Fixing the X data"
   ]
  },
  {
   "cell_type": "code",
   "execution_count": 10,
   "metadata": {},
   "outputs": [
    {
     "data": {
      "text/plain": [
       "Start_Date_Contract                    0\n",
       "Date_Last_Renewal                      0\n",
       "Date_Next_Renewal                      0\n",
       "Date_Of_Birth                          0\n",
       "Date_Of_DL_Issuance                    0\n",
       "Issurance_Broker_Agent_Channel         0\n",
       "Years_Associates                       0\n",
       "Total_Policies_Entity                  0\n",
       "Max_Policy_Simultaneous_Force          0\n",
       "Max_Product_Simultaneous_Held          0\n",
       "Policies_Terminated_Non_Payment        0\n",
       "Half_Yearly_Payment_Method             0\n",
       "Premium_Amt_Current_Yr                 0\n",
       "Motorbikes_Vans_Cars_Agricultural      0\n",
       "Rural_Urban_Flag                       0\n",
       "Multiple_Drivers_Regular_Flag          0\n",
       "Yr_Vehicle_Registration                0\n",
       "Vehicle_Power_HP                       0\n",
       "Cylinder_Capacity                      0\n",
       "Market_Value_EOY19                     0\n",
       "Vehicle_Doors                          0\n",
       "Energy_Source                        593\n",
       "Vehicle_Wt_Kg                          0\n",
       "Age                                    0\n",
       "Years_Driving                          0\n",
       "Car_Age                                0\n",
       "Time_Since_Last_Renewal                0\n",
       "Non_Payment_Termination                0\n",
       "Non_Continuation_Insurance_Flag        0\n",
       "New_License                            0\n",
       "Car_Age_Cat                            0\n",
       "Ratio_Premium_Car_Value                0\n",
       "Power_Wt_Ratio                         0\n",
       "Customer_Loyalty                       0\n",
       "New_Bhp_Risk                           0\n",
       "Years_Driving_At_Start_Date            0\n",
       "Young_Driver                           0\n",
       "Young_Bhp_Risk                         0\n",
       "dtype: int64"
      ]
     },
     "execution_count": 10,
     "metadata": {},
     "output_type": "execute_result"
    }
   ],
   "source": [
    "X.isna().sum()"
   ]
  },
  {
   "cell_type": "code",
   "execution_count": 11,
   "metadata": {},
   "outputs": [
    {
     "data": {
      "text/plain": [
       "Energy_Source                        593\n",
       "Loss_Cost                          33300\n",
       "Historically_Adjusted_Loss_Cost    33300\n",
       "dtype: int64"
      ]
     },
     "execution_count": 11,
     "metadata": {},
     "output_type": "execute_result"
    }
   ],
   "source": [
    "data.isna().sum()[data.isna().sum() > 0]"
   ]
  },
  {
   "cell_type": "code",
   "execution_count": 12,
   "metadata": {},
   "outputs": [
    {
     "data": {
      "text/plain": [
       "Claim_Status\n",
       "0    564\n",
       "1     29\n",
       "Name: count, dtype: int64"
      ]
     },
     "execution_count": 12,
     "metadata": {},
     "output_type": "execute_result"
    }
   ],
   "source": [
    "data.loc[data['Energy_Source'].isna(),'Claim_Status'].value_counts()"
   ]
  },
  {
   "cell_type": "markdown",
   "metadata": {},
   "source": [
    "We can fill the X['Energy_Source'] with other"
   ]
  },
  {
   "cell_type": "code",
   "execution_count": 13,
   "metadata": {},
   "outputs": [
    {
     "data": {
      "text/plain": [
       "Energy_Source\n",
       "D        23074\n",
       "P        13784\n",
       "Other      593\n",
       "Name: count, dtype: int64"
      ]
     },
     "execution_count": 13,
     "metadata": {},
     "output_type": "execute_result"
    }
   ],
   "source": [
    "X['Energy_Source'] = X['Energy_Source'].fillna('Other')\n",
    "X['Energy_Source'].value_counts(dropna = False)"
   ]
  },
  {
   "cell_type": "markdown",
   "metadata": {},
   "source": [
    "Create categorical variables"
   ]
  },
  {
   "cell_type": "code",
   "execution_count": 14,
   "metadata": {},
   "outputs": [
    {
     "name": "stdout",
     "output_type": "stream",
     "text": [
      "<class 'pandas.core.frame.DataFrame'>\n",
      "RangeIndex: 37451 entries, 0 to 37450\n",
      "Data columns (total 38 columns):\n",
      " #   Column                             Non-Null Count  Dtype         \n",
      "---  ------                             --------------  -----         \n",
      " 0   Start_Date_Contract                37451 non-null  datetime64[ns]\n",
      " 1   Date_Last_Renewal                  37451 non-null  datetime64[ns]\n",
      " 2   Date_Next_Renewal                  37451 non-null  datetime64[ns]\n",
      " 3   Date_Of_Birth                      37451 non-null  datetime64[ns]\n",
      " 4   Date_Of_DL_Issuance                37451 non-null  datetime64[ns]\n",
      " 5   Issurance_Broker_Agent_Channel     37451 non-null  int64         \n",
      " 6   Years_Associates                   37451 non-null  int64         \n",
      " 7   Total_Policies_Entity              37451 non-null  int64         \n",
      " 8   Max_Policy_Simultaneous_Force      37451 non-null  int64         \n",
      " 9   Max_Product_Simultaneous_Held      37451 non-null  int64         \n",
      " 10  Policies_Terminated_Non_Payment    37451 non-null  int64         \n",
      " 11  Half_Yearly_Payment_Method         37451 non-null  int64         \n",
      " 12  Premium_Amt_Current_Yr             37451 non-null  float64       \n",
      " 13  Motorbikes_Vans_Cars_Agricultural  37451 non-null  int64         \n",
      " 14  Rural_Urban_Flag                   37451 non-null  int64         \n",
      " 15  Multiple_Drivers_Regular_Flag      37451 non-null  int64         \n",
      " 16  Yr_Vehicle_Registration            37451 non-null  int64         \n",
      " 17  Vehicle_Power_HP                   37451 non-null  int64         \n",
      " 18  Cylinder_Capacity                  37451 non-null  int64         \n",
      " 19  Market_Value_EOY19                 37451 non-null  float64       \n",
      " 20  Vehicle_Doors                      37451 non-null  int64         \n",
      " 21  Energy_Source                      37451 non-null  object        \n",
      " 22  Vehicle_Wt_Kg                      37451 non-null  int64         \n",
      " 23  Age                                37451 non-null  int32         \n",
      " 24  Years_Driving                      37451 non-null  int32         \n",
      " 25  Car_Age                            37451 non-null  int64         \n",
      " 26  Time_Since_Last_Renewal            37451 non-null  int32         \n",
      " 27  Non_Payment_Termination            37451 non-null  int64         \n",
      " 28  Non_Continuation_Insurance_Flag    37451 non-null  int64         \n",
      " 29  New_License                        37451 non-null  int64         \n",
      " 30  Car_Age_Cat                        37451 non-null  category      \n",
      " 31  Ratio_Premium_Car_Value            37451 non-null  float64       \n",
      " 32  Power_Wt_Ratio                     37451 non-null  float64       \n",
      " 33  Customer_Loyalty                   37451 non-null  float64       \n",
      " 34  New_Bhp_Risk                       37451 non-null  int64         \n",
      " 35  Years_Driving_At_Start_Date        37451 non-null  int32         \n",
      " 36  Young_Driver                       37451 non-null  int64         \n",
      " 37  Young_Bhp_Risk                     37451 non-null  int64         \n",
      "dtypes: category(1), datetime64[ns](5), float64(5), int32(4), int64(22), object(1)\n",
      "memory usage: 10.0+ MB\n"
     ]
    }
   ],
   "source": [
    "X.info()"
   ]
  },
  {
   "cell_type": "code",
   "execution_count": 15,
   "metadata": {},
   "outputs": [
    {
     "data": {
      "text/html": [
       "<div>\n",
       "<style scoped>\n",
       "    .dataframe tbody tr th:only-of-type {\n",
       "        vertical-align: middle;\n",
       "    }\n",
       "\n",
       "    .dataframe tbody tr th {\n",
       "        vertical-align: top;\n",
       "    }\n",
       "\n",
       "    .dataframe thead th {\n",
       "        text-align: right;\n",
       "    }\n",
       "</style>\n",
       "<table border=\"1\" class=\"dataframe\">\n",
       "  <thead>\n",
       "    <tr style=\"text-align: right;\">\n",
       "      <th></th>\n",
       "      <th>Start_Date_Contract</th>\n",
       "      <th>Date_Last_Renewal</th>\n",
       "      <th>Date_Next_Renewal</th>\n",
       "      <th>Date_Of_Birth</th>\n",
       "      <th>Date_Of_DL_Issuance</th>\n",
       "      <th>Issurance_Broker_Agent_Channel</th>\n",
       "      <th>Years_Associates</th>\n",
       "      <th>Total_Policies_Entity</th>\n",
       "      <th>Max_Policy_Simultaneous_Force</th>\n",
       "      <th>Max_Product_Simultaneous_Held</th>\n",
       "      <th>...</th>\n",
       "      <th>Years_Driving_At_Start_Date</th>\n",
       "      <th>Young_Driver</th>\n",
       "      <th>Young_Bhp_Risk</th>\n",
       "      <th>Car_Age_Cat_New</th>\n",
       "      <th>Car_Age_Cat_Recent</th>\n",
       "      <th>Car_Age_Cat_Standard</th>\n",
       "      <th>Car_Age_Cat_Old</th>\n",
       "      <th>Energy_Source_D</th>\n",
       "      <th>Energy_Source_Other</th>\n",
       "      <th>Energy_Source_P</th>\n",
       "    </tr>\n",
       "  </thead>\n",
       "  <tbody>\n",
       "    <tr>\n",
       "      <th>0</th>\n",
       "      <td>2017-06-01</td>\n",
       "      <td>2017-06-01</td>\n",
       "      <td>2018-06-01</td>\n",
       "      <td>1996-08-29</td>\n",
       "      <td>2016-05-31</td>\n",
       "      <td>0</td>\n",
       "      <td>1</td>\n",
       "      <td>1</td>\n",
       "      <td>1</td>\n",
       "      <td>1</td>\n",
       "      <td>...</td>\n",
       "      <td>1</td>\n",
       "      <td>1</td>\n",
       "      <td>0</td>\n",
       "      <td>0</td>\n",
       "      <td>0</td>\n",
       "      <td>0</td>\n",
       "      <td>1</td>\n",
       "      <td>0</td>\n",
       "      <td>0</td>\n",
       "      <td>1</td>\n",
       "    </tr>\n",
       "    <tr>\n",
       "      <th>1</th>\n",
       "      <td>2016-09-19</td>\n",
       "      <td>2018-09-19</td>\n",
       "      <td>2019-09-19</td>\n",
       "      <td>1992-04-30</td>\n",
       "      <td>2010-08-03</td>\n",
       "      <td>0</td>\n",
       "      <td>3</td>\n",
       "      <td>1</td>\n",
       "      <td>1</td>\n",
       "      <td>1</td>\n",
       "      <td>...</td>\n",
       "      <td>6</td>\n",
       "      <td>0</td>\n",
       "      <td>0</td>\n",
       "      <td>0</td>\n",
       "      <td>0</td>\n",
       "      <td>1</td>\n",
       "      <td>0</td>\n",
       "      <td>1</td>\n",
       "      <td>0</td>\n",
       "      <td>0</td>\n",
       "    </tr>\n",
       "    <tr>\n",
       "      <th>2</th>\n",
       "      <td>2003-01-08</td>\n",
       "      <td>2018-01-08</td>\n",
       "      <td>2019-01-08</td>\n",
       "      <td>1972-03-23</td>\n",
       "      <td>1998-02-01</td>\n",
       "      <td>1</td>\n",
       "      <td>20</td>\n",
       "      <td>2</td>\n",
       "      <td>2</td>\n",
       "      <td>1</td>\n",
       "      <td>...</td>\n",
       "      <td>5</td>\n",
       "      <td>0</td>\n",
       "      <td>0</td>\n",
       "      <td>0</td>\n",
       "      <td>0</td>\n",
       "      <td>0</td>\n",
       "      <td>1</td>\n",
       "      <td>0</td>\n",
       "      <td>0</td>\n",
       "      <td>1</td>\n",
       "    </tr>\n",
       "    <tr>\n",
       "      <th>3</th>\n",
       "      <td>2015-10-01</td>\n",
       "      <td>2018-10-01</td>\n",
       "      <td>2019-10-01</td>\n",
       "      <td>1946-03-05</td>\n",
       "      <td>1964-08-07</td>\n",
       "      <td>0</td>\n",
       "      <td>8</td>\n",
       "      <td>2</td>\n",
       "      <td>3</td>\n",
       "      <td>1</td>\n",
       "      <td>...</td>\n",
       "      <td>51</td>\n",
       "      <td>0</td>\n",
       "      <td>0</td>\n",
       "      <td>0</td>\n",
       "      <td>0</td>\n",
       "      <td>1</td>\n",
       "      <td>0</td>\n",
       "      <td>1</td>\n",
       "      <td>0</td>\n",
       "      <td>0</td>\n",
       "    </tr>\n",
       "    <tr>\n",
       "      <th>4</th>\n",
       "      <td>2017-01-26</td>\n",
       "      <td>2018-01-26</td>\n",
       "      <td>2019-01-26</td>\n",
       "      <td>1973-04-25</td>\n",
       "      <td>1998-07-24</td>\n",
       "      <td>0</td>\n",
       "      <td>9</td>\n",
       "      <td>1</td>\n",
       "      <td>1</td>\n",
       "      <td>1</td>\n",
       "      <td>...</td>\n",
       "      <td>19</td>\n",
       "      <td>0</td>\n",
       "      <td>0</td>\n",
       "      <td>0</td>\n",
       "      <td>0</td>\n",
       "      <td>0</td>\n",
       "      <td>1</td>\n",
       "      <td>0</td>\n",
       "      <td>0</td>\n",
       "      <td>1</td>\n",
       "    </tr>\n",
       "  </tbody>\n",
       "</table>\n",
       "<p>5 rows × 43 columns</p>\n",
       "</div>"
      ],
      "text/plain": [
       "  Start_Date_Contract Date_Last_Renewal Date_Next_Renewal Date_Of_Birth  \\\n",
       "0          2017-06-01        2017-06-01        2018-06-01    1996-08-29   \n",
       "1          2016-09-19        2018-09-19        2019-09-19    1992-04-30   \n",
       "2          2003-01-08        2018-01-08        2019-01-08    1972-03-23   \n",
       "3          2015-10-01        2018-10-01        2019-10-01    1946-03-05   \n",
       "4          2017-01-26        2018-01-26        2019-01-26    1973-04-25   \n",
       "\n",
       "  Date_Of_DL_Issuance  Issurance_Broker_Agent_Channel  Years_Associates  \\\n",
       "0          2016-05-31                               0                 1   \n",
       "1          2010-08-03                               0                 3   \n",
       "2          1998-02-01                               1                20   \n",
       "3          1964-08-07                               0                 8   \n",
       "4          1998-07-24                               0                 9   \n",
       "\n",
       "   Total_Policies_Entity  Max_Policy_Simultaneous_Force  \\\n",
       "0                      1                              1   \n",
       "1                      1                              1   \n",
       "2                      2                              2   \n",
       "3                      2                              3   \n",
       "4                      1                              1   \n",
       "\n",
       "   Max_Product_Simultaneous_Held  ...  Years_Driving_At_Start_Date  \\\n",
       "0                              1  ...                            1   \n",
       "1                              1  ...                            6   \n",
       "2                              1  ...                            5   \n",
       "3                              1  ...                           51   \n",
       "4                              1  ...                           19   \n",
       "\n",
       "   Young_Driver  Young_Bhp_Risk  Car_Age_Cat_New  Car_Age_Cat_Recent  \\\n",
       "0             1               0                0                   0   \n",
       "1             0               0                0                   0   \n",
       "2             0               0                0                   0   \n",
       "3             0               0                0                   0   \n",
       "4             0               0                0                   0   \n",
       "\n",
       "   Car_Age_Cat_Standard  Car_Age_Cat_Old  Energy_Source_D  \\\n",
       "0                     0                1                0   \n",
       "1                     1                0                1   \n",
       "2                     0                1                0   \n",
       "3                     1                0                1   \n",
       "4                     0                1                0   \n",
       "\n",
       "   Energy_Source_Other  Energy_Source_P  \n",
       "0                    0                1  \n",
       "1                    0                0  \n",
       "2                    0                1  \n",
       "3                    0                0  \n",
       "4                    0                1  \n",
       "\n",
       "[5 rows x 43 columns]"
      ]
     },
     "execution_count": 15,
     "metadata": {},
     "output_type": "execute_result"
    }
   ],
   "source": [
    "X = pd.get_dummies(X, columns=['Car_Age_Cat', 'Energy_Source'], dtype=int, drop_first=False)\n",
    "X.head()"
   ]
  },
  {
   "cell_type": "code",
   "execution_count": 16,
   "metadata": {},
   "outputs": [
    {
     "data": {
      "text/plain": [
       "Car_Age_Cat_New          2159\n",
       "Car_Age_Cat_Recent       3402\n",
       "Car_Age_Cat_Standard    16978\n",
       "Car_Age_Cat_Old         14912\n",
       "dtype: int64"
      ]
     },
     "execution_count": 16,
     "metadata": {},
     "output_type": "execute_result"
    }
   ],
   "source": [
    "X[['Car_Age_Cat_New','Car_Age_Cat_Recent','Car_Age_Cat_Standard','Car_Age_Cat_Old']].sum()"
   ]
  },
  {
   "cell_type": "code",
   "execution_count": 17,
   "metadata": {},
   "outputs": [],
   "source": [
    "X = X.drop(columns=['Car_Age_Cat_New', 'Energy_Source_Other'])"
   ]
  },
  {
   "cell_type": "markdown",
   "metadata": {},
   "source": [
    "Now we need to drop time"
   ]
  },
  {
   "cell_type": "code",
   "execution_count": 18,
   "metadata": {},
   "outputs": [],
   "source": [
    "X = X.drop(columns=['Start_Date_Contract','Date_Last_Renewal','Date_Next_Renewal','Date_Of_Birth','Date_Of_DL_Issuance'])"
   ]
  },
  {
   "cell_type": "markdown",
   "metadata": {},
   "source": [
    "## Fixing Y"
   ]
  },
  {
   "cell_type": "code",
   "execution_count": 19,
   "metadata": {},
   "outputs": [],
   "source": [
    "Y_reg = Y_reg.fillna(0)"
   ]
  },
  {
   "cell_type": "code",
   "execution_count": 20,
   "metadata": {},
   "outputs": [
    {
     "data": {
      "text/plain": [
       "Loss_Cost   Historically_Adjusted_Loss_Cost\n",
       "0.000       0.00000                            33300\n",
       "882.000     882.00000                             40\n",
       "            1764.00000                            10\n",
       "            1746.36000                             9\n",
       "            1755.18000                             8\n",
       "                                               ...  \n",
       "96.150      192.30000                              1\n",
       "96.300      135.78300                              1\n",
       "96.335      230.24065                              1\n",
       "96.410      157.14830                              1\n",
       "118142.590  236285.18000                           1\n",
       "Name: count, Length: 3906, dtype: int64"
      ]
     },
     "execution_count": 20,
     "metadata": {},
     "output_type": "execute_result"
    }
   ],
   "source": [
    "Y_reg.value_counts()"
   ]
  },
  {
   "cell_type": "markdown",
   "metadata": {},
   "source": [
    "## Now we need to split the data appropriately"
   ]
  },
  {
   "cell_type": "markdown",
   "metadata": {},
   "source": [
    "We need to stratify it while splitting"
   ]
  },
  {
   "cell_type": "code",
   "execution_count": 21,
   "metadata": {},
   "outputs": [
    {
     "name": "stdout",
     "output_type": "stream",
     "text": [
      "(7491, 36)\n",
      "(29960, 36)\n",
      "(7491, 1)\n",
      "(29960, 1)\n"
     ]
    }
   ],
   "source": [
    "X_class_train, X_class_test, Y_class_train, Y_class_test = train_test_split(\n",
    "    X, Y_class,\n",
    "    test_size=0.2,\n",
    "    stratify=Y_class,\n",
    "    random_state=42\n",
    ")\n",
    "\n",
    "print(X_class_test.shape)\n",
    "print(X_class_train.shape)\n",
    "print(Y_class_test.shape)\n",
    "print(Y_class_train.shape)"
   ]
  },
  {
   "cell_type": "code",
   "execution_count": 22,
   "metadata": {},
   "outputs": [
    {
     "data": {
      "text/plain": [
       "Claim_Status\n",
       "0               0.889152\n",
       "1               0.110848\n",
       "Name: proportion, dtype: float64"
      ]
     },
     "metadata": {},
     "output_type": "display_data"
    },
    {
     "data": {
      "text/plain": [
       "Claim_Status\n",
       "0               0.8892\n",
       "1               0.1108\n",
       "Name: proportion, dtype: float64"
      ]
     },
     "metadata": {},
     "output_type": "display_data"
    }
   ],
   "source": [
    "display(Y_class_train.value_counts(normalize=True))\n",
    "display(Y_class_test.value_counts(normalize=True))"
   ]
  },
  {
   "cell_type": "markdown",
   "metadata": {},
   "source": [
    "For regressors we need to mention 0 before stratify"
   ]
  },
  {
   "cell_type": "code",
   "execution_count": 23,
   "metadata": {},
   "outputs": [
    {
     "data": {
      "text/plain": [
       "Loss_Cost\n",
       "1    33300\n",
       "0     4151\n",
       "Name: count, dtype: int64"
      ]
     },
     "execution_count": 23,
     "metadata": {},
     "output_type": "execute_result"
    }
   ],
   "source": [
    "# using Loss Cost as HALC might have some 0\n",
    "zero_flag = (Y_reg['Loss_Cost'] == 0).astype(int)\n",
    "zero_flag.value_counts(dropna=False)"
   ]
  },
  {
   "cell_type": "code",
   "execution_count": 24,
   "metadata": {},
   "outputs": [],
   "source": [
    "X_reg_train, X_reg_test, Y_reg_train, Y_reg_test = train_test_split(\n",
    "    X, Y_reg,\n",
    "    test_size=0.2,\n",
    "    stratify=zero_flag,\n",
    "    random_state=42\n",
    ")"
   ]
  },
  {
   "cell_type": "code",
   "execution_count": 25,
   "metadata": {},
   "outputs": [
    {
     "name": "stdout",
     "output_type": "stream",
     "text": [
      "(7491, 36)\n",
      "(29960, 36)\n",
      "(7491, 2)\n",
      "(29960, 2)\n"
     ]
    }
   ],
   "source": [
    "print(X_reg_test.shape)\n",
    "print(X_reg_train.shape)\n",
    "print(Y_reg_test.shape)\n",
    "print(Y_reg_train.shape)"
   ]
  },
  {
   "cell_type": "code",
   "execution_count": 26,
   "metadata": {},
   "outputs": [
    {
     "data": {
      "text/plain": [
       "0.8891522029372496"
      ]
     },
     "metadata": {},
     "output_type": "display_data"
    },
    {
     "data": {
      "text/plain": [
       "0.8892003737818716"
      ]
     },
     "metadata": {},
     "output_type": "display_data"
    }
   ],
   "source": [
    "display(len(Y_reg_train[Y_reg_train['Loss_Cost']==0])/len(Y_reg_train))\n",
    "display(len(Y_reg_test[Y_reg_test['Loss_Cost']==0])/len(Y_reg_test))"
   ]
  },
  {
   "cell_type": "markdown",
   "metadata": {},
   "source": [
    "## Variable selection"
   ]
  },
  {
   "cell_type": "code",
   "execution_count": 27,
   "metadata": {},
   "outputs": [],
   "source": [
    "def make_stratify_bins(y, n_bins=10):\n",
    "    return pd.qcut(y, q=n_bins, duplicates='drop', labels=False)"
   ]
  },
  {
   "cell_type": "code",
   "execution_count": 28,
   "metadata": {},
   "outputs": [],
   "source": [
    "def select_features_with_rfecv(X, y, objective=\"regression\"):\n",
    "    estimator = (\n",
    "        LGBMRegressor(random_state=42, n_estimators=100, learning_rate=0.1)\n",
    "        if objective == \"regression\"\n",
    "        else LGBMClassifier(random_state=42)\n",
    "    )\n",
    "    scoring = \"neg_root_mean_squared_error\" if objective == \"regression\" else \"roc_auc\"\n",
    "\n",
    "    if objective == \"regression\":\n",
    "        y_strat = make_stratify_bins(y, n_bins=5)\n",
    "        cv = StratifiedKFold(n_splits=5, shuffle=True, random_state=42)\n",
    "        rfecv = RFECV(estimator=estimator, step=1, cv=cv.split(X, y_strat), scoring=scoring, min_features_to_select=5)\n",
    "    else:\n",
    "        cv = StratifiedKFold(n_splits=5, shuffle=True, random_state=42)\n",
    "        rfecv = RFECV(estimator=estimator, step=1, cv=cv, scoring=scoring, min_features_to_select=5)\n",
    "\n",
    "    rfecv.fit(X, y)\n",
    "\n",
    "    plt.figure(figsize=(10, 4))\n",
    "    plt.plot(range(1, len(rfecv.cv_results_[\"mean_test_score\"]) + 1), rfecv.cv_results_[\"mean_test_score\"])\n",
    "    plt.xlabel(\"Number of Features Selected\")\n",
    "    plt.ylabel(\"Cross-Validation Score\")\n",
    "    plt.title(\"RFECV Performance by Number of Features\")\n",
    "    plt.tight_layout()\n",
    "    plt.show()\n",
    "\n",
    "    selected_features = X.columns[rfecv.support_].tolist()\n",
    "    print(f\"Selected {len(selected_features)} features out of {X.shape[1]}\")\n",
    "    return X[selected_features]"
   ]
  },
  {
   "cell_type": "markdown",
   "metadata": {},
   "source": [
    "## Hyper parameter tuning"
   ]
  },
  {
   "cell_type": "markdown",
   "metadata": {},
   "source": [
    "### Creating a function to use on optuna "
   ]
  },
  {
   "cell_type": "code",
   "execution_count": 29,
   "metadata": {},
   "outputs": [],
   "source": [
    "\n",
    "\n",
    "def rmse(y_true, y_pred):\n",
    "    return np.sqrt(np.mean((y_true - y_pred) ** 2))\n",
    "\n",
    "def tune_lightgbm(X, y, folds, objective, scorer, use_gpu=False, show_plots=False):\n",
    "    \"\"\"\n",
    "    X : predictors (DataFrame)\n",
    "    y : target (Series)\n",
    "    folds : a StratifiedKFold object\n",
    "    objective : \"tweedie\" or \"binary\"\n",
    "    scorer : \"rmse\" or \"auc\"\n",
    "    use_gpu : Set to True to enable GPU (default False)\n",
    "    show_plots : If True, displays Optuna visualizations (default False)\n",
    "    \"\"\"\n",
    "\n",
    "    direction = \"minimize\" if scorer == \"rmse\" else \"maximize\"\n",
    "\n",
    "    if scorer == \"rmse\":\n",
    "        y_strat = make_stratify_bins(y)\n",
    "    else:\n",
    "        y_strat = y\n",
    "\n",
    "    def objective_fn(trial):\n",
    "        params = {\n",
    "            \"objective\": objective,\n",
    "            \"learning_rate\": trial.suggest_float(\"lr\", 0.01, 0.2, log=True),\n",
    "            \"num_leaves\": trial.suggest_int(\"leaves\", 16, 255),\n",
    "            \"feature_fraction\": trial.suggest_float(\"ff\", 0.5, 1.0),\n",
    "            \"bagging_fraction\": trial.suggest_float(\"bf\", 0.5, 1.0),\n",
    "            \"bagging_freq\": 1,\n",
    "            \"max_depth\": -1,\n",
    "            \"lambda_l1\": trial.suggest_float(\"l1\", 0.0, 5.0),\n",
    "            \"lambda_l2\": trial.suggest_float(\"l2\", 0.0, 5.0),\n",
    "            \"random_state\": 42,\n",
    "            \"verbosity\": -1\n",
    "        }\n",
    "\n",
    "        if use_gpu:\n",
    "            params[\"device\"] = \"gpu\"\n",
    "            params[\"gpu_platform_id\"] = 0\n",
    "            params[\"gpu_device_id\"] = 0\n",
    "\n",
    "        if objective == \"tweedie\":\n",
    "            params[\"tweedie_variance_power\"] = trial.suggest_float(\"p\", 1.1, 1.9)\n",
    "        if objective == \"binary\":\n",
    "            params[\"is_unbalance\"] = True\n",
    "\n",
    "        scores = []\n",
    "\n",
    "        for tr_idx, val_idx in folds.split(X, y_strat):\n",
    "            X_tr, X_val = X.iloc[tr_idx], X.iloc[val_idx]\n",
    "            y_tr, y_val = y.iloc[tr_idx], y.iloc[val_idx]\n",
    "\n",
    "            model = (\n",
    "                LGBMRegressor(**params, n_estimators=5000)\n",
    "                if objective == \"tweedie\"\n",
    "                else LGBMClassifier(**params, n_estimators=5000)\n",
    "            )\n",
    "\n",
    "            model.fit(\n",
    "                X_tr, y_tr,\n",
    "                eval_set=[(X_val, y_val)],\n",
    "                eval_metric=scorer\n",
    "            )\n",
    "\n",
    "            preds = model.predict(X_val)\n",
    "\n",
    "            if scorer == \"rmse\":\n",
    "                scores.append(rmse(y_val, preds))\n",
    "            else:\n",
    "                scores.append(roc_auc_score(y_val, preds))\n",
    "\n",
    "        return np.mean(scores)\n",
    "\n",
    "    study = optuna.create_study(direction=direction)\n",
    "    study.optimize(objective_fn, n_trials=60, timeout=1800, show_progress_bar=True)\n",
    "\n",
    "    if show_plots:\n",
    "        try:\n",
    "            from optuna.visualization.matplotlib import plot_optimization_history, plot_param_importances\n",
    "\n",
    "            plot_optimization_history(study)\n",
    "            plt.title(\"Optuna Optimization History\")\n",
    "            plt.tight_layout()\n",
    "            plt.show()\n",
    "\n",
    "            plot_param_importances(study)\n",
    "            plt.title(\"Hyperparameter Importance\")\n",
    "            plt.tight_layout()\n",
    "            plt.show()\n",
    "        except ImportError:\n",
    "            print(\"Install matplotlib and optuna[visualization] to enable plots.\")\n",
    "\n",
    "    return study.best_params"
   ]
  },
  {
   "cell_type": "markdown",
   "metadata": {},
   "source": [
    "## Now we need to select variables and tune each model"
   ]
  },
  {
   "cell_type": "markdown",
   "metadata": {},
   "source": [
    "### Loss Cost"
   ]
  },
  {
   "cell_type": "code",
   "execution_count": 30,
   "metadata": {},
   "outputs": [
    {
     "name": "stdout",
     "output_type": "stream",
     "text": [
      "[LightGBM] [Info] Auto-choosing row-wise multi-threading, the overhead of testing was 0.001735 seconds.\n",
      "You can set `force_row_wise=true` to remove the overhead.\n",
      "And if memory is not enough, you can set `force_col_wise=true`.\n",
      "[LightGBM] [Info] Total Bins 2367\n",
      "[LightGBM] [Info] Number of data points in the train set: 23968, number of used features: 34\n",
      "[LightGBM] [Info] Start training from score 63.786253\n",
      "[LightGBM] [Info] Auto-choosing row-wise multi-threading, the overhead of testing was 0.002181 seconds.\n",
      "You can set `force_row_wise=true` to remove the overhead.\n",
      "And if memory is not enough, you can set `force_col_wise=true`.\n",
      "[LightGBM] [Info] Total Bins 2365\n",
      "[LightGBM] [Info] Number of data points in the train set: 23968, number of used features: 33\n",
      "[LightGBM] [Info] Start training from score 63.786253\n",
      "[LightGBM] [Info] Auto-choosing row-wise multi-threading, the overhead of testing was 0.002434 seconds.\n",
      "You can set `force_row_wise=true` to remove the overhead.\n",
      "And if memory is not enough, you can set `force_col_wise=true`.\n",
      "[LightGBM] [Info] Total Bins 2365\n",
      "[LightGBM] [Info] Number of data points in the train set: 23968, number of used features: 33\n",
      "[LightGBM] [Info] Start training from score 63.786253\n",
      "[LightGBM] [Info] Auto-choosing row-wise multi-threading, the overhead of testing was 0.005338 seconds.\n",
      "You can set `force_row_wise=true` to remove the overhead.\n",
      "And if memory is not enough, you can set `force_col_wise=true`.\n",
      "[LightGBM] [Info] Total Bins 2363\n",
      "[LightGBM] [Info] Number of data points in the train set: 23968, number of used features: 32\n",
      "[LightGBM] [Info] Start training from score 63.786253\n",
      "[LightGBM] [Info] Auto-choosing row-wise multi-threading, the overhead of testing was 0.004905 seconds.\n",
      "You can set `force_row_wise=true` to remove the overhead.\n",
      "And if memory is not enough, you can set `force_col_wise=true`.\n",
      "[LightGBM] [Info] Total Bins 2363\n",
      "[LightGBM] [Info] Number of data points in the train set: 23968, number of used features: 32\n",
      "[LightGBM] [Info] Start training from score 63.786253\n",
      "[LightGBM] [Info] Auto-choosing row-wise multi-threading, the overhead of testing was 0.002581 seconds.\n",
      "You can set `force_row_wise=true` to remove the overhead.\n",
      "And if memory is not enough, you can set `force_col_wise=true`.\n",
      "[LightGBM] [Info] Total Bins 2361\n",
      "[LightGBM] [Info] Number of data points in the train set: 23968, number of used features: 31\n",
      "[LightGBM] [Info] Start training from score 63.786253\n",
      "[LightGBM] [Info] Auto-choosing row-wise multi-threading, the overhead of testing was 0.001965 seconds.\n",
      "You can set `force_row_wise=true` to remove the overhead.\n",
      "And if memory is not enough, you can set `force_col_wise=true`.\n",
      "[LightGBM] [Info] Total Bins 2359\n",
      "[LightGBM] [Info] Number of data points in the train set: 23968, number of used features: 30\n",
      "[LightGBM] [Info] Start training from score 63.786253\n",
      "[LightGBM] [Info] Auto-choosing row-wise multi-threading, the overhead of testing was 0.001445 seconds.\n",
      "You can set `force_row_wise=true` to remove the overhead.\n",
      "And if memory is not enough, you can set `force_col_wise=true`.\n",
      "[LightGBM] [Info] Total Bins 2296\n",
      "[LightGBM] [Info] Number of data points in the train set: 23968, number of used features: 29\n",
      "[LightGBM] [Info] Start training from score 63.786253\n",
      "[LightGBM] [Info] Auto-choosing row-wise multi-threading, the overhead of testing was 0.002489 seconds.\n",
      "You can set `force_row_wise=true` to remove the overhead.\n",
      "And if memory is not enough, you can set `force_col_wise=true`.\n",
      "[LightGBM] [Info] Total Bins 2294\n",
      "[LightGBM] [Info] Number of data points in the train set: 23968, number of used features: 28\n",
      "[LightGBM] [Info] Start training from score 63.786253\n",
      "[LightGBM] [Info] Auto-choosing row-wise multi-threading, the overhead of testing was 0.003625 seconds.\n",
      "You can set `force_row_wise=true` to remove the overhead.\n",
      "And if memory is not enough, you can set `force_col_wise=true`.\n",
      "[LightGBM] [Info] Total Bins 2292\n",
      "[LightGBM] [Info] Number of data points in the train set: 23968, number of used features: 27\n",
      "[LightGBM] [Info] Start training from score 63.786253\n",
      "[LightGBM] [Info] Auto-choosing row-wise multi-threading, the overhead of testing was 0.001865 seconds.\n",
      "You can set `force_row_wise=true` to remove the overhead.\n",
      "And if memory is not enough, you can set `force_col_wise=true`.\n",
      "[LightGBM] [Info] Total Bins 2290\n",
      "[LightGBM] [Info] Number of data points in the train set: 23968, number of used features: 26\n",
      "[LightGBM] [Info] Start training from score 63.786253\n",
      "[LightGBM] [Info] Auto-choosing row-wise multi-threading, the overhead of testing was 0.003211 seconds.\n",
      "You can set `force_row_wise=true` to remove the overhead.\n",
      "And if memory is not enough, you can set `force_col_wise=true`.\n",
      "[LightGBM] [Info] Total Bins 2285\n",
      "[LightGBM] [Info] Number of data points in the train set: 23968, number of used features: 25\n",
      "[LightGBM] [Info] Start training from score 63.786253\n",
      "[LightGBM] [Info] Auto-choosing row-wise multi-threading, the overhead of testing was 0.001448 seconds.\n",
      "You can set `force_row_wise=true` to remove the overhead.\n",
      "And if memory is not enough, you can set `force_col_wise=true`.\n",
      "[LightGBM] [Info] Total Bins 2283\n",
      "[LightGBM] [Info] Number of data points in the train set: 23968, number of used features: 24\n",
      "[LightGBM] [Info] Start training from score 63.786253\n",
      "[LightGBM] [Info] Auto-choosing row-wise multi-threading, the overhead of testing was 0.001520 seconds.\n",
      "You can set `force_row_wise=true` to remove the overhead.\n",
      "And if memory is not enough, you can set `force_col_wise=true`.\n",
      "[LightGBM] [Info] Total Bins 2281\n",
      "[LightGBM] [Info] Number of data points in the train set: 23968, number of used features: 23\n",
      "[LightGBM] [Info] Start training from score 63.786253\n",
      "[LightGBM] [Info] Auto-choosing row-wise multi-threading, the overhead of testing was 0.002119 seconds.\n",
      "You can set `force_row_wise=true` to remove the overhead.\n",
      "And if memory is not enough, you can set `force_col_wise=true`.\n",
      "[LightGBM] [Info] Total Bins 2279\n",
      "[LightGBM] [Info] Number of data points in the train set: 23968, number of used features: 22\n",
      "[LightGBM] [Info] Start training from score 63.786253\n",
      "[LightGBM] [Info] Auto-choosing col-wise multi-threading, the overhead of testing was 0.003257 seconds.\n",
      "You can set `force_col_wise=true` to remove the overhead.\n",
      "[LightGBM] [Info] Total Bins 2277\n",
      "[LightGBM] [Info] Number of data points in the train set: 23968, number of used features: 21\n",
      "[LightGBM] [Info] Start training from score 63.786253\n",
      "[LightGBM] [Info] Auto-choosing col-wise multi-threading, the overhead of testing was 0.003907 seconds.\n",
      "You can set `force_col_wise=true` to remove the overhead.\n",
      "[LightGBM] [Info] Total Bins 2275\n",
      "[LightGBM] [Info] Number of data points in the train set: 23968, number of used features: 20\n",
      "[LightGBM] [Info] Start training from score 63.786253\n",
      "[LightGBM] [Info] Auto-choosing row-wise multi-threading, the overhead of testing was 0.001179 seconds.\n",
      "You can set `force_row_wise=true` to remove the overhead.\n",
      "And if memory is not enough, you can set `force_col_wise=true`.\n",
      "[LightGBM] [Info] Total Bins 2269\n",
      "[LightGBM] [Info] Number of data points in the train set: 23968, number of used features: 19\n",
      "[LightGBM] [Info] Start training from score 63.786253\n",
      "[LightGBM] [Info] Auto-choosing row-wise multi-threading, the overhead of testing was 0.001442 seconds.\n",
      "You can set `force_row_wise=true` to remove the overhead.\n",
      "And if memory is not enough, you can set `force_col_wise=true`.\n",
      "[LightGBM] [Info] Total Bins 2267\n",
      "[LightGBM] [Info] Number of data points in the train set: 23968, number of used features: 18\n",
      "[LightGBM] [Info] Start training from score 63.786253\n",
      "[LightGBM] [Info] Auto-choosing row-wise multi-threading, the overhead of testing was 0.000372 seconds.\n",
      "You can set `force_row_wise=true` to remove the overhead.\n",
      "And if memory is not enough, you can set `force_col_wise=true`.\n",
      "[LightGBM] [Info] Total Bins 2262\n",
      "[LightGBM] [Info] Number of data points in the train set: 23968, number of used features: 17\n",
      "[LightGBM] [Info] Start training from score 63.786253\n",
      "[LightGBM] [Info] Auto-choosing col-wise multi-threading, the overhead of testing was 0.001361 seconds.\n",
      "You can set `force_col_wise=true` to remove the overhead.\n",
      "[LightGBM] [Info] Total Bins 2247\n",
      "[LightGBM] [Info] Number of data points in the train set: 23968, number of used features: 16\n",
      "[LightGBM] [Info] Start training from score 63.786253\n",
      "[LightGBM] [Info] Auto-choosing col-wise multi-threading, the overhead of testing was 0.002902 seconds.\n",
      "You can set `force_col_wise=true` to remove the overhead.\n",
      "[LightGBM] [Info] Total Bins 2232\n",
      "[LightGBM] [Info] Number of data points in the train set: 23968, number of used features: 15\n",
      "[LightGBM] [Info] Start training from score 63.786253\n",
      "[LightGBM] [Info] Auto-choosing row-wise multi-threading, the overhead of testing was 0.000290 seconds.\n",
      "You can set `force_row_wise=true` to remove the overhead.\n",
      "And if memory is not enough, you can set `force_col_wise=true`.\n",
      "[LightGBM] [Info] Total Bins 2226\n",
      "[LightGBM] [Info] Number of data points in the train set: 23968, number of used features: 14\n",
      "[LightGBM] [Info] Start training from score 63.786253\n",
      "[LightGBM] [Info] Auto-choosing row-wise multi-threading, the overhead of testing was 0.000258 seconds.\n",
      "You can set `force_row_wise=true` to remove the overhead.\n",
      "And if memory is not enough, you can set `force_col_wise=true`.\n",
      "[LightGBM] [Info] Total Bins 2185\n",
      "[LightGBM] [Info] Number of data points in the train set: 23968, number of used features: 13\n",
      "[LightGBM] [Info] Start training from score 63.786253\n",
      "[LightGBM] [Info] Auto-choosing row-wise multi-threading, the overhead of testing was 0.000307 seconds.\n",
      "You can set `force_row_wise=true` to remove the overhead.\n",
      "And if memory is not enough, you can set `force_col_wise=true`.\n",
      "[LightGBM] [Info] Total Bins 2180\n",
      "[LightGBM] [Info] Number of data points in the train set: 23968, number of used features: 12\n",
      "[LightGBM] [Info] Start training from score 63.786253\n",
      "[LightGBM] [Info] Auto-choosing col-wise multi-threading, the overhead of testing was 0.001087 seconds.\n",
      "You can set `force_col_wise=true` to remove the overhead.\n",
      "[LightGBM] [Info] Total Bins 1946\n",
      "[LightGBM] [Info] Number of data points in the train set: 23968, number of used features: 11\n",
      "[LightGBM] [Info] Start training from score 63.786253\n",
      "[LightGBM] [Info] Auto-choosing col-wise multi-threading, the overhead of testing was 0.000989 seconds.\n",
      "You can set `force_col_wise=true` to remove the overhead.\n",
      "[LightGBM] [Info] Total Bins 1885\n",
      "[LightGBM] [Info] Number of data points in the train set: 23968, number of used features: 10\n",
      "[LightGBM] [Info] Start training from score 63.786253\n",
      "[LightGBM] [Info] Auto-choosing col-wise multi-threading, the overhead of testing was 0.000838 seconds.\n",
      "You can set `force_col_wise=true` to remove the overhead.\n",
      "[LightGBM] [Info] Total Bins 1690\n",
      "[LightGBM] [Info] Number of data points in the train set: 23968, number of used features: 9\n",
      "[LightGBM] [Info] Start training from score 63.786253\n",
      "[LightGBM] [Info] Auto-choosing row-wise multi-threading, the overhead of testing was 0.000113 seconds.\n",
      "You can set `force_row_wise=true` to remove the overhead.\n",
      "And if memory is not enough, you can set `force_col_wise=true`.\n",
      "[LightGBM] [Info] Total Bins 1464\n",
      "[LightGBM] [Info] Number of data points in the train set: 23968, number of used features: 8\n",
      "[LightGBM] [Info] Start training from score 63.786253\n",
      "[LightGBM] [Info] Auto-choosing row-wise multi-threading, the overhead of testing was 0.000109 seconds.\n",
      "You can set `force_row_wise=true` to remove the overhead.\n",
      "And if memory is not enough, you can set `force_col_wise=true`.\n",
      "[LightGBM] [Info] Total Bins 1401\n",
      "[LightGBM] [Info] Number of data points in the train set: 23968, number of used features: 7\n",
      "[LightGBM] [Info] Start training from score 63.786253\n",
      "[LightGBM] [Info] Auto-choosing col-wise multi-threading, the overhead of testing was 0.000671 seconds.\n",
      "You can set `force_col_wise=true` to remove the overhead.\n",
      "[LightGBM] [Info] Total Bins 1146\n",
      "[LightGBM] [Info] Number of data points in the train set: 23968, number of used features: 6\n",
      "[LightGBM] [Info] Start training from score 63.786253\n",
      "[LightGBM] [Info] Auto-choosing row-wise multi-threading, the overhead of testing was 0.000210 seconds.\n",
      "You can set `force_row_wise=true` to remove the overhead.\n",
      "And if memory is not enough, you can set `force_col_wise=true`.\n",
      "[LightGBM] [Info] Total Bins 1084\n",
      "[LightGBM] [Info] Number of data points in the train set: 23968, number of used features: 5\n",
      "[LightGBM] [Info] Start training from score 63.786253\n",
      "[LightGBM] [Info] Auto-choosing row-wise multi-threading, the overhead of testing was 0.002268 seconds.\n",
      "You can set `force_row_wise=true` to remove the overhead.\n",
      "And if memory is not enough, you can set `force_col_wise=true`.\n",
      "[LightGBM] [Info] Total Bins 2372\n",
      "[LightGBM] [Info] Number of data points in the train set: 23968, number of used features: 34\n",
      "[LightGBM] [Info] Start training from score 68.324199\n",
      "[LightGBM] [Info] Auto-choosing row-wise multi-threading, the overhead of testing was 0.003547 seconds.\n",
      "You can set `force_row_wise=true` to remove the overhead.\n",
      "And if memory is not enough, you can set `force_col_wise=true`.\n",
      "[LightGBM] [Info] Total Bins 2370\n",
      "[LightGBM] [Info] Number of data points in the train set: 23968, number of used features: 33\n",
      "[LightGBM] [Info] Start training from score 68.324199\n",
      "[LightGBM] [Info] Auto-choosing row-wise multi-threading, the overhead of testing was 0.001919 seconds.\n",
      "You can set `force_row_wise=true` to remove the overhead.\n",
      "And if memory is not enough, you can set `force_col_wise=true`.\n",
      "[LightGBM] [Info] Total Bins 2370\n",
      "[LightGBM] [Info] Number of data points in the train set: 23968, number of used features: 33\n",
      "[LightGBM] [Info] Start training from score 68.324199\n",
      "[LightGBM] [Info] Auto-choosing row-wise multi-threading, the overhead of testing was 0.002277 seconds.\n",
      "You can set `force_row_wise=true` to remove the overhead.\n",
      "And if memory is not enough, you can set `force_col_wise=true`.\n",
      "[LightGBM] [Info] Total Bins 2368\n",
      "[LightGBM] [Info] Number of data points in the train set: 23968, number of used features: 32\n",
      "[LightGBM] [Info] Start training from score 68.324199\n",
      "[LightGBM] [Info] Auto-choosing row-wise multi-threading, the overhead of testing was 0.002996 seconds.\n",
      "You can set `force_row_wise=true` to remove the overhead.\n",
      "And if memory is not enough, you can set `force_col_wise=true`.\n",
      "[LightGBM] [Info] Total Bins 2368\n",
      "[LightGBM] [Info] Number of data points in the train set: 23968, number of used features: 32\n",
      "[LightGBM] [Info] Start training from score 68.324199\n",
      "[LightGBM] [Info] Auto-choosing row-wise multi-threading, the overhead of testing was 0.002049 seconds.\n",
      "You can set `force_row_wise=true` to remove the overhead.\n",
      "And if memory is not enough, you can set `force_col_wise=true`.\n",
      "[LightGBM] [Info] Total Bins 2366\n",
      "[LightGBM] [Info] Number of data points in the train set: 23968, number of used features: 31\n",
      "[LightGBM] [Info] Start training from score 68.324199\n",
      "[LightGBM] [Info] Auto-choosing row-wise multi-threading, the overhead of testing was 0.001839 seconds.\n",
      "You can set `force_row_wise=true` to remove the overhead.\n",
      "And if memory is not enough, you can set `force_col_wise=true`.\n",
      "[LightGBM] [Info] Total Bins 2364\n",
      "[LightGBM] [Info] Number of data points in the train set: 23968, number of used features: 30\n",
      "[LightGBM] [Info] Start training from score 68.324199\n",
      "[LightGBM] [Info] Auto-choosing row-wise multi-threading, the overhead of testing was 0.001914 seconds.\n",
      "You can set `force_row_wise=true` to remove the overhead.\n",
      "And if memory is not enough, you can set `force_col_wise=true`.\n",
      "[LightGBM] [Info] Total Bins 2302\n",
      "[LightGBM] [Info] Number of data points in the train set: 23968, number of used features: 29\n",
      "[LightGBM] [Info] Start training from score 68.324199\n",
      "[LightGBM] [Info] Auto-choosing row-wise multi-threading, the overhead of testing was 0.001356 seconds.\n",
      "You can set `force_row_wise=true` to remove the overhead.\n",
      "And if memory is not enough, you can set `force_col_wise=true`.\n",
      "[LightGBM] [Info] Total Bins 2300\n",
      "[LightGBM] [Info] Number of data points in the train set: 23968, number of used features: 28\n",
      "[LightGBM] [Info] Start training from score 68.324199\n",
      "[LightGBM] [Info] Auto-choosing row-wise multi-threading, the overhead of testing was 0.001824 seconds.\n",
      "You can set `force_row_wise=true` to remove the overhead.\n",
      "And if memory is not enough, you can set `force_col_wise=true`.\n",
      "[LightGBM] [Info] Total Bins 2298\n",
      "[LightGBM] [Info] Number of data points in the train set: 23968, number of used features: 27\n",
      "[LightGBM] [Info] Start training from score 68.324199\n",
      "[LightGBM] [Info] Auto-choosing row-wise multi-threading, the overhead of testing was 0.001892 seconds.\n",
      "You can set `force_row_wise=true` to remove the overhead.\n",
      "And if memory is not enough, you can set `force_col_wise=true`.\n",
      "[LightGBM] [Info] Total Bins 2293\n",
      "[LightGBM] [Info] Number of data points in the train set: 23968, number of used features: 26\n",
      "[LightGBM] [Info] Start training from score 68.324199\n",
      "[LightGBM] [Info] Auto-choosing row-wise multi-threading, the overhead of testing was 0.003444 seconds.\n",
      "You can set `force_row_wise=true` to remove the overhead.\n",
      "And if memory is not enough, you can set `force_col_wise=true`.\n",
      "[LightGBM] [Info] Total Bins 2291\n",
      "[LightGBM] [Info] Number of data points in the train set: 23968, number of used features: 25\n",
      "[LightGBM] [Info] Start training from score 68.324199\n",
      "[LightGBM] [Info] Auto-choosing row-wise multi-threading, the overhead of testing was 0.001507 seconds.\n",
      "You can set `force_row_wise=true` to remove the overhead.\n",
      "And if memory is not enough, you can set `force_col_wise=true`.\n",
      "[LightGBM] [Info] Total Bins 2289\n",
      "[LightGBM] [Info] Number of data points in the train set: 23968, number of used features: 24\n",
      "[LightGBM] [Info] Start training from score 68.324199\n",
      "[LightGBM] [Info] Auto-choosing row-wise multi-threading, the overhead of testing was 0.001805 seconds.\n",
      "You can set `force_row_wise=true` to remove the overhead.\n",
      "And if memory is not enough, you can set `force_col_wise=true`.\n",
      "[LightGBM] [Info] Total Bins 2287\n",
      "[LightGBM] [Info] Number of data points in the train set: 23968, number of used features: 23\n",
      "[LightGBM] [Info] Start training from score 68.324199\n",
      "[LightGBM] [Info] Auto-choosing row-wise multi-threading, the overhead of testing was 0.001451 seconds.\n",
      "You can set `force_row_wise=true` to remove the overhead.\n",
      "And if memory is not enough, you can set `force_col_wise=true`.\n",
      "[LightGBM] [Info] Total Bins 2285\n",
      "[LightGBM] [Info] Number of data points in the train set: 23968, number of used features: 22\n",
      "[LightGBM] [Info] Start training from score 68.324199\n",
      "[LightGBM] [Info] Auto-choosing row-wise multi-threading, the overhead of testing was 0.001160 seconds.\n",
      "You can set `force_row_wise=true` to remove the overhead.\n",
      "And if memory is not enough, you can set `force_col_wise=true`.\n",
      "[LightGBM] [Info] Total Bins 2280\n",
      "[LightGBM] [Info] Number of data points in the train set: 23968, number of used features: 21\n",
      "[LightGBM] [Info] Start training from score 68.324199\n",
      "[LightGBM] [Info] Auto-choosing row-wise multi-threading, the overhead of testing was 0.001337 seconds.\n",
      "You can set `force_row_wise=true` to remove the overhead.\n",
      "And if memory is not enough, you can set `force_col_wise=true`.\n",
      "[LightGBM] [Info] Total Bins 2274\n",
      "[LightGBM] [Info] Number of data points in the train set: 23968, number of used features: 20\n",
      "[LightGBM] [Info] Start training from score 68.324199\n",
      "[LightGBM] [Info] Auto-choosing row-wise multi-threading, the overhead of testing was 0.001464 seconds.\n",
      "You can set `force_row_wise=true` to remove the overhead.\n",
      "And if memory is not enough, you can set `force_col_wise=true`.\n",
      "[LightGBM] [Info] Total Bins 2272\n",
      "[LightGBM] [Info] Number of data points in the train set: 23968, number of used features: 19\n",
      "[LightGBM] [Info] Start training from score 68.324199\n",
      "[LightGBM] [Info] Auto-choosing row-wise multi-threading, the overhead of testing was 0.001016 seconds.\n",
      "You can set `force_row_wise=true` to remove the overhead.\n",
      "And if memory is not enough, you can set `force_col_wise=true`.\n",
      "[LightGBM] [Info] Total Bins 2270\n",
      "[LightGBM] [Info] Number of data points in the train set: 23968, number of used features: 18\n",
      "[LightGBM] [Info] Start training from score 68.324199\n",
      "[LightGBM] [Info] Auto-choosing row-wise multi-threading, the overhead of testing was 0.000362 seconds.\n",
      "You can set `force_row_wise=true` to remove the overhead.\n",
      "And if memory is not enough, you can set `force_col_wise=true`.\n",
      "[LightGBM] [Info] Total Bins 2268\n",
      "[LightGBM] [Info] Number of data points in the train set: 23968, number of used features: 17\n",
      "[LightGBM] [Info] Start training from score 68.324199\n",
      "[LightGBM] [Info] Auto-choosing row-wise multi-threading, the overhead of testing was 0.000355 seconds.\n",
      "You can set `force_row_wise=true` to remove the overhead.\n",
      "And if memory is not enough, you can set `force_col_wise=true`.\n",
      "[LightGBM] [Info] Total Bins 2253\n",
      "[LightGBM] [Info] Number of data points in the train set: 23968, number of used features: 16\n",
      "[LightGBM] [Info] Start training from score 68.324199\n",
      "[LightGBM] [Info] Auto-choosing row-wise multi-threading, the overhead of testing was 0.000526 seconds.\n",
      "You can set `force_row_wise=true` to remove the overhead.\n",
      "And if memory is not enough, you can set `force_col_wise=true`.\n",
      "[LightGBM] [Info] Total Bins 2213\n",
      "[LightGBM] [Info] Number of data points in the train set: 23968, number of used features: 15\n",
      "[LightGBM] [Info] Start training from score 68.324199\n",
      "[LightGBM] [Info] Auto-choosing row-wise multi-threading, the overhead of testing was 0.000305 seconds.\n",
      "You can set `force_row_wise=true` to remove the overhead.\n",
      "And if memory is not enough, you can set `force_col_wise=true`.\n",
      "[LightGBM] [Info] Total Bins 2198\n",
      "[LightGBM] [Info] Number of data points in the train set: 23968, number of used features: 14\n",
      "[LightGBM] [Info] Start training from score 68.324199\n",
      "[LightGBM] [Info] Auto-choosing row-wise multi-threading, the overhead of testing was 0.000307 seconds.\n",
      "You can set `force_row_wise=true` to remove the overhead.\n",
      "And if memory is not enough, you can set `force_col_wise=true`.\n",
      "[LightGBM] [Info] Total Bins 2192\n",
      "[LightGBM] [Info] Number of data points in the train set: 23968, number of used features: 13\n",
      "[LightGBM] [Info] Start training from score 68.324199\n",
      "[LightGBM] [Info] Auto-choosing col-wise multi-threading, the overhead of testing was 0.000974 seconds.\n",
      "You can set `force_col_wise=true` to remove the overhead.\n",
      "[LightGBM] [Info] Total Bins 2187\n",
      "[LightGBM] [Info] Number of data points in the train set: 23968, number of used features: 12\n",
      "[LightGBM] [Info] Start training from score 68.324199\n",
      "[LightGBM] [Info] Auto-choosing col-wise multi-threading, the overhead of testing was 0.000816 seconds.\n",
      "You can set `force_col_wise=true` to remove the overhead.\n",
      "[LightGBM] [Info] Total Bins 2127\n",
      "[LightGBM] [Info] Number of data points in the train set: 23968, number of used features: 11\n",
      "[LightGBM] [Info] Start training from score 68.324199\n",
      "[LightGBM] [Info] Auto-choosing col-wise multi-threading, the overhead of testing was 0.000958 seconds.\n",
      "You can set `force_col_wise=true` to remove the overhead.\n",
      "[LightGBM] [Info] Total Bins 1891\n",
      "[LightGBM] [Info] Number of data points in the train set: 23968, number of used features: 10\n",
      "[LightGBM] [Info] Start training from score 68.324199\n",
      "[LightGBM] [Info] Auto-choosing col-wise multi-threading, the overhead of testing was 0.002338 seconds.\n",
      "You can set `force_col_wise=true` to remove the overhead.\n",
      "[LightGBM] [Info] Total Bins 1661\n",
      "[LightGBM] [Info] Number of data points in the train set: 23968, number of used features: 9\n",
      "[LightGBM] [Info] Start training from score 68.324199\n",
      "[LightGBM] [Info] Auto-choosing col-wise multi-threading, the overhead of testing was 0.001108 seconds.\n",
      "You can set `force_col_wise=true` to remove the overhead.\n",
      "[LightGBM] [Info] Total Bins 1464\n",
      "[LightGBM] [Info] Number of data points in the train set: 23968, number of used features: 8\n",
      "[LightGBM] [Info] Start training from score 68.324199\n",
      "[LightGBM] [Info] Auto-choosing row-wise multi-threading, the overhead of testing was 0.000117 seconds.\n",
      "You can set `force_row_wise=true` to remove the overhead.\n",
      "And if memory is not enough, you can set `force_col_wise=true`.\n",
      "[LightGBM] [Info] Total Bins 1401\n",
      "[LightGBM] [Info] Number of data points in the train set: 23968, number of used features: 7\n",
      "[LightGBM] [Info] Start training from score 68.324199\n",
      "[LightGBM] [Info] Auto-choosing row-wise multi-threading, the overhead of testing was 0.000132 seconds.\n",
      "You can set `force_row_wise=true` to remove the overhead.\n",
      "And if memory is not enough, you can set `force_col_wise=true`.\n",
      "[LightGBM] [Info] Total Bins 1339\n",
      "[LightGBM] [Info] Number of data points in the train set: 23968, number of used features: 6\n",
      "[LightGBM] [Info] Start training from score 68.324199\n",
      "[LightGBM] [Info] Auto-choosing row-wise multi-threading, the overhead of testing was 0.000157 seconds.\n",
      "You can set `force_row_wise=true` to remove the overhead.\n",
      "And if memory is not enough, you can set `force_col_wise=true`.\n",
      "[LightGBM] [Info] Total Bins 1084\n",
      "[LightGBM] [Info] Number of data points in the train set: 23968, number of used features: 5\n",
      "[LightGBM] [Info] Start training from score 68.324199\n",
      "[LightGBM] [Info] Auto-choosing row-wise multi-threading, the overhead of testing was 0.003075 seconds.\n",
      "You can set `force_row_wise=true` to remove the overhead.\n",
      "And if memory is not enough, you can set `force_col_wise=true`.\n",
      "[LightGBM] [Info] Total Bins 2370\n",
      "[LightGBM] [Info] Number of data points in the train set: 23968, number of used features: 34\n",
      "[LightGBM] [Info] Start training from score 65.052345\n",
      "[LightGBM] [Info] Auto-choosing row-wise multi-threading, the overhead of testing was 0.003149 seconds.\n",
      "You can set `force_row_wise=true` to remove the overhead.\n",
      "And if memory is not enough, you can set `force_col_wise=true`.\n",
      "[LightGBM] [Info] Total Bins 2368\n",
      "[LightGBM] [Info] Number of data points in the train set: 23968, number of used features: 33\n",
      "[LightGBM] [Info] Start training from score 65.052345\n",
      "[LightGBM] [Info] Auto-choosing row-wise multi-threading, the overhead of testing was 0.003476 seconds.\n",
      "You can set `force_row_wise=true` to remove the overhead.\n",
      "And if memory is not enough, you can set `force_col_wise=true`.\n",
      "[LightGBM] [Info] Total Bins 2368\n",
      "[LightGBM] [Info] Number of data points in the train set: 23968, number of used features: 33\n",
      "[LightGBM] [Info] Start training from score 65.052345\n",
      "[LightGBM] [Info] Auto-choosing row-wise multi-threading, the overhead of testing was 0.002032 seconds.\n",
      "You can set `force_row_wise=true` to remove the overhead.\n",
      "And if memory is not enough, you can set `force_col_wise=true`.\n",
      "[LightGBM] [Info] Total Bins 2366\n",
      "[LightGBM] [Info] Number of data points in the train set: 23968, number of used features: 32\n",
      "[LightGBM] [Info] Start training from score 65.052345\n",
      "[LightGBM] [Info] Auto-choosing row-wise multi-threading, the overhead of testing was 0.001524 seconds.\n",
      "You can set `force_row_wise=true` to remove the overhead.\n",
      "And if memory is not enough, you can set `force_col_wise=true`.\n",
      "[LightGBM] [Info] Total Bins 2366\n",
      "[LightGBM] [Info] Number of data points in the train set: 23968, number of used features: 32\n",
      "[LightGBM] [Info] Start training from score 65.052345\n",
      "[LightGBM] [Info] Auto-choosing row-wise multi-threading, the overhead of testing was 0.001352 seconds.\n",
      "You can set `force_row_wise=true` to remove the overhead.\n",
      "And if memory is not enough, you can set `force_col_wise=true`.\n",
      "[LightGBM] [Info] Total Bins 2364\n",
      "[LightGBM] [Info] Number of data points in the train set: 23968, number of used features: 31\n",
      "[LightGBM] [Info] Start training from score 65.052345\n",
      "[LightGBM] [Info] Auto-choosing row-wise multi-threading, the overhead of testing was 0.001215 seconds.\n",
      "You can set `force_row_wise=true` to remove the overhead.\n",
      "And if memory is not enough, you can set `force_col_wise=true`.\n",
      "[LightGBM] [Info] Total Bins 2362\n",
      "[LightGBM] [Info] Number of data points in the train set: 23968, number of used features: 30\n",
      "[LightGBM] [Info] Start training from score 65.052345\n",
      "[LightGBM] [Info] Auto-choosing row-wise multi-threading, the overhead of testing was 0.001431 seconds.\n",
      "You can set `force_row_wise=true` to remove the overhead.\n",
      "And if memory is not enough, you can set `force_col_wise=true`.\n",
      "[LightGBM] [Info] Total Bins 2300\n",
      "[LightGBM] [Info] Number of data points in the train set: 23968, number of used features: 29\n",
      "[LightGBM] [Info] Start training from score 65.052345\n",
      "[LightGBM] [Info] Auto-choosing row-wise multi-threading, the overhead of testing was 0.001328 seconds.\n",
      "You can set `force_row_wise=true` to remove the overhead.\n",
      "And if memory is not enough, you can set `force_col_wise=true`.\n",
      "[LightGBM] [Info] Total Bins 2298\n",
      "[LightGBM] [Info] Number of data points in the train set: 23968, number of used features: 28\n",
      "[LightGBM] [Info] Start training from score 65.052345\n",
      "[LightGBM] [Info] Auto-choosing row-wise multi-threading, the overhead of testing was 0.001372 seconds.\n",
      "You can set `force_row_wise=true` to remove the overhead.\n",
      "And if memory is not enough, you can set `force_col_wise=true`.\n",
      "[LightGBM] [Info] Total Bins 2296\n",
      "[LightGBM] [Info] Number of data points in the train set: 23968, number of used features: 27\n",
      "[LightGBM] [Info] Start training from score 65.052345\n",
      "[LightGBM] [Info] Auto-choosing row-wise multi-threading, the overhead of testing was 0.001570 seconds.\n",
      "You can set `force_row_wise=true` to remove the overhead.\n",
      "And if memory is not enough, you can set `force_col_wise=true`.\n",
      "[LightGBM] [Info] Total Bins 2291\n",
      "[LightGBM] [Info] Number of data points in the train set: 23968, number of used features: 26\n",
      "[LightGBM] [Info] Start training from score 65.052345\n",
      "[LightGBM] [Info] Auto-choosing row-wise multi-threading, the overhead of testing was 0.001428 seconds.\n",
      "You can set `force_row_wise=true` to remove the overhead.\n",
      "And if memory is not enough, you can set `force_col_wise=true`.\n",
      "[LightGBM] [Info] Total Bins 2286\n",
      "[LightGBM] [Info] Number of data points in the train set: 23968, number of used features: 25\n",
      "[LightGBM] [Info] Start training from score 65.052345\n",
      "[LightGBM] [Info] Auto-choosing row-wise multi-threading, the overhead of testing was 0.001453 seconds.\n",
      "You can set `force_row_wise=true` to remove the overhead.\n",
      "And if memory is not enough, you can set `force_col_wise=true`.\n",
      "[LightGBM] [Info] Total Bins 2284\n",
      "[LightGBM] [Info] Number of data points in the train set: 23968, number of used features: 24\n",
      "[LightGBM] [Info] Start training from score 65.052345\n",
      "[LightGBM] [Info] Auto-choosing row-wise multi-threading, the overhead of testing was 0.001260 seconds.\n",
      "You can set `force_row_wise=true` to remove the overhead.\n",
      "And if memory is not enough, you can set `force_col_wise=true`.\n",
      "[LightGBM] [Info] Total Bins 2282\n",
      "[LightGBM] [Info] Number of data points in the train set: 23968, number of used features: 23\n",
      "[LightGBM] [Info] Start training from score 65.052345\n",
      "[LightGBM] [Info] Auto-choosing row-wise multi-threading, the overhead of testing was 0.024170 seconds.\n",
      "You can set `force_row_wise=true` to remove the overhead.\n",
      "And if memory is not enough, you can set `force_col_wise=true`.\n",
      "[LightGBM] [Info] Total Bins 2280\n",
      "[LightGBM] [Info] Number of data points in the train set: 23968, number of used features: 22\n",
      "[LightGBM] [Info] Start training from score 65.052345\n",
      "[LightGBM] [Info] Auto-choosing row-wise multi-threading, the overhead of testing was 0.001028 seconds.\n",
      "You can set `force_row_wise=true` to remove the overhead.\n",
      "And if memory is not enough, you can set `force_col_wise=true`.\n",
      "[LightGBM] [Info] Total Bins 2278\n",
      "[LightGBM] [Info] Number of data points in the train set: 23968, number of used features: 21\n",
      "[LightGBM] [Info] Start training from score 65.052345\n",
      "[LightGBM] [Info] Auto-choosing row-wise multi-threading, the overhead of testing was 0.000778 seconds.\n",
      "You can set `force_row_wise=true` to remove the overhead.\n",
      "And if memory is not enough, you can set `force_col_wise=true`.\n",
      "[LightGBM] [Info] Total Bins 2276\n",
      "[LightGBM] [Info] Number of data points in the train set: 23968, number of used features: 20\n",
      "[LightGBM] [Info] Start training from score 65.052345\n",
      "[LightGBM] [Info] Auto-choosing row-wise multi-threading, the overhead of testing was 0.000751 seconds.\n",
      "You can set `force_row_wise=true` to remove the overhead.\n",
      "And if memory is not enough, you can set `force_col_wise=true`.\n",
      "[LightGBM] [Info] Total Bins 2274\n",
      "[LightGBM] [Info] Number of data points in the train set: 23968, number of used features: 19\n",
      "[LightGBM] [Info] Start training from score 65.052345\n",
      "[LightGBM] [Info] Auto-choosing row-wise multi-threading, the overhead of testing was 0.000240 seconds.\n",
      "You can set `force_row_wise=true` to remove the overhead.\n",
      "And if memory is not enough, you can set `force_col_wise=true`.\n",
      "[LightGBM] [Info] Total Bins 2272\n",
      "[LightGBM] [Info] Number of data points in the train set: 23968, number of used features: 18\n",
      "[LightGBM] [Info] Start training from score 65.052345\n",
      "[LightGBM] [Info] Auto-choosing row-wise multi-threading, the overhead of testing was 0.000231 seconds.\n",
      "You can set `force_row_wise=true` to remove the overhead.\n",
      "And if memory is not enough, you can set `force_col_wise=true`.\n",
      "[LightGBM] [Info] Total Bins 2266\n",
      "[LightGBM] [Info] Number of data points in the train set: 23968, number of used features: 17\n",
      "[LightGBM] [Info] Start training from score 65.052345\n",
      "[LightGBM] [Info] Auto-choosing row-wise multi-threading, the overhead of testing was 0.000261 seconds.\n",
      "You can set `force_row_wise=true` to remove the overhead.\n",
      "And if memory is not enough, you can set `force_col_wise=true`.\n",
      "[LightGBM] [Info] Total Bins 2250\n",
      "[LightGBM] [Info] Number of data points in the train set: 23968, number of used features: 16\n",
      "[LightGBM] [Info] Start training from score 65.052345\n",
      "[LightGBM] [Info] Auto-choosing row-wise multi-threading, the overhead of testing was 0.000243 seconds.\n",
      "You can set `force_row_wise=true` to remove the overhead.\n",
      "And if memory is not enough, you can set `force_col_wise=true`.\n",
      "[LightGBM] [Info] Total Bins 2243\n",
      "[LightGBM] [Info] Number of data points in the train set: 23968, number of used features: 15\n",
      "[LightGBM] [Info] Start training from score 65.052345\n",
      "[LightGBM] [Info] Auto-choosing row-wise multi-threading, the overhead of testing was 0.000302 seconds.\n",
      "You can set `force_row_wise=true` to remove the overhead.\n",
      "And if memory is not enough, you can set `force_col_wise=true`.\n",
      "[LightGBM] [Info] Total Bins 2202\n",
      "[LightGBM] [Info] Number of data points in the train set: 23968, number of used features: 14\n",
      "[LightGBM] [Info] Start training from score 65.052345\n",
      "[LightGBM] [Info] Auto-choosing row-wise multi-threading, the overhead of testing was 0.000158 seconds.\n",
      "You can set `force_row_wise=true` to remove the overhead.\n",
      "And if memory is not enough, you can set `force_col_wise=true`.\n",
      "[LightGBM] [Info] Total Bins 2186\n",
      "[LightGBM] [Info] Number of data points in the train set: 23968, number of used features: 13\n",
      "[LightGBM] [Info] Start training from score 65.052345\n",
      "[LightGBM] [Info] Auto-choosing row-wise multi-threading, the overhead of testing was 0.000182 seconds.\n",
      "You can set `force_row_wise=true` to remove the overhead.\n",
      "And if memory is not enough, you can set `force_col_wise=true`.\n",
      "[LightGBM] [Info] Total Bins 2181\n",
      "[LightGBM] [Info] Number of data points in the train set: 23968, number of used features: 12\n",
      "[LightGBM] [Info] Start training from score 65.052345\n",
      "[LightGBM] [Info] Auto-choosing row-wise multi-threading, the overhead of testing was 0.000150 seconds.\n",
      "You can set `force_row_wise=true` to remove the overhead.\n",
      "And if memory is not enough, you can set `force_col_wise=true`.\n",
      "[LightGBM] [Info] Total Bins 2118\n",
      "[LightGBM] [Info] Number of data points in the train set: 23968, number of used features: 11\n",
      "[LightGBM] [Info] Start training from score 65.052345\n",
      "[LightGBM] [Info] Auto-choosing row-wise multi-threading, the overhead of testing was 0.000198 seconds.\n",
      "You can set `force_row_wise=true` to remove the overhead.\n",
      "And if memory is not enough, you can set `force_col_wise=true`.\n",
      "[LightGBM] [Info] Total Bins 1890\n",
      "[LightGBM] [Info] Number of data points in the train set: 23968, number of used features: 10\n",
      "[LightGBM] [Info] Start training from score 65.052345\n",
      "[LightGBM] [Info] Auto-choosing row-wise multi-threading, the overhead of testing was 0.000123 seconds.\n",
      "You can set `force_row_wise=true` to remove the overhead.\n",
      "And if memory is not enough, you can set `force_col_wise=true`.\n",
      "[LightGBM] [Info] Total Bins 1657\n",
      "[LightGBM] [Info] Number of data points in the train set: 23968, number of used features: 9\n",
      "[LightGBM] [Info] Start training from score 65.052345\n",
      "[LightGBM] [Info] Auto-choosing row-wise multi-threading, the overhead of testing was 0.000130 seconds.\n",
      "You can set `force_row_wise=true` to remove the overhead.\n",
      "And if memory is not enough, you can set `force_col_wise=true`.\n",
      "[LightGBM] [Info] Total Bins 1460\n",
      "[LightGBM] [Info] Number of data points in the train set: 23968, number of used features: 8\n",
      "[LightGBM] [Info] Start training from score 65.052345\n",
      "[LightGBM] [Info] Auto-choosing row-wise multi-threading, the overhead of testing was 0.000103 seconds.\n",
      "You can set `force_row_wise=true` to remove the overhead.\n",
      "And if memory is not enough, you can set `force_col_wise=true`.\n",
      "[LightGBM] [Info] Total Bins 1398\n",
      "[LightGBM] [Info] Number of data points in the train set: 23968, number of used features: 7\n",
      "[LightGBM] [Info] Start training from score 65.052345\n",
      "[LightGBM] [Info] Auto-choosing row-wise multi-threading, the overhead of testing was 0.000110 seconds.\n",
      "You can set `force_row_wise=true` to remove the overhead.\n",
      "And if memory is not enough, you can set `force_col_wise=true`.\n",
      "[LightGBM] [Info] Total Bins 1335\n",
      "[LightGBM] [Info] Number of data points in the train set: 23968, number of used features: 6\n",
      "[LightGBM] [Info] Start training from score 65.052345\n",
      "[LightGBM] [Info] Auto-choosing row-wise multi-threading, the overhead of testing was 0.000108 seconds.\n",
      "You can set `force_row_wise=true` to remove the overhead.\n",
      "And if memory is not enough, you can set `force_col_wise=true`.\n",
      "[LightGBM] [Info] Total Bins 1080\n",
      "[LightGBM] [Info] Number of data points in the train set: 23968, number of used features: 5\n",
      "[LightGBM] [Info] Start training from score 65.052345\n",
      "[LightGBM] [Info] Auto-choosing row-wise multi-threading, the overhead of testing was 0.001484 seconds.\n",
      "You can set `force_row_wise=true` to remove the overhead.\n",
      "And if memory is not enough, you can set `force_col_wise=true`.\n",
      "[LightGBM] [Info] Total Bins 2367\n",
      "[LightGBM] [Info] Number of data points in the train set: 23968, number of used features: 34\n",
      "[LightGBM] [Info] Start training from score 67.798146\n",
      "[LightGBM] [Info] Auto-choosing row-wise multi-threading, the overhead of testing was 0.001555 seconds.\n",
      "You can set `force_row_wise=true` to remove the overhead.\n",
      "And if memory is not enough, you can set `force_col_wise=true`.\n",
      "[LightGBM] [Info] Total Bins 2365\n",
      "[LightGBM] [Info] Number of data points in the train set: 23968, number of used features: 33\n",
      "[LightGBM] [Info] Start training from score 67.798146\n",
      "[LightGBM] [Info] Auto-choosing row-wise multi-threading, the overhead of testing was 0.001449 seconds.\n",
      "You can set `force_row_wise=true` to remove the overhead.\n",
      "And if memory is not enough, you can set `force_col_wise=true`.\n",
      "[LightGBM] [Info] Total Bins 2365\n",
      "[LightGBM] [Info] Number of data points in the train set: 23968, number of used features: 33\n",
      "[LightGBM] [Info] Start training from score 67.798146\n",
      "[LightGBM] [Info] Auto-choosing row-wise multi-threading, the overhead of testing was 0.001656 seconds.\n",
      "You can set `force_row_wise=true` to remove the overhead.\n",
      "And if memory is not enough, you can set `force_col_wise=true`.\n",
      "[LightGBM] [Info] Total Bins 2363\n",
      "[LightGBM] [Info] Number of data points in the train set: 23968, number of used features: 32\n",
      "[LightGBM] [Info] Start training from score 67.798146\n",
      "[LightGBM] [Info] Auto-choosing row-wise multi-threading, the overhead of testing was 0.001521 seconds.\n",
      "You can set `force_row_wise=true` to remove the overhead.\n",
      "And if memory is not enough, you can set `force_col_wise=true`.\n",
      "[LightGBM] [Info] Total Bins 2363\n",
      "[LightGBM] [Info] Number of data points in the train set: 23968, number of used features: 32\n",
      "[LightGBM] [Info] Start training from score 67.798146\n",
      "[LightGBM] [Info] Auto-choosing row-wise multi-threading, the overhead of testing was 0.001486 seconds.\n",
      "You can set `force_row_wise=true` to remove the overhead.\n",
      "And if memory is not enough, you can set `force_col_wise=true`.\n",
      "[LightGBM] [Info] Total Bins 2361\n",
      "[LightGBM] [Info] Number of data points in the train set: 23968, number of used features: 31\n",
      "[LightGBM] [Info] Start training from score 67.798146\n",
      "[LightGBM] [Info] Auto-choosing row-wise multi-threading, the overhead of testing was 0.001295 seconds.\n",
      "You can set `force_row_wise=true` to remove the overhead.\n",
      "And if memory is not enough, you can set `force_col_wise=true`.\n",
      "[LightGBM] [Info] Total Bins 2359\n",
      "[LightGBM] [Info] Number of data points in the train set: 23968, number of used features: 30\n",
      "[LightGBM] [Info] Start training from score 67.798146\n",
      "[LightGBM] [Info] Auto-choosing row-wise multi-threading, the overhead of testing was 0.001369 seconds.\n",
      "You can set `force_row_wise=true` to remove the overhead.\n",
      "And if memory is not enough, you can set `force_col_wise=true`.\n",
      "[LightGBM] [Info] Total Bins 2297\n",
      "[LightGBM] [Info] Number of data points in the train set: 23968, number of used features: 29\n",
      "[LightGBM] [Info] Start training from score 67.798146\n",
      "[LightGBM] [Info] Auto-choosing row-wise multi-threading, the overhead of testing was 0.001301 seconds.\n",
      "You can set `force_row_wise=true` to remove the overhead.\n",
      "And if memory is not enough, you can set `force_col_wise=true`.\n",
      "[LightGBM] [Info] Total Bins 2295\n",
      "[LightGBM] [Info] Number of data points in the train set: 23968, number of used features: 28\n",
      "[LightGBM] [Info] Start training from score 67.798146\n",
      "[LightGBM] [Info] Auto-choosing row-wise multi-threading, the overhead of testing was 0.001232 seconds.\n",
      "You can set `force_row_wise=true` to remove the overhead.\n",
      "And if memory is not enough, you can set `force_col_wise=true`.\n",
      "[LightGBM] [Info] Total Bins 2290\n",
      "[LightGBM] [Info] Number of data points in the train set: 23968, number of used features: 27\n",
      "[LightGBM] [Info] Start training from score 67.798146\n",
      "[LightGBM] [Info] Auto-choosing row-wise multi-threading, the overhead of testing was 0.001365 seconds.\n",
      "You can set `force_row_wise=true` to remove the overhead.\n",
      "And if memory is not enough, you can set `force_col_wise=true`.\n",
      "[LightGBM] [Info] Total Bins 2288\n",
      "[LightGBM] [Info] Number of data points in the train set: 23968, number of used features: 26\n",
      "[LightGBM] [Info] Start training from score 67.798146\n",
      "[LightGBM] [Info] Auto-choosing row-wise multi-threading, the overhead of testing was 0.001219 seconds.\n",
      "You can set `force_row_wise=true` to remove the overhead.\n",
      "And if memory is not enough, you can set `force_col_wise=true`.\n",
      "[LightGBM] [Info] Total Bins 2286\n",
      "[LightGBM] [Info] Number of data points in the train set: 23968, number of used features: 25\n",
      "[LightGBM] [Info] Start training from score 67.798146\n",
      "[LightGBM] [Info] Auto-choosing row-wise multi-threading, the overhead of testing was 0.001281 seconds.\n",
      "You can set `force_row_wise=true` to remove the overhead.\n",
      "And if memory is not enough, you can set `force_col_wise=true`.\n",
      "[LightGBM] [Info] Total Bins 2284\n",
      "[LightGBM] [Info] Number of data points in the train set: 23968, number of used features: 24\n",
      "[LightGBM] [Info] Start training from score 67.798146\n",
      "[LightGBM] [Info] Auto-choosing row-wise multi-threading, the overhead of testing was 0.001197 seconds.\n",
      "You can set `force_row_wise=true` to remove the overhead.\n",
      "And if memory is not enough, you can set `force_col_wise=true`.\n",
      "[LightGBM] [Info] Total Bins 2282\n",
      "[LightGBM] [Info] Number of data points in the train set: 23968, number of used features: 23\n",
      "[LightGBM] [Info] Start training from score 67.798146\n",
      "[LightGBM] [Info] Auto-choosing row-wise multi-threading, the overhead of testing was 0.001210 seconds.\n",
      "You can set `force_row_wise=true` to remove the overhead.\n",
      "And if memory is not enough, you can set `force_col_wise=true`.\n",
      "[LightGBM] [Info] Total Bins 2280\n",
      "[LightGBM] [Info] Number of data points in the train set: 23968, number of used features: 22\n",
      "[LightGBM] [Info] Start training from score 67.798146\n",
      "[LightGBM] [Info] Auto-choosing row-wise multi-threading, the overhead of testing was 0.000910 seconds.\n",
      "You can set `force_row_wise=true` to remove the overhead.\n",
      "And if memory is not enough, you can set `force_col_wise=true`.\n",
      "[LightGBM] [Info] Total Bins 2278\n",
      "[LightGBM] [Info] Number of data points in the train set: 23968, number of used features: 21\n",
      "[LightGBM] [Info] Start training from score 67.798146\n",
      "[LightGBM] [Info] Auto-choosing row-wise multi-threading, the overhead of testing was 0.000808 seconds.\n",
      "You can set `force_row_wise=true` to remove the overhead.\n",
      "And if memory is not enough, you can set `force_col_wise=true`.\n",
      "[LightGBM] [Info] Total Bins 2276\n",
      "[LightGBM] [Info] Number of data points in the train set: 23968, number of used features: 20\n",
      "[LightGBM] [Info] Start training from score 67.798146\n",
      "[LightGBM] [Info] Auto-choosing row-wise multi-threading, the overhead of testing was 0.000735 seconds.\n",
      "You can set `force_row_wise=true` to remove the overhead.\n",
      "And if memory is not enough, you can set `force_col_wise=true`.\n",
      "[LightGBM] [Info] Total Bins 2270\n",
      "[LightGBM] [Info] Number of data points in the train set: 23968, number of used features: 19\n",
      "[LightGBM] [Info] Start training from score 67.798146\n",
      "[LightGBM] [Info] Auto-choosing row-wise multi-threading, the overhead of testing was 0.000760 seconds.\n",
      "You can set `force_row_wise=true` to remove the overhead.\n",
      "And if memory is not enough, you can set `force_col_wise=true`.\n",
      "[LightGBM] [Info] Total Bins 2265\n",
      "[LightGBM] [Info] Number of data points in the train set: 23968, number of used features: 18\n",
      "[LightGBM] [Info] Start training from score 67.798146\n",
      "[LightGBM] [Info] Auto-choosing row-wise multi-threading, the overhead of testing was 0.000192 seconds.\n",
      "You can set `force_row_wise=true` to remove the overhead.\n",
      "And if memory is not enough, you can set `force_col_wise=true`.\n",
      "[LightGBM] [Info] Total Bins 2263\n",
      "[LightGBM] [Info] Number of data points in the train set: 23968, number of used features: 17\n",
      "[LightGBM] [Info] Start training from score 67.798146\n",
      "[LightGBM] [Info] Auto-choosing row-wise multi-threading, the overhead of testing was 0.000191 seconds.\n",
      "You can set `force_row_wise=true` to remove the overhead.\n",
      "And if memory is not enough, you can set `force_col_wise=true`.\n",
      "[LightGBM] [Info] Total Bins 2247\n",
      "[LightGBM] [Info] Number of data points in the train set: 23968, number of used features: 16\n",
      "[LightGBM] [Info] Start training from score 67.798146\n",
      "[LightGBM] [Info] Auto-choosing row-wise multi-threading, the overhead of testing was 0.000200 seconds.\n",
      "You can set `force_row_wise=true` to remove the overhead.\n",
      "And if memory is not enough, you can set `force_col_wise=true`.\n",
      "[LightGBM] [Info] Total Bins 2240\n",
      "[LightGBM] [Info] Number of data points in the train set: 23968, number of used features: 15\n",
      "[LightGBM] [Info] Start training from score 67.798146\n",
      "[LightGBM] [Info] Auto-choosing row-wise multi-threading, the overhead of testing was 0.000151 seconds.\n",
      "You can set `force_row_wise=true` to remove the overhead.\n",
      "And if memory is not enough, you can set `force_col_wise=true`.\n",
      "[LightGBM] [Info] Total Bins 2199\n",
      "[LightGBM] [Info] Number of data points in the train set: 23968, number of used features: 14\n",
      "[LightGBM] [Info] Start training from score 67.798146\n",
      "[LightGBM] [Info] Auto-choosing row-wise multi-threading, the overhead of testing was 0.000166 seconds.\n",
      "You can set `force_row_wise=true` to remove the overhead.\n",
      "And if memory is not enough, you can set `force_col_wise=true`.\n",
      "[LightGBM] [Info] Total Bins 2183\n",
      "[LightGBM] [Info] Number of data points in the train set: 23968, number of used features: 13\n",
      "[LightGBM] [Info] Start training from score 67.798146\n",
      "[LightGBM] [Info] Auto-choosing row-wise multi-threading, the overhead of testing was 0.000145 seconds.\n",
      "You can set `force_row_wise=true` to remove the overhead.\n",
      "And if memory is not enough, you can set `force_col_wise=true`.\n",
      "[LightGBM] [Info] Total Bins 2178\n",
      "[LightGBM] [Info] Number of data points in the train set: 23968, number of used features: 12\n",
      "[LightGBM] [Info] Start training from score 67.798146\n",
      "[LightGBM] [Info] Auto-choosing row-wise multi-threading, the overhead of testing was 0.000148 seconds.\n",
      "You can set `force_row_wise=true` to remove the overhead.\n",
      "And if memory is not enough, you can set `force_col_wise=true`.\n",
      "[LightGBM] [Info] Total Bins 2115\n",
      "[LightGBM] [Info] Number of data points in the train set: 23968, number of used features: 11\n",
      "[LightGBM] [Info] Start training from score 67.798146\n",
      "[LightGBM] [Info] Auto-choosing row-wise multi-threading, the overhead of testing was 0.000135 seconds.\n",
      "You can set `force_row_wise=true` to remove the overhead.\n",
      "And if memory is not enough, you can set `force_col_wise=true`.\n",
      "[LightGBM] [Info] Total Bins 1890\n",
      "[LightGBM] [Info] Number of data points in the train set: 23968, number of used features: 10\n",
      "[LightGBM] [Info] Start training from score 67.798146\n",
      "[LightGBM] [Info] Auto-choosing col-wise multi-threading, the overhead of testing was 0.000634 seconds.\n",
      "You can set `force_col_wise=true` to remove the overhead.\n",
      "[LightGBM] [Info] Total Bins 1694\n",
      "[LightGBM] [Info] Number of data points in the train set: 23968, number of used features: 9\n",
      "[LightGBM] [Info] Start training from score 67.798146\n",
      "[LightGBM] [Info] Auto-choosing row-wise multi-threading, the overhead of testing was 0.000125 seconds.\n",
      "You can set `force_row_wise=true` to remove the overhead.\n",
      "And if memory is not enough, you can set `force_col_wise=true`.\n",
      "[LightGBM] [Info] Total Bins 1632\n",
      "[LightGBM] [Info] Number of data points in the train set: 23968, number of used features: 8\n",
      "[LightGBM] [Info] Start training from score 67.798146\n",
      "[LightGBM] [Info] Auto-choosing row-wise multi-threading, the overhead of testing was 0.000113 seconds.\n",
      "You can set `force_row_wise=true` to remove the overhead.\n",
      "And if memory is not enough, you can set `force_col_wise=true`.\n",
      "[LightGBM] [Info] Total Bins 1400\n",
      "[LightGBM] [Info] Number of data points in the train set: 23968, number of used features: 7\n",
      "[LightGBM] [Info] Start training from score 67.798146\n",
      "[LightGBM] [Info] Auto-choosing row-wise multi-threading, the overhead of testing was 0.000098 seconds.\n",
      "You can set `force_row_wise=true` to remove the overhead.\n",
      "And if memory is not enough, you can set `force_col_wise=true`.\n",
      "[LightGBM] [Info] Total Bins 1339\n",
      "[LightGBM] [Info] Number of data points in the train set: 23968, number of used features: 6\n",
      "[LightGBM] [Info] Start training from score 67.798146\n",
      "[LightGBM] [Info] Auto-choosing row-wise multi-threading, the overhead of testing was 0.000087 seconds.\n",
      "You can set `force_row_wise=true` to remove the overhead.\n",
      "And if memory is not enough, you can set `force_col_wise=true`.\n",
      "[LightGBM] [Info] Total Bins 1084\n",
      "[LightGBM] [Info] Number of data points in the train set: 23968, number of used features: 5\n",
      "[LightGBM] [Info] Start training from score 67.798146\n",
      "[LightGBM] [Info] Auto-choosing row-wise multi-threading, the overhead of testing was 0.001526 seconds.\n",
      "You can set `force_row_wise=true` to remove the overhead.\n",
      "And if memory is not enough, you can set `force_col_wise=true`.\n",
      "[LightGBM] [Info] Total Bins 2368\n",
      "[LightGBM] [Info] Number of data points in the train set: 23968, number of used features: 34\n",
      "[LightGBM] [Info] Start training from score 66.788191\n",
      "[LightGBM] [Info] Auto-choosing row-wise multi-threading, the overhead of testing was 0.001564 seconds.\n",
      "You can set `force_row_wise=true` to remove the overhead.\n",
      "And if memory is not enough, you can set `force_col_wise=true`.\n",
      "[LightGBM] [Info] Total Bins 2366\n",
      "[LightGBM] [Info] Number of data points in the train set: 23968, number of used features: 33\n",
      "[LightGBM] [Info] Start training from score 66.788191\n",
      "[LightGBM] [Info] Auto-choosing row-wise multi-threading, the overhead of testing was 0.001996 seconds.\n",
      "You can set `force_row_wise=true` to remove the overhead.\n",
      "And if memory is not enough, you can set `force_col_wise=true`.\n",
      "[LightGBM] [Info] Total Bins 2366\n",
      "[LightGBM] [Info] Number of data points in the train set: 23968, number of used features: 33\n",
      "[LightGBM] [Info] Start training from score 66.788191\n",
      "[LightGBM] [Info] Auto-choosing row-wise multi-threading, the overhead of testing was 0.001484 seconds.\n",
      "You can set `force_row_wise=true` to remove the overhead.\n",
      "And if memory is not enough, you can set `force_col_wise=true`.\n",
      "[LightGBM] [Info] Total Bins 2364\n",
      "[LightGBM] [Info] Number of data points in the train set: 23968, number of used features: 32\n",
      "[LightGBM] [Info] Start training from score 66.788191\n",
      "[LightGBM] [Info] Auto-choosing row-wise multi-threading, the overhead of testing was 0.002151 seconds.\n",
      "You can set `force_row_wise=true` to remove the overhead.\n",
      "And if memory is not enough, you can set `force_col_wise=true`.\n",
      "[LightGBM] [Info] Total Bins 2364\n",
      "[LightGBM] [Info] Number of data points in the train set: 23968, number of used features: 32\n",
      "[LightGBM] [Info] Start training from score 66.788191\n",
      "[LightGBM] [Info] Auto-choosing row-wise multi-threading, the overhead of testing was 0.001422 seconds.\n",
      "You can set `force_row_wise=true` to remove the overhead.\n",
      "And if memory is not enough, you can set `force_col_wise=true`.\n",
      "[LightGBM] [Info] Total Bins 2362\n",
      "[LightGBM] [Info] Number of data points in the train set: 23968, number of used features: 31\n",
      "[LightGBM] [Info] Start training from score 66.788191\n",
      "[LightGBM] [Info] Auto-choosing row-wise multi-threading, the overhead of testing was 0.001183 seconds.\n",
      "You can set `force_row_wise=true` to remove the overhead.\n",
      "And if memory is not enough, you can set `force_col_wise=true`.\n",
      "[LightGBM] [Info] Total Bins 2360\n",
      "[LightGBM] [Info] Number of data points in the train set: 23968, number of used features: 30\n",
      "[LightGBM] [Info] Start training from score 66.788191\n",
      "[LightGBM] [Info] Auto-choosing row-wise multi-threading, the overhead of testing was 0.001564 seconds.\n",
      "You can set `force_row_wise=true` to remove the overhead.\n",
      "And if memory is not enough, you can set `force_col_wise=true`.\n",
      "[LightGBM] [Info] Total Bins 2298\n",
      "[LightGBM] [Info] Number of data points in the train set: 23968, number of used features: 29\n",
      "[LightGBM] [Info] Start training from score 66.788191\n",
      "[LightGBM] [Info] Auto-choosing row-wise multi-threading, the overhead of testing was 0.001344 seconds.\n",
      "You can set `force_row_wise=true` to remove the overhead.\n",
      "And if memory is not enough, you can set `force_col_wise=true`.\n",
      "[LightGBM] [Info] Total Bins 2296\n",
      "[LightGBM] [Info] Number of data points in the train set: 23968, number of used features: 28\n",
      "[LightGBM] [Info] Start training from score 66.788191\n",
      "[LightGBM] [Info] Auto-choosing row-wise multi-threading, the overhead of testing was 0.001246 seconds.\n",
      "You can set `force_row_wise=true` to remove the overhead.\n",
      "And if memory is not enough, you can set `force_col_wise=true`.\n",
      "[LightGBM] [Info] Total Bins 2291\n",
      "[LightGBM] [Info] Number of data points in the train set: 23968, number of used features: 27\n",
      "[LightGBM] [Info] Start training from score 66.788191\n",
      "[LightGBM] [Info] Auto-choosing row-wise multi-threading, the overhead of testing was 0.001728 seconds.\n",
      "You can set `force_row_wise=true` to remove the overhead.\n",
      "And if memory is not enough, you can set `force_col_wise=true`.\n",
      "[LightGBM] [Info] Total Bins 2289\n",
      "[LightGBM] [Info] Number of data points in the train set: 23968, number of used features: 26\n",
      "[LightGBM] [Info] Start training from score 66.788191\n",
      "[LightGBM] [Info] Auto-choosing row-wise multi-threading, the overhead of testing was 0.001758 seconds.\n",
      "You can set `force_row_wise=true` to remove the overhead.\n",
      "And if memory is not enough, you can set `force_col_wise=true`.\n",
      "[LightGBM] [Info] Total Bins 2287\n",
      "[LightGBM] [Info] Number of data points in the train set: 23968, number of used features: 25\n",
      "[LightGBM] [Info] Start training from score 66.788191\n",
      "[LightGBM] [Info] Auto-choosing row-wise multi-threading, the overhead of testing was 0.001193 seconds.\n",
      "You can set `force_row_wise=true` to remove the overhead.\n",
      "And if memory is not enough, you can set `force_col_wise=true`.\n",
      "[LightGBM] [Info] Total Bins 2285\n",
      "[LightGBM] [Info] Number of data points in the train set: 23968, number of used features: 24\n",
      "[LightGBM] [Info] Start training from score 66.788191\n",
      "[LightGBM] [Info] Auto-choosing row-wise multi-threading, the overhead of testing was 0.001146 seconds.\n",
      "You can set `force_row_wise=true` to remove the overhead.\n",
      "And if memory is not enough, you can set `force_col_wise=true`.\n",
      "[LightGBM] [Info] Total Bins 2283\n",
      "[LightGBM] [Info] Number of data points in the train set: 23968, number of used features: 23\n",
      "[LightGBM] [Info] Start training from score 66.788191\n",
      "[LightGBM] [Info] Auto-choosing row-wise multi-threading, the overhead of testing was 0.001013 seconds.\n",
      "You can set `force_row_wise=true` to remove the overhead.\n",
      "And if memory is not enough, you can set `force_col_wise=true`.\n",
      "[LightGBM] [Info] Total Bins 2281\n",
      "[LightGBM] [Info] Number of data points in the train set: 23968, number of used features: 22\n",
      "[LightGBM] [Info] Start training from score 66.788191\n",
      "[LightGBM] [Info] Auto-choosing row-wise multi-threading, the overhead of testing was 0.001168 seconds.\n",
      "You can set `force_row_wise=true` to remove the overhead.\n",
      "And if memory is not enough, you can set `force_col_wise=true`.\n",
      "[LightGBM] [Info] Total Bins 2266\n",
      "[LightGBM] [Info] Number of data points in the train set: 23968, number of used features: 21\n",
      "[LightGBM] [Info] Start training from score 66.788191\n",
      "[LightGBM] [Info] Auto-choosing row-wise multi-threading, the overhead of testing was 0.001032 seconds.\n",
      "You can set `force_row_wise=true` to remove the overhead.\n",
      "And if memory is not enough, you can set `force_col_wise=true`.\n",
      "[LightGBM] [Info] Total Bins 2260\n",
      "[LightGBM] [Info] Number of data points in the train set: 23968, number of used features: 20\n",
      "[LightGBM] [Info] Start training from score 66.788191\n",
      "[LightGBM] [Info] Auto-choosing row-wise multi-threading, the overhead of testing was 0.000955 seconds.\n",
      "You can set `force_row_wise=true` to remove the overhead.\n",
      "And if memory is not enough, you can set `force_col_wise=true`.\n",
      "[LightGBM] [Info] Total Bins 2255\n",
      "[LightGBM] [Info] Number of data points in the train set: 23968, number of used features: 19\n",
      "[LightGBM] [Info] Start training from score 66.788191\n",
      "[LightGBM] [Info] Auto-choosing row-wise multi-threading, the overhead of testing was 0.000942 seconds.\n",
      "You can set `force_row_wise=true` to remove the overhead.\n",
      "And if memory is not enough, you can set `force_col_wise=true`.\n",
      "[LightGBM] [Info] Total Bins 2253\n",
      "[LightGBM] [Info] Number of data points in the train set: 23968, number of used features: 18\n",
      "[LightGBM] [Info] Start training from score 66.788191\n",
      "[LightGBM] [Info] Auto-choosing row-wise multi-threading, the overhead of testing was 0.000964 seconds.\n",
      "You can set `force_row_wise=true` to remove the overhead.\n",
      "And if memory is not enough, you can set `force_col_wise=true`.\n",
      "[LightGBM] [Info] Total Bins 2251\n",
      "[LightGBM] [Info] Number of data points in the train set: 23968, number of used features: 17\n",
      "[LightGBM] [Info] Start training from score 66.788191\n",
      "[LightGBM] [Info] Auto-choosing row-wise multi-threading, the overhead of testing was 0.000199 seconds.\n",
      "You can set `force_row_wise=true` to remove the overhead.\n",
      "And if memory is not enough, you can set `force_col_wise=true`.\n",
      "[LightGBM] [Info] Total Bins 2249\n",
      "[LightGBM] [Info] Number of data points in the train set: 23968, number of used features: 16\n",
      "[LightGBM] [Info] Start training from score 66.788191\n",
      "[LightGBM] [Info] Auto-choosing row-wise multi-threading, the overhead of testing was 0.000188 seconds.\n",
      "You can set `force_row_wise=true` to remove the overhead.\n",
      "And if memory is not enough, you can set `force_col_wise=true`.\n",
      "[LightGBM] [Info] Total Bins 2208\n",
      "[LightGBM] [Info] Number of data points in the train set: 23968, number of used features: 15\n",
      "[LightGBM] [Info] Start training from score 66.788191\n",
      "[LightGBM] [Info] Auto-choosing col-wise multi-threading, the overhead of testing was 0.001224 seconds.\n",
      "You can set `force_col_wise=true` to remove the overhead.\n",
      "[LightGBM] [Info] Total Bins 2201\n",
      "[LightGBM] [Info] Number of data points in the train set: 23968, number of used features: 14\n",
      "[LightGBM] [Info] Start training from score 66.788191\n",
      "[LightGBM] [Info] Auto-choosing row-wise multi-threading, the overhead of testing was 0.000197 seconds.\n",
      "You can set `force_row_wise=true` to remove the overhead.\n",
      "And if memory is not enough, you can set `force_col_wise=true`.\n",
      "[LightGBM] [Info] Total Bins 2185\n",
      "[LightGBM] [Info] Number of data points in the train set: 23968, number of used features: 13\n",
      "[LightGBM] [Info] Start training from score 66.788191\n",
      "[LightGBM] [Info] Auto-choosing row-wise multi-threading, the overhead of testing was 0.000163 seconds.\n",
      "You can set `force_row_wise=true` to remove the overhead.\n",
      "And if memory is not enough, you can set `force_col_wise=true`.\n",
      "[LightGBM] [Info] Total Bins 2180\n",
      "[LightGBM] [Info] Number of data points in the train set: 23968, number of used features: 12\n",
      "[LightGBM] [Info] Start training from score 66.788191\n",
      "[LightGBM] [Info] Auto-choosing row-wise multi-threading, the overhead of testing was 0.000212 seconds.\n",
      "You can set `force_row_wise=true` to remove the overhead.\n",
      "And if memory is not enough, you can set `force_col_wise=true`.\n",
      "[LightGBM] [Info] Total Bins 2120\n",
      "[LightGBM] [Info] Number of data points in the train set: 23968, number of used features: 11\n",
      "[LightGBM] [Info] Start training from score 66.788191\n",
      "[LightGBM] [Info] Auto-choosing row-wise multi-threading, the overhead of testing was 0.000117 seconds.\n",
      "You can set `force_row_wise=true` to remove the overhead.\n",
      "And if memory is not enough, you can set `force_col_wise=true`.\n",
      "[LightGBM] [Info] Total Bins 1888\n",
      "[LightGBM] [Info] Number of data points in the train set: 23968, number of used features: 10\n",
      "[LightGBM] [Info] Start training from score 66.788191\n",
      "[LightGBM] [Info] Auto-choosing row-wise multi-threading, the overhead of testing was 0.000136 seconds.\n",
      "You can set `force_row_wise=true` to remove the overhead.\n",
      "And if memory is not enough, you can set `force_col_wise=true`.\n",
      "[LightGBM] [Info] Total Bins 1657\n",
      "[LightGBM] [Info] Number of data points in the train set: 23968, number of used features: 9\n",
      "[LightGBM] [Info] Start training from score 66.788191\n",
      "[LightGBM] [Info] Auto-choosing row-wise multi-threading, the overhead of testing was 0.000124 seconds.\n",
      "You can set `force_row_wise=true` to remove the overhead.\n",
      "And if memory is not enough, you can set `force_col_wise=true`.\n",
      "[LightGBM] [Info] Total Bins 1462\n",
      "[LightGBM] [Info] Number of data points in the train set: 23968, number of used features: 8\n",
      "[LightGBM] [Info] Start training from score 66.788191\n",
      "[LightGBM] [Info] Auto-choosing col-wise multi-threading, the overhead of testing was 0.000511 seconds.\n",
      "You can set `force_col_wise=true` to remove the overhead.\n",
      "[LightGBM] [Info] Total Bins 1400\n",
      "[LightGBM] [Info] Number of data points in the train set: 23968, number of used features: 7\n",
      "[LightGBM] [Info] Start training from score 66.788191\n",
      "[LightGBM] [Info] Auto-choosing row-wise multi-threading, the overhead of testing was 0.000114 seconds.\n",
      "You can set `force_row_wise=true` to remove the overhead.\n",
      "And if memory is not enough, you can set `force_col_wise=true`.\n",
      "[LightGBM] [Info] Total Bins 1338\n",
      "[LightGBM] [Info] Number of data points in the train set: 23968, number of used features: 6\n",
      "[LightGBM] [Info] Start training from score 66.788191\n",
      "[LightGBM] [Info] Auto-choosing row-wise multi-threading, the overhead of testing was 0.000104 seconds.\n",
      "You can set `force_row_wise=true` to remove the overhead.\n",
      "And if memory is not enough, you can set `force_col_wise=true`.\n",
      "[LightGBM] [Info] Total Bins 1083\n",
      "[LightGBM] [Info] Number of data points in the train set: 23968, number of used features: 5\n",
      "[LightGBM] [Info] Start training from score 66.788191\n",
      "[LightGBM] [Info] Auto-choosing row-wise multi-threading, the overhead of testing was 0.001968 seconds.\n",
      "You can set `force_row_wise=true` to remove the overhead.\n",
      "And if memory is not enough, you can set `force_col_wise=true`.\n",
      "[LightGBM] [Info] Total Bins 2386\n",
      "[LightGBM] [Info] Number of data points in the train set: 29960, number of used features: 34\n",
      "[LightGBM] [Info] Start training from score 66.349827\n",
      "[LightGBM] [Info] Auto-choosing row-wise multi-threading, the overhead of testing was 0.001822 seconds.\n",
      "You can set `force_row_wise=true` to remove the overhead.\n",
      "And if memory is not enough, you can set `force_col_wise=true`.\n",
      "[LightGBM] [Info] Total Bins 2384\n",
      "[LightGBM] [Info] Number of data points in the train set: 29960, number of used features: 33\n",
      "[LightGBM] [Info] Start training from score 66.349827\n",
      "[LightGBM] [Info] Auto-choosing row-wise multi-threading, the overhead of testing was 0.001995 seconds.\n",
      "You can set `force_row_wise=true` to remove the overhead.\n",
      "And if memory is not enough, you can set `force_col_wise=true`.\n",
      "[LightGBM] [Info] Total Bins 2384\n",
      "[LightGBM] [Info] Number of data points in the train set: 29960, number of used features: 33\n",
      "[LightGBM] [Info] Start training from score 66.349827\n",
      "[LightGBM] [Info] Auto-choosing row-wise multi-threading, the overhead of testing was 0.001926 seconds.\n",
      "You can set `force_row_wise=true` to remove the overhead.\n",
      "And if memory is not enough, you can set `force_col_wise=true`.\n",
      "[LightGBM] [Info] Total Bins 2382\n",
      "[LightGBM] [Info] Number of data points in the train set: 29960, number of used features: 32\n",
      "[LightGBM] [Info] Start training from score 66.349827\n",
      "[LightGBM] [Info] Auto-choosing row-wise multi-threading, the overhead of testing was 0.001627 seconds.\n",
      "You can set `force_row_wise=true` to remove the overhead.\n",
      "And if memory is not enough, you can set `force_col_wise=true`.\n",
      "[LightGBM] [Info] Total Bins 2382\n",
      "[LightGBM] [Info] Number of data points in the train set: 29960, number of used features: 32\n",
      "[LightGBM] [Info] Start training from score 66.349827\n",
      "[LightGBM] [Info] Auto-choosing row-wise multi-threading, the overhead of testing was 0.002223 seconds.\n",
      "You can set `force_row_wise=true` to remove the overhead.\n",
      "And if memory is not enough, you can set `force_col_wise=true`.\n",
      "[LightGBM] [Info] Total Bins 2380\n",
      "[LightGBM] [Info] Number of data points in the train set: 29960, number of used features: 31\n",
      "[LightGBM] [Info] Start training from score 66.349827\n",
      "[LightGBM] [Info] Auto-choosing row-wise multi-threading, the overhead of testing was 0.001772 seconds.\n",
      "You can set `force_row_wise=true` to remove the overhead.\n",
      "And if memory is not enough, you can set `force_col_wise=true`.\n",
      "[LightGBM] [Info] Total Bins 2378\n",
      "[LightGBM] [Info] Number of data points in the train set: 29960, number of used features: 30\n",
      "[LightGBM] [Info] Start training from score 66.349827\n",
      "[LightGBM] [Info] Auto-choosing col-wise multi-threading, the overhead of testing was 0.001908 seconds.\n",
      "You can set `force_col_wise=true` to remove the overhead.\n",
      "[LightGBM] [Info] Total Bins 2314\n",
      "[LightGBM] [Info] Number of data points in the train set: 29960, number of used features: 29\n",
      "[LightGBM] [Info] Start training from score 66.349827\n",
      "[LightGBM] [Info] Auto-choosing row-wise multi-threading, the overhead of testing was 0.001576 seconds.\n",
      "You can set `force_row_wise=true` to remove the overhead.\n",
      "And if memory is not enough, you can set `force_col_wise=true`.\n",
      "[LightGBM] [Info] Total Bins 2312\n",
      "[LightGBM] [Info] Number of data points in the train set: 29960, number of used features: 28\n",
      "[LightGBM] [Info] Start training from score 66.349827\n",
      "[LightGBM] [Info] Auto-choosing row-wise multi-threading, the overhead of testing was 0.001844 seconds.\n",
      "You can set `force_row_wise=true` to remove the overhead.\n",
      "And if memory is not enough, you can set `force_col_wise=true`.\n",
      "[LightGBM] [Info] Total Bins 2310\n",
      "[LightGBM] [Info] Number of data points in the train set: 29960, number of used features: 27\n",
      "[LightGBM] [Info] Start training from score 66.349827\n",
      "[LightGBM] [Info] Auto-choosing row-wise multi-threading, the overhead of testing was 0.001394 seconds.\n",
      "You can set `force_row_wise=true` to remove the overhead.\n",
      "And if memory is not enough, you can set `force_col_wise=true`.\n",
      "[LightGBM] [Info] Total Bins 2305\n",
      "[LightGBM] [Info] Number of data points in the train set: 29960, number of used features: 26\n",
      "[LightGBM] [Info] Start training from score 66.349827\n",
      "[LightGBM] [Info] Auto-choosing row-wise multi-threading, the overhead of testing was 0.001703 seconds.\n",
      "You can set `force_row_wise=true` to remove the overhead.\n",
      "And if memory is not enough, you can set `force_col_wise=true`.\n",
      "[LightGBM] [Info] Total Bins 2303\n",
      "[LightGBM] [Info] Number of data points in the train set: 29960, number of used features: 25\n",
      "[LightGBM] [Info] Start training from score 66.349827\n",
      "[LightGBM] [Info] Auto-choosing row-wise multi-threading, the overhead of testing was 0.001874 seconds.\n",
      "You can set `force_row_wise=true` to remove the overhead.\n",
      "And if memory is not enough, you can set `force_col_wise=true`.\n",
      "[LightGBM] [Info] Total Bins 2301\n",
      "[LightGBM] [Info] Number of data points in the train set: 29960, number of used features: 24\n",
      "[LightGBM] [Info] Start training from score 66.349827\n",
      "[LightGBM] [Info] Auto-choosing row-wise multi-threading, the overhead of testing was 0.001606 seconds.\n",
      "You can set `force_row_wise=true` to remove the overhead.\n",
      "And if memory is not enough, you can set `force_col_wise=true`.\n",
      "[LightGBM] [Info] Total Bins 2299\n",
      "[LightGBM] [Info] Number of data points in the train set: 29960, number of used features: 23\n",
      "[LightGBM] [Info] Start training from score 66.349827\n",
      "[LightGBM] [Info] Auto-choosing row-wise multi-threading, the overhead of testing was 0.001342 seconds.\n",
      "You can set `force_row_wise=true` to remove the overhead.\n",
      "And if memory is not enough, you can set `force_col_wise=true`.\n",
      "[LightGBM] [Info] Total Bins 2297\n",
      "[LightGBM] [Info] Number of data points in the train set: 29960, number of used features: 22\n",
      "[LightGBM] [Info] Start training from score 66.349827\n",
      "[LightGBM] [Info] Auto-choosing row-wise multi-threading, the overhead of testing was 0.001306 seconds.\n",
      "You can set `force_row_wise=true` to remove the overhead.\n",
      "And if memory is not enough, you can set `force_col_wise=true`.\n",
      "[LightGBM] [Info] Total Bins 2292\n",
      "[LightGBM] [Info] Number of data points in the train set: 29960, number of used features: 21\n",
      "[LightGBM] [Info] Start training from score 66.349827\n",
      "[LightGBM] [Info] Auto-choosing row-wise multi-threading, the overhead of testing was 0.001230 seconds.\n",
      "You can set `force_row_wise=true` to remove the overhead.\n",
      "And if memory is not enough, you can set `force_col_wise=true`.\n",
      "[LightGBM] [Info] Total Bins 2292\n",
      "[LightGBM] [Info] Number of data points in the train set: 29960, number of used features: 21\n",
      "[LightGBM] [Info] Start training from score 66.349827\n"
     ]
    },
    {
     "data": {
      "image/png": "[encoded data removed]",
      "text/plain": [
       "<Figure size 1000x400 with 1 Axes>"
      ]
     },
     "metadata": {},
     "output_type": "display_data"
    },
    {
     "name": "stderr",
     "output_type": "stream",
     "text": [
      "[I 2025-04-19 18:14:21,145] A new study created in memory with name: no-name-cb1ad74e-17df-4540-817d-4cbbe989b254\n"
     ]
    },
    {
     "name": "stdout",
     "output_type": "stream",
     "text": [
      "Selected 21 features out of 36\n"
     ]
    },
    {
     "name": "stderr",
     "output_type": "stream",
     "text": [
      "Best trial: 0. Best value: 535.055:   2%|▏         | 1/60 [01:22<1:21:34, 82.95s/it, 82.95/1800 seconds]"
     ]
    },
    {
     "name": "stdout",
     "output_type": "stream",
     "text": [
      "[I 2025-04-19 18:15:44,130] Trial 0 finished with value: 535.054806750114 and parameters: {'lr': 0.19306929396345077, 'leaves': 104, 'ff': 0.636623931835776, 'bf': 0.6262593530243084, 'l1': 2.5204095207927772, 'l2': 2.510053713490958, 'p': 1.4975419592159405}. Best is trial 0 with value: 535.054806750114.\n"
     ]
    },
    {
     "name": "stderr",
     "output_type": "stream",
     "text": [
      "Best trial: 0. Best value: 535.055:   3%|▎         | 2/60 [03:46<1:54:34, 118.53s/it, 226.39/1800 seconds]"
     ]
    },
    {
     "name": "stdout",
     "output_type": "stream",
     "text": [
      "[I 2025-04-19 18:18:07,570] Trial 1 finished with value: 535.5149658199174 and parameters: {'lr': 0.02331431247858981, 'leaves': 223, 'ff': 0.9485100083538553, 'bf': 0.6053778111542487, 'l1': 3.802959661706727, 'l2': 2.322669377490504, 'p': 1.8258382018126025}. Best is trial 0 with value: 535.054806750114.\n"
     ]
    },
    {
     "name": "stderr",
     "output_type": "stream",
     "text": [
      "Best trial: 2. Best value: 534.811:   5%|▌         | 3/60 [05:23<1:43:06, 108.53s/it, 323.02/1800 seconds]"
     ]
    },
    {
     "name": "stdout",
     "output_type": "stream",
     "text": [
      "[I 2025-04-19 18:19:44,196] Trial 2 finished with value: 534.810847432849 and parameters: {'lr': 0.09780813240193546, 'leaves': 113, 'ff': 0.7876244068775411, 'bf': 0.6906477891430114, 'l1': 4.100878473995806, 'l2': 4.982148686200802, 'p': 1.2464704797803583}. Best is trial 2 with value: 534.810847432849.\n"
     ]
    },
    {
     "name": "stderr",
     "output_type": "stream",
     "text": [
      "Best trial: 3. Best value: 532.527:   7%|▋         | 4/60 [05:56<1:13:46, 79.05s/it, 356.88/1800 seconds] "
     ]
    },
    {
     "name": "stdout",
     "output_type": "stream",
     "text": [
      "[I 2025-04-19 18:20:18,057] Trial 3 finished with value: 532.5266918947331 and parameters: {'lr': 0.012598112093564182, 'leaves': 23, 'ff': 0.5346220957038518, 'bf': 0.578361207965113, 'l1': 4.941590968297255, 'l2': 1.7399265467748048, 'p': 1.679788830644572}. Best is trial 3 with value: 532.5266918947331.\n"
     ]
    },
    {
     "name": "stderr",
     "output_type": "stream",
     "text": [
      "Best trial: 3. Best value: 532.527:   8%|▊         | 5/60 [09:01<1:47:23, 117.15s/it, 541.58/1800 seconds]"
     ]
    },
    {
     "name": "stdout",
     "output_type": "stream",
     "text": [
      "[I 2025-04-19 18:23:22,760] Trial 4 finished with value: 535.3286378332223 and parameters: {'lr': 0.010287955612741848, 'leaves': 200, 'ff': 0.8516374271460742, 'bf': 0.5912942848037792, 'l1': 4.650779316170289, 'l2': 1.5871481954878304, 'p': 1.7180733708585931}. Best is trial 3 with value: 532.5266918947331.\n"
     ]
    },
    {
     "name": "stderr",
     "output_type": "stream",
     "text": [
      "Best trial: 3. Best value: 532.527:  10%|█         | 6/60 [3:54:01<35:06:14, 2340.27s/it, 14041.65/1800 seconds]"
     ]
    },
    {
     "name": "stdout",
     "output_type": "stream",
     "text": [
      "[I 2025-04-19 22:08:22,815] Trial 5 finished with value: 535.4599569031412 and parameters: {'lr': 0.04041935550215148, 'leaves': 216, 'ff': 0.5117521860718139, 'bf': 0.9780002924434182, 'l1': 0.7468018962998701, 'l2': 0.1670729523278125, 'p': 1.7696986850662628}. Best is trial 3 with value: 532.5266918947331.\n"
     ]
    },
    {
     "name": "stderr",
     "output_type": "stream",
     "text": [
      "\n"
     ]
    }
   ],
   "source": [
    "# a) Pipeline for Loss_Cost (LC)\n",
    "X_lc_selected = select_features_with_rfecv(X_reg_train, Y_reg_train[\"Loss_Cost\"], objective=\"regression\")\n",
    "skf_lc = StratifiedKFold(n_splits=5, shuffle=True, random_state=42)\n",
    "best_lc_params = tune_lightgbm(X_lc_selected, Y_reg_train[\"Loss_Cost\"], skf_lc, \"tweedie\", \"rmse\")\n",
    "X_lc_test_selected = X_reg_test[X_lc_selected.columns]"
   ]
  },
  {
   "cell_type": "markdown",
   "metadata": {},
   "source": [
    "### HALC"
   ]
  },
  {
   "cell_type": "code",
   "execution_count": 31,
   "metadata": {
    "scrolled": true
   },
   "outputs": [
    {
     "data": {
      "image/png": "[encoded data removed]",
      "text/plain": [
       "<Figure size 1000x400 with 1 Axes>"
      ]
     },
     "metadata": {},
     "output_type": "display_data"
    },
    {
     "name": "stderr",
     "output_type": "stream",
     "text": [
      "[I 2025-04-19 22:48:44,252] A new study created in memory with name: no-name-ce76e19e-1a35-44f1-90e0-3554f63b6184\n"
     ]
    },
    {
     "name": "stdout",
     "output_type": "stream",
     "text": [
      "Selected 22 features out of 36\n"
     ]
    },
    {
     "name": "stderr",
     "output_type": "stream",
     "text": [
      "Best trial: 0. Best value: 1160.68:   2%|▏         | 1/60 [16:36<16:20:02, 996.65s/it, 996.65/1800 seconds]"
     ]
    },
    {
     "name": "stdout",
     "output_type": "stream",
     "text": [
      "[I 2025-04-19 23:05:20,899] Trial 0 finished with value: 1160.6768214673475 and parameters: {'lr': 0.044212420793623, 'leaves': 213, 'ff': 0.5299239875213406, 'bf': 0.519872066593496, 'l1': 0.8278150070057722, 'l2': 1.1578440386918198, 'p': 1.4812796575997766}. Best is trial 0 with value: 1160.6768214673475.\n"
     ]
    },
    {
     "name": "stderr",
     "output_type": "stream",
     "text": [
      "Best trial: 0. Best value: 1160.68:   2%|▏         | 1/60 [1:27:06<85:39:50, 5226.96s/it, 996.65/1800 seconds]\n"
     ]
    },
    {
     "name": "stdout",
     "output_type": "stream",
     "text": [
      "[W 2025-04-20 00:15:51,189] Trial 1 failed with parameters: {'lr': 0.19060737950020457, 'leaves': 53, 'ff': 0.8621366736049889, 'bf': 0.9828919178880604, 'l1': 1.521195887195268, 'l2': 4.232151124887462, 'p': 1.6534481031915238} because of the following error: KeyboardInterrupt().\n",
      "Traceback (most recent call last):\n",
      "  File \"/Users/vivan/miniconda3/envs/DSO530/lib/python3.11/site-packages/optuna/study/_optimize.py\", line 197, in _run_trial\n",
      "    value_or_values = func(trial)\n",
      "                      ^^^^^^^^^^^\n",
      "  File \"/var/folders/l5/9tzh8xvn4c9bb2qc2r3pkqtc0000gn/T/ipykernel_64826/4163601309.py\", line 59, in objective_fn\n",
      "    model.fit(\n",
      "  File \"/Users/vivan/miniconda3/envs/DSO530/lib/python3.11/site-packages/lightgbm/sklearn.py\", line 1398, in fit\n",
      "    super().fit(\n",
      "  File \"/Users/vivan/miniconda3/envs/DSO530/lib/python3.11/site-packages/lightgbm/sklearn.py\", line 1049, in fit\n",
      "    self._Booster = train(\n",
      "                    ^^^^^^\n",
      "  File \"/Users/vivan/miniconda3/envs/DSO530/lib/python3.11/site-packages/lightgbm/engine.py\", line 322, in train\n",
      "    booster.update(fobj=fobj)\n",
      "  File \"/Users/vivan/miniconda3/envs/DSO530/lib/python3.11/site-packages/lightgbm/basic.py\", line 4155, in update\n",
      "    _LIB.LGBM_BoosterUpdateOneIter(\n",
      "KeyboardInterrupt\n",
      "[W 2025-04-20 00:15:51,213] Trial 1 failed with value None.\n"
     ]
    },
    {
     "ename": "KeyboardInterrupt",
     "evalue": "",
     "output_type": "error",
     "traceback": [
      "\u001b[31m---------------------------------------------------------------------------\u001b[39m",
      "\u001b[31mKeyboardInterrupt\u001b[39m                         Traceback (most recent call last)",
      "\u001b[36mCell\u001b[39m\u001b[36m \u001b[39m\u001b[32mIn[31]\u001b[39m\u001b[32m, line 4\u001b[39m\n\u001b[32m      2\u001b[39m X_halc_selected = select_features_with_rfecv(X_reg_train, Y_reg_train[\u001b[33m\"\u001b[39m\u001b[33mHistorically_Adjusted_Loss_Cost\u001b[39m\u001b[33m\"\u001b[39m], objective=\u001b[33m\"\u001b[39m\u001b[33mregression\u001b[39m\u001b[33m\"\u001b[39m)\n\u001b[32m      3\u001b[39m skf_halc = StratifiedKFold(n_splits=\u001b[32m5\u001b[39m, shuffle=\u001b[38;5;28;01mTrue\u001b[39;00m, random_state=\u001b[32m42\u001b[39m)\n\u001b[32m----> \u001b[39m\u001b[32m4\u001b[39m best_halc_params = tune_lightgbm(X_halc_selected, Y_reg_train[\u001b[33m\"\u001b[39m\u001b[33mHistorically_Adjusted_Loss_Cost\u001b[39m\u001b[33m\"\u001b[39m], skf_halc, \u001b[33m\"\u001b[39m\u001b[33mtweedie\u001b[39m\u001b[33m\"\u001b[39m, \u001b[33m\"\u001b[39m\u001b[33mrmse\u001b[39m\u001b[33m\"\u001b[39m)\n\u001b[32m      5\u001b[39m X_halc_test_selected = X_reg_test[X_halc_selected.columns]\n",
      "\u001b[36mCell\u001b[39m\u001b[36m \u001b[39m\u001b[32mIn[29]\u001b[39m\u001b[32m, line 75\u001b[39m, in \u001b[36mtune_lightgbm\u001b[39m\u001b[34m(X, y, folds, objective, scorer, use_gpu, show_plots)\u001b[39m\n\u001b[32m     72\u001b[39m     \u001b[38;5;28;01mreturn\u001b[39;00m np.mean(scores)\n\u001b[32m     74\u001b[39m study = optuna.create_study(direction=direction)\n\u001b[32m---> \u001b[39m\u001b[32m75\u001b[39m study.optimize(objective_fn, n_trials=\u001b[32m60\u001b[39m, timeout=\u001b[32m1800\u001b[39m, show_progress_bar=\u001b[38;5;28;01mTrue\u001b[39;00m)\n\u001b[32m     77\u001b[39m \u001b[38;5;28;01mif\u001b[39;00m show_plots:\n\u001b[32m     78\u001b[39m     \u001b[38;5;28;01mtry\u001b[39;00m:\n",
      "\u001b[36mFile \u001b[39m\u001b[32m~/miniconda3/envs/DSO530/lib/python3.11/site-packages/optuna/study/study.py:475\u001b[39m, in \u001b[36mStudy.optimize\u001b[39m\u001b[34m(self, func, n_trials, timeout, n_jobs, catch, callbacks, gc_after_trial, show_progress_bar)\u001b[39m\n\u001b[32m    373\u001b[39m \u001b[38;5;28;01mdef\u001b[39;00m\u001b[38;5;250m \u001b[39m\u001b[34moptimize\u001b[39m(\n\u001b[32m    374\u001b[39m     \u001b[38;5;28mself\u001b[39m,\n\u001b[32m    375\u001b[39m     func: ObjectiveFuncType,\n\u001b[32m   (...)\u001b[39m\u001b[32m    382\u001b[39m     show_progress_bar: \u001b[38;5;28mbool\u001b[39m = \u001b[38;5;28;01mFalse\u001b[39;00m,\n\u001b[32m    383\u001b[39m ) -> \u001b[38;5;28;01mNone\u001b[39;00m:\n\u001b[32m    384\u001b[39m \u001b[38;5;250m    \u001b[39m\u001b[33;03m\"\"\"Optimize an objective function.\u001b[39;00m\n\u001b[32m    385\u001b[39m \n\u001b[32m    386\u001b[39m \u001b[33;03m    Optimization is done by choosing a suitable set of hyperparameter values from a given\u001b[39;00m\n\u001b[32m   (...)\u001b[39m\u001b[32m    473\u001b[39m \u001b[33;03m            If nested invocation of this method occurs.\u001b[39;00m\n\u001b[32m    474\u001b[39m \u001b[33;03m    \"\"\"\u001b[39;00m\n\u001b[32m--> \u001b[39m\u001b[32m475\u001b[39m     _optimize(\n\u001b[32m    476\u001b[39m         study=\u001b[38;5;28mself\u001b[39m,\n\u001b[32m    477\u001b[39m         func=func,\n\u001b[32m    478\u001b[39m         n_trials=n_trials,\n\u001b[32m    479\u001b[39m         timeout=timeout,\n\u001b[32m    480\u001b[39m         n_jobs=n_jobs,\n\u001b[32m    481\u001b[39m         catch=\u001b[38;5;28mtuple\u001b[39m(catch) \u001b[38;5;28;01mif\u001b[39;00m \u001b[38;5;28misinstance\u001b[39m(catch, Iterable) \u001b[38;5;28;01melse\u001b[39;00m (catch,),\n\u001b[32m    482\u001b[39m         callbacks=callbacks,\n\u001b[32m    483\u001b[39m         gc_after_trial=gc_after_trial,\n\u001b[32m    484\u001b[39m         show_progress_bar=show_progress_bar,\n\u001b[32m    485\u001b[39m     )\n",
      "\u001b[36mFile \u001b[39m\u001b[32m~/miniconda3/envs/DSO530/lib/python3.11/site-packages/optuna/study/_optimize.py:63\u001b[39m, in \u001b[36m_optimize\u001b[39m\u001b[34m(study, func, n_trials, timeout, n_jobs, catch, callbacks, gc_after_trial, show_progress_bar)\u001b[39m\n\u001b[32m     61\u001b[39m \u001b[38;5;28;01mtry\u001b[39;00m:\n\u001b[32m     62\u001b[39m     \u001b[38;5;28;01mif\u001b[39;00m n_jobs == \u001b[32m1\u001b[39m:\n\u001b[32m---> \u001b[39m\u001b[32m63\u001b[39m         _optimize_sequential(\n\u001b[32m     64\u001b[39m             study,\n\u001b[32m     65\u001b[39m             func,\n\u001b[32m     66\u001b[39m             n_trials,\n\u001b[32m     67\u001b[39m             timeout,\n\u001b[32m     68\u001b[39m             catch,\n\u001b[32m     69\u001b[39m             callbacks,\n\u001b[32m     70\u001b[39m             gc_after_trial,\n\u001b[32m     71\u001b[39m             reseed_sampler_rng=\u001b[38;5;28;01mFalse\u001b[39;00m,\n\u001b[32m     72\u001b[39m             time_start=\u001b[38;5;28;01mNone\u001b[39;00m,\n\u001b[32m     73\u001b[39m             progress_bar=progress_bar,\n\u001b[32m     74\u001b[39m         )\n\u001b[32m     75\u001b[39m     \u001b[38;5;28;01melse\u001b[39;00m:\n\u001b[32m     76\u001b[39m         \u001b[38;5;28;01mif\u001b[39;00m n_jobs == -\u001b[32m1\u001b[39m:\n",
      "\u001b[36mFile \u001b[39m\u001b[32m~/miniconda3/envs/DSO530/lib/python3.11/site-packages/optuna/study/_optimize.py:160\u001b[39m, in \u001b[36m_optimize_sequential\u001b[39m\u001b[34m(study, func, n_trials, timeout, catch, callbacks, gc_after_trial, reseed_sampler_rng, time_start, progress_bar)\u001b[39m\n\u001b[32m    157\u001b[39m         \u001b[38;5;28;01mbreak\u001b[39;00m\n\u001b[32m    159\u001b[39m \u001b[38;5;28;01mtry\u001b[39;00m:\n\u001b[32m--> \u001b[39m\u001b[32m160\u001b[39m     frozen_trial = _run_trial(study, func, catch)\n\u001b[32m    161\u001b[39m \u001b[38;5;28;01mfinally\u001b[39;00m:\n\u001b[32m    162\u001b[39m     \u001b[38;5;66;03m# The following line mitigates memory problems that can be occurred in some\u001b[39;00m\n\u001b[32m    163\u001b[39m     \u001b[38;5;66;03m# environments (e.g., services that use computing containers such as GitHub Actions).\u001b[39;00m\n\u001b[32m    164\u001b[39m     \u001b[38;5;66;03m# Please refer to the following PR for further details:\u001b[39;00m\n\u001b[32m    165\u001b[39m     \u001b[38;5;66;03m# https://github.com/optuna/optuna/pull/325.\u001b[39;00m\n\u001b[32m    166\u001b[39m     \u001b[38;5;28;01mif\u001b[39;00m gc_after_trial:\n",
      "\u001b[36mFile \u001b[39m\u001b[32m~/miniconda3/envs/DSO530/lib/python3.11/site-packages/optuna/study/_optimize.py:248\u001b[39m, in \u001b[36m_run_trial\u001b[39m\u001b[34m(study, func, catch)\u001b[39m\n\u001b[32m    241\u001b[39m         \u001b[38;5;28;01massert\u001b[39;00m \u001b[38;5;28;01mFalse\u001b[39;00m, \u001b[33m\"\u001b[39m\u001b[33mShould not reach.\u001b[39m\u001b[33m\"\u001b[39m\n\u001b[32m    243\u001b[39m \u001b[38;5;28;01mif\u001b[39;00m (\n\u001b[32m    244\u001b[39m     frozen_trial.state == TrialState.FAIL\n\u001b[32m    245\u001b[39m     \u001b[38;5;129;01mand\u001b[39;00m func_err \u001b[38;5;129;01mis\u001b[39;00m \u001b[38;5;129;01mnot\u001b[39;00m \u001b[38;5;28;01mNone\u001b[39;00m\n\u001b[32m    246\u001b[39m     \u001b[38;5;129;01mand\u001b[39;00m \u001b[38;5;129;01mnot\u001b[39;00m \u001b[38;5;28misinstance\u001b[39m(func_err, catch)\n\u001b[32m    247\u001b[39m ):\n\u001b[32m--> \u001b[39m\u001b[32m248\u001b[39m     \u001b[38;5;28;01mraise\u001b[39;00m func_err\n\u001b[32m    249\u001b[39m \u001b[38;5;28;01mreturn\u001b[39;00m frozen_trial\n",
      "\u001b[36mFile \u001b[39m\u001b[32m~/miniconda3/envs/DSO530/lib/python3.11/site-packages/optuna/study/_optimize.py:197\u001b[39m, in \u001b[36m_run_trial\u001b[39m\u001b[34m(study, func, catch)\u001b[39m\n\u001b[32m    195\u001b[39m \u001b[38;5;28;01mwith\u001b[39;00m get_heartbeat_thread(trial._trial_id, study._storage):\n\u001b[32m    196\u001b[39m     \u001b[38;5;28;01mtry\u001b[39;00m:\n\u001b[32m--> \u001b[39m\u001b[32m197\u001b[39m         value_or_values = func(trial)\n\u001b[32m    198\u001b[39m     \u001b[38;5;28;01mexcept\u001b[39;00m exceptions.TrialPruned \u001b[38;5;28;01mas\u001b[39;00m e:\n\u001b[32m    199\u001b[39m         \u001b[38;5;66;03m# TODO(mamu): Handle multi-objective cases.\u001b[39;00m\n\u001b[32m    200\u001b[39m         state = TrialState.PRUNED\n",
      "\u001b[36mCell\u001b[39m\u001b[36m \u001b[39m\u001b[32mIn[29]\u001b[39m\u001b[32m, line 59\u001b[39m, in \u001b[36mtune_lightgbm.<locals>.objective_fn\u001b[39m\u001b[34m(trial)\u001b[39m\n\u001b[32m     51\u001b[39m y_tr, y_val = y.iloc[tr_idx], y.iloc[val_idx]\n\u001b[32m     53\u001b[39m model = (\n\u001b[32m     54\u001b[39m     LGBMRegressor(**params, n_estimators=\u001b[32m5000\u001b[39m)\n\u001b[32m     55\u001b[39m     \u001b[38;5;28;01mif\u001b[39;00m objective == \u001b[33m\"\u001b[39m\u001b[33mtweedie\u001b[39m\u001b[33m\"\u001b[39m\n\u001b[32m     56\u001b[39m     \u001b[38;5;28;01melse\u001b[39;00m LGBMClassifier(**params, n_estimators=\u001b[32m5000\u001b[39m)\n\u001b[32m     57\u001b[39m )\n\u001b[32m---> \u001b[39m\u001b[32m59\u001b[39m model.fit(\n\u001b[32m     60\u001b[39m     X_tr, y_tr,\n\u001b[32m     61\u001b[39m     eval_set=[(X_val, y_val)],\n\u001b[32m     62\u001b[39m     eval_metric=scorer\n\u001b[32m     63\u001b[39m )\n\u001b[32m     65\u001b[39m preds = model.predict(X_val)\n\u001b[32m     67\u001b[39m \u001b[38;5;28;01mif\u001b[39;00m scorer == \u001b[33m\"\u001b[39m\u001b[33mrmse\u001b[39m\u001b[33m\"\u001b[39m:\n",
      "\u001b[36mFile \u001b[39m\u001b[32m~/miniconda3/envs/DSO530/lib/python3.11/site-packages/lightgbm/sklearn.py:1398\u001b[39m, in \u001b[36mLGBMRegressor.fit\u001b[39m\u001b[34m(self, X, y, sample_weight, init_score, eval_set, eval_names, eval_sample_weight, eval_init_score, eval_metric, feature_name, categorical_feature, callbacks, init_model)\u001b[39m\n\u001b[32m   1381\u001b[39m \u001b[38;5;28;01mdef\u001b[39;00m\u001b[38;5;250m \u001b[39m\u001b[34mfit\u001b[39m(  \u001b[38;5;66;03m# type: ignore[override]\u001b[39;00m\n\u001b[32m   1382\u001b[39m     \u001b[38;5;28mself\u001b[39m,\n\u001b[32m   1383\u001b[39m     X: _LGBM_ScikitMatrixLike,\n\u001b[32m   (...)\u001b[39m\u001b[32m   1395\u001b[39m     init_model: Optional[Union[\u001b[38;5;28mstr\u001b[39m, Path, Booster, LGBMModel]] = \u001b[38;5;28;01mNone\u001b[39;00m,\n\u001b[32m   1396\u001b[39m ) -> \u001b[33m\"\u001b[39m\u001b[33mLGBMRegressor\u001b[39m\u001b[33m\"\u001b[39m:\n\u001b[32m   1397\u001b[39m \u001b[38;5;250m    \u001b[39m\u001b[33;03m\"\"\"Docstring is inherited from the LGBMModel.\"\"\"\u001b[39;00m\n\u001b[32m-> \u001b[39m\u001b[32m1398\u001b[39m     \u001b[38;5;28msuper\u001b[39m().fit(\n\u001b[32m   1399\u001b[39m         X,\n\u001b[32m   1400\u001b[39m         y,\n\u001b[32m   1401\u001b[39m         sample_weight=sample_weight,\n\u001b[32m   1402\u001b[39m         init_score=init_score,\n\u001b[32m   1403\u001b[39m         eval_set=eval_set,\n\u001b[32m   1404\u001b[39m         eval_names=eval_names,\n\u001b[32m   1405\u001b[39m         eval_sample_weight=eval_sample_weight,\n\u001b[32m   1406\u001b[39m         eval_init_score=eval_init_score,\n\u001b[32m   1407\u001b[39m         eval_metric=eval_metric,\n\u001b[32m   1408\u001b[39m         feature_name=feature_name,\n\u001b[32m   1409\u001b[39m         categorical_feature=categorical_feature,\n\u001b[32m   1410\u001b[39m         callbacks=callbacks,\n\u001b[32m   1411\u001b[39m         init_model=init_model,\n\u001b[32m   1412\u001b[39m     )\n\u001b[32m   1413\u001b[39m     \u001b[38;5;28;01mreturn\u001b[39;00m \u001b[38;5;28mself\u001b[39m\n",
      "\u001b[36mFile \u001b[39m\u001b[32m~/miniconda3/envs/DSO530/lib/python3.11/site-packages/lightgbm/sklearn.py:1049\u001b[39m, in \u001b[36mLGBMModel.fit\u001b[39m\u001b[34m(self, X, y, sample_weight, init_score, group, eval_set, eval_names, eval_sample_weight, eval_class_weight, eval_init_score, eval_group, eval_metric, feature_name, categorical_feature, callbacks, init_model)\u001b[39m\n\u001b[32m   1046\u001b[39m evals_result: _EvalResultDict = {}\n\u001b[32m   1047\u001b[39m callbacks.append(record_evaluation(evals_result))\n\u001b[32m-> \u001b[39m\u001b[32m1049\u001b[39m \u001b[38;5;28mself\u001b[39m._Booster = train(\n\u001b[32m   1050\u001b[39m     params=params,\n\u001b[32m   1051\u001b[39m     train_set=train_set,\n\u001b[32m   1052\u001b[39m     num_boost_round=\u001b[38;5;28mself\u001b[39m.n_estimators,\n\u001b[32m   1053\u001b[39m     valid_sets=valid_sets,\n\u001b[32m   1054\u001b[39m     valid_names=eval_names,\n\u001b[32m   1055\u001b[39m     feval=eval_metrics_callable,  \u001b[38;5;66;03m# type: ignore[arg-type]\u001b[39;00m\n\u001b[32m   1056\u001b[39m     init_model=init_model,\n\u001b[32m   1057\u001b[39m     callbacks=callbacks,\n\u001b[32m   1058\u001b[39m )\n\u001b[32m   1060\u001b[39m \u001b[38;5;66;03m# This populates the property self.n_features_, the number of features in the fitted model,\u001b[39;00m\n\u001b[32m   1061\u001b[39m \u001b[38;5;66;03m# and so should only be set after fitting.\u001b[39;00m\n\u001b[32m   1062\u001b[39m \u001b[38;5;66;03m#\u001b[39;00m\n\u001b[32m   1063\u001b[39m \u001b[38;5;66;03m# The related property self._n_features_in, which populates self.n_features_in_,\u001b[39;00m\n\u001b[32m   1064\u001b[39m \u001b[38;5;66;03m# is set BEFORE fitting.\u001b[39;00m\n\u001b[32m   1065\u001b[39m \u001b[38;5;28mself\u001b[39m._n_features = \u001b[38;5;28mself\u001b[39m._Booster.num_feature()\n",
      "\u001b[36mFile \u001b[39m\u001b[32m~/miniconda3/envs/DSO530/lib/python3.11/site-packages/lightgbm/engine.py:322\u001b[39m, in \u001b[36mtrain\u001b[39m\u001b[34m(params, train_set, num_boost_round, valid_sets, valid_names, feval, init_model, keep_training_booster, callbacks)\u001b[39m\n\u001b[32m    310\u001b[39m \u001b[38;5;28;01mfor\u001b[39;00m cb \u001b[38;5;129;01min\u001b[39;00m callbacks_before_iter:\n\u001b[32m    311\u001b[39m     cb(\n\u001b[32m    312\u001b[39m         callback.CallbackEnv(\n\u001b[32m    313\u001b[39m             model=booster,\n\u001b[32m   (...)\u001b[39m\u001b[32m    319\u001b[39m         )\n\u001b[32m    320\u001b[39m     )\n\u001b[32m--> \u001b[39m\u001b[32m322\u001b[39m booster.update(fobj=fobj)\n\u001b[32m    324\u001b[39m evaluation_result_list: List[_LGBM_BoosterEvalMethodResultType] = []\n\u001b[32m    325\u001b[39m \u001b[38;5;66;03m# check evaluation result.\u001b[39;00m\n",
      "\u001b[36mFile \u001b[39m\u001b[32m~/miniconda3/envs/DSO530/lib/python3.11/site-packages/lightgbm/basic.py:4155\u001b[39m, in \u001b[36mBooster.update\u001b[39m\u001b[34m(self, train_set, fobj)\u001b[39m\n\u001b[32m   4152\u001b[39m \u001b[38;5;28;01mif\u001b[39;00m \u001b[38;5;28mself\u001b[39m.__set_objective_to_none:\n\u001b[32m   4153\u001b[39m     \u001b[38;5;28;01mraise\u001b[39;00m LightGBMError(\u001b[33m\"\u001b[39m\u001b[33mCannot update due to null objective function.\u001b[39m\u001b[33m\"\u001b[39m)\n\u001b[32m   4154\u001b[39m _safe_call(\n\u001b[32m-> \u001b[39m\u001b[32m4155\u001b[39m     _LIB.LGBM_BoosterUpdateOneIter(\n\u001b[32m   4156\u001b[39m         \u001b[38;5;28mself\u001b[39m._handle,\n\u001b[32m   4157\u001b[39m         ctypes.byref(is_finished),\n\u001b[32m   4158\u001b[39m     )\n\u001b[32m   4159\u001b[39m )\n\u001b[32m   4160\u001b[39m \u001b[38;5;28mself\u001b[39m.__is_predicted_cur_iter = [\u001b[38;5;28;01mFalse\u001b[39;00m \u001b[38;5;28;01mfor\u001b[39;00m _ \u001b[38;5;129;01min\u001b[39;00m \u001b[38;5;28mrange\u001b[39m(\u001b[38;5;28mself\u001b[39m.__num_dataset)]\n\u001b[32m   4161\u001b[39m \u001b[38;5;28;01mreturn\u001b[39;00m is_finished.value == \u001b[32m1\u001b[39m\n",
      "\u001b[31mKeyboardInterrupt\u001b[39m: "
     ]
    }
   ],
   "source": [
    "# b) Pipeline for Historically_Adjusted_Loss_Cost (HALC)\n",
    "X_halc_selected = select_features_with_rfecv(X_reg_train, Y_reg_train[\"Historically_Adjusted_Loss_Cost\"], objective=\"regression\")\n",
    "skf_halc = StratifiedKFold(n_splits=5, shuffle=True, random_state=42)\n",
    "best_halc_params = tune_lightgbm(X_halc_selected, Y_reg_train[\"Historically_Adjusted_Loss_Cost\"], skf_halc, \"tweedie\", \"rmse\")\n",
    "X_halc_test_selected = X_reg_test[X_halc_selected.columns]"
   ]
  },
  {
   "cell_type": "markdown",
   "metadata": {},
   "source": [
    "### Claim Status"
   ]
  },
  {
   "cell_type": "code",
   "execution_count": null,
   "metadata": {},
   "outputs": [
    {
     "name": "stderr",
     "output_type": "stream",
     "text": [
      "[I 2025-04-19 05:35:51,922] A new study created in memory with name: no-name-afa663c0-4daa-4622-afc5-c9e1d6516227\n",
      "Best trial: 0. Best value: 0.598991:   2%| | 1/60 [01:40<1:39:04, 100.75s/it, 10"
     ]
    },
    {
     "name": "stdout",
     "output_type": "stream",
     "text": [
      "[I 2025-04-19 05:37:32,671] Trial 0 finished with value: 0.5989912307601483 and parameters: {'lr': 0.014445169854203976, 'leaves': 112, 'ff': 0.6370189931686325, 'bf': 0.8532807560122474, 'l1': 2.63828705176095, 'l2': 0.03914634118927507}. Best is trial 0 with value: 0.5989912307601483.\n"
     ]
    },
    {
     "name": "stderr",
     "output_type": "stream",
     "text": [
      "Best trial: 1. Best value: 0.602095:   3%| | 2/60 [02:22<1:03:46, 65.97s/it, 142"
     ]
    },
    {
     "name": "stdout",
     "output_type": "stream",
     "text": [
      "[I 2025-04-19 05:38:14,289] Trial 1 finished with value: 0.6020954923417213 and parameters: {'lr': 0.09080648126400748, 'leaves': 33, 'ff': 0.766395757418777, 'bf': 0.9719095746657977, 'l1': 4.902992361739368, 'l2': 1.6904162014195983}. Best is trial 1 with value: 0.6020954923417213.\n"
     ]
    },
    {
     "name": "stderr",
     "output_type": "stream",
     "text": [
      "Best trial: 1. Best value: 0.602095:   5%| | 3/60 [03:40<1:07:56, 71.52s/it, 220"
     ]
    },
    {
     "name": "stdout",
     "output_type": "stream",
     "text": [
      "[I 2025-04-19 05:39:32,420] Trial 2 finished with value: 0.5887148013455106 and parameters: {'lr': 0.06150571037357617, 'leaves': 97, 'ff': 0.5466923911544369, 'bf': 0.6301160355286437, 'l1': 1.3552642442439806, 'l2': 3.642300047665237}. Best is trial 1 with value: 0.6020954923417213.\n"
     ]
    },
    {
     "name": "stderr",
     "output_type": "stream",
     "text": [
      "Best trial: 1. Best value: 0.602095:   7%| | 4/60 [05:11<1:13:49, 79.10s/it, 311"
     ]
    },
    {
     "name": "stdout",
     "output_type": "stream",
     "text": [
      "[I 2025-04-19 05:41:03,143] Trial 3 finished with value: 0.5960444741668738 and parameters: {'lr': 0.08936715555994391, 'leaves': 115, 'ff': 0.8282913658561987, 'bf': 0.5576818200311753, 'l1': 3.79331444941895, 'l2': 2.563665178781958}. Best is trial 1 with value: 0.6020954923417213.\n"
     ]
    },
    {
     "name": "stderr",
     "output_type": "stream",
     "text": [
      "Best trial: 1. Best value: 0.602095:   8%| | 5/60 [06:20<1:09:12, 75.49s/it, 380"
     ]
    },
    {
     "name": "stdout",
     "output_type": "stream",
     "text": [
      "[I 2025-04-19 05:42:12,240] Trial 4 finished with value: 0.5943107292284056 and parameters: {'lr': 0.1611229620669986, 'leaves': 249, 'ff': 0.8866947562087546, 'bf': 0.6578607147993889, 'l1': 3.7936829466955606, 'l2': 1.7295675485414697}. Best is trial 1 with value: 0.6020954923417213.\n"
     ]
    },
    {
     "name": "stderr",
     "output_type": "stream",
     "text": [
      "Best trial: 1. Best value: 0.602095:  10%| | 6/60 [07:48<1:11:52, 79.87s/it, 468"
     ]
    },
    {
     "name": "stdout",
     "output_type": "stream",
     "text": [
      "[I 2025-04-19 05:43:40,604] Trial 5 finished with value: 0.5994130599827493 and parameters: {'lr': 0.026218643768209083, 'leaves': 177, 'ff': 0.7659197137566198, 'bf': 0.5636237639250876, 'l1': 4.0855006781856, 'l2': 0.8564767402042334}. Best is trial 1 with value: 0.6020954923417213.\n"
     ]
    },
    {
     "name": "stderr",
     "output_type": "stream",
     "text": [
      "Best trial: 1. Best value: 0.602095:  12%| | 7/60 [11:00<1:42:54, 116.51s/it, 66"
     ]
    },
    {
     "name": "stdout",
     "output_type": "stream",
     "text": [
      "[I 2025-04-19 05:46:52,544] Trial 6 finished with value: 0.5860951149624951 and parameters: {'lr': 0.05620919113031537, 'leaves': 153, 'ff': 0.9155278588077382, 'bf': 0.6238660259651629, 'l1': 1.244547002146383, 'l2': 1.038889969760099}. Best is trial 1 with value: 0.6020954923417213.\n"
     ]
    },
    {
     "name": "stderr",
     "output_type": "stream",
     "text": [
      "Best trial: 1. Best value: 0.602095:  13%|▏| 8/60 [14:22<2:04:28, 143.62s/it, 86"
     ]
    },
    {
     "name": "stdout",
     "output_type": "stream",
     "text": [
      "[I 2025-04-19 05:50:14,227] Trial 7 finished with value: 0.5949967505424085 and parameters: {'lr': 0.029352472142950965, 'leaves': 218, 'ff': 0.5287154390602876, 'bf': 0.9115163800503033, 'l1': 1.9874921173244953, 'l2': 4.6802978131047315}. Best is trial 1 with value: 0.6020954923417213.\n"
     ]
    },
    {
     "name": "stderr",
     "output_type": "stream",
     "text": [
      "Best trial: 1. Best value: 0.602095:  15%|▏| 9/60 [16:41<2:01:00, 142.35s/it, 10"
     ]
    },
    {
     "name": "stdout",
     "output_type": "stream",
     "text": [
      "[I 2025-04-19 05:52:33,786] Trial 8 finished with value: 0.580655193980071 and parameters: {'lr': 0.15302109777175532, 'leaves': 147, 'ff': 0.9620061142643587, 'bf': 0.5598577388951961, 'l1': 0.2733986193496374, 'l2': 4.049488320083241}. Best is trial 1 with value: 0.6020954923417213.\n"
     ]
    },
    {
     "name": "stderr",
     "output_type": "stream",
     "text": [
      "Best trial: 9. Best value: 0.603705:  17%|▏| 10/60 [17:23<1:32:42, 111.24s/it, 1"
     ]
    },
    {
     "name": "stdout",
     "output_type": "stream",
     "text": [
      "[I 2025-04-19 05:53:15,370] Trial 9 finished with value: 0.6037052283174034 and parameters: {'lr': 0.1293442514221026, 'leaves': 127, 'ff': 0.7513170082051213, 'bf': 0.9610726754029675, 'l1': 4.32053629112189, 'l2': 1.8477907117358527}. Best is trial 9 with value: 0.6037052283174034.\n"
     ]
    },
    {
     "name": "stderr",
     "output_type": "stream",
     "text": [
      "Best trial: 9. Best value: 0.603705:  18%|▏| 11/60 [18:05<1:13:37, 90.15s/it, 10"
     ]
    },
    {
     "name": "stdout",
     "output_type": "stream",
     "text": [
      "[I 2025-04-19 05:53:57,697] Trial 10 finished with value: 0.5956703562366874 and parameters: {'lr': 0.19892064046216357, 'leaves': 53, 'ff': 0.6614408989979601, 'bf': 0.7854701480987298, 'l1': 2.902186328609241, 'l2': 2.8719817323381935}. Best is trial 9 with value: 0.6037052283174034.\n"
     ]
    },
    {
     "name": "stderr",
     "output_type": "stream",
     "text": [
      "Best trial: 11. Best value: 0.608632:  20%|▏| 12/60 [18:36<57:44, 72.18s/it, 111"
     ]
    },
    {
     "name": "stdout",
     "output_type": "stream",
     "text": [
      "[I 2025-04-19 05:54:28,789] Trial 11 finished with value: 0.6086316775909035 and parameters: {'lr': 0.09450042626216652, 'leaves': 24, 'ff': 0.7291912474381439, 'bf': 0.9971563316212833, 'l1': 4.710748559379055, 'l2': 1.9274546077336518}. Best is trial 11 with value: 0.6086316775909035.\n"
     ]
    },
    {
     "name": "stderr",
     "output_type": "stream",
     "text": [
      "Best trial: 11. Best value: 0.608632:  22%|▏| 13/60 [19:16<48:55, 62.46s/it, 115"
     ]
    },
    {
     "name": "stdout",
     "output_type": "stream",
     "text": [
      "[I 2025-04-19 05:55:08,869] Trial 12 finished with value: 0.6046883707816022 and parameters: {'lr': 0.10381205412184377, 'leaves': 69, 'ff': 0.6748312059454998, 'bf': 0.9795316941765874, 'l1': 4.9650648964009525, 'l2': 2.2536373039442967}. Best is trial 11 with value: 0.6086316775909035.\n"
     ]
    },
    {
     "name": "stderr",
     "output_type": "stream",
     "text": [
      "Best trial: 11. Best value: 0.608632:  23%|▏| 14/60 [19:50<41:17, 53.86s/it, 119"
     ]
    },
    {
     "name": "stdout",
     "output_type": "stream",
     "text": [
      "[I 2025-04-19 05:55:42,866] Trial 13 finished with value: 0.6080779993968219 and parameters: {'lr': 0.08849660275966191, 'leaves': 80, 'ff': 0.6577474734216049, 'bf': 0.9966023740130123, 'l1': 4.867308801739145, 'l2': 3.1563842047785045}. Best is trial 11 with value: 0.6086316775909035.\n"
     ]
    },
    {
     "name": "stderr",
     "output_type": "stream",
     "text": [
      "Best trial: 14. Best value: 0.632402:  25%|▎| 15/60 [20:22<35:23, 47.20s/it, 122"
     ]
    },
    {
     "name": "stdout",
     "output_type": "stream",
     "text": [
      "[I 2025-04-19 05:56:14,621] Trial 14 finished with value: 0.6324018312434373 and parameters: {'lr': 0.04077779355691961, 'leaves': 16, 'ff': 0.59462558641205, 'bf': 0.880842287616021, 'l1': 3.402467003870428, 'l2': 3.297185165203797}. Best is trial 14 with value: 0.6324018312434373.\n"
     ]
    },
    {
     "name": "stderr",
     "output_type": "stream",
     "text": [
      "Best trial: 14. Best value: 0.632402:  27%|▎| 16/60 [20:58<32:01, 43.66s/it, 125"
     ]
    },
    {
     "name": "stdout",
     "output_type": "stream",
     "text": [
      "[I 2025-04-19 05:56:50,064] Trial 15 finished with value: 0.6265179201063165 and parameters: {'lr': 0.0365455264670855, 'leaves': 20, 'ff': 0.5891504312267687, 'bf': 0.8578157867044721, 'l1': 3.271544082991067, 'l2': 3.568548505531864}. Best is trial 14 with value: 0.6324018312434373.\n"
     ]
    },
    {
     "name": "stderr",
     "output_type": "stream",
     "text": [
      "Best trial: 14. Best value: 0.632402:  28%|▎| 17/60 [21:36<30:05, 41.99s/it, 129"
     ]
    },
    {
     "name": "stdout",
     "output_type": "stream",
     "text": [
      "[I 2025-04-19 05:57:28,160] Trial 16 finished with value: 0.6305680686979626 and parameters: {'lr': 0.03204233313780679, 'leaves': 22, 'ff': 0.5875331281094813, 'bf': 0.8125046016381354, 'l1': 3.1939566931363377, 'l2': 4.558862215160811}. Best is trial 14 with value: 0.6324018312434373.\n"
     ]
    },
    {
     "name": "stderr",
     "output_type": "stream",
     "text": [
      "Best trial: 14. Best value: 0.632402:  30%|▎| 18/60 [22:39<33:50, 48.35s/it, 135"
     ]
    },
    {
     "name": "stdout",
     "output_type": "stream",
     "text": [
      "[I 2025-04-19 05:58:31,335] Trial 17 finished with value: 0.6114184795413615 and parameters: {'lr': 0.021402065260597732, 'leaves': 52, 'ff': 0.6040431735549737, 'bf': 0.7429747602406799, 'l1': 3.2358359822456655, 'l2': 4.818728595231198}. Best is trial 14 with value: 0.6324018312434373.\n"
     ]
    },
    {
     "name": "stderr",
     "output_type": "stream",
     "text": [
      "Best trial: 18. Best value: 0.634729:  32%|▎| 19/60 [23:40<35:35, 52.09s/it, 142"
     ]
    },
    {
     "name": "stdout",
     "output_type": "stream",
     "text": [
      "[I 2025-04-19 05:59:32,121] Trial 18 finished with value: 0.6347289730207339 and parameters: {'lr': 0.011035670950037636, 'leaves': 49, 'ff': 0.5679135897309378, 'bf': 0.7434429638070498, 'l1': 2.096829457485716, 'l2': 4.057510435899874}. Best is trial 18 with value: 0.6347289730207339.\n"
     ]
    },
    {
     "name": "stderr",
     "output_type": "stream",
     "text": [
      "Best trial: 19. Best value: 0.638211:  33%|▎| 20/60 [24:45<37:19, 55.98s/it, 148"
     ]
    },
    {
     "name": "stdout",
     "output_type": "stream",
     "text": [
      "[I 2025-04-19 06:00:37,175] Trial 19 finished with value: 0.6382107483853728 and parameters: {'lr': 0.010119963081896196, 'leaves': 52, 'ff': 0.5081121611375652, 'bf': 0.7147181459028071, 'l1': 1.9836507701169097, 'l2': 4.0626706557419725}. Best is trial 19 with value: 0.6382107483853728.\n"
     ]
    },
    {
     "name": "stderr",
     "output_type": "stream",
     "text": [
      "Best trial: 19. Best value: 0.638211:  35%|▎| 21/60 [26:44<48:48, 75.08s/it, 160"
     ]
    },
    {
     "name": "stdout",
     "output_type": "stream",
     "text": [
      "[I 2025-04-19 06:02:36,786] Trial 20 finished with value: 0.6144456847935608 and parameters: {'lr': 0.010008227334120968, 'leaves': 92, 'ff': 0.5142291040540798, 'bf': 0.7076156058355723, 'l1': 2.1037479044035754, 'l2': 4.258153080753306}. Best is trial 19 with value: 0.6382107483853728.\n"
     ]
    },
    {
     "name": "stderr",
     "output_type": "stream",
     "text": [
      "Best trial: 19. Best value: 0.638211:  37%|▎| 22/60 [28:44<55:57, 88.36s/it, 172"
     ]
    },
    {
     "name": "stdout",
     "output_type": "stream",
     "text": [
      "[I 2025-04-19 06:04:36,127] Trial 21 finished with value: 0.6365985640791583 and parameters: {'lr': 0.010171521160854059, 'leaves': 48, 'ff': 0.5526352248599009, 'bf': 0.7037489781620829, 'l1': 2.049140870480311, 'l2': 3.6688075913474245}. Best is trial 19 with value: 0.6382107483853728.\n"
     ]
    },
    {
     "name": "stderr",
     "output_type": "stream",
     "text": [
      "Best trial: 19. Best value: 0.638211:  38%|▍| 23/60 [29:49<50:10, 81.36s/it, 178"
     ]
    },
    {
     "name": "stdout",
     "output_type": "stream",
     "text": [
      "[I 2025-04-19 06:05:41,157] Trial 22 finished with value: 0.6330472020534054 and parameters: {'lr': 0.01033789952025201, 'leaves': 54, 'ff': 0.507056838370764, 'bf': 0.6965158519104644, 'l1': 1.529097503226497, 'l2': 3.9255395322195166}. Best is trial 19 with value: 0.6382107483853728.\n"
     ]
    },
    {
     "name": "stderr",
     "output_type": "stream",
     "text": [
      "Best trial: 19. Best value: 0.638211:  40%|▍| 24/60 [31:03<46:35, 77.67s/it, 186"
     ]
    },
    {
     "name": "stdout",
     "output_type": "stream",
     "text": [
      "[I 2025-04-19 06:06:55,918] Trial 23 finished with value: 0.6028371145291882 and parameters: {'lr': 0.015400454643103034, 'leaves': 70, 'ff': 0.5749679663702143, 'bf': 0.7580106158784473, 'l1': 0.8049869315252502, 'l2': 4.327065159553727}. Best is trial 19 with value: 0.6382107483853728.\n",
      "Best CS params: {'lr': 0.010119963081896196, 'leaves': 52, 'ff': 0.5081121611375652, 'bf': 0.7147181459028071, 'l1': 1.9836507701169097, 'l2': 4.0626706557419725}\n"
     ]
    },
    {
     "name": "stderr",
     "output_type": "stream",
     "text": [
      "\n"
     ]
    }
   ],
   "source": [
    "# c) Pipeline for Claim_Status (CS - binary classification)\n",
    "X_cs_selected = select_features_with_rfecv(X_class_train, Y_class_train[\"Claim_Status\"], objective=\"binary\")\n",
    "skf_cs = StratifiedKFold(n_splits=5, shuffle=True, random_state=42)\n",
    "best_cs_params = tune_lightgbm(X_cs_selected, Y_class_train[\"Claim_Status\"], skf_cs, \"binary\", \"auc\")\n",
    "X_cs_test_selected = X_class_test[X_cs_selected.columns]"
   ]
  },
  {
   "cell_type": "markdown",
   "metadata": {},
   "source": [
    "## Finding RMSE"
   ]
  },
  {
   "cell_type": "markdown",
   "metadata": {},
   "source": [
    "### LC"
   ]
  },
  {
   "cell_type": "code",
   "execution_count": null,
   "metadata": {},
   "outputs": [],
   "source": [
    "model_lc = LGBMRegressor(**best_lc_params, n_estimators=5000)\n",
    "model_lc.fit(X_lc_selected, Y_reg_train[\"Loss_Cost\"])\n",
    "\n",
    "preds_lc_train = model_lc.predict(X_lc_selected)\n",
    "rmse_lc_train = rmse(Y_reg_train[\"Loss_Cost\"], preds_lc_train)\n",
    "print(f\"Train RMSE for Loss_Cost: {rmse_lc_train:.4f}\")\n",
    "\n",
    "preds_lc = model_lc.predict(X_lc_test_selected)\n",
    "rmse_lc = rmse(Y_reg_test[\"Loss_Cost\"], preds_lc)\n",
    "print(f\"Test RMSE for Loss_Cost: {rmse_lc:.4f}\")\n"
   ]
  },
  {
   "cell_type": "markdown",
   "metadata": {},
   "source": [
    "### HALC"
   ]
  },
  {
   "cell_type": "code",
   "execution_count": null,
   "metadata": {},
   "outputs": [],
   "source": [
    "\n",
    "model_halc = LGBMRegressor(**best_halc_params, n_estimators=5000)\n",
    "model_halc.fit(X_halc_selected, Y_reg_train[\"Historically_Adjusted_Loss_Cost\"])\n",
    "\n",
    "preds_halc_train = model_halc.predict(X_halc_selected)\n",
    "rmse_halc_train = rmse(Y_reg_train[\"Historically_Adjusted_Loss_Cost\"], preds_halc_train)\n",
    "print(f\"Train RMSE for Historically_Adjusted_Loss_Cost: {rmse_halc_train:.4f}\")\n",
    "\n",
    "preds_halc = model_halc.predict(X_halc_test_selected)\n",
    "rmse_halc = rmse(Y_reg_test[\"Historically_Adjusted_Loss_Cost\"], preds_halc)\n",
    "print(f\"Test RMSE for Historically_Adjusted_Loss_Cost: {rmse_halc:.4f}\")"
   ]
  },
  {
   "cell_type": "markdown",
   "metadata": {},
   "source": [
    "## RUC-AUC"
   ]
  },
  {
   "cell_type": "markdown",
   "metadata": {},
   "source": [
    "### Claim Status"
   ]
  },
  {
   "cell_type": "code",
   "execution_count": null,
   "metadata": {},
   "outputs": [],
   "source": [
    "model_cs = LGBMClassifier(**best_cs_params, n_estimators=5000)\n",
    "model_cs.fit(X_cs_selected, Y_class_train[\"Claim_Status\"])\n",
    "\n",
    "preds_cs_train = model_cs.predict_proba(X_cs_selected)[:, 1]\n",
    "auc_cs_train = roc_auc_score(Y_class_train[\"Claim_Status\"], preds_cs_train)\n",
    "print(f\"Train AUC for Claim_Status: {auc_cs_train:.4f}\")\n",
    "\n",
    "preds_cs = model_cs.predict_proba(X_cs_test_selected)[:, 1]\n",
    "auc_cs = roc_auc_score(Y_class_test[\"Claim_Status\"], preds_cs)\n",
    "print(f\"Test AUC for Claim_Status: {auc_cs:.4f}\")"
   ]
  }
 ],
 "metadata": {
  "kernelspec": {
   "display_name": "DSO530",
   "language": "python",
   "name": "python3"
  },
  "language_info": {
   "codemirror_mode": {
    "name": "ipython",
    "version": 3
   },
   "file_extension": ".py",
   "mimetype": "text/x-python",
   "name": "python",
   "nbconvert_exporter": "python",
   "pygments_lexer": "ipython3",
   "version": "3.11.11"
  }
 },
 "nbformat": 4,
 "nbformat_minor": 4
}
